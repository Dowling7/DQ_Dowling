{
 "cells": [
  {
   "cell_type": "code",
   "execution_count": 2,
   "id": "41d22f44",
   "metadata": {},
   "outputs": [],
   "source": [
    "ifile = \"st23_electron_520_10000eve.root\" "
   ]
  },
  {
   "cell_type": "code",
   "execution_count": 3,
   "id": "6ae7ba02",
   "metadata": {},
   "outputs": [],
   "source": [
    "# import libraries\n",
    "import uproot3 as uproot\n",
    "import uproot as uproot4\n",
    "import numpy as np\n",
    "import numba\n",
    "import awkward as ak\n",
    "import matplotlib.pyplot as plt\n",
    "from matplotlib import cm\n",
    "from matplotlib.ticker import LinearLocator, FormatStrFormatter\n",
    "from matplotlib import rcParams\n",
    "from mpl_toolkits.mplot3d import Axes3D  # noqa: F401 unused import                                                                                                                  \n",
    "import mplhep as hep\n",
    "plt.style.use(hep.style.ROOT)\n",
    "import os,sys\n",
    "import pandas as pd\n",
    "from scipy.stats import halfnorm\n",
    "from sklearn.cluster import KMeans\n",
    "import random\n",
    "from scipy.stats import binned_statistic\n",
    "from scipy.stats import binned_statistic_2d\n",
    "from scipy.optimize import curve_fit\n",
    "from scipy.stats import crystalball\n",
    "from lmfit import Model\n",
    "import copy\n",
    "import math\n",
    "from tqdm import tqdm\n",
    "\n",
    "#import ROOT\n",
    "#from coffea import hist"
   ]
  },
  {
   "cell_type": "code",
   "execution_count": 4,
   "id": "0129853a",
   "metadata": {},
   "outputs": [],
   "source": [
    "# Process Data\n",
    "def getData(fname=\"\", procName=\"Events\"):\n",
    "    kn_dict = uproot.open(fname)[\"Events\"].arrays()\n",
    "    kn_dict_ak1 = {name.decode(): ak.from_awkward0(array) for name, array in kn_dict.items()}\n",
    "    kn_events = ak.zip({\"Tracks\":ak.zip({\n",
    "                                        \"n_tracks\":   kn_dict_ak1[\"n_tracks\"],\n",
    "                                        \"truthtrack_x_st3\":   kn_dict_ak1[\"truthtrack_x_st3\"],\n",
    "                                        \"truthtrack_y_st3\":   kn_dict_ak1[\"truthtrack_y_st3\"],\n",
    "                                        \"truthtrack_z_st3\":   kn_dict_ak1[\"truthtrack_z_st3\"],\n",
    "                                        \"truthtrack_x_st1\":   kn_dict_ak1[\"truthtrack_x_st1\"],\n",
    "                                        \"truthtrack_y_st1\":   kn_dict_ak1[\"truthtrack_y_st1\"],\n",
    "                                        \"truthtrack_z_st1\":   kn_dict_ak1[\"truthtrack_z_st1\"],\n",
    "                                        \"truthtrack_x_vtx\":   kn_dict_ak1[\"truthtrack_x_vtx\"],\n",
    "                                        \"truthtrack_y_vtx\":   kn_dict_ak1[\"truthtrack_y_vtx\"],\n",
    "                                        \"truthtrack_z_vtx\":   kn_dict_ak1[\"truthtrack_z_vtx\"],\n",
    "                                      }),\n",
    "                        \"RecoTracks\":ak.zip({\n",
    "                                      \"n_tracks\":   kn_dict_ak1[\"n_tracks\"],\n",
    "                                        \"track_x_HCAL\":   kn_dict_ak1[\"track_x_CAL\"],\n",
    "                                        \"track_y_CAL\":   kn_dict_ak1[\"track_y_CAL\"],\n",
    "                                        \"track_pz\":      kn_dict_ak1[\"track_pz_st3\"],\n",
    "                                        \"track_px\":      kn_dict_ak1[\"track_px_st3\"],\n",
    "                                        \"track_py\":      kn_dict_ak1[\"track_py_st3\"],\n",
    "                                        \"track_x_st3\":      kn_dict_ak1[\"track_x_st3\"],\n",
    "                                        \"track_y_st3\":      kn_dict_ak1[\"track_y_st3\"],\n",
    "                                        \"track_z_st3\":      kn_dict_ak1[\"track_z_st3\"]\n",
    "                                      }),\n",
    "                        \"Electrons\":ak.zip({\n",
    "                                            \"ge\":      kn_dict_ak1[\"ge\"],\n",
    "                                            \"gvx\":      kn_dict_ak1[\"gvx\"],\n",
    "                                            \"gvy\":      kn_dict_ak1[\"gvy\"],\n",
    "                                            \"gvz\":      kn_dict_ak1[\"gvz\"],\n",
    "                                            \"gpx\":      kn_dict_ak1[\"gpx\"],\n",
    "                                            \"gpy\":      kn_dict_ak1[\"gpy\"],\n",
    "                                            \"gpz\":      kn_dict_ak1[\"gpz\"],\n",
    "                                        }),\n",
    "                        \"Hits\":ak.zip({\n",
    "                                      \"detID\":   kn_dict_ak1[\"hit_detID\"],\n",
    "                                      \"edep\":    kn_dict_ak1[\"hit_edep\"],\n",
    "                                      \"elmID\":   kn_dict_ak1[\"hit_elmID\"],\n",
    "                                      \"truthx\":  kn_dict_ak1[\"hit_truthx\"],\n",
    "                                      \"truthy\":  kn_dict_ak1[\"hit_truthy\"],\n",
    "                                      \"truthz\":  kn_dict_ak1[\"hit_truthz\"],\n",
    "                                      \"hit_pos\":  kn_dict_ak1[\"hit_pos\"],\n",
    "                                      }),\n",
    "                        \"Cal_Position\":ak.zip({\n",
    "                                            \"track_x_CAL\":      kn_dict_ak1[\"track_x_CAL\"],\n",
    "                                            \"track_y_CAL\":     kn_dict_ak1[\"track_y_CAL\"],\n",
    "                                        }),\n",
    "                        \"St23_Tracklet\":ak.zip({\n",
    "                                        \"n_tracks\":   kn_dict_ak1[\"n_tracks\"],\n",
    "                                        \"st23tracklet_nhits_st1\":   kn_dict_ak1[\"st23tracklet_nhits_st1\"],\n",
    "                                        \"st23tracklet_nhits_st2\":   kn_dict_ak1[\"st23tracklet_nhits_st2\"],\n",
    "                                        \"st23tracklet_nhits_st3\":   kn_dict_ak1[\"st23tracklet_nhits_st3\"],\n",
    "                                        \"st23tracklet_px_st1\":   kn_dict_ak1[\"st23tracklet_px_st1\"],\n",
    "                                        \"st23tracklet_px_st3\":   kn_dict_ak1[\"st23tracklet_px_st3\"],\n",
    "                                        \"st23tracklet_py_st1\":   kn_dict_ak1[\"st23tracklet_py_st1\"],\n",
    "                                        \"st23tracklet_py_st3\":   kn_dict_ak1[\"st23tracklet_py_st3\"],\n",
    "                                        \"st23tracklet_pz_st1\":   kn_dict_ak1[\"st23tracklet_pz_st1\"],\n",
    "                                        \"st23tracklet_pz_st3\":   kn_dict_ak1[\"st23tracklet_pz_st3\"],\n",
    "                                        \"st23tracklet_x_st1\":   kn_dict_ak1[\"st23tracklet_x_st1\"],\n",
    "                                        \"st23tracklet_x_st3\":   kn_dict_ak1[\"st23tracklet_x_st3\"],\n",
    "                                        \"st23tracklet_x_CAL\":   kn_dict_ak1[\"st23tracklet_x_CAL\"],\n",
    "                                        \"st23tracklet_y_st1\":   kn_dict_ak1[\"st23tracklet_y_st1\"],\n",
    "                                        \"st23tracklet_y_st3\":   kn_dict_ak1[\"st23tracklet_y_st3\"],\n",
    "                                        \"st23tracklet_y_CAL\":   kn_dict_ak1[\"st23tracklet_y_CAL\"],\n",
    "                                        \"st23tracklet_z_st1\":   kn_dict_ak1[\"st23tracklet_z_st1\"],\n",
    "                                        \"st23tracklet_z_st3\":   kn_dict_ak1[\"st23tracklet_z_st3\"],  \n",
    "                                        }),\n",
    "                        \"coordinates\":ak.zip({\n",
    "                                        \"sx_ecal\":   kn_dict_ak1[\"sx_ecal\"],\n",
    "                                        \"sy_ecal\":   kn_dict_ak1[\"sy_ecal\"],\n",
    "                                        \"sz_ecal\":   kn_dict_ak1[\"sz_ecal\"],\n",
    "                            \n",
    "                                        }),\n",
    "                            \n",
    "                    \n",
    "                       }, depth_limit=1)\n",
    "    return kn_events"
   ]
  },
  {
   "cell_type": "code",
   "execution_count": 5,
   "id": "11e09905",
   "metadata": {},
   "outputs": [],
   "source": [
    "def emcal_simhit_selection(arr):\n",
    "    mask = (arr.detID == 100)\n",
    "    return mask\n",
    "\n",
    "def emcal_simhit_selection_energy(arr, e):\n",
    "    mask = (arr.edep >= e)\n",
    "    return mask\n",
    "\n",
    "def h2_selection(arr):\n",
    "    mask = (arr.detID >= 35) & (arr.detID <= 38)\n",
    "    return mask\n",
    "\n",
    "def st2_selection(arr):\n",
    "    mask = (arr.detID >= 13) & (arr.detID <= 18)\n",
    "    return mask\n",
    "\n",
    "def st3_selection(arr):\n",
    "    mask = (arr.detID >= 19) & (arr.detID <= 30)\n",
    "    return mask\n",
    "\n",
    "def h4_selection(arr):\n",
    "    mask = (arr.detID >= 41) & (arr.detID <= 46)\n",
    "    return mask"
   ]
  },
  {
   "cell_type": "code",
   "execution_count": 6,
   "id": "a7a0e078",
   "metadata": {},
   "outputs": [],
   "source": [
    "#importing data from file\n",
    "kn_events = getData(ifile,\"Events\")"
   ]
  },
  {
   "cell_type": "code",
   "execution_count": 7,
   "id": "50b3e37d",
   "metadata": {},
   "outputs": [],
   "source": [
    "class EMCal(object):\n",
    "    \"\"\"\n",
    "    define the EMCal Geometry\n",
    "    \"\"\"\n",
    "    def __init__(self):\n",
    "        self.ntowersx=72\n",
    "        self.ntowersy=36\n",
    "        self.sizex=5.53 # in cm\n",
    "        self.sizey=5.53 # in cm\n",
    "\n",
    "        self.ecalx=[-200,200] #size in cm\n",
    "        self.ecaly=[-100,100]\n",
    "        self.binsx=self.ecalx[1]- self.ecalx[0]\n",
    "        self.binsy=self.ecaly[1]- self.ecaly[0]\n",
    "        sfc = 0.1146337964120158"
   ]
  },
  {
   "cell_type": "code",
   "execution_count": 8,
   "id": "3057c3f4",
   "metadata": {},
   "outputs": [],
   "source": [
    "def emcal_byevent(evtNum):\n",
    "    emin=0.0005\n",
    "    algo=0\n",
    "    dq_events = getData(ifile,\"Truth\")\n",
    "    dq_hits = dq_events[evtNum][\"Hits\"]\n",
    "    dq_electrons = dq_events[evtNum][\"Electrons\"]\n",
    "    ge = ak.to_list(dq_electrons.ge)\n",
    "    # select emcal hits\n",
    "    emcal_mask = emcal_simhit_selection(dq_hits)\n",
    "    emcal_hits = dq_hits[emcal_mask]\n",
    "    emcal_energy_mask = emcal_simhit_selection_energy(emcal_hits, emin)\n",
    "    emcal_hits = emcal_hits[emcal_energy_mask]\n",
    "    \n",
    "    emcal = EMCal()\n",
    "    emcal_towerx = emcal_hits.elmID//emcal.ntowersy\n",
    "    emcal_towery = emcal_hits.elmID%emcal.ntowersy\n",
    "    emcal_truthx = emcal_hits.truthx\n",
    "    emcal_truthy = emcal_hits.truthy\n",
    "    emcal_x = emcal.ecalx[0]+emcal_towerx*emcal.sizex\n",
    "    emcal_y = emcal.ecaly[0]+emcal_towery*emcal.sizey\n",
    "    emcal_edep = emcal_hits.edep\n",
    "    return emcal_x, emcal_y, emcal_edep"
   ]
  },
  {
   "cell_type": "code",
   "execution_count": 9,
   "id": "26bd10e2",
   "metadata": {},
   "outputs": [],
   "source": [
    "#Calculating the coorinates, and energies, getting those basic info\n",
    "x_pos = []#designed to be 2D\n",
    "y_pos = []#designed to be 2D\n",
    "track_energy = []#designed to be 2D\n",
    "failed_energy = []#store noise energy values\n",
    "\n",
    "for i in range(len(kn_events[:][\"Hits\"].edep)):\n",
    "    output=emcal_byevent(i)\n",
    "    event_x = output[0]\n",
    "    event_y = output[1]\n",
    "    event_energy = output[2]\n",
    "    \n",
    "    track_energy.append(event_energy)\n",
    "    x_pos.append(event_x)\n",
    "    y_pos.append(event_y)"
   ]
  },
  {
   "cell_type": "code",
   "execution_count": 10,
   "id": "eb506e74",
   "metadata": {},
   "outputs": [],
   "source": [
    "#calculate x_avg, y_avg and e_tot by event for the whole n-tuple\n",
    "x_eve_avg = []#1D, 10,000\n",
    "y_eve_avg = []#1D, 10,000\n",
    "energy_tot = []#1D, 10,000\n",
    "\n",
    "for i in range(len(track_energy)):\n",
    "    event_x_avg=sum(x_pos[i])/(len(x_pos[i]))\n",
    "    event_y_avg=sum(y_pos[i])/(len(y_pos[i]))\n",
    "    event_energy_tot=sum(track_energy[i])\n",
    "    x_eve_avg.append(event_x_avg)\n",
    "    y_eve_avg.append(event_y_avg)\n",
    "    energy_tot.append(event_energy_tot)"
   ]
  },
  {
   "cell_type": "code",
   "execution_count": 11,
   "id": "ea1fdf21",
   "metadata": {},
   "outputs": [],
   "source": [
    "#calculate x_bar and y_bar for wew by event\n",
    "x_bar_eve = []#1D, 10,000\n",
    "y_bar_eve = []#1D, 10,000\n",
    "for i in range(len(track_energy)):\n",
    "    x_bar=0\n",
    "    y_bar=0\n",
    "    for j in range(len(track_energy[i])):\n",
    "        x_bar+=track_energy[i][j]*x_pos[i][j]\n",
    "        y_bar+=track_energy[i][j]*y_pos[i][j]\n",
    "    x_bar_eve.append(x_bar/energy_tot[i])\n",
    "    y_bar_eve.append(y_bar/energy_tot[i])"
   ]
  },
  {
   "cell_type": "code",
   "execution_count": 50,
   "id": "4c8ce049",
   "metadata": {},
   "outputs": [
    {
     "name": "stdout",
     "output_type": "stream",
     "text": [
      "average of x coordinates  -2.5743401752667885\n",
      "average of y coordinates  6.739956857664715\n",
      "10000\n"
     ]
    }
   ],
   "source": [
    "print(\"average of x coordinates \", sum(x_eve_avg)/len(x_eve_avg))\n",
    "print(\"average of y coordinates \", sum(y_eve_avg)/len(y_eve_avg))\n",
    "print(len(x_bar_eve))"
   ]
  },
  {
   "cell_type": "code",
   "execution_count": 39,
   "id": "00a4380b",
   "metadata": {},
   "outputs": [],
   "source": [
    "wew_x = []#1D, 10,000\n",
    "wew_y = []#1D, 10,000\n",
    "for i in range(len(track_energy)):\n",
    "    sum_x=0\n",
    "    sum_y=0\n",
    "    for j in range(len(track_energy[i])):\n",
    "        sum_x+=track_energy[i][j]*pow((x_pos[i][j]-x_bar_eve[i]),2)\n",
    "        sum_y+=track_energy[i][j]*pow((y_pos[i][j]-y_bar_eve[i]),2)\n",
    "    wew_x.append(math.sqrt(sum_x/energy_tot[i]))\n",
    "    wew_y.append(math.sqrt(sum_y/energy_tot[i]))"
   ]
  },
  {
   "cell_type": "code",
   "execution_count": 40,
   "id": "cdff2290",
   "metadata": {},
   "outputs": [
    {
     "name": "stdout",
     "output_type": "stream",
     "text": [
      "93.68618339508234\n"
     ]
    }
   ],
   "source": [
    "n=0\n",
    "for i in range(len(wew_x)):\n",
    "    if wew_x[i]>n:\n",
    "        n=wew_x[i]\n",
    "print(n) "
   ]
  },
  {
   "cell_type": "code",
   "execution_count": 41,
   "id": "40ee602e",
   "metadata": {},
   "outputs": [
    {
     "name": "stdout",
     "output_type": "stream",
     "text": [
      "3.2737503980063423\n",
      "11.722506864113276\n"
     ]
    }
   ],
   "source": [
    "print(sum(wew_x)/len(wew_x))\n",
    "print(sum(wew_y)/len(wew_y))\n"
   ]
  },
  {
   "cell_type": "code",
   "execution_count": 42,
   "id": "80d9ec13",
   "metadata": {},
   "outputs": [],
   "source": [
    "wew_x_int= []\n",
    "wew_y_int =[]\n",
    "for i in range(len(wew_x)):\n",
    "    wew_x_int.append(round(wew_x[i]))\n",
    "    wew_y_int.append(round(wew_y[i]))"
   ]
  },
  {
   "cell_type": "code",
   "execution_count": 43,
   "id": "7ebc19d9",
   "metadata": {},
   "outputs": [],
   "source": [
    "wew_x_stat=[0]*100\n",
    "wew_y_stat=[0]*100\n",
    "for i in range(len(wew_x)):\n",
    "    wew_x_stat[wew_x_int[i]]+=1\n",
    "    wew_y_stat[wew_y_int[i]]+=1"
   ]
  },
  {
   "cell_type": "code",
   "execution_count": 45,
   "id": "4a595075",
   "metadata": {},
   "outputs": [
    {
     "name": "stdout",
     "output_type": "stream",
     "text": [
      "[0, 32, 1120, 457, 342, 814, 1134, 556, 273, 199, 389, 711, 605, 249, 122, 173, 331, 535, 225, 109, 84, 129, 258, 217, 63, 40, 49, 89, 147, 67, 21, 26, 35, 56, 57, 22, 13, 9, 17, 47, 13, 14, 4, 8, 17, 17, 2, 4, 7, 16, 17, 6, 3, 2, 6, 5, 9, 4, 2, 1, 3, 4, 5, 1, 0, 0, 1, 0, 1, 1, 0, 1, 1, 1, 0, 0, 0, 1, 0, 0, 0, 0, 0, 0, 0, 0, 0, 0, 0, 1, 0, 0, 0, 0, 0, 0, 0, 0, 0, 0]\n"
     ]
    }
   ],
   "source": [
    "print(wew_y_stat)"
   ]
  },
  {
   "cell_type": "code",
   "execution_count": 47,
   "id": "43767a19",
   "metadata": {
    "scrolled": true
   },
   "outputs": [
    {
     "name": "stdout",
     "output_type": "stream",
     "text": [
      "[0, 465, 5940, 2061, 365, 236, 199, 95, 96, 73, 47, 58, 30, 40, 35, 15, 22, 22, 17, 20, 13, 15, 13, 8, 9, 11, 8, 11, 9, 3, 9, 7, 3, 6, 5, 3, 4, 1, 3, 5, 1, 1, 1, 0, 3, 2, 1, 0, 0, 2, 0, 1, 0, 1, 1, 1, 0, 0, 0, 0, 0, 0, 0, 0, 0, 1, 0, 1, 0, 0, 0, 0, 0, 0, 0, 0, 0, 0, 0, 0, 0, 0, 0, 0, 0, 0, 0, 0, 0, 0, 0, 0, 0, 0, 1, 0, 0, 0, 0, 0]\n"
     ]
    }
   ],
   "source": [
    "print(wew_x_stat)"
   ]
  },
  {
   "cell_type": "code",
   "execution_count": null,
   "id": "7450f550",
   "metadata": {},
   "outputs": [],
   "source": []
  },
  {
   "cell_type": "code",
   "execution_count": null,
   "id": "1bfce2b4",
   "metadata": {},
   "outputs": [],
   "source": []
  }
 ],
 "metadata": {
  "kernelspec": {
   "display_name": "Python 3 (ipykernel)",
   "language": "python",
   "name": "python3"
  },
  "language_info": {
   "codemirror_mode": {
    "name": "ipython",
    "version": 3
   },
   "file_extension": ".py",
   "mimetype": "text/x-python",
   "name": "python",
   "nbconvert_exporter": "python",
   "pygments_lexer": "ipython3",
   "version": "3.9.13"
  }
 },
 "nbformat": 4,
 "nbformat_minor": 5
}
