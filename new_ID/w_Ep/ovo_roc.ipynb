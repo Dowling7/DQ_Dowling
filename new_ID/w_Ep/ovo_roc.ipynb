{
 "cells": [
  {
   "cell_type": "code",
   "execution_count": 1,
   "id": "3cff3005",
   "metadata": {},
   "outputs": [],
   "source": [
    "EID = \"/Users/wongdowling/Documents/Github/DQ_Dowling/new_ID/w_Ep/electronID_w_track_95\"\n",
    "MID = \"/Users/wongdowling/Documents/Github/DQ_Dowling/new_ID/w_Ep/muonID_w_track_99\"\n",
    "PHID = \"/Users/wongdowling/Documents/Github/DQ_Dowling/new_ID/w_Ep/photon_ID_w_track_88\"\n",
    "\n",
    "filenames = ['/Users/wongdowling/Documents/Github/DQ_Dowling/new_ID/w_Ep/csv_data/p5_80_pi+_0_10000.csv',\n",
    " '/Users/wongdowling/Documents/Github/DQ_Dowling/new_ID/w_Ep/csv_data/p5_80_electron_0_10000.csv',\n",
    " '/Users/wongdowling/Documents/Github/DQ_Dowling/new_ID/w_Ep/csv_data/p5_80_pi-_0_10000.csv',\n",
    " '/Users/wongdowling/Documents/Github/DQ_Dowling/new_ID/w_Ep/csv_data/p5_80_klong_0_10000.csv',\n",
    " '/Users/wongdowling/Documents/Github/DQ_Dowling/new_ID/w_Ep/csv_data/p5_80_pi0_0_10000.csv',\n",
    " '/Users/wongdowling/Documents/Github/DQ_Dowling/new_ID/w_Ep/csv_data/p5_80_muon_0_10000.csv',\n",
    " '/Users/wongdowling/Documents/Github/DQ_Dowling/new_ID/w_Ep/csv_data/p5_80_positron_0_10000.csv',\n",
    " '/Users/wongdowling/Documents/Github/DQ_Dowling/new_ID/w_Ep/csv_data/p5_80_photon_0_10000.csv']"
   ]
  },
  {
   "cell_type": "code",
   "execution_count": null,
   "id": "3baf2df6",
   "metadata": {},
   "outputs": [],
   "source": [
    "loaded_model = load_model()\n",
    "df = pd.read_csv('/Users/wongdowling/Documents/Github/DQ_Dowling/new_ID/w_Ep/csv_data/p5_80_electron_0_10000.csv')\n",
    "train_data = df[[\"wid_x\", \"wid_y\", \"wew_x\", \"wew_y\", \"seed_x\", \"seed_y\",\n",
    "   \"trkl_x\", \"trkl_y\", \"trkl_z\", \"trkl_px\", \"trkl_py\", \"trkl_pz\",\"E/p\",\n",
    "   \"h4_41\", \"h4_42\", \"h4_43\", \"h4_44\", \"h4_45\", \"h4_46\"]].values\n",
    "predictions = loaded_model.predict(train_data)"
   ]
  },
  {
   "cell_type": "code",
   "execution_count": null,
   "id": "ceed0102",
   "metadata": {},
   "outputs": [],
   "source": [
    "def plot_roc(pred,y):\n",
    "    fpr, tpr, _ = roc_curve(y, pred)\n",
    "    roc_auc = auc(fpr, tpr)\n",
    "\n",
    "    plt.figure()\n",
    "    plt.plot(fpr, tpr, label='ROC curve (area = %0.6f)' % roc_auc)\n",
    "    plt.plot([0, 1], [0, 1], 'k--')\n",
    "    plt.xlim([0.0, 1.0])\n",
    "    plt.ylim([0.0, 1.05])\n",
    "    plt.xlabel('False Positive Rate')\n",
    "    plt.ylabel('True Positive Rate')\n",
    "    plt.title('Receiver Operating Characteristic (ROC)')\n",
    "    plt.legend(loc=\"lower right\")\n",
    "    plt.show()"
   ]
  }
 ],
 "metadata": {
  "kernelspec": {
   "display_name": "Python 3 (ipykernel)",
   "language": "python",
   "name": "python3"
  },
  "language_info": {
   "codemirror_mode": {
    "name": "ipython",
    "version": 3
   },
   "file_extension": ".py",
   "mimetype": "text/x-python",
   "name": "python",
   "nbconvert_exporter": "python",
   "pygments_lexer": "ipython3",
   "version": "3.9.12"
  }
 },
 "nbformat": 4,
 "nbformat_minor": 5
}
