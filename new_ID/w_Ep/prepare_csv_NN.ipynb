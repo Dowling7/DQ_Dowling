{
 "cells": [
  {
   "cell_type": "code",
   "execution_count": 11,
   "id": "25e3d932",
   "metadata": {},
   "outputs": [],
   "source": [
    "import dwong\n",
    "import csv\n",
    "import time"
   ]
  },
  {
   "cell_type": "code",
   "execution_count": 12,
   "id": "201d9224",
   "metadata": {},
   "outputs": [],
   "source": [
    "files = [\n",
    "    \"/Users/wongdowling/Desktop/n-tuples/5_80_training/muon_520_p580.root\",\n",
    "    \"/Users/wongdowling/Desktop/n-tuples/5_80_training/pi+_520_p580.root\",\n",
    "    \"/Users/wongdowling/Desktop/n-tuples/5_80_training/electron_520_p580.root\",\n",
    "    \"/Users/wongdowling/Desktop/n-tuples/5_80_training/positron_520_p580.root\",\n",
    "    \"/Users/wongdowling/Desktop/n-tuples/5_80_training/klong_520_p580.root\",\n",
    "    \"/Users/wongdowling/Desktop/n-tuples/5_80_training/pi-_520_p580.root\",\n",
    "    \"/Users/wongdowling/Desktop/n-tuples/5_80_training/pi0_520_p580.root\",\n",
    "    \"/Users/wongdowling/Desktop/n-tuples/5_80_training/photon_520_p580.root\"\n",
    "]"
   ]
  },
  {
   "cell_type": "code",
   "execution_count": 7,
   "id": "5eb4450d",
   "metadata": {},
   "outputs": [],
   "source": [
    "file1 = [\n",
    "    \"/Users/wongdowling/Desktop/n-tuples/5_80_training/muon_520_p580.root\",\n",
    "    \"/Users/wongdowling/Desktop/n-tuples/5_80_training/electron_520_p580.root\",\n",
    "    \"/Users/wongdowling/Desktop/n-tuples/5_80_training/positron_520_p580.root\"\n",
    "]"
   ]
  },
  {
   "cell_type": "code",
   "execution_count": 13,
   "id": "57a15586",
   "metadata": {},
   "outputs": [],
   "source": [
    "def gen_csv(filename):\n",
    "    folded_list=dwong.prepare_data_evt(filename)\n",
    "    flat_list = [particle for event in folded_list for particle in event]\n",
    "    labels = [0] * len(flat_list)\n",
    "    labeled_flat_list = [[label, *particle] for label, particle in zip(labels, flat_list)]\n",
    "\n",
    "    file_name = filename.split(\"/\")[-1]\n",
    "\n",
    "    particle_name = file_name.split(\"_\")[0]\n",
    "    file_path = 'p5_80_%s_0_10000.csv'%particle_name\n",
    "\n",
    "    # Headers\n",
    "    headers = [\"Label\", \"wid_x\", \"wid_y\", \"wew_x\", \"wew_y\", \"seed_x\", \"seed_y\",\n",
    "               \"trkl_x\", \"trkl_y\", \"trkl_z\", \"trkl_px\", \"trkl_py\", \"trkl_pz\", \"E/p\",\n",
    "               \"h4_41\", \"h4_42\", \"h4_43\", \"h4_44\", \"h4_45\", \"h4_46\"]\n",
    "\n",
    "    # Writing to csv file\n",
    "    with open(file_path, 'w', newline='') as file:\n",
    "        writer = csv.writer(file)\n",
    "\n",
    "        # Writing the headers\n",
    "        writer.writerow(headers)\n",
    "\n",
    "        # Writing the data\n",
    "        writer.writerows(labeled_flat_list)\n"
   ]
  },
  {
   "cell_type": "code",
   "execution_count": 14,
   "id": "d41a95dd",
   "metadata": {},
   "outputs": [
    {
     "name": "stdout",
     "output_type": "stream",
     "text": [
      "The function took 7.551231861114502 seconds to run\n",
      "The function took 7.935575008392334 seconds to run\n",
      "The function took 7.919514894485474 seconds to run\n",
      "The function took 8.032740116119385 seconds to run\n",
      "The function took 4.936655044555664 seconds to run\n",
      "The function took 8.147897005081177 seconds to run\n",
      "The function took 8.114195108413696 seconds to run\n",
      "The function took 7.677078008651733 seconds to run\n"
     ]
    }
   ],
   "source": [
    "for particle in files:\n",
    "    start_time = time.time()\n",
    "    gen_csv(particle)\n",
    "    end_time = time.time()\n",
    "    duration = end_time - start_time\n",
    "    print(f\"The function took {duration} seconds to run\")"
   ]
  },
  {
   "cell_type": "code",
   "execution_count": null,
   "id": "e7b73fef",
   "metadata": {},
   "outputs": [],
   "source": [
    "import pandas as pd\n",
    "\n",
    "# Your filenames and headers\n",
    "filenames = [\"p5_80_electron_1_10000.csv\", \"p5_80_pi+_0_10000.csv\",\n",
    "\"p5_80_photon_0_10000.csv\", \"p5_80_pi-_0_10000.csv\", \"p5_80_pi0_0_10000.csv\",\n",
    "\"p5_80_muon_0_10000.csv\", \"p5_80_positron_1_10000.csv\"]\n",
    "\n",
    "headers = [\"Label\", \"wid_x\", \"wid_y\", \"wew_x\", \"wew_y\", \"seed_x\", \"seed_y\",\n",
    "           \"trkl_x\", \"trkl_y\", \"trkl_z\", \"trkl_px\", \"trkl_py\", \"trkl_pz\", \"E/p\",\n",
    "           \"h4_41\", \"h4_42\", \"h4_43\", \"h4_44\", \"h4_45\", \"h4_46\"]\n",
    "\n",
    "# Initialize an empty DataFrame to store concatenated data\n",
    "all_data = pd.DataFrame(columns=headers)\n",
    "\n",
    "# Loop through each filename\n",
    "for filename in filenames:\n",
    "    print(filename)\n",
    "    # Read the CSV file into a DataFrame\n",
    "    df = pd.read_csv(filename, names=headers) # if headers are not present in the file, otherwise remove names=...\n",
    "    # Concatenate vertically\n",
    "    all_data = pd.concat([all_data, df[1:]], axis=0, ignore_index=True)\n",
    "all_data.to_csv('electron1d_data.csv', index=False)\n",
    "# Optionally: save the concatenated data to a new CSV file\n"
   ]
  }
 ],
 "metadata": {
  "kernelspec": {
   "display_name": "Python 3 (ipykernel)",
   "language": "python",
   "name": "python3"
  },
  "language_info": {
   "codemirror_mode": {
    "name": "ipython",
    "version": 3
   },
   "file_extension": ".py",
   "mimetype": "text/x-python",
   "name": "python",
   "nbconvert_exporter": "python",
   "pygments_lexer": "ipython3",
   "version": "3.9.16"
  }
 },
 "nbformat": 4,
 "nbformat_minor": 5
}
