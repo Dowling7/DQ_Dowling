{
 "cells": [
  {
   "cell_type": "code",
   "execution_count": 54,
   "id": "a47cbf28",
   "metadata": {},
   "outputs": [],
   "source": [
    "from tensorflow.keras.models import load_model\n",
    "import numpy as np\n",
    "import pandas as pd\n",
    "import os\n",
    "os.chdir(\"/Users/wongdowling/Documents/Github/DQ_Dowling/new_ID/w_Ep\")\n",
    "loaded_model = load_model(\"muonID_w_track\")"
   ]
  },
  {
   "cell_type": "code",
   "execution_count": 56,
   "id": "e8b8dc70",
   "metadata": {},
   "outputs": [],
   "source": [
    "os.chdir(\"/Users/wongdowling/Documents/Github/DQ_Dowling/new_ID/w_Ep/add_gpz_csv\")\n",
    "filenames = [\"p5_80_pi+_0_10000.csv\",\n",
    "\"p5_80_electron_1_10000.csv\", \"p5_80_pi-_0_10000.csv\",\n",
    "\"p5_80_klong_0_10000.csv\", \"p5_80_pi0_0_10000.csv\",\n",
    "\"p5_80_muon_0_10000.csv\", \"p5_80_positron_0_10000.csv\",\n",
    "\"p5_80_photon_0_10000.csv\"]"
   ]
  },
  {
   "cell_type": "code",
   "execution_count": 43,
   "id": "7f8dfc12",
   "metadata": {},
   "outputs": [],
   "source": [
    "def each_file(filename):\n",
    "    df = pd.read_csv(filename)\n",
    "\n",
    "    train_data = df[[\"wid_x\", \"wid_y\", \"wew_x\", \"wew_y\", \"seed_x\", \"seed_y\",\n",
    "               \"trkl_x\", \"trkl_y\", \"trkl_z\", \"trkl_px\", \"trkl_py\", \"trkl_pz\",\"E/p\",\n",
    "               \"h4_41\", \"h4_42\", \"h4_43\", \"h4_44\", \"h4_45\", \"h4_46\"]].values\n",
    "    gpz = df[\"gpz\"].values\n",
    "    bin_edges = np.arange(5, 85, 5)  # this will give [5, 10, 15, ..., 80]\n",
    "\n",
    "    # Find out in which bin each gpz value lies\n",
    "    bin_indices = np.digitize(gpz, bin_edges)\n",
    "\n",
    "    # Create a list of arrays, one for each bin\n",
    "    binned_data = [train_data[bin_indices == i] for i in range(1, len(bin_edges))]\n",
    "\n",
    "    unique_counts = [len(np.unique(gpz[bin_indices == i])) for i in range(1, len(bin_edges))]\n",
    "    \n",
    "    positive_number = []\n",
    "    for item in binned_data:\n",
    "        predictions = loaded_model.predict(item)\n",
    "        classified_predictions = np.where(predictions >= 0.5, 1, 0)\n",
    "        positive_number.append(np.count_nonzero(classified_predictions))\n",
    "    numpy_pos_num = np.array(positive_number)\n",
    "    numpy_unique = np.array(unique_counts)\n",
    "    return numpy_pos_num/numpy_unique"
   ]
  },
  {
   "cell_type": "code",
   "execution_count": 57,
   "id": "60d111f7",
   "metadata": {},
   "outputs": [
    {
     "name": "stdout",
     "output_type": "stream",
     "text": [
      "24/24 [==============================] - 0s 357us/step\n",
      "23/23 [==============================] - 0s 370us/step\n",
      "25/25 [==============================] - 0s 377us/step\n",
      "23/23 [==============================] - 0s 351us/step\n",
      "23/23 [==============================] - 0s 328us/step\n",
      "23/23 [==============================] - 0s 313us/step\n",
      "25/25 [==============================] - 0s 281us/step\n",
      "24/24 [==============================] - 0s 320us/step\n",
      "27/27 [==============================] - 0s 304us/step\n",
      "25/25 [==============================] - 0s 310us/step\n",
      "27/27 [==============================] - 0s 296us/step\n",
      "26/26 [==============================] - 0s 303us/step\n",
      "27/27 [==============================] - 0s 298us/step\n",
      "27/27 [==============================] - 0s 327us/step\n",
      "30/30 [==============================] - 0s 302us/step\n",
      "26/26 [==============================] - 0s 287us/step\n",
      "24/24 [==============================] - 0s 311us/step\n",
      "24/24 [==============================] - 0s 274us/step\n",
      "22/22 [==============================] - 0s 538us/step\n",
      "22/22 [==============================] - 0s 374us/step\n",
      "21/21 [==============================] - 0s 303us/step\n",
      "22/22 [==============================] - 0s 296us/step\n",
      "20/20 [==============================] - 0s 351us/step\n",
      "22/22 [==============================] - 0s 302us/step\n",
      "22/22 [==============================] - 0s 288us/step\n",
      "23/23 [==============================] - 0s 295us/step\n",
      "22/22 [==============================] - 0s 284us/step\n",
      "21/21 [==============================] - 0s 293us/step\n",
      "21/21 [==============================] - 0s 334us/step\n",
      "23/23 [==============================] - 0s 283us/step\n",
      "23/23 [==============================] - 0s 310us/step\n",
      "26/26 [==============================] - 0s 313us/step\n",
      "24/24 [==============================] - 0s 289us/step\n",
      "26/26 [==============================] - 0s 344us/step\n",
      "27/27 [==============================] - 0s 305us/step\n",
      "25/25 [==============================] - 0s 305us/step\n",
      "26/26 [==============================] - 0s 293us/step\n",
      "27/27 [==============================] - 0s 293us/step\n",
      "28/28 [==============================] - 0s 285us/step\n",
      "26/26 [==============================] - 0s 290us/step\n",
      "26/26 [==============================] - 0s 317us/step\n",
      "27/27 [==============================] - 0s 313us/step\n",
      "24/24 [==============================] - 0s 305us/step\n",
      "29/29 [==============================] - 0s 295us/step\n",
      "27/27 [==============================] - 0s 345us/step\n",
      "14/14 [==============================] - 0s 288us/step\n",
      "14/14 [==============================] - 0s 339us/step\n",
      "14/14 [==============================] - 0s 355us/step\n",
      "16/16 [==============================] - 0s 338us/step\n",
      "14/14 [==============================] - 0s 303us/step\n",
      "15/15 [==============================] - 0s 330us/step\n",
      "14/14 [==============================] - 0s 317us/step\n",
      "16/16 [==============================] - 0s 306us/step\n",
      "17/17 [==============================] - 0s 350us/step\n",
      "15/15 [==============================] - 0s 383us/step\n",
      "16/16 [==============================] - 0s 339us/step\n",
      "15/15 [==============================] - 0s 314us/step\n",
      "17/17 [==============================] - 0s 314us/step\n",
      "14/14 [==============================] - 0s 368us/step\n",
      "17/17 [==============================] - 0s 286us/step\n",
      "38/38 [==============================] - 0s 297us/step\n",
      "39/39 [==============================] - 0s 256us/step\n",
      "29/29 [==============================] - 0s 289us/step\n",
      "28/28 [==============================] - 0s 270us/step\n",
      "27/27 [==============================] - 0s 294us/step\n",
      "24/24 [==============================] - 0s 285us/step\n",
      "26/26 [==============================] - 0s 290us/step\n",
      "23/23 [==============================] - 0s 308us/step\n",
      "25/25 [==============================] - 0s 310us/step\n",
      "25/25 [==============================] - 0s 298us/step\n",
      "23/23 [==============================] - 0s 291us/step\n",
      "23/23 [==============================] - 0s 333us/step\n",
      "24/24 [==============================] - 0s 287us/step\n",
      "24/24 [==============================] - 0s 288us/step\n",
      "23/23 [==============================] - 0s 303us/step\n",
      "22/22 [==============================] - 0s 312us/step\n",
      "22/22 [==============================] - 0s 323us/step\n",
      "22/22 [==============================] - 0s 282us/step\n",
      "21/21 [==============================] - 0s 304us/step\n",
      "22/22 [==============================] - 0s 301us/step\n",
      "21/21 [==============================] - 0s 311us/step\n",
      "21/21 [==============================] - 0s 329us/step\n",
      "20/20 [==============================] - 0s 306us/step\n",
      "21/21 [==============================] - 0s 309us/step\n",
      "22/22 [==============================] - 0s 346us/step\n",
      "21/21 [==============================] - 0s 290us/step\n",
      "21/21 [==============================] - 0s 312us/step\n",
      "22/22 [==============================] - 0s 299us/step\n",
      "21/21 [==============================] - 0s 354us/step\n",
      "21/21 [==============================] - 0s 316us/step\n",
      "25/25 [==============================] - 0s 296us/step\n",
      "25/25 [==============================] - 0s 293us/step\n",
      "23/23 [==============================] - 0s 309us/step\n",
      "22/22 [==============================] - 0s 285us/step\n",
      "22/22 [==============================] - 0s 307us/step\n",
      "20/20 [==============================] - 0s 299us/step\n",
      "24/24 [==============================] - 0s 310us/step\n",
      "22/22 [==============================] - 0s 330us/step\n",
      "21/21 [==============================] - 0s 289us/step\n",
      "23/23 [==============================] - 0s 299us/step\n",
      "21/21 [==============================] - 0s 333us/step\n",
      "20/20 [==============================] - 0s 348us/step\n",
      "22/22 [==============================] - 0s 529us/step\n",
      "23/23 [==============================] - 0s 381us/step\n",
      "22/22 [==============================] - 0s 387us/step\n",
      "21/21 [==============================] - 0s 392us/step\n",
      "22/22 [==============================] - 0s 384us/step\n",
      "22/22 [==============================] - 0s 331us/step\n",
      "23/23 [==============================] - 0s 377us/step\n",
      "22/22 [==============================] - 0s 389us/step\n",
      "22/22 [==============================] - 0s 328us/step\n",
      "22/22 [==============================] - 0s 382us/step\n",
      "24/24 [==============================] - 0s 392us/step\n",
      "23/23 [==============================] - 0s 362us/step\n",
      "22/22 [==============================] - 0s 385us/step\n",
      "24/24 [==============================] - 0s 285us/step\n",
      "22/22 [==============================] - 0s 312us/step\n",
      "21/21 [==============================] - 0s 328us/step\n",
      "21/21 [==============================] - 0s 354us/step\n",
      "21/21 [==============================] - 0s 373us/step\n"
     ]
    }
   ],
   "source": [
    "ratio = []\n",
    "for item in filenames:\n",
    "    ratio.append(each_file(item))"
   ]
  },
  {
   "cell_type": "code",
   "execution_count": 58,
   "id": "4571f6bc",
   "metadata": {},
   "outputs": [
    {
     "name": "stdout",
     "output_type": "stream",
     "text": [
      "[0.         0.         0.         0.         0.00151745 0.\n",
      " 0.00154321 0.         0.00441176 0.00315956 0.00424328 0.00432277\n",
      " 0.00597907 0.00461538 0.00882353]\n",
      "[0. 0. 0. 0. 0. 0. 0. 0. 0. 0. 0. 0. 0. 0. 0.]\n",
      "[0.         0.00278164 0.00619195 0.01167883 0.01591896 0.01981707\n",
      " 0.02808112 0.017991   0.01587302 0.01582278 0.02314815 0.02205882\n",
      " 0.01892744 0.02312139 0.01374046]\n",
      "[0.         0.         0.         0.00271003 0.         0.\n",
      " 0.         0.         0.         0.00311526 0.         0.\n",
      " 0.         0.003367   0.00560224]\n",
      "[0. 0. 0. 0. 0. 0. 0. 0. 0. 0. 0. 0. 0. 0. 0.]\n",
      "[0.01007194 0.06259098 0.11964549 0.18111455 0.1988218  0.21654135\n",
      " 0.24148607 0.21698113 0.20870871 0.2422452  0.19414484 0.20061256\n",
      " 0.18352601 0.1966967  0.18541033]\n",
      "[0. 0. 0. 0. 0. 0. 0. 0. 0. 0. 0. 0. 0. 0. 0.]\n",
      "[0. 0. 0. 0. 0. 0. 0. 0. 0. 0. 0. 0. 0. 0. 0.]\n"
     ]
    }
   ],
   "source": [
    "for item in ratio:\n",
    "    print(item)"
   ]
  },
  {
   "cell_type": "code",
   "execution_count": 62,
   "id": "eca90496",
   "metadata": {},
   "outputs": [
    {
     "name": "stdout",
     "output_type": "stream",
     "text": [
      "22/22 [==============================] - 0s 425us/step\n",
      "22/22 [==============================] - 0s 320us/step\n",
      "22/22 [==============================] - 0s 315us/step\n",
      "21/21 [==============================] - 0s 328us/step\n",
      "22/22 [==============================] - 0s 298us/step\n",
      "21/21 [==============================] - 0s 321us/step\n",
      "21/21 [==============================] - 0s 294us/step\n",
      "20/20 [==============================] - 0s 309us/step\n",
      "21/21 [==============================] - 0s 309us/step\n",
      "22/22 [==============================] - 0s 330us/step\n",
      "21/21 [==============================] - 0s 299us/step\n",
      "21/21 [==============================] - 0s 304us/step\n",
      "22/22 [==============================] - 0s 335us/step\n",
      "21/21 [==============================] - 0s 281us/step\n",
      "21/21 [==============================] - 0s 317us/step\n"
     ]
    }
   ],
   "source": [
    "df = pd.read_csv(\"/Users/wongdowling/Documents/Github/DQ_Dowling/new_ID/w_Ep/csv_data/p5_80_muon_0_10000.csv\")\n",
    "\n",
    "train_data = df[[\"wid_x\", \"wid_y\", \"wew_x\", \"wew_y\", \"seed_x\", \"seed_y\",\n",
    "           \"trkl_x\", \"trkl_y\", \"trkl_z\", \"trkl_px\", \"trkl_py\", \"trkl_pz\",\"E/p\",\n",
    "           \"h4_41\", \"h4_42\", \"h4_43\", \"h4_44\", \"h4_45\", \"h4_46\"]].values\n",
    "gpz = df[\"gpz\"].values\n",
    "bin_edges = np.arange(5, 85, 5)  # this will give [5, 10, 15, ..., 80]\n",
    "\n",
    "# Find out in which bin each gpz value lies\n",
    "bin_indices = np.digitize(gpz, bin_edges)\n",
    "\n",
    "# Create a list of arrays, one for each bin\n",
    "binned_data = [train_data[bin_indices == i] for i in range(1, len(bin_edges))]\n",
    "\n",
    "unique_counts = [len(np.unique(gpz[bin_indices == i])) for i in range(1, len(bin_edges))]\n",
    "\n",
    "positive_number = []\n",
    "for item in binned_data:\n",
    "    predictions = loaded_model.predict(item)\n",
    "    classified_predictions = np.where(predictions >= 0.5, 1, 0)\n",
    "    positive_number.append(np.count_nonzero(classified_predictions))\n",
    "numpy_pos_num = np.array(positive_number)\n",
    "numpy_unique = np.array(unique_counts)\n"
   ]
  },
  {
   "cell_type": "code",
   "execution_count": 51,
   "id": "9103fa3c",
   "metadata": {},
   "outputs": [
    {
     "data": {
      "text/plain": [
       "array([  4,  27,  61, 116, 156, 149, 188, 166, 193, 195, 188, 228, 165,\n",
       "       187, 215])"
      ]
     },
     "execution_count": 51,
     "metadata": {},
     "output_type": "execute_result"
    }
   ],
   "source": [
    "numpy_pos_num"
   ]
  },
  {
   "cell_type": "code",
   "execution_count": 67,
   "id": "2e6e8976",
   "metadata": {},
   "outputs": [
    {
     "data": {
      "text/plain": [
       "9992"
      ]
     },
     "execution_count": 67,
     "metadata": {},
     "output_type": "execute_result"
    }
   ],
   "source": [
    "sum(numpy_unique)\n"
   ]
  },
  {
   "cell_type": "code",
   "execution_count": 70,
   "id": "aaa8fa7a",
   "metadata": {},
   "outputs": [
    {
     "name": "stdout",
     "output_type": "stream",
     "text": [
      "313/313 [==============================] - 0s 249us/step\n"
     ]
    }
   ],
   "source": [
    "df = pd.read_csv(\"/Users/wongdowling/Documents/Github/DQ_Dowling/new_ID/w_Ep/csv_data/p5_80_muon_0_10000.csv\")\n",
    "\n",
    "train_data = df[[\"wid_x\", \"wid_y\", \"wew_x\", \"wew_y\", \"seed_x\", \"seed_y\",\n",
    "           \"trkl_x\", \"trkl_y\", \"trkl_z\", \"trkl_px\", \"trkl_py\", \"trkl_pz\",\"E/p\",\n",
    "           \"h4_41\", \"h4_42\", \"h4_43\", \"h4_44\", \"h4_45\", \"h4_46\"]].values\n",
    "predictions = loaded_model.predict(train_data)\n",
    "classified_predictions = np.where(predictions >= 0.5, 1, 0)\n",
    "positive_numbe=np.count_nonzero(classified_predictions)\n"
   ]
  },
  {
   "cell_type": "code",
   "execution_count": 71,
   "id": "397edec2",
   "metadata": {},
   "outputs": [
    {
     "data": {
      "text/plain": [
       "8778"
      ]
     },
     "execution_count": 71,
     "metadata": {},
     "output_type": "execute_result"
    }
   ],
   "source": [
    "positive_numbe"
   ]
  },
  {
   "cell_type": "code",
   "execution_count": null,
   "id": "c37a04a9",
   "metadata": {},
   "outputs": [],
   "source": []
  }
 ],
 "metadata": {
  "kernelspec": {
   "display_name": "Python 3 (ipykernel)",
   "language": "python",
   "name": "python3"
  },
  "language_info": {
   "codemirror_mode": {
    "name": "ipython",
    "version": 3
   },
   "file_extension": ".py",
   "mimetype": "text/x-python",
   "name": "python",
   "nbconvert_exporter": "python",
   "pygments_lexer": "ipython3",
   "version": "3.9.16"
  }
 },
 "nbformat": 4,
 "nbformat_minor": 5
}
