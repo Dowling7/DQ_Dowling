{
 "cells": [
  {
   "cell_type": "markdown",
   "metadata": {
    "id": "3zt5vYf8K1AF"
   },
   "source": [
    "<a href=\"https://colab.research.google.com/github/jeffheaton/t81_558_deep_learning/blob/master/t81_558_class_04_2_multi_class.ipynb\" target=\"_parent\"><img src=\"https://colab.research.google.com/assets/colab-badge.svg\" alt=\"Open In Colab\"/></a>"
   ]
  },
  {
   "cell_type": "code",
   "execution_count": 1,
   "metadata": {
    "colab": {
     "base_uri": "https://localhost:8080/"
    },
    "id": "19pvQwY3K1AK",
    "outputId": "335d3fbc-71d4-425a-e168-4c2d1efb117f"
   },
   "outputs": [
    {
     "name": "stdout",
     "output_type": "stream",
     "text": [
      "Note: not using Google CoLab\n"
     ]
    }
   ],
   "source": [
    "try:\n",
    "    %tensorflow_version 2.x\n",
    "    COLAB = True\n",
    "    print(\"Note: using Google CoLab\")\n",
    "except:\n",
    "    print(\"Note: not using Google CoLab\")\n",
    "    COLAB = False"
   ]
  },
  {
   "cell_type": "code",
   "execution_count": 2,
   "metadata": {
    "scrolled": true
   },
   "outputs": [
    {
     "name": "stdout",
     "output_type": "stream",
     "text": [
      "p5_80_electron_1_10000.csv\n"
     ]
    },
    {
     "ename": "FileNotFoundError",
     "evalue": "[Errno 2] No such file or directory: 'p5_80_electron_1_10000.csv'",
     "output_type": "error",
     "traceback": [
      "\u001b[0;31m---------------------------------------------------------------------------\u001b[0m",
      "\u001b[0;31mFileNotFoundError\u001b[0m                         Traceback (most recent call last)",
      "Cell \u001b[0;32mIn[2], line 19\u001b[0m\n\u001b[1;32m     17\u001b[0m \u001b[38;5;28mprint\u001b[39m(filename)\n\u001b[1;32m     18\u001b[0m \u001b[38;5;66;03m# Read the CSV file into a DataFrame\u001b[39;00m\n\u001b[0;32m---> 19\u001b[0m df \u001b[38;5;241m=\u001b[39m \u001b[43mpd\u001b[49m\u001b[38;5;241;43m.\u001b[39;49m\u001b[43mread_csv\u001b[49m\u001b[43m(\u001b[49m\u001b[43mfilename\u001b[49m\u001b[43m,\u001b[49m\u001b[43m \u001b[49m\u001b[43mnames\u001b[49m\u001b[38;5;241;43m=\u001b[39;49m\u001b[43mheaders\u001b[49m\u001b[43m)\u001b[49m \u001b[38;5;66;03m# if headers are not present in the file, otherwise remove names=...\u001b[39;00m\n\u001b[1;32m     20\u001b[0m \u001b[38;5;66;03m# Concatenate vertically\u001b[39;00m\n\u001b[1;32m     21\u001b[0m all_data \u001b[38;5;241m=\u001b[39m pd\u001b[38;5;241m.\u001b[39mconcat([all_data, df[\u001b[38;5;241m1\u001b[39m:]], axis\u001b[38;5;241m=\u001b[39m\u001b[38;5;241m0\u001b[39m, ignore_index\u001b[38;5;241m=\u001b[39m\u001b[38;5;28;01mTrue\u001b[39;00m)\n",
      "File \u001b[0;32m~/opt/anaconda3/envs/dq/lib/python3.9/site-packages/pandas/io/parsers/readers.py:912\u001b[0m, in \u001b[0;36mread_csv\u001b[0;34m(filepath_or_buffer, sep, delimiter, header, names, index_col, usecols, dtype, engine, converters, true_values, false_values, skipinitialspace, skiprows, skipfooter, nrows, na_values, keep_default_na, na_filter, verbose, skip_blank_lines, parse_dates, infer_datetime_format, keep_date_col, date_parser, date_format, dayfirst, cache_dates, iterator, chunksize, compression, thousands, decimal, lineterminator, quotechar, quoting, doublequote, escapechar, comment, encoding, encoding_errors, dialect, on_bad_lines, delim_whitespace, low_memory, memory_map, float_precision, storage_options, dtype_backend)\u001b[0m\n\u001b[1;32m    899\u001b[0m kwds_defaults \u001b[38;5;241m=\u001b[39m _refine_defaults_read(\n\u001b[1;32m    900\u001b[0m     dialect,\n\u001b[1;32m    901\u001b[0m     delimiter,\n\u001b[0;32m   (...)\u001b[0m\n\u001b[1;32m    908\u001b[0m     dtype_backend\u001b[38;5;241m=\u001b[39mdtype_backend,\n\u001b[1;32m    909\u001b[0m )\n\u001b[1;32m    910\u001b[0m kwds\u001b[38;5;241m.\u001b[39mupdate(kwds_defaults)\n\u001b[0;32m--> 912\u001b[0m \u001b[38;5;28;01mreturn\u001b[39;00m \u001b[43m_read\u001b[49m\u001b[43m(\u001b[49m\u001b[43mfilepath_or_buffer\u001b[49m\u001b[43m,\u001b[49m\u001b[43m \u001b[49m\u001b[43mkwds\u001b[49m\u001b[43m)\u001b[49m\n",
      "File \u001b[0;32m~/opt/anaconda3/envs/dq/lib/python3.9/site-packages/pandas/io/parsers/readers.py:577\u001b[0m, in \u001b[0;36m_read\u001b[0;34m(filepath_or_buffer, kwds)\u001b[0m\n\u001b[1;32m    574\u001b[0m _validate_names(kwds\u001b[38;5;241m.\u001b[39mget(\u001b[38;5;124m\"\u001b[39m\u001b[38;5;124mnames\u001b[39m\u001b[38;5;124m\"\u001b[39m, \u001b[38;5;28;01mNone\u001b[39;00m))\n\u001b[1;32m    576\u001b[0m \u001b[38;5;66;03m# Create the parser.\u001b[39;00m\n\u001b[0;32m--> 577\u001b[0m parser \u001b[38;5;241m=\u001b[39m \u001b[43mTextFileReader\u001b[49m\u001b[43m(\u001b[49m\u001b[43mfilepath_or_buffer\u001b[49m\u001b[43m,\u001b[49m\u001b[43m \u001b[49m\u001b[38;5;241;43m*\u001b[39;49m\u001b[38;5;241;43m*\u001b[39;49m\u001b[43mkwds\u001b[49m\u001b[43m)\u001b[49m\n\u001b[1;32m    579\u001b[0m \u001b[38;5;28;01mif\u001b[39;00m chunksize \u001b[38;5;129;01mor\u001b[39;00m iterator:\n\u001b[1;32m    580\u001b[0m     \u001b[38;5;28;01mreturn\u001b[39;00m parser\n",
      "File \u001b[0;32m~/opt/anaconda3/envs/dq/lib/python3.9/site-packages/pandas/io/parsers/readers.py:1407\u001b[0m, in \u001b[0;36mTextFileReader.__init__\u001b[0;34m(self, f, engine, **kwds)\u001b[0m\n\u001b[1;32m   1404\u001b[0m     \u001b[38;5;28mself\u001b[39m\u001b[38;5;241m.\u001b[39moptions[\u001b[38;5;124m\"\u001b[39m\u001b[38;5;124mhas_index_names\u001b[39m\u001b[38;5;124m\"\u001b[39m] \u001b[38;5;241m=\u001b[39m kwds[\u001b[38;5;124m\"\u001b[39m\u001b[38;5;124mhas_index_names\u001b[39m\u001b[38;5;124m\"\u001b[39m]\n\u001b[1;32m   1406\u001b[0m \u001b[38;5;28mself\u001b[39m\u001b[38;5;241m.\u001b[39mhandles: IOHandles \u001b[38;5;241m|\u001b[39m \u001b[38;5;28;01mNone\u001b[39;00m \u001b[38;5;241m=\u001b[39m \u001b[38;5;28;01mNone\u001b[39;00m\n\u001b[0;32m-> 1407\u001b[0m \u001b[38;5;28mself\u001b[39m\u001b[38;5;241m.\u001b[39m_engine \u001b[38;5;241m=\u001b[39m \u001b[38;5;28;43mself\u001b[39;49m\u001b[38;5;241;43m.\u001b[39;49m\u001b[43m_make_engine\u001b[49m\u001b[43m(\u001b[49m\u001b[43mf\u001b[49m\u001b[43m,\u001b[49m\u001b[43m \u001b[49m\u001b[38;5;28;43mself\u001b[39;49m\u001b[38;5;241;43m.\u001b[39;49m\u001b[43mengine\u001b[49m\u001b[43m)\u001b[49m\n",
      "File \u001b[0;32m~/opt/anaconda3/envs/dq/lib/python3.9/site-packages/pandas/io/parsers/readers.py:1661\u001b[0m, in \u001b[0;36mTextFileReader._make_engine\u001b[0;34m(self, f, engine)\u001b[0m\n\u001b[1;32m   1659\u001b[0m     \u001b[38;5;28;01mif\u001b[39;00m \u001b[38;5;124m\"\u001b[39m\u001b[38;5;124mb\u001b[39m\u001b[38;5;124m\"\u001b[39m \u001b[38;5;129;01mnot\u001b[39;00m \u001b[38;5;129;01min\u001b[39;00m mode:\n\u001b[1;32m   1660\u001b[0m         mode \u001b[38;5;241m+\u001b[39m\u001b[38;5;241m=\u001b[39m \u001b[38;5;124m\"\u001b[39m\u001b[38;5;124mb\u001b[39m\u001b[38;5;124m\"\u001b[39m\n\u001b[0;32m-> 1661\u001b[0m \u001b[38;5;28mself\u001b[39m\u001b[38;5;241m.\u001b[39mhandles \u001b[38;5;241m=\u001b[39m \u001b[43mget_handle\u001b[49m\u001b[43m(\u001b[49m\n\u001b[1;32m   1662\u001b[0m \u001b[43m    \u001b[49m\u001b[43mf\u001b[49m\u001b[43m,\u001b[49m\n\u001b[1;32m   1663\u001b[0m \u001b[43m    \u001b[49m\u001b[43mmode\u001b[49m\u001b[43m,\u001b[49m\n\u001b[1;32m   1664\u001b[0m \u001b[43m    \u001b[49m\u001b[43mencoding\u001b[49m\u001b[38;5;241;43m=\u001b[39;49m\u001b[38;5;28;43mself\u001b[39;49m\u001b[38;5;241;43m.\u001b[39;49m\u001b[43moptions\u001b[49m\u001b[38;5;241;43m.\u001b[39;49m\u001b[43mget\u001b[49m\u001b[43m(\u001b[49m\u001b[38;5;124;43m\"\u001b[39;49m\u001b[38;5;124;43mencoding\u001b[39;49m\u001b[38;5;124;43m\"\u001b[39;49m\u001b[43m,\u001b[49m\u001b[43m \u001b[49m\u001b[38;5;28;43;01mNone\u001b[39;49;00m\u001b[43m)\u001b[49m\u001b[43m,\u001b[49m\n\u001b[1;32m   1665\u001b[0m \u001b[43m    \u001b[49m\u001b[43mcompression\u001b[49m\u001b[38;5;241;43m=\u001b[39;49m\u001b[38;5;28;43mself\u001b[39;49m\u001b[38;5;241;43m.\u001b[39;49m\u001b[43moptions\u001b[49m\u001b[38;5;241;43m.\u001b[39;49m\u001b[43mget\u001b[49m\u001b[43m(\u001b[49m\u001b[38;5;124;43m\"\u001b[39;49m\u001b[38;5;124;43mcompression\u001b[39;49m\u001b[38;5;124;43m\"\u001b[39;49m\u001b[43m,\u001b[49m\u001b[43m \u001b[49m\u001b[38;5;28;43;01mNone\u001b[39;49;00m\u001b[43m)\u001b[49m\u001b[43m,\u001b[49m\n\u001b[1;32m   1666\u001b[0m \u001b[43m    \u001b[49m\u001b[43mmemory_map\u001b[49m\u001b[38;5;241;43m=\u001b[39;49m\u001b[38;5;28;43mself\u001b[39;49m\u001b[38;5;241;43m.\u001b[39;49m\u001b[43moptions\u001b[49m\u001b[38;5;241;43m.\u001b[39;49m\u001b[43mget\u001b[49m\u001b[43m(\u001b[49m\u001b[38;5;124;43m\"\u001b[39;49m\u001b[38;5;124;43mmemory_map\u001b[39;49m\u001b[38;5;124;43m\"\u001b[39;49m\u001b[43m,\u001b[49m\u001b[43m \u001b[49m\u001b[38;5;28;43;01mFalse\u001b[39;49;00m\u001b[43m)\u001b[49m\u001b[43m,\u001b[49m\n\u001b[1;32m   1667\u001b[0m \u001b[43m    \u001b[49m\u001b[43mis_text\u001b[49m\u001b[38;5;241;43m=\u001b[39;49m\u001b[43mis_text\u001b[49m\u001b[43m,\u001b[49m\n\u001b[1;32m   1668\u001b[0m \u001b[43m    \u001b[49m\u001b[43merrors\u001b[49m\u001b[38;5;241;43m=\u001b[39;49m\u001b[38;5;28;43mself\u001b[39;49m\u001b[38;5;241;43m.\u001b[39;49m\u001b[43moptions\u001b[49m\u001b[38;5;241;43m.\u001b[39;49m\u001b[43mget\u001b[49m\u001b[43m(\u001b[49m\u001b[38;5;124;43m\"\u001b[39;49m\u001b[38;5;124;43mencoding_errors\u001b[39;49m\u001b[38;5;124;43m\"\u001b[39;49m\u001b[43m,\u001b[49m\u001b[43m \u001b[49m\u001b[38;5;124;43m\"\u001b[39;49m\u001b[38;5;124;43mstrict\u001b[39;49m\u001b[38;5;124;43m\"\u001b[39;49m\u001b[43m)\u001b[49m\u001b[43m,\u001b[49m\n\u001b[1;32m   1669\u001b[0m \u001b[43m    \u001b[49m\u001b[43mstorage_options\u001b[49m\u001b[38;5;241;43m=\u001b[39;49m\u001b[38;5;28;43mself\u001b[39;49m\u001b[38;5;241;43m.\u001b[39;49m\u001b[43moptions\u001b[49m\u001b[38;5;241;43m.\u001b[39;49m\u001b[43mget\u001b[49m\u001b[43m(\u001b[49m\u001b[38;5;124;43m\"\u001b[39;49m\u001b[38;5;124;43mstorage_options\u001b[39;49m\u001b[38;5;124;43m\"\u001b[39;49m\u001b[43m,\u001b[49m\u001b[43m \u001b[49m\u001b[38;5;28;43;01mNone\u001b[39;49;00m\u001b[43m)\u001b[49m\u001b[43m,\u001b[49m\n\u001b[1;32m   1670\u001b[0m \u001b[43m\u001b[49m\u001b[43m)\u001b[49m\n\u001b[1;32m   1671\u001b[0m \u001b[38;5;28;01massert\u001b[39;00m \u001b[38;5;28mself\u001b[39m\u001b[38;5;241m.\u001b[39mhandles \u001b[38;5;129;01mis\u001b[39;00m \u001b[38;5;129;01mnot\u001b[39;00m \u001b[38;5;28;01mNone\u001b[39;00m\n\u001b[1;32m   1672\u001b[0m f \u001b[38;5;241m=\u001b[39m \u001b[38;5;28mself\u001b[39m\u001b[38;5;241m.\u001b[39mhandles\u001b[38;5;241m.\u001b[39mhandle\n",
      "File \u001b[0;32m~/opt/anaconda3/envs/dq/lib/python3.9/site-packages/pandas/io/common.py:859\u001b[0m, in \u001b[0;36mget_handle\u001b[0;34m(path_or_buf, mode, encoding, compression, memory_map, is_text, errors, storage_options)\u001b[0m\n\u001b[1;32m    854\u001b[0m \u001b[38;5;28;01melif\u001b[39;00m \u001b[38;5;28misinstance\u001b[39m(handle, \u001b[38;5;28mstr\u001b[39m):\n\u001b[1;32m    855\u001b[0m     \u001b[38;5;66;03m# Check whether the filename is to be opened in binary mode.\u001b[39;00m\n\u001b[1;32m    856\u001b[0m     \u001b[38;5;66;03m# Binary mode does not support 'encoding' and 'newline'.\u001b[39;00m\n\u001b[1;32m    857\u001b[0m     \u001b[38;5;28;01mif\u001b[39;00m ioargs\u001b[38;5;241m.\u001b[39mencoding \u001b[38;5;129;01mand\u001b[39;00m \u001b[38;5;124m\"\u001b[39m\u001b[38;5;124mb\u001b[39m\u001b[38;5;124m\"\u001b[39m \u001b[38;5;129;01mnot\u001b[39;00m \u001b[38;5;129;01min\u001b[39;00m ioargs\u001b[38;5;241m.\u001b[39mmode:\n\u001b[1;32m    858\u001b[0m         \u001b[38;5;66;03m# Encoding\u001b[39;00m\n\u001b[0;32m--> 859\u001b[0m         handle \u001b[38;5;241m=\u001b[39m \u001b[38;5;28;43mopen\u001b[39;49m\u001b[43m(\u001b[49m\n\u001b[1;32m    860\u001b[0m \u001b[43m            \u001b[49m\u001b[43mhandle\u001b[49m\u001b[43m,\u001b[49m\n\u001b[1;32m    861\u001b[0m \u001b[43m            \u001b[49m\u001b[43mioargs\u001b[49m\u001b[38;5;241;43m.\u001b[39;49m\u001b[43mmode\u001b[49m\u001b[43m,\u001b[49m\n\u001b[1;32m    862\u001b[0m \u001b[43m            \u001b[49m\u001b[43mencoding\u001b[49m\u001b[38;5;241;43m=\u001b[39;49m\u001b[43mioargs\u001b[49m\u001b[38;5;241;43m.\u001b[39;49m\u001b[43mencoding\u001b[49m\u001b[43m,\u001b[49m\n\u001b[1;32m    863\u001b[0m \u001b[43m            \u001b[49m\u001b[43merrors\u001b[49m\u001b[38;5;241;43m=\u001b[39;49m\u001b[43merrors\u001b[49m\u001b[43m,\u001b[49m\n\u001b[1;32m    864\u001b[0m \u001b[43m            \u001b[49m\u001b[43mnewline\u001b[49m\u001b[38;5;241;43m=\u001b[39;49m\u001b[38;5;124;43m\"\u001b[39;49m\u001b[38;5;124;43m\"\u001b[39;49m\u001b[43m,\u001b[49m\n\u001b[1;32m    865\u001b[0m \u001b[43m        \u001b[49m\u001b[43m)\u001b[49m\n\u001b[1;32m    866\u001b[0m     \u001b[38;5;28;01melse\u001b[39;00m:\n\u001b[1;32m    867\u001b[0m         \u001b[38;5;66;03m# Binary mode\u001b[39;00m\n\u001b[1;32m    868\u001b[0m         handle \u001b[38;5;241m=\u001b[39m \u001b[38;5;28mopen\u001b[39m(handle, ioargs\u001b[38;5;241m.\u001b[39mmode)\n",
      "\u001b[0;31mFileNotFoundError\u001b[0m: [Errno 2] No such file or directory: 'p5_80_electron_1_10000.csv'"
     ]
    }
   ],
   "source": [
    "import pandas as pd\n",
    "\n",
    "# Your filenames and headers\n",
    "filenames = [\"p5_80_electron_1_10000.csv\", \"p5_80_pi+_0_10000.csv\",\n",
    "\"p5_80_photon_0_10000.csv\", \"p5_80_pi-_0_10000.csv\", \"p5_80_pi0_0_10000.csv\",\n",
    "\"p5_80_muon_0_10000.csv\", \"p5_80_positron_1_10000.csv\", \"p5_80_klong_0_10000.csv\"]\n",
    "\n",
    "headers = [\"Label\", \"wid_x\", \"wid_y\", \"wew_x\", \"wew_y\", \"seed_x\", \"seed_y\",\n",
    "           \"trkl_x\", \"trkl_y\", \"trkl_z\", \"trkl_px\", \"trkl_py\", \"trkl_pz\", \"E/p\",\n",
    "           \"h4_41\", \"h4_42\", \"h4_43\", \"h4_44\", \"h4_45\", \"h4_46\"]\n",
    "\n",
    "# Initialize an empty DataFrame to store concatenated data\n",
    "all_data = pd.DataFrame(columns=headers)\n",
    "\n",
    "# Loop through each filename\n",
    "for filename in filenames:\n",
    "    print(filename)\n",
    "    # Read the CSV file into a DataFrame\n",
    "    df = pd.read_csv(filename, names=headers) # if headers are not present in the file, otherwise remove names=...\n",
    "    # Concatenate vertically\n",
    "    all_data = pd.concat([all_data, df[1:]], axis=0, ignore_index=True)\n",
    "all_data.to_csv('electron1_data.csv', index=False)\n",
    "# Optionally: save the concatenated data to a new CSV file\n"
   ]
  },
  {
   "cell_type": "code",
   "execution_count": 3,
   "metadata": {},
   "outputs": [
    {
     "data": {
      "text/html": [
       "<div>\n",
       "<style scoped>\n",
       "    .dataframe tbody tr th:only-of-type {\n",
       "        vertical-align: middle;\n",
       "    }\n",
       "\n",
       "    .dataframe tbody tr th {\n",
       "        vertical-align: top;\n",
       "    }\n",
       "\n",
       "    .dataframe thead th {\n",
       "        text-align: right;\n",
       "    }\n",
       "</style>\n",
       "<table border=\"1\" class=\"dataframe\">\n",
       "  <thead>\n",
       "    <tr style=\"text-align: right;\">\n",
       "      <th></th>\n",
       "      <th>Label</th>\n",
       "      <th>wid_x</th>\n",
       "      <th>wid_y</th>\n",
       "      <th>wew_x</th>\n",
       "      <th>wew_y</th>\n",
       "      <th>...</th>\n",
       "      <th>h4_42</th>\n",
       "      <th>h4_43</th>\n",
       "      <th>h4_44</th>\n",
       "      <th>h4_45</th>\n",
       "      <th>h4_46</th>\n",
       "    </tr>\n",
       "  </thead>\n",
       "  <tbody>\n",
       "    <tr>\n",
       "      <th>0</th>\n",
       "      <td>1</td>\n",
       "      <td>6.280873</td>\n",
       "      <td>4.283520</td>\n",
       "      <td>1.889367</td>\n",
       "      <td>1.094791</td>\n",
       "      <td>...</td>\n",
       "      <td>-9999.0</td>\n",
       "      <td>-9999.0</td>\n",
       "      <td>-9999.0</td>\n",
       "      <td>-9999.0</td>\n",
       "      <td>-9999.0</td>\n",
       "    </tr>\n",
       "    <tr>\n",
       "      <th>1</th>\n",
       "      <td>1</td>\n",
       "      <td>6.911682</td>\n",
       "      <td>5.546337</td>\n",
       "      <td>2.054665</td>\n",
       "      <td>1.457205</td>\n",
       "      <td>...</td>\n",
       "      <td>-9999.0</td>\n",
       "      <td>-9999.0</td>\n",
       "      <td>-9999.0</td>\n",
       "      <td>-9999.0</td>\n",
       "      <td>-9999.0</td>\n",
       "    </tr>\n",
       "    <tr>\n",
       "      <th>...</th>\n",
       "      <td>...</td>\n",
       "      <td>...</td>\n",
       "      <td>...</td>\n",
       "      <td>...</td>\n",
       "      <td>...</td>\n",
       "      <td>...</td>\n",
       "      <td>...</td>\n",
       "      <td>...</td>\n",
       "      <td>...</td>\n",
       "      <td>...</td>\n",
       "      <td>...</td>\n",
       "    </tr>\n",
       "    <tr>\n",
       "      <th>90275</th>\n",
       "      <td>0</td>\n",
       "      <td>10.153378</td>\n",
       "      <td>6.621222</td>\n",
       "      <td>3.889980</td>\n",
       "      <td>3.415676</td>\n",
       "      <td>...</td>\n",
       "      <td>-9999.0</td>\n",
       "      <td>-9999.0</td>\n",
       "      <td>-9999.0</td>\n",
       "      <td>-9999.0</td>\n",
       "      <td>-9999.0</td>\n",
       "    </tr>\n",
       "    <tr>\n",
       "      <th>90276</th>\n",
       "      <td>0</td>\n",
       "      <td>-9999.000000</td>\n",
       "      <td>-9999.000000</td>\n",
       "      <td>-9999.000000</td>\n",
       "      <td>-9999.000000</td>\n",
       "      <td>...</td>\n",
       "      <td>-9999.0</td>\n",
       "      <td>-9999.0</td>\n",
       "      <td>-9999.0</td>\n",
       "      <td>-9999.0</td>\n",
       "      <td>-9999.0</td>\n",
       "    </tr>\n",
       "  </tbody>\n",
       "</table>\n",
       "<p>90277 rows × 20 columns</p>\n",
       "</div>"
      ],
      "text/plain": [
       "       Label        wid_x        wid_y        wew_x        wew_y  ...   h4_42  \\\n",
       "0          1     6.280873     4.283520     1.889367     1.094791  ... -9999.0   \n",
       "1          1     6.911682     5.546337     2.054665     1.457205  ... -9999.0   \n",
       "...      ...          ...          ...          ...          ...  ...     ...   \n",
       "90275      0    10.153378     6.621222     3.889980     3.415676  ... -9999.0   \n",
       "90276      0 -9999.000000 -9999.000000 -9999.000000 -9999.000000  ... -9999.0   \n",
       "\n",
       "        h4_43   h4_44   h4_45   h4_46  \n",
       "0     -9999.0 -9999.0 -9999.0 -9999.0  \n",
       "1     -9999.0 -9999.0 -9999.0 -9999.0  \n",
       "...       ...     ...     ...     ...  \n",
       "90275 -9999.0 -9999.0 -9999.0 -9999.0  \n",
       "90276 -9999.0 -9999.0 -9999.0 -9999.0  \n",
       "\n",
       "[90277 rows x 20 columns]"
      ]
     },
     "metadata": {},
     "output_type": "display_data"
    }
   ],
   "source": [
    "import pandas as pd\n",
    "import dwong\n",
    "\n",
    "df = pd.read_csv(\"/Users/wongdowling/Documents/Github/DQ_Dowling/new_ID/w_Ep/csv_data/electron1_data.csv\")\n",
    "pd.set_option('display.max_columns', 10)\n",
    "pd.set_option('display.max_rows', 5)\n",
    "\n",
    "display(df)"
   ]
  },
  {
   "cell_type": "code",
   "execution_count": 4,
   "metadata": {
    "id": "25ys9moDK1AP"
   },
   "outputs": [],
   "source": [
    "%matplotlib inline\n",
    "import matplotlib.pyplot as plt\n",
    "from sklearn.metrics import roc_curve, auc\n",
    "\n",
    "# Plot a confusion matrix.\n",
    "# cm is the confusion matrix, names are the names of the classes.\n",
    "def plot_confusion_matrix(cm, names, title='Confusion matrix', \n",
    "                            cmap=plt.cm.Blues):\n",
    "    plt.imshow(cm, interpolation='nearest', cmap=cmap)\n",
    "    plt.title(title)\n",
    "    plt.colorbar()\n",
    "    tick_marks = np.arange(len(names))\n",
    "    plt.xticks(tick_marks, names, rotation=45)\n",
    "    plt.yticks(tick_marks, names)\n",
    "    plt.tight_layout()\n",
    "    plt.ylabel('True label')\n",
    "    plt.xlabel('Predicted label')\n",
    "    \n",
    "\n",
    "# Plot an ROC. pred - the predictions, y - the expected output.\n",
    "def plot_roc(pred,y):\n",
    "    fpr, tpr, _ = roc_curve(y, pred)\n",
    "    roc_auc = auc(fpr, tpr)\n",
    "\n",
    "    plt.figure()\n",
    "    plt.plot(fpr, tpr, label='ROC curve (area = %0.6f)' % roc_auc)\n",
    "    plt.plot([0, 1], [0, 1], 'k--')\n",
    "    plt.xlim([0.0, 1.0])\n",
    "    plt.ylim([0.0, 1.05])\n",
    "    plt.xlabel('False Positive Rate')\n",
    "    plt.ylabel('True Positive Rate')\n",
    "    plt.title('Receiver Operating Characteristic (ROC)')\n",
    "    plt.legend(loc=\"lower right\")\n",
    "    plt.show()"
   ]
  },
  {
   "cell_type": "code",
   "execution_count": 5,
   "metadata": {},
   "outputs": [],
   "source": [
    "x=df[[\"wid_x\", \"wid_y\", \"wew_x\", \"wew_y\", \"seed_x\", \"seed_y\",\n",
    "           \"trkl_x\", \"trkl_y\", \"trkl_z\", \"trkl_px\", \"trkl_py\", \"trkl_pz\",\"E/p\",\n",
    "           \"h4_41\", \"h4_42\", \"h4_43\", \"h4_44\", \"h4_45\", \"h4_46\"]].values\n",
    "y=df['Label'].values"
   ]
  },
  {
   "cell_type": "code",
   "execution_count": 34,
   "metadata": {
    "colab": {
     "base_uri": "https://localhost:8080/"
    },
    "id": "tchQMWrIK1AQ",
    "outputId": "e4be0d2b-d974-4917-bc0f-908917773c99"
   },
   "outputs": [
    {
     "name": "stderr",
     "output_type": "stream",
     "text": [
      "WARNING:absl:At this time, the v2.11+ optimizer `tf.keras.optimizers.Adam` runs slowly on M1/M2 Macs, please use the legacy Keras optimizer instead, located at `tf.keras.optimizers.legacy.Adam`.\n",
      "WARNING:absl:There is a known slowdown when using v2.11+ Keras optimizers on M1/M2 Macs. Falling back to the legacy Keras optimizer, i.e., `tf.keras.optimizers.legacy.Adam`.\n"
     ]
    },
    {
     "name": "stdout",
     "output_type": "stream",
     "text": [
      "Epoch 1/1000\n",
      "2116/2116 - 1s - loss: 0.3299 - accuracy: 0.8626 - val_loss: 0.3115 - val_accuracy: 0.8637 - 1s/epoch - 654us/step\n",
      "Epoch 2/1000\n",
      "2116/2116 - 1s - loss: 0.3110 - accuracy: 0.8660 - val_loss: 0.3141 - val_accuracy: 0.8637 - 1s/epoch - 637us/step\n",
      "Epoch 3/1000\n",
      "2116/2116 - 1s - loss: 0.3105 - accuracy: 0.8672 - val_loss: 0.3141 - val_accuracy: 0.8637 - 1s/epoch - 611us/step\n",
      "Epoch 4/1000\n",
      "2116/2116 - 1s - loss: 0.3115 - accuracy: 0.8670 - val_loss: 0.3115 - val_accuracy: 0.8637 - 1s/epoch - 563us/step\n",
      "Epoch 5/1000\n",
      "2116/2116 - 1s - loss: 0.3091 - accuracy: 0.8671 - val_loss: 0.3116 - val_accuracy: 0.8637 - 1s/epoch - 566us/step\n",
      "Epoch 6/1000\n",
      "2116/2116 - 1s - loss: 0.3082 - accuracy: 0.8672 - val_loss: 0.3130 - val_accuracy: 0.8637 - 1s/epoch - 563us/step\n",
      "Epoch 7/1000\n",
      "2116/2116 - 1s - loss: 0.3093 - accuracy: 0.8666 - val_loss: 0.3123 - val_accuracy: 0.8637 - 1s/epoch - 568us/step\n",
      "Epoch 8/1000\n",
      "2116/2116 - 1s - loss: 0.3076 - accuracy: 0.8673 - val_loss: 0.3150 - val_accuracy: 0.8637 - 1s/epoch - 566us/step\n",
      "Epoch 9/1000\n",
      "2116/2116 - 1s - loss: 0.3072 - accuracy: 0.8672 - val_loss: 0.3112 - val_accuracy: 0.8636 - 1s/epoch - 564us/step\n",
      "Epoch 10/1000\n",
      "2116/2116 - 1s - loss: 0.3070 - accuracy: 0.8673 - val_loss: 0.3096 - val_accuracy: 0.8636 - 1s/epoch - 565us/step\n",
      "Epoch 11/1000\n",
      "2116/2116 - 1s - loss: 0.3060 - accuracy: 0.8681 - val_loss: 0.3089 - val_accuracy: 0.8637 - 1s/epoch - 564us/step\n",
      "Epoch 12/1000\n",
      "2116/2116 - 1s - loss: 0.2954 - accuracy: 0.8827 - val_loss: 0.2848 - val_accuracy: 0.9153 - 1s/epoch - 568us/step\n",
      "Epoch 13/1000\n",
      "2116/2116 - 1s - loss: 0.2873 - accuracy: 0.8857 - val_loss: 0.3046 - val_accuracy: 0.8636 - 1s/epoch - 556us/step\n",
      "Epoch 14/1000\n",
      "2116/2116 - 1s - loss: 0.2817 - accuracy: 0.8891 - val_loss: 0.3118 - val_accuracy: 0.8637 - 1s/epoch - 556us/step\n",
      "Epoch 15/1000\n",
      "2116/2116 - 1s - loss: 0.2746 - accuracy: 0.8934 - val_loss: 0.3157 - val_accuracy: 0.8545 - 1s/epoch - 566us/step\n",
      "Epoch 16/1000\n",
      "2116/2116 - 1s - loss: 0.2710 - accuracy: 0.8962 - val_loss: 0.2592 - val_accuracy: 0.9078 - 1s/epoch - 565us/step\n",
      "Epoch 17/1000\n",
      "2116/2116 - 1s - loss: 0.2725 - accuracy: 0.8960 - val_loss: 0.2685 - val_accuracy: 0.9036 - 1s/epoch - 568us/step\n",
      "Epoch 18/1000\n",
      "2116/2116 - 1s - loss: 0.2678 - accuracy: 0.8980 - val_loss: 0.2814 - val_accuracy: 0.8972 - 1s/epoch - 565us/step\n",
      "Epoch 19/1000\n",
      "2116/2116 - 1s - loss: 0.2698 - accuracy: 0.8965 - val_loss: 0.2554 - val_accuracy: 0.9066 - 1s/epoch - 559us/step\n",
      "Epoch 20/1000\n",
      "2116/2116 - 1s - loss: 0.2604 - accuracy: 0.9034 - val_loss: 0.2769 - val_accuracy: 0.8942 - 1s/epoch - 558us/step\n",
      "Epoch 21/1000\n",
      "2116/2116 - 1s - loss: 0.2526 - accuracy: 0.9083 - val_loss: 0.2306 - val_accuracy: 0.9235 - 1s/epoch - 556us/step\n",
      "Epoch 22/1000\n",
      "2116/2116 - 1s - loss: 0.2617 - accuracy: 0.9015 - val_loss: 0.2900 - val_accuracy: 0.8827 - 1s/epoch - 556us/step\n",
      "Epoch 23/1000\n",
      "2116/2116 - 1s - loss: 0.2666 - accuracy: 0.8996 - val_loss: 0.2521 - val_accuracy: 0.9198 - 1s/epoch - 560us/step\n",
      "Epoch 24/1000\n",
      "2116/2116 - 1s - loss: 0.2600 - accuracy: 0.9022 - val_loss: 0.2328 - val_accuracy: 0.9261 - 1s/epoch - 566us/step\n",
      "Epoch 25/1000\n",
      "2116/2116 - 1s - loss: 0.2596 - accuracy: 0.9039 - val_loss: 0.2907 - val_accuracy: 0.8803 - 1s/epoch - 562us/step\n",
      "Epoch 26/1000\n",
      "2116/2116 - 1s - loss: 0.2436 - accuracy: 0.9142 - val_loss: 0.2276 - val_accuracy: 0.9251 - 1s/epoch - 565us/step\n",
      "Epoch 27/1000\n",
      "2116/2116 - 1s - loss: 0.2522 - accuracy: 0.9089 - val_loss: 0.4017 - val_accuracy: 0.7154 - 1s/epoch - 564us/step\n",
      "Epoch 28/1000\n",
      "2116/2116 - 1s - loss: 0.2532 - accuracy: 0.9074 - val_loss: 0.2389 - val_accuracy: 0.9291 - 1s/epoch - 559us/step\n",
      "Epoch 29/1000\n",
      "2116/2116 - 1s - loss: 0.2493 - accuracy: 0.9110 - val_loss: 0.2424 - val_accuracy: 0.9150 - 1s/epoch - 559us/step\n",
      "Epoch 30/1000\n",
      "2116/2116 - 1s - loss: 0.2410 - accuracy: 0.9151 - val_loss: 0.2254 - val_accuracy: 0.9300 - 1s/epoch - 560us/step\n",
      "Epoch 31/1000\n",
      "2116/2116 - 1s - loss: 0.2305 - accuracy: 0.9207 - val_loss: 0.2441 - val_accuracy: 0.9144 - 1s/epoch - 589us/step\n",
      "Epoch 32/1000\n",
      "2116/2116 - 1s - loss: 0.2373 - accuracy: 0.9163 - val_loss: 0.2147 - val_accuracy: 0.9319 - 1s/epoch - 569us/step\n",
      "Epoch 33/1000\n",
      "2116/2116 - 1s - loss: 0.2409 - accuracy: 0.9153 - val_loss: 0.2170 - val_accuracy: 0.9334 - 1s/epoch - 568us/step\n",
      "Epoch 34/1000\n",
      "2116/2116 - 1s - loss: 0.2301 - accuracy: 0.9218 - val_loss: 0.2278 - val_accuracy: 0.9283 - 1s/epoch - 568us/step\n",
      "Epoch 35/1000\n",
      "2116/2116 - 1s - loss: 0.2296 - accuracy: 0.9207 - val_loss: 0.2569 - val_accuracy: 0.9091 - 1s/epoch - 568us/step\n",
      "Epoch 36/1000\n",
      "2116/2116 - 1s - loss: 0.2597 - accuracy: 0.9183 - val_loss: 0.2315 - val_accuracy: 0.9326 - 1s/epoch - 559us/step\n",
      "Epoch 37/1000\n",
      "2116/2116 - 1s - loss: 0.2348 - accuracy: 0.9239 - val_loss: 0.2198 - val_accuracy: 0.9297 - 1s/epoch - 559us/step\n",
      "Epoch 38/1000\n",
      "2116/2116 - 1s - loss: 0.2215 - accuracy: 0.9266 - val_loss: 0.2019 - val_accuracy: 0.9371 - 1s/epoch - 558us/step\n",
      "Epoch 39/1000\n",
      "2116/2116 - 1s - loss: 0.2250 - accuracy: 0.9257 - val_loss: 0.1996 - val_accuracy: 0.9381 - 1s/epoch - 558us/step\n",
      "Epoch 40/1000\n",
      "2116/2116 - 1s - loss: 0.2225 - accuracy: 0.9281 - val_loss: 0.2085 - val_accuracy: 0.9351 - 1s/epoch - 564us/step\n",
      "Epoch 41/1000\n",
      "2116/2116 - 1s - loss: 0.2265 - accuracy: 0.9245 - val_loss: 0.1983 - val_accuracy: 0.9389 - 1s/epoch - 568us/step\n",
      "Epoch 42/1000\n",
      "2116/2116 - 1s - loss: 0.2222 - accuracy: 0.9279 - val_loss: 0.2295 - val_accuracy: 0.9226 - 1s/epoch - 565us/step\n",
      "Epoch 43/1000\n",
      "2116/2116 - 1s - loss: 0.2216 - accuracy: 0.9279 - val_loss: 0.2090 - val_accuracy: 0.9343 - 1s/epoch - 567us/step\n",
      "Epoch 44/1000\n",
      "2116/2116 - 1s - loss: 0.2146 - accuracy: 0.9308 - val_loss: 0.2101 - val_accuracy: 0.9393 - 1s/epoch - 565us/step\n",
      "Epoch 45/1000\n",
      "2116/2116 - 1s - loss: 0.2186 - accuracy: 0.9273 - val_loss: 0.2098 - val_accuracy: 0.9325 - 1s/epoch - 559us/step\n",
      "Epoch 46/1000\n",
      "2116/2116 - 1s - loss: 0.2171 - accuracy: 0.9311 - val_loss: 0.1969 - val_accuracy: 0.9395 - 1s/epoch - 557us/step\n",
      "Epoch 47/1000\n",
      "2116/2116 - 1s - loss: 0.2198 - accuracy: 0.9287 - val_loss: 0.2015 - val_accuracy: 0.9418 - 1s/epoch - 556us/step\n",
      "Epoch 48/1000\n",
      "2116/2116 - 1s - loss: 0.2158 - accuracy: 0.9317 - val_loss: 0.2659 - val_accuracy: 0.8787 - 1s/epoch - 568us/step\n",
      "Epoch 49/1000\n",
      "2116/2116 - 1s - loss: 0.2153 - accuracy: 0.9304 - val_loss: 0.2131 - val_accuracy: 0.9370 - 1s/epoch - 566us/step\n",
      "Epoch 50/1000\n",
      "2116/2116 - 1s - loss: 0.2116 - accuracy: 0.9328 - val_loss: 0.2050 - val_accuracy: 0.9422 - 1s/epoch - 563us/step\n",
      "Epoch 51/1000\n",
      "2116/2116 - 1s - loss: 0.2144 - accuracy: 0.9311 - val_loss: 0.2120 - val_accuracy: 0.9381 - 1s/epoch - 562us/step\n",
      "Epoch 52/1000\n",
      "2116/2116 - 1s - loss: 0.2177 - accuracy: 0.9304 - val_loss: 0.2678 - val_accuracy: 0.9180 - 1s/epoch - 565us/step\n",
      "Epoch 53/1000\n",
      "2116/2116 - 1s - loss: 0.2139 - accuracy: 0.9338 - val_loss: 0.2070 - val_accuracy: 0.9431 - 1s/epoch - 560us/step\n",
      "Epoch 54/1000\n",
      "2116/2116 - 1s - loss: 0.2117 - accuracy: 0.9342 - val_loss: 0.2113 - val_accuracy: 0.9428 - 1s/epoch - 556us/step\n",
      "Epoch 55/1000\n",
      "2116/2116 - 1s - loss: 0.2118 - accuracy: 0.9334 - val_loss: 0.2248 - val_accuracy: 0.9438 - 1s/epoch - 557us/step\n",
      "Epoch 56/1000\n",
      "2116/2116 - 1s - loss: 0.2202 - accuracy: 0.9330 - val_loss: 0.2548 - val_accuracy: 0.9145 - 1s/epoch - 557us/step\n",
      "Epoch 57/1000\n",
      "2116/2116 - 1s - loss: 0.2180 - accuracy: 0.9331 - val_loss: 0.2081 - val_accuracy: 0.9405 - 1s/epoch - 562us/step\n",
      "Epoch 58/1000\n",
      "2116/2116 - 1s - loss: 0.2098 - accuracy: 0.9341 - val_loss: 0.2035 - val_accuracy: 0.9401 - 1s/epoch - 565us/step\n",
      "Epoch 59/1000\n",
      "2116/2116 - 1s - loss: 0.2110 - accuracy: 0.9334 - val_loss: 0.2316 - val_accuracy: 0.9323 - 1s/epoch - 565us/step\n",
      "Epoch 60/1000\n",
      "2116/2116 - 1s - loss: 0.2075 - accuracy: 0.9355 - val_loss: 0.2134 - val_accuracy: 0.9397 - 1s/epoch - 623us/step\n",
      "Epoch 61/1000\n",
      "2116/2116 - 1s - loss: 0.2055 - accuracy: 0.9353 - val_loss: 0.2041 - val_accuracy: 0.9442 - 1s/epoch - 566us/step\n",
      "Epoch 62/1000\n",
      "2116/2116 - 1s - loss: 0.2076 - accuracy: 0.9351 - val_loss: 0.2428 - val_accuracy: 0.9269 - 1s/epoch - 558us/step\n",
      "Epoch 63/1000\n",
      "2116/2116 - 1s - loss: 0.2054 - accuracy: 0.9355 - val_loss: 0.2185 - val_accuracy: 0.9385 - 1s/epoch - 560us/step\n",
      "Epoch 64/1000\n",
      "2116/2116 - 1s - loss: 0.2046 - accuracy: 0.9368 - val_loss: 0.2040 - val_accuracy: 0.9449 - 1s/epoch - 574us/step\n"
     ]
    },
    {
     "name": "stdout",
     "output_type": "stream",
     "text": [
      "Epoch 65/1000\n",
      "2116/2116 - 1s - loss: 0.2189 - accuracy: 0.9319 - val_loss: 0.2073 - val_accuracy: 0.9439 - 1s/epoch - 563us/step\n",
      "Epoch 66/1000\n",
      "2116/2116 - 1s - loss: 0.2102 - accuracy: 0.9339 - val_loss: 0.1986 - val_accuracy: 0.9416 - 1s/epoch - 575us/step\n",
      "Epoch 67/1000\n",
      "2116/2116 - 1s - loss: 0.2014 - accuracy: 0.9378 - val_loss: 0.1964 - val_accuracy: 0.9409 - 1s/epoch - 573us/step\n",
      "Epoch 68/1000\n",
      "2116/2116 - 1s - loss: 0.2042 - accuracy: 0.9362 - val_loss: 0.1888 - val_accuracy: 0.9453 - 1s/epoch - 564us/step\n",
      "Epoch 69/1000\n",
      "2116/2116 - 1s - loss: 0.2055 - accuracy: 0.9358 - val_loss: 0.2223 - val_accuracy: 0.9346 - 1s/epoch - 568us/step\n",
      "Epoch 70/1000\n",
      "2116/2116 - 1s - loss: 0.2009 - accuracy: 0.9382 - val_loss: 0.1926 - val_accuracy: 0.9452 - 1s/epoch - 562us/step\n",
      "Epoch 71/1000\n",
      "2116/2116 - 1s - loss: 0.2010 - accuracy: 0.9378 - val_loss: 0.1963 - val_accuracy: 0.9434 - 1s/epoch - 560us/step\n",
      "Epoch 72/1000\n",
      "2116/2116 - 1s - loss: 0.2007 - accuracy: 0.9371 - val_loss: 0.2133 - val_accuracy: 0.9393 - 1s/epoch - 559us/step\n",
      "Epoch 73/1000\n",
      "2116/2116 - 1s - loss: 0.2031 - accuracy: 0.9371 - val_loss: 0.2009 - val_accuracy: 0.9408 - 1s/epoch - 561us/step\n",
      "Epoch 74/1000\n",
      "2116/2116 - 1s - loss: 0.1997 - accuracy: 0.9385 - val_loss: 0.2136 - val_accuracy: 0.9383 - 1s/epoch - 569us/step\n",
      "Epoch 75/1000\n",
      "2116/2116 - 1s - loss: 0.2030 - accuracy: 0.9371 - val_loss: 0.1991 - val_accuracy: 0.9441 - 1s/epoch - 569us/step\n",
      "Epoch 76/1000\n",
      "2116/2116 - 1s - loss: 0.2080 - accuracy: 0.9361 - val_loss: 0.1997 - val_accuracy: 0.9451 - 1s/epoch - 569us/step\n",
      "Epoch 77/1000\n",
      "2116/2116 - 1s - loss: 0.1983 - accuracy: 0.9385 - val_loss: 0.2050 - val_accuracy: 0.9392 - 1s/epoch - 566us/step\n",
      "Epoch 78/1000\n",
      "2116/2116 - 1s - loss: 0.2024 - accuracy: 0.9369 - val_loss: 0.2212 - val_accuracy: 0.9350 - 1s/epoch - 566us/step\n",
      "Epoch 79/1000\n",
      "2116/2116 - 1s - loss: 0.1950 - accuracy: 0.9401 - val_loss: 0.2544 - val_accuracy: 0.9192 - 1s/epoch - 558us/step\n",
      "Epoch 80/1000\n",
      "2116/2116 - 1s - loss: 0.1993 - accuracy: 0.9372 - val_loss: 0.1957 - val_accuracy: 0.9440 - 1s/epoch - 561us/step\n",
      "Epoch 81/1000\n",
      "2116/2116 - 1s - loss: 0.1982 - accuracy: 0.9382 - val_loss: 0.2482 - val_accuracy: 0.9082 - 1s/epoch - 558us/step\n",
      "Epoch 82/1000\n",
      "2116/2116 - 1s - loss: 0.1967 - accuracy: 0.9386 - val_loss: 0.2303 - val_accuracy: 0.9303 - 1s/epoch - 565us/step\n",
      "Epoch 83/1000\n",
      "2116/2116 - 1s - loss: 0.1979 - accuracy: 0.9387 - val_loss: 0.1899 - val_accuracy: 0.9471 - 1s/epoch - 571us/step\n",
      "Epoch 84/1000\n",
      "2116/2116 - 1s - loss: 0.1948 - accuracy: 0.9399 - val_loss: 0.2067 - val_accuracy: 0.9422 - 1s/epoch - 565us/step\n",
      "Epoch 85/1000\n",
      "2116/2116 - 1s - loss: 0.1961 - accuracy: 0.9394 - val_loss: 0.2058 - val_accuracy: 0.9421 - 1s/epoch - 565us/step\n",
      "Epoch 86/1000\n",
      "2116/2116 - 1s - loss: 0.1963 - accuracy: 0.9392 - val_loss: 0.1947 - val_accuracy: 0.9457 - 1s/epoch - 577us/step\n",
      "Epoch 87/1000\n",
      "2116/2116 - 1s - loss: 0.1987 - accuracy: 0.9383 - val_loss: 0.1978 - val_accuracy: 0.9440 - 1s/epoch - 558us/step\n",
      "Epoch 88/1000\n",
      "2116/2116 - 1s - loss: 0.2046 - accuracy: 0.9395 - val_loss: 0.2076 - val_accuracy: 0.9416 - 1s/epoch - 559us/step\n",
      "Epoch 89/1000\n",
      "2116/2116 - 1s - loss: 0.1927 - accuracy: 0.9407 - val_loss: 0.1837 - val_accuracy: 0.9472 - 1s/epoch - 562us/step\n",
      "Epoch 90/1000\n",
      "2116/2116 - 1s - loss: 0.1936 - accuracy: 0.9408 - val_loss: 0.2254 - val_accuracy: 0.9292 - 1s/epoch - 557us/step\n",
      "Epoch 91/1000\n",
      "2116/2116 - 1s - loss: 0.1939 - accuracy: 0.9407 - val_loss: 0.1882 - val_accuracy: 0.9467 - 1s/epoch - 568us/step\n",
      "Epoch 92/1000\n",
      "2116/2116 - 1s - loss: 0.1954 - accuracy: 0.9403 - val_loss: 0.2455 - val_accuracy: 0.9268 - 1s/epoch - 568us/step\n",
      "Epoch 93/1000\n",
      "2116/2116 - 1s - loss: 0.1936 - accuracy: 0.9405 - val_loss: 0.1869 - val_accuracy: 0.9459 - 1s/epoch - 565us/step\n",
      "Epoch 94/1000\n",
      "2116/2116 - 1s - loss: 0.1943 - accuracy: 0.9406 - val_loss: 0.1820 - val_accuracy: 0.9483 - 1s/epoch - 566us/step\n",
      "Epoch 95/1000\n",
      "2116/2116 - 1s - loss: 0.1946 - accuracy: 0.9402 - val_loss: 0.1833 - val_accuracy: 0.9486 - 1s/epoch - 562us/step\n",
      "Epoch 96/1000\n",
      "2116/2116 - 1s - loss: 0.1935 - accuracy: 0.9398 - val_loss: 0.2133 - val_accuracy: 0.9369 - 1s/epoch - 560us/step\n",
      "Epoch 97/1000\n",
      "2116/2116 - 1s - loss: 0.1928 - accuracy: 0.9405 - val_loss: 0.2009 - val_accuracy: 0.9411 - 1s/epoch - 561us/step\n",
      "Epoch 98/1000\n",
      "2116/2116 - 1s - loss: 0.1951 - accuracy: 0.9410 - val_loss: 0.1998 - val_accuracy: 0.9478 - 1s/epoch - 574us/step\n",
      "Epoch 99/1000\n",
      "2116/2116 - 1s - loss: 0.1923 - accuracy: 0.9411 - val_loss: 0.2253 - val_accuracy: 0.9397 - 1s/epoch - 562us/step\n",
      "Epoch 100/1000\n",
      "2116/2116 - 1s - loss: 0.1920 - accuracy: 0.9410 - val_loss: 0.2413 - val_accuracy: 0.9291 - 1s/epoch - 568us/step\n",
      "Epoch 101/1000\n",
      "2116/2116 - 1s - loss: 0.1920 - accuracy: 0.9408 - val_loss: 0.2041 - val_accuracy: 0.9462 - 1s/epoch - 570us/step\n",
      "Epoch 102/1000\n",
      "2116/2116 - 1s - loss: 0.1952 - accuracy: 0.9395 - val_loss: 0.2200 - val_accuracy: 0.9439 - 1s/epoch - 567us/step\n",
      "Epoch 103/1000\n",
      "2116/2116 - 1s - loss: 0.1926 - accuracy: 0.9411 - val_loss: 0.2158 - val_accuracy: 0.9412 - 1s/epoch - 576us/step\n",
      "Epoch 104/1000\n",
      "2116/2116 - 1s - loss: 0.1917 - accuracy: 0.9406 - val_loss: 0.2261 - val_accuracy: 0.9402 - 1s/epoch - 560us/step\n",
      "Epoch 105/1000\n",
      "2116/2116 - 1s - loss: 0.1943 - accuracy: 0.9407 - val_loss: 0.2289 - val_accuracy: 0.9407 - 1s/epoch - 559us/step\n",
      "Epoch 106/1000\n",
      "2116/2116 - 1s - loss: 0.1903 - accuracy: 0.9413 - val_loss: 0.2035 - val_accuracy: 0.9471 - 1s/epoch - 559us/step\n",
      "Epoch 107/1000\n",
      "2116/2116 - 1s - loss: 0.1928 - accuracy: 0.9411 - val_loss: 0.2079 - val_accuracy: 0.9462 - 1s/epoch - 559us/step\n",
      "Epoch 108/1000\n",
      "2116/2116 - 1s - loss: 0.1889 - accuracy: 0.9423 - val_loss: 0.2086 - val_accuracy: 0.9494 - 1s/epoch - 651us/step\n",
      "Epoch 109/1000\n",
      "2116/2116 - 1s - loss: 0.1889 - accuracy: 0.9421 - val_loss: 0.2094 - val_accuracy: 0.9493 - 1s/epoch - 635us/step\n",
      "Epoch 110/1000\n",
      "2116/2116 - 1s - loss: 0.1897 - accuracy: 0.9423 - val_loss: 0.2862 - val_accuracy: 0.9132 - 1s/epoch - 636us/step\n",
      "Epoch 111/1000\n",
      "2116/2116 - 1s - loss: 0.1886 - accuracy: 0.9426 - val_loss: 0.2088 - val_accuracy: 0.9477 - 1s/epoch - 626us/step\n",
      "Epoch 112/1000\n",
      "2116/2116 - 1s - loss: 0.1876 - accuracy: 0.9429 - val_loss: 0.2051 - val_accuracy: 0.9454 - 1s/epoch - 615us/step\n",
      "Epoch 113/1000\n",
      "2116/2116 - 1s - loss: 0.1865 - accuracy: 0.9436 - val_loss: 0.2026 - val_accuracy: 0.9494 - 1s/epoch - 564us/step\n",
      "Epoch 114/1000\n",
      "2116/2116 - 1s - loss: 0.1878 - accuracy: 0.9430 - val_loss: 0.2186 - val_accuracy: 0.9425 - 1s/epoch - 591us/step\n",
      "Epoch 115/1000\n",
      "2116/2116 - 1s - loss: 0.1877 - accuracy: 0.9433 - val_loss: 0.2034 - val_accuracy: 0.9498 - 1s/epoch - 604us/step\n",
      "Epoch 116/1000\n",
      "2116/2116 - 1s - loss: 0.1892 - accuracy: 0.9420 - val_loss: 0.2022 - val_accuracy: 0.9492 - 1s/epoch - 627us/step\n",
      "Epoch 117/1000\n",
      "2116/2116 - 1s - loss: 0.1882 - accuracy: 0.9431 - val_loss: 0.2036 - val_accuracy: 0.9482 - 1s/epoch - 610us/step\n",
      "Epoch 118/1000\n",
      "2116/2116 - 1s - loss: 0.1879 - accuracy: 0.9427 - val_loss: 0.2070 - val_accuracy: 0.9493 - 1s/epoch - 617us/step\n",
      "Epoch 119/1000\n",
      "2116/2116 - 1s - loss: 0.1902 - accuracy: 0.9428 - val_loss: 0.2079 - val_accuracy: 0.9483 - 1s/epoch - 570us/step\n",
      "Epoch 120/1000\n",
      "2116/2116 - 1s - loss: 0.1902 - accuracy: 0.9416 - val_loss: 0.2588 - val_accuracy: 0.9334 - 1s/epoch - 617us/step\n",
      "Epoch 121/1000\n",
      "2116/2116 - 1s - loss: 0.1943 - accuracy: 0.9422 - val_loss: 0.2207 - val_accuracy: 0.9493 - 1s/epoch - 573us/step\n",
      "Epoch 122/1000\n",
      "2116/2116 - 1s - loss: 0.1869 - accuracy: 0.9438 - val_loss: 0.2335 - val_accuracy: 0.9479 - 1s/epoch - 590us/step\n",
      "Epoch 123/1000\n",
      "2116/2116 - 1s - loss: 0.1856 - accuracy: 0.9441 - val_loss: 0.2828 - val_accuracy: 0.9280 - 1s/epoch - 595us/step\n",
      "Epoch 124/1000\n",
      "2116/2116 - 1s - loss: 0.1871 - accuracy: 0.9425 - val_loss: 0.2289 - val_accuracy: 0.9498 - 1s/epoch - 571us/step\n",
      "Epoch 125/1000\n",
      "2116/2116 - 1s - loss: 0.1866 - accuracy: 0.9432 - val_loss: 0.2252 - val_accuracy: 0.9496 - 1s/epoch - 577us/step\n",
      "Epoch 126/1000\n",
      "2116/2116 - 1s - loss: 0.1897 - accuracy: 0.9419 - val_loss: 0.2327 - val_accuracy: 0.9504 - 1s/epoch - 576us/step\n",
      "Epoch 127/1000\n",
      "2116/2116 - 1s - loss: 0.1885 - accuracy: 0.9426 - val_loss: 0.2240 - val_accuracy: 0.9502 - 1s/epoch - 573us/step\n",
      "Epoch 128/1000\n",
      "2116/2116 - 1s - loss: 0.1934 - accuracy: 0.9417 - val_loss: 0.2032 - val_accuracy: 0.9443 - 1s/epoch - 596us/step\n"
     ]
    },
    {
     "name": "stdout",
     "output_type": "stream",
     "text": [
      "Epoch 129/1000\n",
      "2116/2116 - 1s - loss: 0.1898 - accuracy: 0.9437 - val_loss: 0.1806 - val_accuracy: 0.9497 - 1s/epoch - 574us/step\n",
      "Epoch 130/1000\n",
      "2116/2116 - 1s - loss: 0.1871 - accuracy: 0.9434 - val_loss: 0.1894 - val_accuracy: 0.9475 - 1s/epoch - 566us/step\n",
      "Epoch 131/1000\n",
      "2116/2116 - 1s - loss: 0.1863 - accuracy: 0.9432 - val_loss: 0.1938 - val_accuracy: 0.9491 - 1s/epoch - 573us/step\n",
      "Epoch 132/1000\n",
      "2116/2116 - 1s - loss: 0.1888 - accuracy: 0.9421 - val_loss: 0.2276 - val_accuracy: 0.9346 - 1s/epoch - 570us/step\n",
      "Epoch 133/1000\n",
      "2116/2116 - 1s - loss: 0.1861 - accuracy: 0.9434 - val_loss: 0.2464 - val_accuracy: 0.9242 - 1s/epoch - 573us/step\n",
      "Epoch 134/1000\n",
      "2116/2116 - 1s - loss: 0.1827 - accuracy: 0.9450 - val_loss: 0.1863 - val_accuracy: 0.9502 - 1s/epoch - 570us/step\n",
      "Epoch 135/1000\n",
      "2116/2116 - 1s - loss: 0.1884 - accuracy: 0.9428 - val_loss: 0.1924 - val_accuracy: 0.9492 - 1s/epoch - 578us/step\n",
      "Epoch 136/1000\n",
      "2116/2116 - 1s - loss: 0.1855 - accuracy: 0.9438 - val_loss: 0.1909 - val_accuracy: 0.9502 - 1s/epoch - 567us/step\n",
      "Epoch 137/1000\n",
      "2116/2116 - 1s - loss: 0.1853 - accuracy: 0.9437 - val_loss: 0.1874 - val_accuracy: 0.9505 - 1s/epoch - 575us/step\n",
      "Epoch 138/1000\n",
      "2116/2116 - 1s - loss: 0.1889 - accuracy: 0.9422 - val_loss: 0.1906 - val_accuracy: 0.9504 - 1s/epoch - 560us/step\n",
      "Epoch 139/1000\n",
      "2116/2116 - 1s - loss: 0.1833 - accuracy: 0.9445 - val_loss: 0.1929 - val_accuracy: 0.9489 - 1s/epoch - 559us/step\n",
      "Epoch 140/1000\n",
      "2116/2116 - 1s - loss: 0.1856 - accuracy: 0.9437 - val_loss: 0.1912 - val_accuracy: 0.9503 - 1s/epoch - 566us/step\n",
      "Epoch 141/1000\n",
      "2116/2116 - 1s - loss: 0.1872 - accuracy: 0.9431 - val_loss: 0.1892 - val_accuracy: 0.9505 - 1s/epoch - 570us/step\n",
      "Epoch 142/1000\n",
      "2116/2116 - 1s - loss: 0.1838 - accuracy: 0.9441 - val_loss: 0.1890 - val_accuracy: 0.9511 - 1s/epoch - 572us/step\n",
      "Epoch 143/1000\n",
      "2116/2116 - 1s - loss: 0.1832 - accuracy: 0.9447 - val_loss: 0.1907 - val_accuracy: 0.9498 - 1s/epoch - 572us/step\n",
      "Epoch 144/1000\n",
      "2116/2116 - 1s - loss: 0.1840 - accuracy: 0.9443 - val_loss: 0.2254 - val_accuracy: 0.9393 - 1s/epoch - 566us/step\n",
      "Epoch 145/1000\n",
      "2116/2116 - 1s - loss: 0.1845 - accuracy: 0.9439 - val_loss: 0.2349 - val_accuracy: 0.9359 - 1s/epoch - 559us/step\n",
      "Epoch 146/1000\n",
      "2116/2116 - 1s - loss: 0.1847 - accuracy: 0.9437 - val_loss: 0.1878 - val_accuracy: 0.9508 - 1s/epoch - 559us/step\n",
      "Epoch 147/1000\n",
      "2116/2116 - 1s - loss: 0.1821 - accuracy: 0.9453 - val_loss: 0.1874 - val_accuracy: 0.9506 - 1s/epoch - 559us/step\n",
      "Epoch 148/1000\n",
      "2116/2116 - 1s - loss: 0.1868 - accuracy: 0.9438 - val_loss: 0.1866 - val_accuracy: 0.9512 - 1s/epoch - 560us/step\n",
      "Epoch 149/1000\n",
      "2116/2116 - 1s - loss: 0.1844 - accuracy: 0.9441 - val_loss: 0.1980 - val_accuracy: 0.9478 - 1s/epoch - 566us/step\n",
      "Epoch 150/1000\n",
      "2116/2116 - 1s - loss: 0.1800 - accuracy: 0.9459 - val_loss: 0.2625 - val_accuracy: 0.9210 - 1s/epoch - 566us/step\n",
      "Epoch 151/1000\n",
      "2116/2116 - 1s - loss: 0.1814 - accuracy: 0.9454 - val_loss: 0.1977 - val_accuracy: 0.9471 - 1s/epoch - 569us/step\n",
      "Epoch 152/1000\n",
      "2116/2116 - 1s - loss: 0.1820 - accuracy: 0.9449 - val_loss: 0.1903 - val_accuracy: 0.9510 - 1s/epoch - 573us/step\n",
      "Epoch 153/1000\n",
      "2116/2116 - 1s - loss: 0.1826 - accuracy: 0.9452 - val_loss: 0.1962 - val_accuracy: 0.9486 - 1s/epoch - 572us/step\n",
      "Epoch 154/1000\n",
      "2116/2116 - 1s - loss: 0.1813 - accuracy: 0.9453 - val_loss: 0.1887 - val_accuracy: 0.9511 - 1s/epoch - 566us/step\n",
      "Epoch 155/1000\n",
      "2116/2116 - 1s - loss: 0.1833 - accuracy: 0.9453 - val_loss: 0.1964 - val_accuracy: 0.9490 - 1s/epoch - 564us/step\n",
      "Epoch 156/1000\n",
      "2116/2116 - 1s - loss: 0.1798 - accuracy: 0.9460 - val_loss: 0.1877 - val_accuracy: 0.9516 - 1s/epoch - 571us/step\n",
      "Epoch 157/1000\n",
      "2116/2116 - 1s - loss: 0.1835 - accuracy: 0.9443 - val_loss: 0.2168 - val_accuracy: 0.9374 - 1s/epoch - 569us/step\n",
      "Epoch 158/1000\n",
      "2116/2116 - 1s - loss: 0.1856 - accuracy: 0.9436 - val_loss: 0.1899 - val_accuracy: 0.9514 - 1s/epoch - 568us/step\n",
      "Epoch 159/1000\n",
      "2116/2116 - 1s - loss: 0.1844 - accuracy: 0.9445 - val_loss: 0.2049 - val_accuracy: 0.9428 - 1s/epoch - 566us/step\n",
      "Epoch 160/1000\n",
      "2116/2116 - 1s - loss: 0.1822 - accuracy: 0.9453 - val_loss: 0.1927 - val_accuracy: 0.9483 - 1s/epoch - 581us/step\n",
      "Epoch 161/1000\n",
      "2116/2116 - 1s - loss: 0.1810 - accuracy: 0.9460 - val_loss: 0.1916 - val_accuracy: 0.9506 - 1s/epoch - 631us/step\n",
      "Epoch 162/1000\n",
      "2116/2116 - 1s - loss: 0.1820 - accuracy: 0.9453 - val_loss: 0.1882 - val_accuracy: 0.9518 - 1s/epoch - 572us/step\n",
      "Epoch 163/1000\n",
      "2116/2116 - 1s - loss: 0.1797 - accuracy: 0.9464 - val_loss: 0.1903 - val_accuracy: 0.9494 - 1s/epoch - 579us/step\n",
      "Epoch 164/1000\n",
      "2116/2116 - 1s - loss: 0.1801 - accuracy: 0.9458 - val_loss: 0.2445 - val_accuracy: 0.9310 - 1s/epoch - 592us/step\n",
      "Epoch 165/1000\n",
      "2116/2116 - 1s - loss: 0.1873 - accuracy: 0.9436 - val_loss: 0.2077 - val_accuracy: 0.9447 - 1s/epoch - 570us/step\n",
      "Epoch 166/1000\n",
      "2116/2116 - 1s - loss: 0.1800 - accuracy: 0.9455 - val_loss: 0.2533 - val_accuracy: 0.9089 - 1s/epoch - 580us/step\n",
      "Epoch 167/1000\n",
      "2116/2116 - 1s - loss: 0.1825 - accuracy: 0.9448 - val_loss: 0.2071 - val_accuracy: 0.9435 - 1s/epoch - 602us/step\n",
      "Epoch 168/1000\n",
      "2116/2116 - 1s - loss: 0.1797 - accuracy: 0.9461 - val_loss: 0.2938 - val_accuracy: 0.9036 - 1s/epoch - 585us/step\n",
      "Epoch 169/1000\n",
      "2116/2116 - 1s - loss: 0.1819 - accuracy: 0.9450 - val_loss: 0.1973 - val_accuracy: 0.9519 - 1s/epoch - 575us/step\n",
      "Epoch 170/1000\n",
      "2116/2116 - 1s - loss: 0.1799 - accuracy: 0.9463 - val_loss: 0.1884 - val_accuracy: 0.9504 - 1s/epoch - 563us/step\n",
      "Epoch 171/1000\n",
      "2116/2116 - 1s - loss: 0.1792 - accuracy: 0.9464 - val_loss: 0.1996 - val_accuracy: 0.9462 - 1s/epoch - 607us/step\n",
      "Epoch 172/1000\n",
      "2116/2116 - 1s - loss: 0.1809 - accuracy: 0.9456 - val_loss: 0.1895 - val_accuracy: 0.9505 - 1s/epoch - 563us/step\n",
      "Epoch 173/1000\n",
      "2116/2116 - 1s - loss: 0.1806 - accuracy: 0.9456 - val_loss: 0.1953 - val_accuracy: 0.9476 - 1s/epoch - 570us/step\n",
      "Epoch 174/1000\n",
      "2116/2116 - 1s - loss: 0.1828 - accuracy: 0.9452 - val_loss: 0.1948 - val_accuracy: 0.9475 - 1s/epoch - 577us/step\n",
      "Epoch 175/1000\n",
      "2116/2116 - 1s - loss: 0.1834 - accuracy: 0.9447 - val_loss: 0.1918 - val_accuracy: 0.9520 - 1s/epoch - 584us/step\n",
      "Epoch 176/1000\n",
      "2116/2116 - 1s - loss: 0.1818 - accuracy: 0.9451 - val_loss: 0.2099 - val_accuracy: 0.9430 - 1s/epoch - 567us/step\n",
      "Epoch 177/1000\n",
      "2116/2116 - 1s - loss: 0.1784 - accuracy: 0.9472 - val_loss: 0.1859 - val_accuracy: 0.9522 - 1s/epoch - 565us/step\n",
      "Epoch 178/1000\n",
      "2116/2116 - 1s - loss: 0.1777 - accuracy: 0.9471 - val_loss: 0.1908 - val_accuracy: 0.9518 - 1s/epoch - 635us/step\n",
      "Epoch 179/1000\n",
      "2116/2116 - 1s - loss: 0.1791 - accuracy: 0.9463 - val_loss: 0.1860 - val_accuracy: 0.9516 - 1s/epoch - 637us/step\n",
      "Epoch 180/1000\n",
      "2116/2116 - 1s - loss: 0.1816 - accuracy: 0.9458 - val_loss: 0.2231 - val_accuracy: 0.9386 - 1s/epoch - 638us/step\n",
      "Epoch 181/1000\n",
      "2116/2116 - 1s - loss: 0.1814 - accuracy: 0.9459 - val_loss: 0.2079 - val_accuracy: 0.9428 - 1s/epoch - 643us/step\n",
      "Epoch 182/1000\n",
      "2116/2116 - 1s - loss: 0.1779 - accuracy: 0.9469 - val_loss: 0.1877 - val_accuracy: 0.9508 - 1s/epoch - 595us/step\n",
      "Epoch 183/1000\n",
      "2116/2116 - 1s - loss: 0.1789 - accuracy: 0.9465 - val_loss: 0.1847 - val_accuracy: 0.9520 - 1s/epoch - 569us/step\n",
      "Epoch 184/1000\n",
      "2116/2116 - 1s - loss: 0.1780 - accuracy: 0.9468 - val_loss: 0.1849 - val_accuracy: 0.9523 - 1s/epoch - 559us/step\n",
      "Epoch 185/1000\n",
      "2116/2116 - 1s - loss: 0.1803 - accuracy: 0.9461 - val_loss: 0.2234 - val_accuracy: 0.9389 - 1s/epoch - 566us/step\n",
      "Epoch 186/1000\n",
      "2116/2116 - 1s - loss: 0.1771 - accuracy: 0.9478 - val_loss: 0.1849 - val_accuracy: 0.9521 - 1s/epoch - 563us/step\n",
      "Epoch 187/1000\n",
      "2116/2116 - 1s - loss: 0.1791 - accuracy: 0.9463 - val_loss: 0.1916 - val_accuracy: 0.9494 - 1s/epoch - 565us/step\n",
      "Epoch 188/1000\n",
      "2116/2116 - 1s - loss: 0.1794 - accuracy: 0.9463 - val_loss: 0.1918 - val_accuracy: 0.9496 - 1s/epoch - 584us/step\n",
      "Epoch 189/1000\n",
      "Restoring model weights from the end of the best epoch: 129.\n",
      "2116/2116 - 1s - loss: 0.1800 - accuracy: 0.9465 - val_loss: 0.1849 - val_accuracy: 0.9517 - 1s/epoch - 575us/step\n",
      "Epoch 189: early stopping\n"
     ]
    },
    {
     "data": {
      "text/plain": [
       "<keras.src.callbacks.History at 0x2ea9dd6a0>"
      ]
     },
     "execution_count": 34,
     "metadata": {},
     "output_type": "execute_result"
    }
   ],
   "source": [
    "# Classification neural network\n",
    "import numpy as np\n",
    "import tensorflow.keras\n",
    "from tensorflow.keras.models import Sequential\n",
    "from tensorflow.keras.layers import Dense, Activation\n",
    "from tensorflow.keras.callbacks import EarlyStopping\n",
    "from sklearn.model_selection import train_test_split\n",
    "\n",
    "# Split into train/test\n",
    "x_train, x_test, y_train, y_test = train_test_split(    \n",
    "    x, y, test_size=0.25, random_state=42)\n",
    "\n",
    "model = Sequential()\n",
    "model.add(Dense(100, input_dim=x.shape[1], activation='relu',\n",
    "                kernel_initializer='random_normal'))\n",
    "model.add(Dense(50,activation='relu',kernel_initializer='random_normal'))\n",
    "model.add(Dense(25,activation='relu',kernel_initializer='random_normal'))\n",
    "model.add(Dense(1,activation='sigmoid',kernel_initializer='random_normal'))\n",
    "model.compile(loss='binary_crossentropy', \n",
    "              optimizer=tensorflow.keras.optimizers.Adam(),\n",
    "              metrics =['accuracy'])\n",
    "monitor = EarlyStopping(monitor='val_loss', min_delta=1e-3, \n",
    "    patience=60, verbose=1, mode='auto', restore_best_weights=True)\n",
    "\n",
    "model.fit(x_train,y_train,validation_data=(x_test,y_test),\n",
    "          callbacks=[monitor],verbose=2,epochs=1000)\n"
   ]
  },
  {
   "cell_type": "code",
   "execution_count": 35,
   "metadata": {
    "colab": {
     "base_uri": "https://localhost:8080/",
     "height": 295
    },
    "id": "_95P1kTBK1AQ",
    "outputId": "35b353e5-0eaf-412f-83a3-1970e8e07bb1",
    "scrolled": true
   },
   "outputs": [
    {
     "data": {
      "image/png": "[encoded data removed]",
      "text/plain": [
       "<Figure size 640x480 with 1 Axes>"
      ]
     },
     "metadata": {},
     "output_type": "display_data"
    }
   ],
   "source": [
    "pred = model(x_test)\n",
    "plot_roc(pred,y_test)"
   ]
  },
  {
   "cell_type": "code",
   "execution_count": 36,
   "metadata": {},
   "outputs": [
    {
     "name": "stdout",
     "output_type": "stream",
     "text": [
      "INFO:tensorflow:Assets written to: electronID_w_track_95/assets\n"
     ]
    },
    {
     "name": "stderr",
     "output_type": "stream",
     "text": [
      "INFO:tensorflow:Assets written to: electronID_w_track_95/assets\n"
     ]
    }
   ],
   "source": [
    "model.save(\"electronID_w_track_95\")"
   ]
  },
  {
   "cell_type": "code",
   "execution_count": null,
   "metadata": {},
   "outputs": [],
   "source": []
  },
  {
   "cell_type": "code",
   "execution_count": null,
   "metadata": {},
   "outputs": [],
   "source": []
  },
  {
   "cell_type": "code",
   "execution_count": null,
   "metadata": {},
   "outputs": [],
   "source": []
  },
  {
   "cell_type": "code",
   "execution_count": null,
   "metadata": {},
   "outputs": [],
   "source": []
  },
  {
   "cell_type": "markdown",
   "metadata": {
    "id": "yElFCdNQK1AR"
   },
   "source": [
    "### Multiclass Classification Error Metrics\n",
    "\n",
    "If you want to predict more than one outcome, you will need more than one output neuron. Because a single neuron can predict two results, a neural network with two output neurons is somewhat rare. If there are three or more outcomes, there will be three or more output neurons. The following sections will examine several metrics for evaluating classification error. We will assess the following classification neural network."
   ]
  },
  {
   "cell_type": "code",
   "execution_count": 8,
   "metadata": {
    "id": "wD57aaWKK1AR"
   },
   "outputs": [],
   "source": [
    "import pandas as pd\n",
    "from scipy.stats import zscore\n",
    "\n",
    "# Read the data set\n",
    "df = pd.read_csv(\n",
    "    \"https://data.heatonresearch.com/data/t81-558/jh-simple-dataset.csv\",\n",
    "    na_values=['NA','?'])\n",
    "\n",
    "# Generate dummies for job\n",
    "df = pd.concat([df,pd.get_dummies(df['job'],prefix=\"job\")],axis=1)\n",
    "df.drop('job', axis=1, inplace=True)\n",
    "\n",
    "# Generate dummies for area\n",
    "df = pd.concat([df,pd.get_dummies(df['area'],prefix=\"area\")],axis=1)\n",
    "df.drop('area', axis=1, inplace=True)\n",
    "\n",
    "# Missing values for income\n",
    "med = df['income'].median()\n",
    "df['income'] = df['income'].fillna(med)\n",
    "\n",
    "# Standardize ranges\n",
    "df['income'] = zscore(df['income'])\n",
    "df['aspect'] = zscore(df['aspect'])\n",
    "df['save_rate'] = zscore(df['save_rate'])\n",
    "df['age'] = zscore(df['age'])\n",
    "df['subscriptions'] = zscore(df['subscriptions'])\n",
    "\n",
    "# Convert to numpy - Classification\n",
    "x_columns = df.columns.drop('product').drop('id')\n",
    "x = df[x_columns].values\n",
    "dummies = pd.get_dummies(df['product']) # Classification\n",
    "products = dummies.columns\n",
    "y = dummies.values"
   ]
  },
  {
   "cell_type": "code",
   "execution_count": 9,
   "metadata": {
    "colab": {
     "base_uri": "https://localhost:8080/"
    },
    "id": "aggbZoEUK1AR",
    "outputId": "6893844e-1126-4e7d-b6cb-34b2ab04ab4f",
    "scrolled": true
   },
   "outputs": [
    {
     "ename": "IndexError",
     "evalue": "tuple index out of range",
     "output_type": "error",
     "traceback": [
      "\u001b[0;31m---------------------------------------------------------------------------\u001b[0m",
      "\u001b[0;31mIndexError\u001b[0m                                Traceback (most recent call last)",
      "Cell \u001b[0;32mIn[9], line 18\u001b[0m\n\u001b[1;32m     16\u001b[0m model\u001b[38;5;241m.\u001b[39madd(Dense(\u001b[38;5;241m50\u001b[39m,activation\u001b[38;5;241m=\u001b[39m\u001b[38;5;124m'\u001b[39m\u001b[38;5;124mrelu\u001b[39m\u001b[38;5;124m'\u001b[39m,kernel_initializer\u001b[38;5;241m=\u001b[39m\u001b[38;5;124m'\u001b[39m\u001b[38;5;124mrandom_normal\u001b[39m\u001b[38;5;124m'\u001b[39m))\n\u001b[1;32m     17\u001b[0m model\u001b[38;5;241m.\u001b[39madd(Dense(\u001b[38;5;241m25\u001b[39m,activation\u001b[38;5;241m=\u001b[39m\u001b[38;5;124m'\u001b[39m\u001b[38;5;124mrelu\u001b[39m\u001b[38;5;124m'\u001b[39m,kernel_initializer\u001b[38;5;241m=\u001b[39m\u001b[38;5;124m'\u001b[39m\u001b[38;5;124mrandom_normal\u001b[39m\u001b[38;5;124m'\u001b[39m))\n\u001b[0;32m---> 18\u001b[0m model\u001b[38;5;241m.\u001b[39madd(Dense(\u001b[43my\u001b[49m\u001b[38;5;241;43m.\u001b[39;49m\u001b[43mshape\u001b[49m\u001b[43m[\u001b[49m\u001b[38;5;241;43m1\u001b[39;49m\u001b[43m]\u001b[49m,activation\u001b[38;5;241m=\u001b[39m\u001b[38;5;124m'\u001b[39m\u001b[38;5;124msoftmax\u001b[39m\u001b[38;5;124m'\u001b[39m,\n\u001b[1;32m     19\u001b[0m                 kernel_initializer\u001b[38;5;241m=\u001b[39m\u001b[38;5;124m'\u001b[39m\u001b[38;5;124mrandom_normal\u001b[39m\u001b[38;5;124m'\u001b[39m))\n\u001b[1;32m     20\u001b[0m model\u001b[38;5;241m.\u001b[39mcompile(loss\u001b[38;5;241m=\u001b[39m\u001b[38;5;124m'\u001b[39m\u001b[38;5;124mcategorical_crossentropy\u001b[39m\u001b[38;5;124m'\u001b[39m, \n\u001b[1;32m     21\u001b[0m               optimizer\u001b[38;5;241m=\u001b[39mtensorflow\u001b[38;5;241m.\u001b[39mkeras\u001b[38;5;241m.\u001b[39moptimizers\u001b[38;5;241m.\u001b[39mAdam(),\n\u001b[1;32m     22\u001b[0m               metrics \u001b[38;5;241m=\u001b[39m[\u001b[38;5;124m'\u001b[39m\u001b[38;5;124maccuracy\u001b[39m\u001b[38;5;124m'\u001b[39m])\n\u001b[1;32m     23\u001b[0m monitor \u001b[38;5;241m=\u001b[39m EarlyStopping(monitor\u001b[38;5;241m=\u001b[39m\u001b[38;5;124m'\u001b[39m\u001b[38;5;124mval_loss\u001b[39m\u001b[38;5;124m'\u001b[39m, min_delta\u001b[38;5;241m=\u001b[39m\u001b[38;5;241m1e-3\u001b[39m, patience\u001b[38;5;241m=\u001b[39m\u001b[38;5;241m5\u001b[39m, \n\u001b[1;32m     24\u001b[0m                         verbose\u001b[38;5;241m=\u001b[39m\u001b[38;5;241m1\u001b[39m, mode\u001b[38;5;241m=\u001b[39m\u001b[38;5;124m'\u001b[39m\u001b[38;5;124mauto\u001b[39m\u001b[38;5;124m'\u001b[39m, restore_best_weights\u001b[38;5;241m=\u001b[39m\u001b[38;5;28;01mTrue\u001b[39;00m)\n",
      "\u001b[0;31mIndexError\u001b[0m: tuple index out of range"
     ]
    }
   ],
   "source": [
    "# Classification neural network\n",
    "import numpy as np\n",
    "import tensorflow.keras\n",
    "from tensorflow.keras.models import Sequential\n",
    "from tensorflow.keras.layers import Dense, Activation\n",
    "from tensorflow.keras.callbacks import EarlyStopping\n",
    "from sklearn.model_selection import train_test_split\n",
    "\n",
    "# Split into train/test\n",
    "x_train, x_test, y_train, y_test = train_test_split(    \n",
    "    x, y, test_size=0.25, random_state=42)\n",
    "\n",
    "model = Sequential()\n",
    "model.add(Dense(100, input_dim=x.shape[1], activation='relu',\n",
    "                kernel_initializer='random_normal'))\n",
    "model.add(Dense(50,activation='relu',kernel_initializer='random_normal'))\n",
    "model.add(Dense(25,activation='relu',kernel_initializer='random_normal'))\n",
    "model.add(Dense(y.shape[1],activation='softmax',\n",
    "                kernel_initializer='random_normal'))\n",
    "model.compile(loss='categorical_crossentropy', \n",
    "              optimizer=tensorflow.keras.optimizers.Adam(),\n",
    "              metrics =['accuracy'])\n",
    "monitor = EarlyStopping(monitor='val_loss', min_delta=1e-3, patience=5, \n",
    "                        verbose=1, mode='auto', restore_best_weights=True)\n",
    "model.fit(x_train,y_train,validation_data=(x_test,y_test),\n",
    "          callbacks=[monitor],verbose=2,epochs=1000)\n"
   ]
  },
  {
   "cell_type": "markdown",
   "metadata": {
    "id": "vr9U9rgvK1AR"
   },
   "source": [
    "### Calculate Classification Accuracy\n",
    " \n",
    "Accuracy is the number of rows where the neural network correctly predicted the target class.  Accuracy is only used for classification, not regression.\n",
    "\n",
    "$$ accuracy = \\frac{c}{N} $$\n",
    "\n",
    "Where $c$ is the number correct and $N$ is the size of the evaluated set (training or validation). Higher accuracy numbers are desired.\n",
    "\n",
    "As we just saw, by default, Keras will return the percent probability for each class. We can change these prediction probabilities into the actual iris predicted with **argmax**."
   ]
  },
  {
   "cell_type": "code",
   "execution_count": 10,
   "metadata": {
    "id": "ldTptygpK1AR"
   },
   "outputs": [],
   "source": [
    "pred = model.predict(x_test)\n",
    "pred = np.argmax(pred,axis=1) \n",
    "# raw probabilities to chosen class (highest probability)"
   ]
  },
  {
   "cell_type": "markdown",
   "metadata": {
    "id": "6_a5WcpJK1AS"
   },
   "source": [
    "Now that we have the actual iris flower predicted, we can calculate the percent accuracy (how many were correctly classified)."
   ]
  },
  {
   "cell_type": "code",
   "execution_count": 11,
   "metadata": {
    "colab": {
     "base_uri": "https://localhost:8080/"
    },
    "id": "l7ZN4mO5K1AS",
    "outputId": "8a2bf888-d1e2-4317-bc55-855b78b5db99"
   },
   "outputs": [
    {
     "name": "stdout",
     "output_type": "stream",
     "text": [
      "Accuracy score: 0.7\n"
     ]
    }
   ],
   "source": [
    "from sklearn import metrics\n",
    "\n",
    "y_compare = np.argmax(y_test,axis=1) \n",
    "score = metrics.accuracy_score(y_compare, pred)\n",
    "print(\"Accuracy score: {}\".format(score))"
   ]
  },
  {
   "cell_type": "markdown",
   "metadata": {
    "id": "1zlG17MKK1AS"
   },
   "source": [
    "### Calculate Classification Log Loss\n",
    "\n",
    "Accuracy is like a final exam with no partial credit.  However, neural networks can predict a probability of each of the target classes.  Neural networks will give high probabilities to predictions that are more likely.  Log loss is an error metric that penalizes confidence in wrong answers. Lower log loss values are desired.\n",
    "\n",
    "The following code shows the output of predict_proba:\n"
   ]
  },
  {
   "cell_type": "code",
   "execution_count": 12,
   "metadata": {
    "colab": {
     "base_uri": "https://localhost:8080/",
     "height": 195
    },
    "id": "ucCNS9XAK1AS",
    "outputId": "76375262-9554-4105-9d2c-3b088732e2df"
   },
   "outputs": [
    {
     "name": "stdout",
     "output_type": "stream",
     "text": [
      "Numpy array of predictions\n"
     ]
    },
    {
     "data": {
      "text/plain": [
       "array([[0.    , 0.1201, 0.7286, 0.1494, 0.0018, 0.    , 0.    ],\n",
       "       [0.    , 0.6962, 0.3016, 0.0001, 0.0022, 0.    , 0.    ],\n",
       "       [0.    , 0.7234, 0.2708, 0.0003, 0.0053, 0.0001, 0.    ],\n",
       "       [0.    , 0.3836, 0.6039, 0.0086, 0.0039, 0.    , 0.    ],\n",
       "       [0.    , 0.0609, 0.6303, 0.3079, 0.001 , 0.    , 0.    ]],\n",
       "      dtype=float32)"
      ]
     },
     "metadata": {},
     "output_type": "display_data"
    },
    {
     "name": "stdout",
     "output_type": "stream",
     "text": [
      "As percent probability\n",
      "[ 0.0001 12.0143 72.8578 14.9446  0.1823  0.0009  0.0001]\n",
      "Log loss score: 0.7423401429280638\n"
     ]
    }
   ],
   "source": [
    "from IPython.display import display\n",
    "\n",
    "# Don't display numpy in scientific notation\n",
    "np.set_printoptions(precision=4)\n",
    "np.set_printoptions(suppress=True)\n",
    "\n",
    "# Generate predictions\n",
    "pred = model.predict(x_test)\n",
    "\n",
    "print(\"Numpy array of predictions\")\n",
    "display(pred[0:5])\n",
    "\n",
    "print(\"As percent probability\")\n",
    "print(pred[0]*100)\n",
    "\n",
    "score = metrics.log_loss(y_test, pred)\n",
    "print(\"Log loss score: {}\".format(score))\n",
    "\n",
    "# raw probabilities to chosen class (highest probability)\n",
    "pred = np.argmax(pred,axis=1) "
   ]
  },
  {
   "cell_type": "markdown",
   "metadata": {
    "id": "iU3NLdorK1AS"
   },
   "source": [
    "[Log loss](https://www.kaggle.com/wiki/LogarithmicLoss) is calculated as follows:\n",
    "\n",
    "$$ \\mbox{log loss} = -\\frac{1}{N}\\sum_{i=1}^N {( {y}_i\\log(\\hat{y}_i) + (1 - {y}_i)\\log(1 - \\hat{y}_i))} $$\n",
    "\n",
    "\n",
    "You should use this equation only as an objective function for classifications that have two outcomes. The variable y-hat is the neural network’s prediction, and the variable y is the known correct answer.  In this case, y will always be 0 or 1.  The training data have no probabilities. The neural network classifies it either into one class (1) or the other (0).  \n",
    "\n",
    "The variable N represents the number of elements in the training set the number of questions in the test.  We divide by N because this process is customary for an average.  We also begin the equation with a negative because the log function is always negative over the domain 0 to 1.  This negation allows a positive score for the training to minimize.\n",
    "\n",
    "You will notice two terms are separated by the addition (+).  Each contains a log function.  Because y will be either 0 or 1, then one of these two terms will cancel out to 0.  If y is 0, then the first term will reduce to 0.  If y is 1, then the second term will be 0.  \n",
    "\n",
    "If your prediction for the first class of a two-class prediction is y-hat, then your prediction for the second class is 1 minus y-hat.  Essentially, if your prediction for class A is 70% (0.7), then your prediction for class B is 30% (0.3).  Your score will increase by the log of your prediction for the correct class.  If the neural network had predicted 1.0 for class A, and the correct answer was A, your score would increase by log (1), which is 0. For log loss, we seek a low score, so a correct answer results in 0.  Some of these log values for a neural network's probability estimate for the correct class:\n",
    "\n",
    "* -log(1.0) = 0\n",
    "* -log(0.95) = 0.02\n",
    "* -log(0.9) = 0.05\n",
    "* -log(0.8) = 0.1\n",
    "* -log(0.5) = 0.3\n",
    "* -log(0.1) = 1\n",
    "* -log(0.01) = 2\n",
    "* -log(1.0e-12) = 12\n",
    "* -log(0.0) = negative infinity\n",
    "\n",
    "As you can see, giving a low confidence to the correct answer affects the score the most.  Because log (0) is negative infinity, we typically impose a minimum value.  Of course, the above log values are for a single training set element.  We will average the log values for the entire training set.\n",
    "\n",
    "The log function is useful to penalizing wrong answers.  The following code demonstrates the utility of the log function:"
   ]
  },
  {
   "cell_type": "code",
   "execution_count": 13,
   "metadata": {
    "colab": {
     "base_uri": "https://localhost:8080/",
     "height": 360
    },
    "id": "g5Zv2tgNK1AT",
    "outputId": "f0861083-7809-406f-9970-4c83505ca14a"
   },
   "outputs": [
    {
     "name": "stderr",
     "output_type": "stream",
     "text": [
      "/usr/local/lib/python3.7/dist-packages/ipykernel_launcher.py:12: RuntimeWarning: divide by zero encountered in log\n",
      "  if sys.path[0] == '':\n"
     ]
    },
    {
     "data": {
      "image/png": "[encoded data removed]",
      "text/plain": [
       "<Figure size 864x720 with 1 Axes>"
      ]
     },
     "metadata": {
      "needs_background": "light"
     },
     "output_type": "display_data"
    }
   ],
   "source": [
    "%matplotlib inline\n",
    "from matplotlib.pyplot import figure, show\n",
    "from numpy import arange, sin, pi\n",
    "\n",
    "#t = arange(1e-5, 5.0, 0.00001)\n",
    "#t = arange(1.0, 5.0, 0.00001) # computer scientists\n",
    "t = arange(0.0, 1.0, 0.00001)  # data     scientists\n",
    "\n",
    "fig = figure(1,figsize=(12, 10))\n",
    "\n",
    "ax1 = fig.add_subplot(211)\n",
    "ax1.plot(t, np.log(t))\n",
    "ax1.grid(True)\n",
    "ax1.set_ylim((-8, 1.5))\n",
    "ax1.set_xlim((-0.1, 2))\n",
    "ax1.set_xlabel('x')\n",
    "ax1.set_ylabel('y')\n",
    "ax1.set_title('log(x)')\n",
    "\n",
    "show()"
   ]
  },
  {
   "cell_type": "markdown",
   "metadata": {
    "id": "ZaRtddpcK1AT"
   },
   "source": [
    "### Confusion Matrix\n",
    "\n",
    "A confusion matrix shows which predicted classes are often confused for the other classes. The vertical axis (y) represents the true labels and the horizontal axis (x) represents the predicted labels. When the true label and predicted label are the same, the highest values occur down the diagonal extending from the upper left to the lower right. The other values, outside the diagonal, represent incorrect predictions. For example, in the confusion matrix below, the value in row 2, column 1 shows how often the predicted value A occurred when it should have been B."
   ]
  },
  {
   "cell_type": "code",
   "execution_count": 14,
   "metadata": {
    "colab": {
     "base_uri": "https://localhost:8080/",
     "height": 454
    },
    "id": "1pvqhwRcK1AT",
    "outputId": "89d39b8b-af2d-4861-81da-905acb8c5528"
   },
   "outputs": [
    {
     "name": "stdout",
     "output_type": "stream",
     "text": [
      "Normalized confusion matrix\n",
      "[[0.95 0.05 0.   0.   0.   0.   0.  ]\n",
      " [0.02 0.78 0.2  0.   0.   0.   0.  ]\n",
      " [0.   0.29 0.7  0.01 0.   0.   0.  ]\n",
      " [0.   0.   0.71 0.29 0.   0.   0.  ]\n",
      " [0.   1.   0.   0.   0.   0.   0.  ]\n",
      " [0.59 0.41 0.   0.   0.   0.   0.  ]\n",
      " [1.   0.   0.   0.   0.   0.   0.  ]]\n"
     ]
    },
    {
     "data": {
      "image/png": "[encoded data removed]",
      "text/plain": [
       "<Figure size 432x288 with 2 Axes>"
      ]
     },
     "metadata": {
      "needs_background": "light"
     },
     "output_type": "display_data"
    }
   ],
   "source": [
    "import numpy as np\n",
    "from sklearn import svm, datasets\n",
    "from sklearn.model_selection import train_test_split\n",
    "from sklearn.metrics import confusion_matrix\n",
    "\n",
    "# Compute confusion matrix\n",
    "cm = confusion_matrix(y_compare, pred)\n",
    "np.set_printoptions(precision=2)\n",
    "\n",
    "# Normalize the confusion matrix by row (i.e by the number of samples\n",
    "# in each class)\n",
    "cm_normalized = cm.astype('float') / cm.sum(axis=1)[:, np.newaxis]\n",
    "print('Normalized confusion matrix')\n",
    "print(cm_normalized)\n",
    "plt.figure()\n",
    "plot_confusion_matrix(cm_normalized, products, \n",
    "        title='Normalized confusion matrix')\n",
    "\n",
    "plt.show()"
   ]
  },
  {
   "cell_type": "code",
   "execution_count": 14,
   "metadata": {
    "id": "G0KvHKadK1AT"
   },
   "outputs": [],
   "source": []
  }
 ],
 "metadata": {
  "anaconda-cloud": {},
  "colab": {
   "name": "t81_558_class_04_2_multi_class.ipynb",
   "provenance": []
  },
  "kernelspec": {
   "display_name": "Python 3 (ipykernel)",
   "language": "python",
   "name": "python3"
  },
  "language_info": {
   "codemirror_mode": {
    "name": "ipython",
    "version": 3
   },
   "file_extension": ".py",
   "mimetype": "text/x-python",
   "name": "python",
   "nbconvert_exporter": "python",
   "pygments_lexer": "ipython3",
   "version": "3.9.16"
  }
 },
 "nbformat": 4,
 "nbformat_minor": 1
}
