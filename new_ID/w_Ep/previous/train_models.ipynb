{
 "cells": [
  {
   "cell_type": "code",
   "execution_count": 34,
   "id": "07c4f833-f0d1-41de-b3a6-e7bf32f13144",
   "metadata": {},
   "outputs": [],
   "source": [
    "import pandas as pd\n",
    "import numpy as np\n",
    "import tensorflow.keras\n",
    "from tensorflow.keras.models import Sequential\n",
    "from tensorflow.keras.layers import Dense, Activation\n",
    "from tensorflow.keras.callbacks import EarlyStopping\n",
    "from sklearn.model_selection import train_test_split\n",
    "%matplotlib inline\n",
    "import matplotlib.pyplot as plt\n",
    "from sklearn.metrics import roc_curve, auc\n",
    "\n",
    "filenames = ['/Users/wongdowling/Documents/Github/DQ_Dowling/new_ID/w_Ep/w_gpz/p5_80_pi+_0_10000.csv',\n",
    " '/Users/wongdowling/Documents/Github/DQ_Dowling/new_ID/w_Ep/w_gpz/p5_80_electron_0_10000.csv',\n",
    " '/Users/wongdowling/Documents/Github/DQ_Dowling/new_ID/w_Ep/w_gpz/p5_80_pi-_1_10000.csv',\n",
    " '/Users/wongdowling/Documents/Github/DQ_Dowling/new_ID/w_Ep/w_gpz/p5_80_klong_0_10000.csv',\n",
    " '/Users/wongdowling/Documents/Github/DQ_Dowling/new_ID/w_Ep/w_gpz/p5_80_pi0_0_10000.csv',\n",
    " '/Users/wongdowling/Documents/Github/DQ_Dowling/new_ID/w_Ep/w_gpz/p5_80_muon_0_10000.csv',\n",
    " '/Users/wongdowling/Documents/Github/DQ_Dowling/new_ID/w_Ep/w_gpz/p5_80_positron_0_10000.csv',\n",
    " '/Users/wongdowling/Documents/Github/DQ_Dowling/new_ID/w_Ep/w_gpz/p5_80_photon_0_10000.csv']"
   ]
  },
  {
   "cell_type": "code",
   "execution_count": 35,
   "id": "8c52d63b-80f2-4152-9e56-be8ad5f89812",
   "metadata": {},
   "outputs": [],
   "source": [
    "headers = [\"Label\", \"gpz\", \"wid_x\", \"wid_y\", \"wew_x\", \"wew_y\", \"seed_x\", \"seed_y\",\n",
    "               \"trkl_x\", \"trkl_y\", \"trkl_z\", \"trkl_px\", \"trkl_py\", \"trkl_pz\", \"E/p\",\n",
    "               \"h4_41\", \"h4_42\", \"h4_43\", \"h4_44\", \"h4_45\", \"h4_46\"]\n",
    "\n",
    "# Initialize an empty DataFrame to store concatenated data\n",
    "all_data = pd.DataFrame(columns=headers)\n",
    "\n",
    "# Loop through each filename\n",
    "for filename in filenames:\n",
    "    # Read the CSV file into a DataFrame\n",
    "    df = pd.read_csv(filename, names=headers) # if headers are not present in the file, otherwise remove names=...\n",
    "    # Concatenate vertically\n",
    "    all_data = pd.concat([all_data, df[1:]], axis=0, ignore_index=False)\n",
    "\n",
    "# Optionally: save the concatenated data to a new CSV file\n",
    "all_data.to_csv('pi-_1_data.csv', index=False)"
   ]
  },
  {
   "cell_type": "code",
   "execution_count": 24,
   "id": "51bbc7f6-8489-4231-8e5f-032acad57fc7",
   "metadata": {},
   "outputs": [],
   "source": [
    "def plot_roc(pred,y):\n",
    "    fpr, tpr, _ = roc_curve(y, pred)\n",
    "    roc_auc = auc(fpr, tpr)\n",
    "\n",
    "    plt.figure()\n",
    "    plt.plot(fpr, tpr, label='ROC curve (area = %0.6f)' % roc_auc)\n",
    "    plt.plot([0, 1], [0, 1], 'k--')\n",
    "    plt.xlim([0.0, 1.0])\n",
    "    plt.ylim([0.0, 1.05])\n",
    "    plt.xlabel('False Positive Rate')\n",
    "    plt.ylabel('True Positive Rate')\n",
    "    plt.title('Receiver Operating Characteristic (ROC)')\n",
    "    plt.legend(loc=\"lower right\")\n",
    "    plt.show()"
   ]
  },
  {
   "cell_type": "code",
   "execution_count": 36,
   "id": "a528c233-26af-464b-9e99-1c336d280113",
   "metadata": {},
   "outputs": [],
   "source": [
    "def train_and_save(filename):\n",
    "    df = pd.read_csv(filename)\n",
    "    x=df[[\"wid_x\", \"wid_y\", \"wew_x\", \"wew_y\", \"seed_x\", \"seed_y\",\n",
    "           \"trkl_x\", \"trkl_y\", \"trkl_z\", \"trkl_px\", \"trkl_py\", \"trkl_pz\", \"E/p\",\n",
    "           \"h4_41\", \"h4_42\", \"h4_43\", \"h4_44\", \"h4_45\", \"h4_46\"]].values\n",
    "    y=df['Label'].values\n",
    "    x_train, x_test, y_train, y_test = train_test_split(    \n",
    "        x, y, test_size=0.25, random_state=42)\n",
    "    model = Sequential()\n",
    "    model.add(Dense(18, input_dim=x.shape[1], activation='relu',\n",
    "                    kernel_initializer='random_normal'))\n",
    "    model.add(Dense(50,activation='relu',kernel_initializer='random_normal'))\n",
    "    model.add(Dense(25,activation='relu',kernel_initializer='random_normal'))\n",
    "    model.add(Dense(1,activation='sigmoid',kernel_initializer='random_normal'))\n",
    "    model.compile(loss='binary_crossentropy', \n",
    "                  optimizer=tensorflow.keras.optimizers.legacy.Adam(),\n",
    "                  metrics =['accuracy'])\n",
    "    monitor = EarlyStopping(monitor='val_loss', min_delta=1e-3, \n",
    "        patience=5, verbose=1, mode='auto', restore_best_weights=True)\n",
    "    model.fit(x_train,y_train,validation_data=(x_test,y_test),\n",
    "              callbacks=[monitor],verbose=2,epochs=15)\n",
    "    pred = model(x_test)\n",
    "    plot_roc(pred,y_test)\n",
    "    model.save(\"pi-_ID_w_track\")\n",
    "\n"
   ]
  },
  {
   "cell_type": "code",
   "execution_count": 39,
   "id": "2e39daf7-9558-456b-ab5d-0071820a34d7",
   "metadata": {
    "scrolled": true
   },
   "outputs": [
    {
     "name": "stdout",
     "output_type": "stream",
     "text": [
      "Epoch 1/15\n",
      "2116/2116 - 2s - loss: 0.3636 - accuracy: 0.8642 - val_loss: 0.3567 - val_accuracy: 0.8644 - 2s/epoch - 776us/step\n",
      "Epoch 2/15\n",
      "2116/2116 - 1s - loss: 0.3411 - accuracy: 0.8705 - val_loss: 0.3597 - val_accuracy: 0.8658 - 1s/epoch - 684us/step\n",
      "Epoch 3/15\n",
      "2116/2116 - 1s - loss: 0.3293 - accuracy: 0.8740 - val_loss: 0.3324 - val_accuracy: 0.8668 - 1s/epoch - 685us/step\n",
      "Epoch 4/15\n",
      "2116/2116 - 1s - loss: 0.3207 - accuracy: 0.8789 - val_loss: 0.3242 - val_accuracy: 0.8746 - 1s/epoch - 691us/step\n",
      "Epoch 5/15\n",
      "2116/2116 - 1s - loss: 0.3129 - accuracy: 0.8815 - val_loss: 0.3316 - val_accuracy: 0.8775 - 1s/epoch - 685us/step\n",
      "Epoch 6/15\n",
      "2116/2116 - 1s - loss: 0.3112 - accuracy: 0.8820 - val_loss: 0.3168 - val_accuracy: 0.8778 - 1s/epoch - 689us/step\n",
      "Epoch 7/15\n",
      "2116/2116 - 1s - loss: 0.3082 - accuracy: 0.8831 - val_loss: 0.3118 - val_accuracy: 0.8798 - 1s/epoch - 687us/step\n",
      "Epoch 8/15\n",
      "2116/2116 - 1s - loss: 0.3075 - accuracy: 0.8844 - val_loss: 0.3159 - val_accuracy: 0.8792 - 1s/epoch - 685us/step\n",
      "Epoch 9/15\n",
      "2116/2116 - 1s - loss: 0.3109 - accuracy: 0.8839 - val_loss: 0.3153 - val_accuracy: 0.8781 - 1s/epoch - 684us/step\n",
      "Epoch 10/15\n",
      "2116/2116 - 1s - loss: 0.3085 - accuracy: 0.8844 - val_loss: 0.3146 - val_accuracy: 0.8788 - 1s/epoch - 685us/step\n",
      "Epoch 11/15\n",
      "2116/2116 - 1s - loss: 0.3047 - accuracy: 0.8848 - val_loss: 0.3057 - val_accuracy: 0.8819 - 1s/epoch - 688us/step\n",
      "Epoch 12/15\n",
      "2116/2116 - 1s - loss: 0.3025 - accuracy: 0.8853 - val_loss: 0.3084 - val_accuracy: 0.8801 - 1s/epoch - 682us/step\n",
      "Epoch 13/15\n",
      "2116/2116 - 1s - loss: 0.3022 - accuracy: 0.8853 - val_loss: 0.3495 - val_accuracy: 0.8708 - 1s/epoch - 684us/step\n",
      "Epoch 14/15\n",
      "2116/2116 - 1s - loss: 0.3007 - accuracy: 0.8858 - val_loss: 0.3225 - val_accuracy: 0.8793 - 1s/epoch - 686us/step\n",
      "Epoch 15/15\n",
      "2116/2116 - 1s - loss: 0.3006 - accuracy: 0.8856 - val_loss: 0.3254 - val_accuracy: 0.8802 - 1s/epoch - 689us/step\n"
     ]
    },
    {
     "data": {
      "image/png": "[encoded data removed]",
      "text/plain": [
       "<Figure size 432x288 with 1 Axes>"
      ]
     },
     "metadata": {
      "needs_background": "light"
     },
     "output_type": "display_data"
    },
    {
     "name": "stdout",
     "output_type": "stream",
     "text": [
      "INFO:tensorflow:Assets written to: pi-_ID_w_track/assets\n"
     ]
    },
    {
     "name": "stderr",
     "output_type": "stream",
     "text": [
      "INFO:tensorflow:Assets written to: pi-_ID_w_track/assets\n"
     ]
    }
   ],
   "source": [
    "model = train_and_save(\"pi-_1_data.csv\")"
   ]
  },
  {
   "cell_type": "code",
   "execution_count": null,
   "id": "502adb40-9c0f-47bc-9853-16fed38deb6e",
   "metadata": {},
   "outputs": [],
   "source": []
  },
  {
   "cell_type": "code",
   "execution_count": null,
   "id": "f687872f-35f2-4262-990a-dc4bcca1d1e3",
   "metadata": {},
   "outputs": [],
   "source": []
  },
  {
   "cell_type": "code",
   "execution_count": null,
   "id": "c9ce2519-5ccb-4d6e-8ffa-3a4f8ff50fe2",
   "metadata": {},
   "outputs": [],
   "source": []
  }
 ],
 "metadata": {
  "kernelspec": {
   "display_name": "Python 3 (ipykernel)",
   "language": "python",
   "name": "python3"
  },
  "language_info": {
   "codemirror_mode": {
    "name": "ipython",
    "version": 3
   },
   "file_extension": ".py",
   "mimetype": "text/x-python",
   "name": "python",
   "nbconvert_exporter": "python",
   "pygments_lexer": "ipython3",
   "version": "3.9.12"
  }
 },
 "nbformat": 4,
 "nbformat_minor": 5
}
