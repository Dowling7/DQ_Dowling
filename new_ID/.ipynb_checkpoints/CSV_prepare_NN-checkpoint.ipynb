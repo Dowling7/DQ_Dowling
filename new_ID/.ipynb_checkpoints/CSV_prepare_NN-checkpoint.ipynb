{
 "cells": [
  {
   "cell_type": "code",
   "execution_count": 44,
   "id": "d7482915",
   "metadata": {},
   "outputs": [],
   "source": [
    "import dwong"
   ]
  },
  {
   "cell_type": "code",
   "execution_count": 45,
   "id": "c26e0284",
   "metadata": {},
   "outputs": [],
   "source": [
    "import csv"
   ]
  },
  {
   "cell_type": "code",
   "execution_count": 29,
   "id": "ca9ad393",
   "metadata": {},
   "outputs": [],
   "source": []
  },
  {
   "cell_type": "code",
   "execution_count": 50,
   "id": "4939e83c",
   "metadata": {},
   "outputs": [],
   "source": [
    "def gen_csv(filename):\n",
    "    folded_list=dwong.prepare_data_evt(filename)\n",
    "    flat_list = [particle for event in folded_list for particle in event]\n",
    "    labels = [0] * len(flat_list)\n",
    "    labeled_flat_list = [[label, *particle] for label, particle in zip(labels, flat_list)]\n",
    "\n",
    "    file_name = filename.split(\"/\")[-1]\n",
    "\n",
    "    particle_name = file_name.split(\"_\")[0]\n",
    "    file_path = 'p5_80_%s_0_10000.csv'%particle_name\n",
    "\n",
    "    # Headers\n",
    "    headers = [\"Label\", \"wid_x\", \"wid_y\", \"wew_x\", \"wew_y\", \"seed_x\", \"seed_y\",\n",
    "               \"trkl_x\", \"trkl_y\", \"trkl_z\", \"trkl_px\", \"trkl_py\", \"trkl_pz\",\n",
    "               \"h4_41\", \"h4_42\", \"h4_43\", \"h4_44\", \"h4_45\", \"h4_46\"]\n",
    "\n",
    "    # Writing to csv file\n",
    "    with open(file_path, 'w', newline='') as file:\n",
    "        writer = csv.writer(file)\n",
    "\n",
    "        # Writing the headers\n",
    "        writer.writerow(headers)\n",
    "\n",
    "        # Writing the data\n",
    "        writer.writerows(labeled_flat_list)\n"
   ]
  },
  {
   "cell_type": "code",
   "execution_count": 51,
   "id": "d664ddd4",
   "metadata": {},
   "outputs": [],
   "source": [
    "files = [\n",
    "    \"/Users/wongdowling/Desktop/n-tuples/5_80_training/muon_520_p580.root\",\n",
    "    \"/Users/wongdowling/Desktop/n-tuples/5_80_training/pi+_520_p580.root\",\n",
    "    \"/Users/wongdowling/Desktop/n-tuples/5_80_training/electron_520_p580.root\",\n",
    "    \"/Users/wongdowling/Desktop/n-tuples/5_80_training/positron_520_p580.root\",\n",
    "    \"/Users/wongdowling/Desktop/n-tuples/5_80_training/klong_520_p580.root\",\n",
    "    \"/Users/wongdowling/Desktop/n-tuples/5_80_training/pi-_520_p580.root\",\n",
    "    \"/Users/wongdowling/Desktop/n-tuples/5_80_training/pi0_520_p580.root\",\n",
    "    \"/Users/wongdowling/Desktop/n-tuples/5_80_training/photon_520_p580.root\"\n",
    "]"
   ]
  },
  {
   "cell_type": "code",
   "execution_count": 52,
   "id": "abd97fa2",
   "metadata": {},
   "outputs": [],
   "source": [
    "for particle in files:\n",
    "    gen_csv(particle)"
   ]
  },
  {
   "cell_type": "code",
   "execution_count": null,
   "id": "c3d71a2e",
   "metadata": {},
   "outputs": [],
   "source": []
  }
 ],
 "metadata": {
  "kernelspec": {
   "display_name": "Python 3 (ipykernel)",
   "language": "python",
   "name": "python3"
  },
  "language_info": {
   "codemirror_mode": {
    "name": "ipython",
    "version": 3
   },
   "file_extension": ".py",
   "mimetype": "text/x-python",
   "name": "python",
   "nbconvert_exporter": "python",
   "pygments_lexer": "ipython3",
   "version": "3.9.16"
  }
 },
 "nbformat": 4,
 "nbformat_minor": 5
}
