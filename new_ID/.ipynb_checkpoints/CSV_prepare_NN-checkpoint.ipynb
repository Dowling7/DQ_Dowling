{
 "cells": [
  {
   "cell_type": "code",
   "execution_count": 2,
   "id": "d7482915",
   "metadata": {},
   "outputs": [],
   "source": [
    "import dwong"
   ]
  },
  {
   "cell_type": "code",
   "execution_count": 3,
   "id": "eed1d78a",
   "metadata": {},
   "outputs": [],
   "source": [
    "file1 = \"/Users/wongdowling/Desktop/n-tuples/5_80_training/muon_520_p580.root\"\n",
    "file2 = \"/Users/wongdowling/Desktop/n-tuples/5_80_training/pi+_520_p580.root\"\n",
    "file3 = \"/Users/wongdowling/Desktop/n-tuples/5_80_training/electron_520_p580.root\"\n",
    "file4 = \"/Users/wongdowling/Desktop/n-tuples/5_80_training/positron_520_p580.root\"\n",
    "file5 = \"/Users/wongdowling/Desktop/n-tuples/5_80_training/klong_520_p580.root\"\n",
    "file6 = \"/Users/wongdowling/Desktop/n-tuples/5_80_training/pi-_520_p580.root\"\n",
    "file7 = \"/Users/wongdowling/Desktop/n-tuples/5_80_training/pi0_520_p580.root\"\n",
    "file8 = \"/Users/wongdowling/Desktop/n-tuples/5_80_training/photon_520_p580.root\""
   ]
  },
  {
   "cell_type": "code",
   "execution_count": 5,
   "id": "ca9ad393",
   "metadata": {},
   "outputs": [],
   "source": [
    "folded_list=dwong.prepare_data_evt(file1)\n",
    "flat_list = [particle for event in folded_list for particle in event]\n",
    "labels = [0] * len(flat_list)\n",
    "labeled_flat_list = [[label, *particle] for label, particle in zip(labels, flat_list)]\n"
   ]
  },
  {
   "cell_type": "code",
   "execution_count": 6,
   "id": "4939e83c",
   "metadata": {},
   "outputs": [],
   "source": [
    "import csv\n",
    "\n",
    "\n",
    "# Your file path\n",
    "file_path = 'p5_80_muon_0_10000.csv'\n",
    "\n",
    "# Headers\n",
    "headers = [\"Label\", \"wid_x\", \"wid_y\", \"wew_x\", \"wew_y\", \"seed_x\", \"seed_y\",\n",
    "           \"trkl_x\", \"trkl_y\", \"trkl_z\", \"trkl_px\", \"trkl_py\", \"trkl_py\",\n",
    "           \"h4_41\", \"h4_42\", \"h4_43\", \"h4_44\", \"h4_45\", \"h4_46\"]\n",
    "\n",
    "# Writing to csv file\n",
    "with open(file_path, 'w', newline='') as file:\n",
    "    writer = csv.writer(file)\n",
    "    \n",
    "    # Writing the headers\n",
    "    writer.writerow(headers)\n",
    "    \n",
    "    # Writing the data\n",
    "    writer.writerows(labeled_flat_list)\n"
   ]
  },
  {
   "cell_type": "code",
   "execution_count": null,
   "id": "abd97fa2",
   "metadata": {},
   "outputs": [],
   "source": []
  }
 ],
 "metadata": {
  "kernelspec": {
   "display_name": "Python 3 (ipykernel)",
   "language": "python",
   "name": "python3"
  },
  "language_info": {
   "codemirror_mode": {
    "name": "ipython",
    "version": 3
   },
   "file_extension": ".py",
   "mimetype": "text/x-python",
   "name": "python",
   "nbconvert_exporter": "python",
   "pygments_lexer": "ipython3",
   "version": "3.9.16"
  }
 },
 "nbformat": 4,
 "nbformat_minor": 5
}
