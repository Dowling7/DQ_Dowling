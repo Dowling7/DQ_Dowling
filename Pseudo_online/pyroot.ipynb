{
 "cells": [
  {
   "cell_type": "code",
   "execution_count": 2,
   "id": "6a7343c5-8cf8-4ca4-832a-49dd3e256f93",
   "metadata": {},
   "outputs": [
    {
     "ename": "AttributeError",
     "evalue": "'TObject' object has no attribute 'Branch'",
     "output_type": "error",
     "traceback": [
      "\u001b[0;31m---------------------------------------------------------------------------\u001b[0m",
      "\u001b[0;31mAttributeError\u001b[0m                            Traceback (most recent call last)",
      "Cell \u001b[0;32mIn[2], line 11\u001b[0m\n\u001b[1;32m      9\u001b[0m \u001b[38;5;66;03m# Create a new branch or access an existing one\u001b[39;00m\n\u001b[1;32m     10\u001b[0m new_value \u001b[38;5;241m=\u001b[39m ROOT\u001b[38;5;241m.\u001b[39mstd\u001b[38;5;241m.\u001b[39mvector(\u001b[38;5;124m'\u001b[39m\u001b[38;5;124mfloat\u001b[39m\u001b[38;5;124m'\u001b[39m)()\n\u001b[0;32m---> 11\u001b[0m new_branch \u001b[38;5;241m=\u001b[39m \u001b[43mtree\u001b[49m\u001b[38;5;241;43m.\u001b[39;49m\u001b[43mBranch\u001b[49m(\u001b[38;5;124m\"\u001b[39m\u001b[38;5;124mnew_branch_name\u001b[39m\u001b[38;5;124m\"\u001b[39m, new_value)\n\u001b[1;32m     13\u001b[0m \u001b[38;5;66;03m# Fill the new branch (you would typically do this inside a loop)\u001b[39;00m\n\u001b[1;32m     14\u001b[0m new_value\u001b[38;5;241m.\u001b[39mpush_back(your_data_value) \u001b[38;5;66;03m# Add your data value here\u001b[39;00m\n",
      "\u001b[0;31mAttributeError\u001b[0m: 'TObject' object has no attribute 'Branch'"
     ]
    }
   ],
   "source": [
    "import ROOT\n",
    "\n",
    "# Open the ROOT file in update mode\n",
    "f = ROOT.TFile(\"your_file.root\", \"UPDATE\")\n",
    "\n",
    "# Retrieve the tree\n",
    "tree = f.Get(\"your_tree_name\")\n",
    "\n",
    "# Create a new branch or access an existing one\n",
    "new_value = ROOT.std.vector('float')()\n",
    "new_branch = tree.Branch(\"new_branch_name\", new_value)\n",
    "\n",
    "# Fill the new branch (you would typically do this inside a loop)\n",
    "new_value.push_back(your_data_value) # Add your data value here\n",
    "tree.Fill()\n",
    "\n",
    "# Write and close the file\n",
    "tree.Write(\"\", ROOT.TObject.kOverwrite) # kOverwrite to overwrite existing tree\n",
    "f.Close()\n"
   ]
  },
  {
   "cell_type": "code",
   "execution_count": 1,
   "id": "bb8c09ae-183b-4ac4-b02a-f07405b3ec91",
   "metadata": {},
   "outputs": [
    {
     "name": "stdout",
     "output_type": "stream",
     "text": [
      "Welcome to JupyROOT 6.26/04\n",
      "ROOT version: 6.26/04\n"
     ]
    }
   ],
   "source": [
    "import ROOT\n",
    "print(\"ROOT version:\", ROOT.gROOT.GetVersion())\n"
   ]
  },
  {
   "cell_type": "code",
   "execution_count": null,
   "id": "0223e183-53c3-4326-8a78-22465fb1ddd5",
   "metadata": {},
   "outputs": [],
   "source": []
  },
  {
   "cell_type": "code",
   "execution_count": null,
   "id": "5ba6aba6-6292-4896-a39f-e9cda10c8714",
   "metadata": {},
   "outputs": [],
   "source": []
  },
  {
   "cell_type": "code",
   "execution_count": null,
   "id": "44f39865-271e-4610-b0a2-55cf73e2c761",
   "metadata": {},
   "outputs": [],
   "source": []
  }
 ],
 "metadata": {
  "kernelspec": {
   "display_name": "Python 3 (ipykernel)",
   "language": "python",
   "name": "python3"
  },
  "language_info": {
   "codemirror_mode": {
    "name": "ipython",
    "version": 3
   },
   "file_extension": ".py",
   "mimetype": "text/x-python",
   "name": "python",
   "nbconvert_exporter": "python",
   "pygments_lexer": "ipython3",
   "version": "3.9.15"
  }
 },
 "nbformat": 4,
 "nbformat_minor": 5
}
