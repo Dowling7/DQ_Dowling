{
 "cells": [
  {
   "cell_type": "code",
   "execution_count": 1,
   "id": "6a7343c5-8cf8-4ca4-832a-49dd3e256f93",
   "metadata": {},
   "outputs": [
    {
     "ename": "ModuleNotFoundError",
     "evalue": "No module named 'ROOT'",
     "output_type": "error",
     "traceback": [
      "\u001b[0;31m---------------------------------------------------------------------------\u001b[0m",
      "\u001b[0;31mModuleNotFoundError\u001b[0m                       Traceback (most recent call last)",
      "Cell \u001b[0;32mIn[1], line 1\u001b[0m\n\u001b[0;32m----> 1\u001b[0m \u001b[38;5;28;01mimport\u001b[39;00m \u001b[38;5;21;01mROOT\u001b[39;00m\n\u001b[1;32m      3\u001b[0m \u001b[38;5;66;03m# Open the ROOT file in update mode\u001b[39;00m\n\u001b[1;32m      4\u001b[0m f \u001b[38;5;241m=\u001b[39m ROOT\u001b[38;5;241m.\u001b[39mTFile(\u001b[38;5;124m\"\u001b[39m\u001b[38;5;124myour_file.root\u001b[39m\u001b[38;5;124m\"\u001b[39m, \u001b[38;5;124m\"\u001b[39m\u001b[38;5;124mUPDATE\u001b[39m\u001b[38;5;124m\"\u001b[39m)\n",
      "\u001b[0;31mModuleNotFoundError\u001b[0m: No module named 'ROOT'"
     ]
    }
   ],
   "source": [
    "import ROOT\n",
    "\n",
    "# Open the ROOT file in update mode\n",
    "f = ROOT.TFile(\"your_file.root\", \"UPDATE\")\n",
    "\n",
    "# Retrieve the tree\n",
    "tree = f.Get(\"your_tree_name\")\n",
    "\n",
    "# Create a new branch or access an existing one\n",
    "new_value = ROOT.std.vector('float')()\n",
    "new_branch = tree.Branch(\"new_branch_name\", new_value)\n",
    "\n",
    "# Fill the new branch (you would typically do this inside a loop)\n",
    "new_value.push_back(your_data_value) # Add your data value here\n",
    "tree.Fill()\n",
    "\n",
    "# Write and close the file\n",
    "tree.Write(\"\", ROOT.TObject.kOverwrite) # kOverwrite to overwrite existing tree\n",
    "f.Close()\n"
   ]
  },
  {
   "cell_type": "code",
   "execution_count": null,
   "id": "bb8c09ae-183b-4ac4-b02a-f07405b3ec91",
   "metadata": {},
   "outputs": [],
   "source": []
  }
 ],
 "metadata": {
  "kernelspec": {
   "display_name": "Python 3 (ipykernel)",
   "language": "python",
   "name": "python3"
  },
  "language_info": {
   "codemirror_mode": {
    "name": "ipython",
    "version": 3
   },
   "file_extension": ".py",
   "mimetype": "text/x-python",
   "name": "python",
   "nbconvert_exporter": "python",
   "pygments_lexer": "ipython3",
   "version": "3.9.16"
  }
 },
 "nbformat": 4,
 "nbformat_minor": 5
}
