{
 "cells": [
  {
   "cell_type": "code",
   "execution_count": 1,
   "id": "27936c3f",
   "metadata": {},
   "outputs": [],
   "source": [
    "NN_dir = \"/Users/wongdowling/Desktop/DQ_Dowling/new_ID/w_Ep/NNs\""
   ]
  },
  {
   "cell_type": "code",
   "execution_count": null,
   "id": "fac36319",
   "metadata": {},
   "outputs": [],
   "source": [
    "from keras.models import load_model\n",
    "import numpy as np\n",
    "\n",
    "# Load your pre-trained models\n",
    "Electron_ID = load_model(NN_dir+\"electronID_w_track_95\")\n",
    "Muon_ID = load_model(NN_dir+\"muonID_w_track_99\")\n",
    "Pi_pos_ID = load_model(NN_dir+\"pi+_ID_w_track_86\")\n",
    "Pi_neg_ID = load_model(NN_dir+\"pi-_ID_w_track_81\")\n",
    "Photon_ID = load_model(NN_dir+\"photon_ID_w_track_89\")\n",
    "\n",
    "\n",
    "def predict_classes(samples):\n",
    "    # Assuming 'samples' is preprocessed and ready to be fed into the model\n",
    "    # 'samples' should be a batch of data, e.g., a NumPy array of shape (num_samples, input_shape)\n",
    "\n",
    "    # Get predictions from each model for the entire batch\n",
    "    probs_e = Electron_ID.predict(samples)\n",
    "    probs_m = Muon_ID.predict(samples)\n",
    "    probs_pp = Pi_pos_ID.predict(samples)\n",
    "    probs_pn = Pi_neg_ID.predict(samples)\n",
    "    probs_ph = Photon_ID.predict(samples)\n",
    "\n",
    "    # Combine predictions for each sample\n",
    "    combined_probs = np.stack([probs_e, probs_m, probs_pp, probs_pn, probs_ph], axis=-1)\n",
    "    class_indices = np.argmax(combined_probs, axis=-1)\n",
    "\n",
    "    # Map indices to class names\n",
    "    classes = ['Class A', 'Class B', 'Class C']\n",
    "    predicted_classes = [classes[idx] for idx in class_indices]\n",
    "\n",
    "    return predicted_classes\n",
    "\n",
    "# Example usage\n",
    "num_samples = 100000  # Number of particles\n",
    "input_shape = (shape_of_your_input,)  # Replace with the shape of your model input\n",
    "samples = np.random.rand(num_samples, *input_shape)  # Generate or load your samples\n",
    "predicted_classes = predict_classes(samples)\n",
    "\n",
    "# Do something with predicted_classes, like analyzing or saving them\n"
   ]
  },
  {
   "cell_type": "code",
   "execution_count": 2,
   "id": "4828954d",
   "metadata": {},
   "outputs": [
    {
     "data": {
      "text/plain": [
       "'/Users/wongdowling/Desktop/DQ_Dowling/new_ID/w_Ep/NNselectronID_w_track_95'"
      ]
     },
     "execution_count": 2,
     "metadata": {},
     "output_type": "execute_result"
    }
   ],
   "source": [
    "NN_dir+\"electronID_w_track_95\""
   ]
  },
  {
   "cell_type": "code",
   "execution_count": null,
   "id": "c132857a",
   "metadata": {},
   "outputs": [],
   "source": []
  }
 ],
 "metadata": {
  "kernelspec": {
   "display_name": "Python 3 (ipykernel)",
   "language": "python",
   "name": "python3"
  },
  "language_info": {
   "codemirror_mode": {
    "name": "ipython",
    "version": 3
   },
   "file_extension": ".py",
   "mimetype": "text/x-python",
   "name": "python",
   "nbconvert_exporter": "python",
   "pygments_lexer": "ipython3",
   "version": "3.9.15"
  }
 },
 "nbformat": 4,
 "nbformat_minor": 5
}
