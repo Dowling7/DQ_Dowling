{
 "cells": [
  {
   "cell_type": "code",
   "execution_count": 1,
   "id": "62a8a1b8",
   "metadata": {},
   "outputs": [],
   "source": [
    "import dwong\n",
    "import csv\n",
    "import os"
   ]
  },
  {
   "cell_type": "code",
   "execution_count": 2,
   "id": "1d06bf4b",
   "metadata": {},
   "outputs": [],
   "source": [
    "def gen_csv(filename):\n",
    "    folded_list=dwong.prepare_data_evt(filename)\n",
    "    \n",
    "    flat_list = [particle for event in folded_list for particle in event]\n",
    "\n",
    "    particle_name = filename.split(\"_\")[0]\n",
    "    file_path = 'p580_%s_10000.csv'%particle_name\n",
    "\n",
    "    # Headers\n",
    "    headers = [\"evt_num\", \"gpz\", \"wid_x\", \"wid_y\", \"wew_x\", \"wew_y\", \"seed_x\", \"seed_y\",\n",
    "               \"trkl_x\", \"trkl_y\", \"trkl_z\", \"trkl_px\", \"trkl_py\", \"trkl_pz\", \"E/p\",\n",
    "               \"h4_41\", \"h4_42\", \"h4_43\", \"h4_44\", \"h4_45\", \"h4_46\"]\n",
    "\n",
    "    # Writing to csv file\n",
    "    with open(file_path, 'w', newline='') as file:\n",
    "        writer = csv.writer(file)\n",
    "        writer.writerow(headers)\n",
    "        writer.writerows(flat_list)\n"
   ]
  },
  {
   "cell_type": "code",
   "execution_count": 3,
   "id": "bca60fe3",
   "metadata": {},
   "outputs": [
    {
     "name": "stdout",
     "output_type": "stream",
     "text": [
      "done\n",
      "done\n",
      "done\n",
      "done\n",
      "done\n",
      "done\n",
      "done\n",
      "done\n"
     ]
    }
   ],
   "source": [
    "files=[\"electron_520_p580.root\", \"pi-_520_p580.root\",\n",
    "\"klong_520_p580.root\", \"pi0_520_p580.root\",\n",
    "\"muon_520_p580.root\", \"photon_520_p580.root\",\n",
    "\"pi+_520_p580.root\", \"positron_520_p580.root\"]\n",
    "os.chdir(\"/Users/wongdowling/Desktop/DQ_Dowling/DNN_tagger/5_80_training\")\n",
    "for particle in files:\n",
    "    gen_csv(particle)\n",
    "    print(\"done\")"
   ]
  },
  {
   "cell_type": "code",
   "execution_count": null,
   "id": "ce7e90f1",
   "metadata": {},
   "outputs": [],
   "source": []
  },
  {
   "cell_type": "code",
   "execution_count": null,
   "id": "d3b7a4fa",
   "metadata": {},
   "outputs": [],
   "source": []
  },
  {
   "cell_type": "code",
   "execution_count": null,
   "id": "8b405af9",
   "metadata": {},
   "outputs": [],
   "source": []
  }
 ],
 "metadata": {
  "kernelspec": {
   "display_name": "Python 3 (ipykernel)",
   "language": "python",
   "name": "python3"
  },
  "language_info": {
   "codemirror_mode": {
    "name": "ipython",
    "version": 3
   },
   "file_extension": ".py",
   "mimetype": "text/x-python",
   "name": "python",
   "nbconvert_exporter": "python",
   "pygments_lexer": "ipython3",
   "version": "3.9.15"
  }
 },
 "nbformat": 4,
 "nbformat_minor": 5
}
