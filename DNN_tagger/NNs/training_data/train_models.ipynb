{
 "cells": [
  {
   "cell_type": "code",
   "execution_count": 39,
   "id": "07c4f833-f0d1-41de-b3a6-e7bf32f13144",
   "metadata": {},
   "outputs": [],
   "source": [
    "import pandas as pd\n",
    "import numpy as np\n",
    "import tensorflow.keras\n",
    "from tensorflow.keras.models import Sequential\n",
    "from tensorflow.keras.layers import Dense, Activation\n",
    "from tensorflow.keras.callbacks import EarlyStopping\n",
    "from tensorflow.keras.models import load_model\n",
    "\n",
    "from sklearn.model_selection import train_test_split\n",
    "%matplotlib inline\n",
    "import matplotlib.pyplot as plt\n",
    "from sklearn.metrics import roc_curve, auc\n",
    "\n",
    "filenames = ['/Users/wongdowling/Documents/Github/DQ_Dowling/new_ID/w_Ep/csv_manual_gpz/p5_80_pi+_0_10000.csv',\n",
    " '/Users/wongdowling/Documents/Github/DQ_Dowling/new_ID/w_Ep/csv_manual_gpz/p5_80_electron_0_10000.csv',\n",
    " '/Users/wongdowling/Documents/Github/DQ_Dowling/new_ID/w_Ep/csv_manual_gpz/p5_80_pi-_0_10000.csv',\n",
    " '/Users/wongdowling/Documents/Github/DQ_Dowling/new_ID/w_Ep/csv_manual_gpz/p5_80_klong_0_10000.csv',\n",
    " '/Users/wongdowling/Documents/Github/DQ_Dowling/new_ID/w_Ep/csv_manual_gpz/p5_80_pi0_0_10000.csv',\n",
    " '/Users/wongdowling/Documents/Github/DQ_Dowling/new_ID/w_Ep/csv_manual_gpz/p5_80_muon_0_10000.csv',\n",
    " '/Users/wongdowling/Documents/Github/DQ_Dowling/new_ID/w_Ep/csv_manual_gpz/p5_80_positron_0_10000.csv',\n",
    " '/Users/wongdowling/Documents/Github/DQ_Dowling/new_ID/w_Ep/csv_manual_gpz/p5_80_photon_0_10000.csv']"
   ]
  },
  {
   "cell_type": "code",
   "execution_count": 40,
   "id": "8c52d63b-80f2-4152-9e56-be8ad5f89812",
   "metadata": {},
   "outputs": [],
   "source": [
    "headers = [\"Label\", \"wid_x\", \"wid_y\", \"wew_x\", \"wew_y\", \"seed_x\", \"seed_y\",\n",
    "               \"trkl_x\", \"trkl_y\", \"trkl_z\", \"trkl_px\", \"trkl_py\", \"trkl_pz\", \"E/p\",\n",
    "               \"h4_41\", \"h4_42\", \"h4_43\", \"h4_44\", \"h4_45\", \"h4_46\", \"gpz\"]\n",
    "\n",
    "# Initialize an empty DataFrame to store concatenated data\n",
    "all_data = pd.DataFrame(columns=headers)\n",
    "\n",
    "# Loop through each filename\n",
    "for filename in filenames:\n",
    "    # Read the CSV file into a DataFrame\n",
    "    df = pd.read_csv(filename, names=headers) # if headers are not present in the file, otherwise remove names=...\n",
    "    # Concatenate vertically\n",
    "    all_data = pd.concat([all_data, df[1:]], axis=0, ignore_index=True)\n",
    "\n",
    "# Optionally: save the concatenated data to a new CSV file\n",
    "all_data.to_csv('photon_1_data.csv', index=False)"
   ]
  },
  {
   "cell_type": "code",
   "execution_count": 41,
   "id": "51bbc7f6-8489-4231-8e5f-032acad57fc7",
   "metadata": {},
   "outputs": [],
   "source": [
    "def plot_roc(pred,y):\n",
    "    fpr, tpr, _ = roc_curve(y, pred)\n",
    "    roc_auc = auc(fpr, tpr)\n",
    "\n",
    "    plt.figure()\n",
    "    plt.plot(fpr, tpr, label='ROC curve (area = %0.6f)' % roc_auc)\n",
    "    plt.plot([0, 1], [0, 1], 'k--')\n",
    "    plt.xlim([0.0, 1.0])\n",
    "    plt.ylim([0.0, 1.05])\n",
    "    plt.xlabel('False Positive Rate')\n",
    "    plt.ylabel('True Positive Rate')\n",
    "    plt.title('Receiver Operating Characteristic (ROC)')\n",
    "    plt.legend(loc=\"lower right\")\n",
    "    plt.show()"
   ]
  },
  {
   "cell_type": "code",
   "execution_count": 42,
   "id": "a528c233-26af-464b-9e99-1c336d280113",
   "metadata": {},
   "outputs": [],
   "source": [
    "def train_and_save(filename):\n",
    "    df = pd.read_csv(filename)\n",
    "    x=df[[\"wid_x\", \"wid_y\", \"wew_x\", \"wew_y\", \"seed_x\", \"seed_y\",\n",
    "               \"trkl_x\", \"trkl_y\", \"trkl_z\", \"trkl_px\", \"trkl_py\", \"trkl_pz\", \"E/p\",\n",
    "               \"h4_41\", \"h4_42\", \"h4_43\", \"h4_44\", \"h4_45\", \"h4_46\"]].values\n",
    "    y=df['Label'].values\n",
    "    x_train, x_test, y_train, y_test = train_test_split(    \n",
    "        x, y, test_size=0.25, random_state=42)\n",
    "    model = Sequential()\n",
    "    model.add(Dense(18, input_dim=x.shape[1], activation='relu',\n",
    "                    kernel_initializer='random_normal'))\n",
    "    model.add(Dense(50,activation='relu',kernel_initializer='random_normal'))\n",
    "    model.add(Dense(25,activation='relu',kernel_initializer='random_normal'))\n",
    "    model.add(Dense(1,activation='sigmoid',kernel_initializer='random_normal'))\n",
    "    model.compile(loss='binary_crossentropy', \n",
    "                  optimizer=tensorflow.keras.optimizers.legacy.Adam(),\n",
    "                  metrics =['accuracy'])\n",
    "    monitor = EarlyStopping(monitor='val_loss', min_delta=1e-3, \n",
    "        patience=5, verbose=1, mode='auto', restore_best_weights=True)\n",
    "    model.fit(x_train,y_train,validation_data=(x_test,y_test),\n",
    "              callbacks=[monitor],verbose=2,epochs=15)\n",
    "    pred = model(x_test)\n",
    "    plot_roc(pred,y_test)\n",
    "    model.save(\"photon_ID_w_track\")\n",
    "\n"
   ]
  },
  {
   "cell_type": "code",
   "execution_count": 43,
   "id": "2e39daf7-9558-456b-ab5d-0071820a34d7",
   "metadata": {
    "scrolled": true
   },
   "outputs": [
    {
     "name": "stdout",
     "output_type": "stream",
     "text": [
      "Epoch 1/15\n",
      "2116/2116 - 2s - loss: 0.3230 - accuracy: 0.8179 - val_loss: 0.3161 - val_accuracy: 0.8212 - 2s/epoch - 839us/step\n",
      "Epoch 2/15\n",
      "2116/2116 - 1s - loss: 0.3178 - accuracy: 0.8205 - val_loss: 0.3207 - val_accuracy: 0.8203 - 1s/epoch - 695us/step\n",
      "Epoch 3/15\n",
      "2116/2116 - 1s - loss: 0.3189 - accuracy: 0.8200 - val_loss: 0.3168 - val_accuracy: 0.8193 - 1s/epoch - 689us/step\n",
      "Epoch 4/15\n",
      "2116/2116 - 1s - loss: 0.3178 - accuracy: 0.8200 - val_loss: 0.3145 - val_accuracy: 0.8211 - 1s/epoch - 688us/step\n",
      "Epoch 5/15\n",
      "2116/2116 - 1s - loss: 0.3170 - accuracy: 0.8204 - val_loss: 0.3154 - val_accuracy: 0.8207 - 1s/epoch - 693us/step\n",
      "Epoch 6/15\n",
      "2116/2116 - 1s - loss: 0.3173 - accuracy: 0.8203 - val_loss: 0.3179 - val_accuracy: 0.8212 - 1s/epoch - 694us/step\n",
      "Epoch 7/15\n",
      "2116/2116 - 2s - loss: 0.3171 - accuracy: 0.8198 - val_loss: 0.3204 - val_accuracy: 0.8207 - 2s/epoch - 753us/step\n",
      "Epoch 8/15\n",
      "2116/2116 - 2s - loss: 0.3162 - accuracy: 0.8203 - val_loss: 0.3163 - val_accuracy: 0.8208 - 2s/epoch - 762us/step\n",
      "Epoch 9/15\n",
      "Restoring model weights from the end of the best epoch: 4.\n",
      "2116/2116 - 2s - loss: 0.3167 - accuracy: 0.8201 - val_loss: 0.3144 - val_accuracy: 0.8211 - 2s/epoch - 762us/step\n",
      "Epoch 9: early stopping\n"
     ]
    },
    {
     "data": {
      "image/png": "[encoded data removed]",
      "text/plain": [
       "<Figure size 432x288 with 1 Axes>"
      ]
     },
     "metadata": {
      "needs_background": "light"
     },
     "output_type": "display_data"
    },
    {
     "name": "stdout",
     "output_type": "stream",
     "text": [
      "INFO:tensorflow:Assets written to: photon_ID_w_track/assets\n"
     ]
    },
    {
     "name": "stderr",
     "output_type": "stream",
     "text": [
      "INFO:tensorflow:Assets written to: photon_ID_w_track/assets\n"
     ]
    }
   ],
   "source": [
    "model = train_and_save(\"photon_1_data.csv\")"
   ]
  },
  {
   "cell_type": "code",
   "execution_count": 47,
   "id": "502adb40-9c0f-47bc-9853-16fed38deb6e",
   "metadata": {},
   "outputs": [],
   "source": [
    "def get_column(files, model):\n",
    "    loaded_model = load_model(model)\n",
    "    column = []\n",
    "    for item in files:\n",
    "        df = pd.read_csv(item)\n",
    "        train_data = df[[\"wid_x\", \"wid_y\", \"wew_x\", \"wew_y\", \"seed_x\", \"seed_y\",\n",
    "               \"trkl_x\", \"trkl_y\", \"trkl_z\", \"trkl_px\", \"trkl_py\", \"trkl_pz\", \"E/p\",\n",
    "               \"h4_41\", \"h4_42\", \"h4_43\", \"h4_44\", \"h4_45\", \"h4_46\"]].values\n",
    "        predictions = loaded_model.predict(train_data)\n",
    "        positive_count = np.sum(predictions > 0.5)\n",
    "        positive_rate = positive_count / len(predictions)\n",
    "        column.append(positive_rate)\n",
    "    return column"
   ]
  },
  {
   "cell_type": "code",
   "execution_count": 49,
   "id": "c9ce2519-5ccb-4d6e-8ffa-3a4f8ff50fe2",
   "metadata": {},
   "outputs": [
    {
     "name": "stdout",
     "output_type": "stream",
     "text": [
      "372/372 [==============================] - 0s 353us/step\n",
      "329/329 [==============================] - 0s 332us/step\n",
      "385/385 [==============================] - 0s 320us/step\n",
      "377/377 [==============================] - 0s 332us/step\n",
      "393/393 [==============================] - 0s 323us/step\n",
      "313/313 [==============================] - 0s 334us/step\n",
      "330/330 [==============================] - 0s 324us/step\n",
      "326/326 [==============================] - 0s 334us/step\n",
      "[0.20676312247644685, 0.14958606908364258, 0.23969763472323824, 0.5653147549141577, 0.9770828359990451, 0.027189124350259896, 0.15345171398727567, 0.9779228258782876]\n"
     ]
    }
   ],
   "source": [
    "ph_column = get_column(filenames, \"/Users/wongdowling/Documents/Github/DQ_Dowling/new_ID/w_Ep/NNs/photon_ID_w_track\")\n",
    "print(ph_column)"
   ]
  },
  {
   "cell_type": "code",
   "execution_count": null,
   "id": "d4bbf9a0",
   "metadata": {},
   "outputs": [],
   "source": []
  }
 ],
 "metadata": {
  "kernelspec": {
   "display_name": "Python 3 (ipykernel)",
   "language": "python",
   "name": "python3"
  },
  "language_info": {
   "codemirror_mode": {
    "name": "ipython",
    "version": 3
   },
   "file_extension": ".py",
   "mimetype": "text/x-python",
   "name": "python",
   "nbconvert_exporter": "python",
   "pygments_lexer": "ipython3",
   "version": "3.9.12"
  }
 },
 "nbformat": 4,
 "nbformat_minor": 5
}
