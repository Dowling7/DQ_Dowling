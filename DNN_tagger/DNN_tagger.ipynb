{
 "cells": [
  {
   "cell_type": "markdown",
   "id": "bf0d6e61",
   "metadata": {},
   "source": [
    "# Particle tagger study at DarkQuest\n",
    "**Author:** Dowling Wong\n",
    "\n",
    "This is the demo on how to use the DNN based multi-class tagger for DarkQuest. In this demo, we are going to stick with dwong.py, the integrated python module for data process and tagging. Please refer to [dwong.py](dwong.py) for detailed implementation of code.\n",
    "## Clustering\n",
    "After reconstruct hits coordinates on EMCAl, we have performed seed-searching algorithm and K-Means clustering. Since Kmeans clustering doesnot counted energy for each hits, centroid may change exceed tolerance during iterations. Return coords, labels, energy, seeds(centroids), in energy decrease order.  \n",
    "## Link algorithm\n",
    "Using tracklet information of station2&3, we perform linear extrapolation to EMCal and station4 hodoscope. By tolerace distance 8cm(for most particles, this value should under 5cm), and assign closest unique track to every h4 hit. \n",
    "\n",
    "## DNN taggers\n",
    "Our DNN Multiclass tagger has 4 binary classifiers:  \n",
    "-[Electron/Positron](NNs/electronID_w_track_95), with AUC 0.95   \n",
    "-[Muon](NNs/muonID_w_track_99), with AUC 0.99  \n",
    "-[Muon](NNs/photonID_w_track_89), with AUC 0.89  \n",
    "-[Pi+/Pi-](NNs/pi+-_ID_w_track_86), with AUC 0.86  \n",
    "AUC gained with equal weight mixture of electron, positron, photon/Pi0, Pi+, Pi-, Klong. Assign particle tag by inspecting array of outputs by NNs.\n",
    "\n",
    "\n",
    "## Py-ROOT binding\n"
   ]
  },
  {
   "cell_type": "code",
   "execution_count": 2,
   "id": "6ea88bb4",
   "metadata": {},
   "outputs": [],
   "source": [
    "import dwong"
   ]
  },
  {
   "cell_type": "code",
   "execution_count": null,
   "id": "11ba8ea4",
   "metadata": {},
   "outputs": [],
   "source": []
  },
  {
   "cell_type": "code",
   "execution_count": null,
   "id": "66b5f62c",
   "metadata": {},
   "outputs": [],
   "source": []
  },
  {
   "cell_type": "code",
   "execution_count": null,
   "id": "11881ae6",
   "metadata": {},
   "outputs": [],
   "source": []
  },
  {
   "cell_type": "code",
   "execution_count": null,
   "id": "60f3d3c2",
   "metadata": {},
   "outputs": [],
   "source": []
  },
  {
   "cell_type": "code",
   "execution_count": null,
   "id": "82888a3d",
   "metadata": {},
   "outputs": [],
   "source": []
  },
  {
   "cell_type": "code",
   "execution_count": null,
   "id": "95e16169",
   "metadata": {},
   "outputs": [],
   "source": []
  }
 ],
 "metadata": {
  "kernelspec": {
   "display_name": "Python 3 (ipykernel)",
   "language": "python",
   "name": "python3"
  },
  "language_info": {
   "codemirror_mode": {
    "name": "ipython",
    "version": 3
   },
   "file_extension": ".py",
   "mimetype": "text/x-python",
   "name": "python",
   "nbconvert_exporter": "python",
   "pygments_lexer": "ipython3",
   "version": "3.11.5"
  }
 },
 "nbformat": 4,
 "nbformat_minor": 5
}
