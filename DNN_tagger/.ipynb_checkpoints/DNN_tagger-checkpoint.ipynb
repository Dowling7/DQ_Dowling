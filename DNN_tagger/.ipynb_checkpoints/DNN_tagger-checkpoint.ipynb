{
 "cells": [
  {
   "cell_type": "markdown",
   "id": "bf0d6e61",
   "metadata": {},
   "source": [
    "# Particle tagger study at DarkQuest\n",
    "This is the demo on how to use the DNN based multi-class tagger for DarkQuest. In this demo, we are going to stick with dwong.py, the integrated python module for data process and tagging.\n",
    "## Clustering\n",
    "\n",
    "## Link algorithm\n",
    "\n",
    "## Checkpoint: CSV saving particle info\n",
    "\n",
    "## DNN taggers\n",
    "Our DNN Multiclass tagger has 6 binary classifiers:\n",
    "-Electron/Positron\n",
    "-\n",
    "-\n",
    "-\n",
    "-\n",
    "\n",
    "\n",
    "## Py-ROOT binding\n"
   ]
  },
  {
   "cell_type": "code",
   "execution_count": null,
   "id": "6ea88bb4",
   "metadata": {},
   "outputs": [],
   "source": []
  }
 ],
 "metadata": {
  "kernelspec": {
   "display_name": "Python 3 (ipykernel)",
   "language": "python",
   "name": "python3"
  },
  "language_info": {
   "codemirror_mode": {
    "name": "ipython",
    "version": 3
   },
   "file_extension": ".py",
   "mimetype": "text/x-python",
   "name": "python",
   "nbconvert_exporter": "python",
   "pygments_lexer": "ipython3",
   "version": "3.11.5"
  }
 },
 "nbformat": 4,
 "nbformat_minor": 5
}
