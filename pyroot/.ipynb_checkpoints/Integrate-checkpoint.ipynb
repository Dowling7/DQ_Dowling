{
 "cells": [
  {
   "cell_type": "code",
   "execution_count": null,
   "id": "26374589",
   "metadata": {},
   "outputs": [],
   "source": [
    "import tensorflow as tf\n",
    "\n",
    "electron_model = tf.keras.models.load_model('/path/to/electron_model')\n",
    "muon_model = tf.keras.models.load_model('/path/to/muon_model')\n",
    "pi_plus_model = tf.keras.models.load_model('/path/to/pi_plus_model')\n",
    "pi_minus_model = tf.keras.models.load_model('/path/to/pi_minus_model')\n",
    "photon_model = tf.keras.models.load_model('/path/to/photon_model')\n",
    "'''\n",
    "EID = \"/Users/wongdowling/Documents/Github/DQ_Dowling/new_ID/w_Ep/NNs/electronID_w_track_95\"\n",
    "MID = \"/Users/wongdowling/Documents/Github/DQ_Dowling/new_ID/w_Ep/NNs/muonID_w_track_99\"\n",
    "PPID = \"/Users/wongdowling/Documents/Github/DQ_Dowling/new_ID/w_Ep/NNs/pi+_ID_w_track_86\"\n",
    "PMID = \"/Users/wongdowling/Documents/Github/DQ_Dowling/new_ID/w_Ep/NNs/pi-_ID_w_track_81\"\n",
    "PHID = \"/Users/wongdowling/Documents/Github/DQ_Dowling/new_ID/w_Ep/NNs/photon_ID_w_track_89\"\n",
    "'''\n"
   ]
  },
  {
   "cell_type": "code",
   "execution_count": null,
   "id": "cbc3428c",
   "metadata": {},
   "outputs": [],
   "source": [
    "def multi_class_tagger(input_file):\n",
    "    df = pd.read_csv(input_file)\n",
    "    processed_data = df[[\"wid_x\", \"wid_y\", \"wew_x\", \"wew_y\", \"seed_x\", \"seed_y\",\n",
    "   \"trkl_x\", \"trkl_y\", \"trkl_z\", \"trkl_px\", \"trkl_py\", \"trkl_pz\",\"E/p\",\n",
    "   \"h4_41\", \"h4_42\", \"h4_43\", \"h4_44\", \"h4_45\", \"h4_46\"]].values\n",
    "    # Get predictions from each model\n",
    "    electron_prob = electron_model.predict(processed_data)\n",
    "    muon_prob = muon_model.predict(processed_data)\n",
    "    pi_plus_prob = pi_plus_model.predict(processed_data)\n",
    "    pi_minus_prob = pi_minus_model.predict(processed_data)\n",
    "    photon_prob = photon_model.predict(processed_data)\n",
    "\n",
    "    # Combine predictions into a single array\n",
    "    combined_probs = [electron_prob, muon_prob, pi_plus_prob, pi_minus_prob, photon_prob]\n",
    "\n",
    "    # Determine the class with the highest probability\n",
    "    final_class = np.argmax(combined_probs)\n",
    "    return final_class"
   ]
  },
  {
   "cell_type": "code",
   "execution_count": null,
   "id": "3982fd52",
   "metadata": {},
   "outputs": [],
   "source": [
    "import ROOT\n",
    "import numpy as np\n",
    "\n",
    "# Open the ROOT file\n",
    "f = ROOT.TFile('muon_520_1000eve.root', 'UPDATE')\n",
    "tree = f.Get('Events')\n",
    "\n",
    "# Prepare a scalar Python variable to hold the data for the new branch\n",
    "new_value = np.array([0], dtype=np.float32)  # Using an array of size 1 for compatibility\n",
    "\n",
    "# Create a new branch. Use the 'new_value' array as the buffer\n",
    "new_branch = tree.Branch('new_branch_name', new_value, 'new_branch_name/F')\n",
    "\n",
    "# Generate or get your data\n",
    "np_array = np.random.rand(1000).astype(np.float32)  # Example data\n",
    "\n",
    "# Fill the branch with data from the NumPy array\n",
    "for value in np_array:\n",
    "    new_value[0] = value  # Update the buffer\n",
    "    tree.Fill()\n",
    "\n",
    "# Write the changes and close the file\n",
    "tree.Write('', ROOT.TObject.kOverwrite)\n",
    "f.Close()\n"
   ]
  }
 ],
 "metadata": {
  "kernelspec": {
   "display_name": "Python 3 (ipykernel)",
   "language": "python",
   "name": "python3"
  },
  "language_info": {
   "codemirror_mode": {
    "name": "ipython",
    "version": 3
   },
   "file_extension": ".py",
   "mimetype": "text/x-python",
   "name": "python",
   "nbconvert_exporter": "python",
   "pygments_lexer": "ipython3",
   "version": "3.9.15"
  }
 },
 "nbformat": 4,
 "nbformat_minor": 5
}
