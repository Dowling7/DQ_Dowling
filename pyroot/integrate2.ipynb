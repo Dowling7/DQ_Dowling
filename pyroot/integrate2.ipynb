{
 "cells": [
  {
   "cell_type": "code",
   "execution_count": null,
   "id": "78038c70",
   "metadata": {},
   "outputs": [],
   "source": [
    "import pandas as pd\n",
    "\n",
    "def gen_csv(processed_data):\n",
    "    # Save processed data to CSV\n",
    "    pd.DataFrame(processed_data).to_csv('processed_data.csv', index=False)\n"
   ]
  },
  {
   "cell_type": "code",
   "execution_count": null,
   "id": "415fd68c",
   "metadata": {},
   "outputs": [],
   "source": [
    "import numpy as np\n",
    "import tensorflow as tf\n",
    "\n",
    "# Assuming models are loaded outside this function\n",
    "def multi_class_tagger(processed_data):\n",
    "    # Perform tagging with neural network\n",
    "    # Example: processed_data is a numpy array or a similar structure that can be fed to the model\n",
    "    combined_probs = [electron_model.predict(processed_data), \n",
    "                      muon_model.predict(processed_data), \n",
    "                      #... other models\n",
    "                     ]\n",
    "    final_class = np.argmax(combined_probs, axis=0)\n",
    "    return final_class\n"
   ]
  },
  {
   "cell_type": "code",
   "execution_count": null,
   "id": "94919170",
   "metadata": {},
   "outputs": [],
   "source": [
    "import ROOT\n",
    "import numpy as np\n",
    "\n",
    "def update_root_file(tagged_data):\n",
    "    f = ROOT.TFile('muon_520_1000eve.root', 'UPDATE')\n",
    "    tree = f.Get('Events')\n",
    "\n",
    "    new_value = np.array([0], dtype=np.float32)  # Using an array for compatibility\n",
    "    new_branch = tree.Branch('new_branch_name', new_value, 'new_branch_name/F')\n",
    "\n",
    "    for value in tagged_data:\n",
    "        new_value[0] = value\n",
    "        tree.Fill()\n",
    "\n",
    "    tree.Write('', ROOT.TObject.kOverwrite)\n",
    "    f.Close()\n"
   ]
  },
  {
   "cell_type": "code",
   "execution_count": null,
   "id": "91b8da9b",
   "metadata": {},
   "outputs": [],
   "source": [
    "from multiprocessing import Process\n",
    "\n",
    "def process_data():\n",
    "    # Process your data here\n",
    "    processed_data = ...\n",
    "\n",
    "    # Start two parallel processes\n",
    "    csv_process = Process(target=gen_csv, args=(processed_data,))\n",
    "    tagging_process = Process(target=multi_class_tagger, args=(processed_data,))\n",
    "\n",
    "    csv_process.start()\n",
    "    tagging_process.start()\n",
    "\n",
    "    csv_process.join()\n",
    "    tagged_data = tagging_process.join()\n",
    "\n",
    "    # Update ROOT file with tagged data\n",
    "    update_root_file(tagged_data)\n",
    "\n"
   ]
  },
  {
   "cell_type": "code",
   "execution_count": null,
   "id": "03eb486c",
   "metadata": {},
   "outputs": [],
   "source": []
  }
 ],
 "metadata": {
  "kernelspec": {
   "display_name": "Python 3 (ipykernel)",
   "language": "python",
   "name": "python3"
  },
  "language_info": {
   "codemirror_mode": {
    "name": "ipython",
    "version": 3
   },
   "file_extension": ".py",
   "mimetype": "text/x-python",
   "name": "python",
   "nbconvert_exporter": "python",
   "pygments_lexer": "ipython3",
   "version": "3.9.15"
  }
 },
 "nbformat": 4,
 "nbformat_minor": 5
}
