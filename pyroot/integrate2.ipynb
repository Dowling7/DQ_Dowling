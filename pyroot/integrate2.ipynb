{
 "cells": [
  {
   "cell_type": "code",
   "execution_count": null,
   "id": "03eb486c",
   "metadata": {},
   "outputs": [],
   "source": [
    "import pandas as pd\n",
    "from multiprocessing import Process\n",
    "import ROOT\n",
    "import numpy as np\n",
    "\n",
    "\n",
    "\n",
    "def gen_csv(flat_list, path, csv_name):\n",
    "    headers = [\"Label\", \"gpz\", \"wid_x\", \"wid_y\", \"wew_x\", \"wew_y\", \"seed_x\", \"seed_y\",\n",
    "               \"trkl_x\", \"trkl_y\", \"trkl_z\", \"trkl_px\", \"trkl_py\", \"trkl_pz\", \"E/p\",\n",
    "               \"h4_41\", \"h4_42\", \"h4_43\", \"h4_44\", \"h4_45\", \"h4_46\"]\n",
    "    file_path = path+csv_name\n",
    "\n",
    "    with open(file_path, 'w', newline='') as file:\n",
    "        writer = csv.writer(file)\n",
    "\n",
    "        writer.writerow(headers)\n",
    "\n",
    "        writer.writerows(labeled_flat_list)\n",
    "    \n",
    "def process_data(filename):\n",
    "    folded_list=dwong.prepare_data_evt(filename)#folded in evts\n",
    "    nevts=len(folded_list)\n",
    "    flat_list = [particle for event in folded_list for particle in event]#flat list for particles, information\n",
    "    \n",
    "    file_name = filename.split(\"/\")[-1]\n",
    "    particle_name = file_name.split(\"_\")[0]\n",
    "    csv_name = '%s_%d.csv'%particle_name, %nevts\n",
    "\n",
    "\n",
    "\n",
    "    # Start two parallel processes\n",
    "    csv_process = Process(target=gen_csv, args=(processed_data,))\n",
    "    tagging_process = Process(target=multi_class_tagger, args=(processed_data,))\n",
    "\n",
    "    csv_process.start()\n",
    "    tagging_process.start()\n",
    "\n",
    "    csv_process.join()\n",
    "    tagged_data = tagging_process.join()\n",
    "\n",
    "    # Update ROOT file with tagged data\n",
    "    update_root_file(tagged_data)\n",
    "    \n",
    "def update_root_file(tagged_data):\n",
    "    f = ROOT.TFile('muon_520_1000eve.root', 'UPDATE')\n",
    "    tree = f.Get('Events')\n",
    "\n",
    "    new_value = np.array([0], dtype=np.float32)  # Using an array for compatibility\n",
    "    new_branch = tree.Branch('new_branch_name', new_value, 'new_branch_name/F')\n",
    "\n",
    "    for value in tagged_data:\n",
    "        new_value[0] = value\n",
    "        tree.Fill()\n",
    "\n",
    "    tree.Write('', ROOT.TObject.kOverwrite)\n",
    "    f.Close()\n",
    "\n",
    "def multi_class_tagger(processed_data):\n",
    "    # Perform tagging with neural network\n",
    "    # Example: processed_data is a numpy array or a similar structure that can be fed to the model\n",
    "    combined_probs = [electron_model.predict(processed_data), \n",
    "                      muon_model.predict(processed_data), \n",
    "                      #... other models\n",
    "                     ]\n",
    "    final_class = np.argmax(combined_probs, axis=0)\n",
    "    return final_class\n"
   ]
  },
  {
   "cell_type": "code",
   "execution_count": 1,
   "id": "5ace3031",
   "metadata": {},
   "outputs": [
    {
     "name": "stdout",
     "output_type": "stream",
     "text": [
      "Welcome to JupyROOT 6.26/04\n"
     ]
    }
   ],
   "source": [
    "import pandas as pd\n",
    "import ROOT\n",
    "import numpy as np\n",
    "import csv\n",
    "import dwong"
   ]
  },
  {
   "cell_type": "code",
   "execution_count": 3,
   "id": "617bdfdf",
   "metadata": {},
   "outputs": [],
   "source": [
    "folded_list = dwong.prepare_data_evt(\"muon_520_1000eve.root\")\n",
    "flat_list = [[event_number] + particle for event_number, event in enumerate(folded_list, start=1) for particle in event]\n",
    "headers = [\"n_evt\", \"gpz\", \"wid_x\", \"wid_y\", \"wew_x\", \"wew_y\", \"seed_x\", \"seed_y\",\n",
    "               \"trkl_x\", \"trkl_y\", \"trkl_z\", \"trkl_px\", \"trkl_py\", \"trkl_pz\", \"E/p\",\n",
    "               \"h4_41\", \"h4_42\", \"h4_43\", \"h4_44\", \"h4_45\", \"h4_46\"]\n",
    "file_path = \"muon.csv\"\n",
    "with open(file_path, 'w', newline='') as file:\n",
    "    writer = csv.writer(file)\n",
    "\n",
    "    writer.writerow(headers)\n",
    "\n",
    "    writer.writerows(flat_list)\n"
   ]
  },
  {
   "cell_type": "code",
   "execution_count": null,
   "id": "8e68ea39",
   "metadata": {},
   "outputs": [],
   "source": []
  }
 ],
 "metadata": {
  "kernelspec": {
   "display_name": "Python 3 (ipykernel)",
   "language": "python",
   "name": "python3"
  },
  "language_info": {
   "codemirror_mode": {
    "name": "ipython",
    "version": 3
   },
   "file_extension": ".py",
   "mimetype": "text/x-python",
   "name": "python",
   "nbconvert_exporter": "python",
   "pygments_lexer": "ipython3",
   "version": "3.9.15"
  }
 },
 "nbformat": 4,
 "nbformat_minor": 5
}
