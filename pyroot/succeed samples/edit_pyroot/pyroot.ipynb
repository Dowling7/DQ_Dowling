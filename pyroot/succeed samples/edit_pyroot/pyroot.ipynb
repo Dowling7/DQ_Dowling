{
 "cells": [
  {
   "cell_type": "code",
   "execution_count": 2,
   "id": "bd4d719d",
   "metadata": {},
   "outputs": [],
   "source": [
    "import ROOT\n",
    "import numpy as np\n",
    "\n",
    "# Open the ROOT file\n",
    "f = ROOT.TFile('muon_520_1000eve.root', 'UPDATE')\n",
    "tree = f.Get('Events')\n",
    "\n",
    "# Prepare a scalar Python variable to hold the data for the new branch\n",
    "new_value = np.array([0], dtype=np.float32)  # Using an array of size 1 for compatibility\n",
    "\n",
    "# Create a new branch. Use the 'new_value' array as the buffer\n",
    "new_branch = tree.Branch('new_branch_name', new_value, 'new_branch_name/F')\n",
    "\n",
    "# Generate or get your data\n",
    "np_array = np.random.rand(1000).astype(np.float32)  # Example data\n",
    "\n",
    "# Fill the branch with data from the NumPy array\n",
    "for value in np_array:\n",
    "    new_value[0] = value  # Update the buffer\n",
    "    tree.Fill()\n",
    "\n",
    "# Write the changes and close the file\n",
    "tree.Write('', ROOT.TObject.kOverwrite)\n",
    "f.Close()\n"
   ]
  },
  {
   "cell_type": "code",
   "execution_count": null,
   "id": "b9cc9de6",
   "metadata": {},
   "outputs": [],
   "source": []
  }
 ],
 "metadata": {
  "kernelspec": {
   "display_name": "Python 3 (ipykernel)",
   "language": "python",
   "name": "python3"
  },
  "language_info": {
   "codemirror_mode": {
    "name": "ipython",
    "version": 3
   },
   "file_extension": ".py",
   "mimetype": "text/x-python",
   "name": "python",
   "nbconvert_exporter": "python",
   "pygments_lexer": "ipython3",
   "version": "3.9.15"
  }
 },
 "nbformat": 4,
 "nbformat_minor": 5
}
