{
 "cells": [
  {
   "cell_type": "code",
   "execution_count": 1,
   "id": "4e2774bd",
   "metadata": {},
   "outputs": [],
   "source": [
    "import dwong\n",
    "import csv\n",
    "import pandas as pd\n",
    "import numpy as np"
   ]
  },
  {
   "cell_type": "code",
   "execution_count": 2,
   "id": "910f6ec1",
   "metadata": {},
   "outputs": [],
   "source": [
    "def gen_csv():\n",
    "    dwong.os.chdir(\"/Users/wongdowling/Desktop/DQ_Dowling/ntuple_1000\")\n",
    "    types=[\"electron\", \"muon\", \"pi+\", \"pi-\", \"pi0\", \"positron\", \"photon\"]#kaon only have 529/1000 EMCal info\n",
    "    out_path=\"/Users/wongdowling/Desktop/DQ_Dowling/electron/csv/\"\n",
    "    mergedT=[]\n",
    "    for item in types:\n",
    "        wew=dwong.gen_wew(dwong.evt_1000[item])\n",
    "        wid=dwong.gen_wid(dwong.evt_1000[item])\n",
    "        diff=dwong.matchup(dwong.evt_1000[item])\n",
    "        Ep=dwong.gen_Ep(dwong.evt_1000[item])\n",
    "        if (item==\"electron\" or item==\"positron\"):\n",
    "            mergedT.append(tuple(zip(tuple([1]*len(wew[0])), wew[0], wew[1], wid[0], wid[1], diff[0], diff[1], Ep)))\n",
    "        else:\n",
    "            mergedT.append(tuple(zip(np.zeros(len(wew[0])), wew[0], wew[1], wid[0], wid[1], diff[0], diff[1], Ep)))\n",
    "    flat=dwong.flatten(mergedT)\n",
    "    header=[\"label\",\"wew_x\", \"wew_y\", \"wid_x\", \"wid_y\",\"diff_x\",\"diff_y\", \"E/p\"]\n",
    "    with open('%sEp_init.csv'%out_path, 'w', encoding='UTF8') as f1:\n",
    "        writer = csv.writer(f1)\n",
    "        writer.writerow(header)\n",
    "        writer.writerows(flat)\n",
    "    \n",
    "    "
   ]
  },
  {
   "cell_type": "code",
   "execution_count": 2,
   "id": "4ab06661",
   "metadata": {},
   "outputs": [],
   "source": [
    "def gen_emcal():\n",
    "    dwong.os.chdir(\"/Users/wongdowling/Desktop/DQ_Dowling/ntuple_1000\")\n",
    "    types=[\"electron\", \"muon\", \"pi+\", \"pi-\", \"pi0\", \"positron\"]#kaon only have 529/1000 EMCal info\n",
    "    out_path=\"/Users/wongdowling/Desktop/DQ_Dowling/electron/csv/\"\n",
    "    mergedT=[]\n",
    "    for item in types:\n",
    "        wew=dwong.gen_wew(dwong.evt_1000[item])\n",
    "        wid=dwong.gen_wid(dwong.evt_1000[item])\n",
    "        skew=dwong.gen_skew(dwong.evt_1000[item])\n",
    "        kurt=dwong.gen_kurt(dwong.evt_1000[item])\n",
    "        num_clus=dwong.Clustering_tuple(dwong.evt_1000[item])[5]\n",
    "        vtrack=dwong.get_valid_st3(dwong.evt_1000[item])\n",
    "        if (item==\"electron\" or item==\"positron\"):\n",
    "            mergedT.append(tuple(zip(tuple([1]*len(wew[0])), wew[0], wew[1], wid[0], wid[1], skew[0], skew[1], kurt[0], kurt[1], num_clus, vtrack )))\n",
    "        else:\n",
    "            mergedT.append(tuple(zip(np.zeros(len(wew[0])), wew[0], wew[1], wid[0], wid[1], skew[0], skew[1], kurt[0], kurt[1], num_clus, vtrack)))\n",
    "    flat=dwong.flatten(mergedT)\n",
    "    header=[\"label\",\"wew_x\", \"wew_y\", \"wid_x\", \"wid_y\",\"skew_x\",\"skew_y\", \"kurt_x\",\"kurt_y\",\"num_clus\", \"valid_st3\"]\n",
    "    with open('%spure_emcal.csv'%out_path, 'w', encoding='UTF8') as f1:\n",
    "        writer = csv.writer(f1)\n",
    "        writer.writerow(header)\n",
    "        writer.writerows(flat)\n",
    "    "
   ]
  },
  {
   "cell_type": "code",
   "execution_count": 3,
   "id": "b96d9b34",
   "metadata": {},
   "outputs": [
    {
     "ename": "TypeError",
     "evalue": "object of type 'int' has no len()",
     "output_type": "error",
     "traceback": [
      "\u001b[0;31m---------------------------------------------------------------------------\u001b[0m",
      "\u001b[0;31mTypeError\u001b[0m                                 Traceback (most recent call last)",
      "Cell \u001b[0;32mIn[3], line 1\u001b[0m\n\u001b[0;32m----> 1\u001b[0m \u001b[43mgen_emcal\u001b[49m\u001b[43m(\u001b[49m\u001b[43m)\u001b[49m\n",
      "Cell \u001b[0;32mIn[2], line 12\u001b[0m, in \u001b[0;36mgen_emcal\u001b[0;34m()\u001b[0m\n\u001b[1;32m     10\u001b[0m kurt\u001b[38;5;241m=\u001b[39mdwong\u001b[38;5;241m.\u001b[39mgen_kurt(dwong\u001b[38;5;241m.\u001b[39mevt_1000[item])\n\u001b[1;32m     11\u001b[0m num_clus\u001b[38;5;241m=\u001b[39mdwong\u001b[38;5;241m.\u001b[39mClustering_tuple(dwong\u001b[38;5;241m.\u001b[39mevt_1000[item])[\u001b[38;5;241m5\u001b[39m]\n\u001b[0;32m---> 12\u001b[0m vtrack\u001b[38;5;241m=\u001b[39m\u001b[43mdwong\u001b[49m\u001b[38;5;241;43m.\u001b[39;49m\u001b[43mget_valid_st3\u001b[49m\u001b[43m(\u001b[49m\u001b[43mdwong\u001b[49m\u001b[38;5;241;43m.\u001b[39;49m\u001b[43mevt_1000\u001b[49m\u001b[43m[\u001b[49m\u001b[43mitem\u001b[49m\u001b[43m]\u001b[49m\u001b[43m)\u001b[49m\n\u001b[1;32m     13\u001b[0m \u001b[38;5;28;01mif\u001b[39;00m (item\u001b[38;5;241m==\u001b[39m\u001b[38;5;124m\"\u001b[39m\u001b[38;5;124melectron\u001b[39m\u001b[38;5;124m\"\u001b[39m \u001b[38;5;129;01mor\u001b[39;00m item\u001b[38;5;241m==\u001b[39m\u001b[38;5;124m\"\u001b[39m\u001b[38;5;124mpositron\u001b[39m\u001b[38;5;124m\"\u001b[39m):\n\u001b[1;32m     14\u001b[0m     mergedT\u001b[38;5;241m.\u001b[39mappend(\u001b[38;5;28mtuple\u001b[39m(\u001b[38;5;28mzip\u001b[39m(\u001b[38;5;28mtuple\u001b[39m([\u001b[38;5;241m1\u001b[39m]\u001b[38;5;241m*\u001b[39m\u001b[38;5;28mlen\u001b[39m(wew[\u001b[38;5;241m0\u001b[39m])), wew[\u001b[38;5;241m0\u001b[39m], wew[\u001b[38;5;241m1\u001b[39m], wid[\u001b[38;5;241m0\u001b[39m], wid[\u001b[38;5;241m1\u001b[39m], skew[\u001b[38;5;241m0\u001b[39m], skew[\u001b[38;5;241m1\u001b[39m], kurt[\u001b[38;5;241m0\u001b[39m], kurt[\u001b[38;5;241m1\u001b[39m], num_clus, vtrack )))\n",
      "File \u001b[0;32m~/Desktop/DQ_Dowling/electron/csv/dwong.py:256\u001b[0m, in \u001b[0;36mget_valid_st3\u001b[0;34m(file)\u001b[0m\n\u001b[1;32m    254\u001b[0m number\u001b[38;5;241m=\u001b[39m[]\n\u001b[1;32m    255\u001b[0m \u001b[38;5;28;01mfor\u001b[39;00m item \u001b[38;5;129;01min\u001b[39;00m ntrack:\n\u001b[0;32m--> 256\u001b[0m     number\u001b[38;5;241m.\u001b[39mappend(\u001b[38;5;28;43mlen\u001b[39;49m\u001b[43m(\u001b[49m\u001b[43mitem\u001b[49m\u001b[43m)\u001b[49m)\n\u001b[1;32m    257\u001b[0m \u001b[38;5;28;01mreturn\u001b[39;00m number\n",
      "\u001b[0;31mTypeError\u001b[0m: object of type 'int' has no len()"
     ]
    }
   ],
   "source": [
    "gen_emcal()"
   ]
  },
  {
   "cell_type": "code",
   "execution_count": 4,
   "id": "ee559db8",
   "metadata": {},
   "outputs": [
    {
     "ename": "TypeError",
     "evalue": "object of type 'int' has no len()",
     "output_type": "error",
     "traceback": [
      "\u001b[0;31m---------------------------------------------------------------------------\u001b[0m",
      "\u001b[0;31mTypeError\u001b[0m                                 Traceback (most recent call last)",
      "Cell \u001b[0;32mIn[4], line 5\u001b[0m\n\u001b[1;32m      3\u001b[0m vtrack\u001b[38;5;241m=\u001b[39m[]\n\u001b[1;32m      4\u001b[0m \u001b[38;5;28;01mfor\u001b[39;00m item \u001b[38;5;129;01min\u001b[39;00m types:\n\u001b[0;32m----> 5\u001b[0m     vtrack\u001b[38;5;241m.\u001b[39mappend(\u001b[43mdwong\u001b[49m\u001b[38;5;241;43m.\u001b[39;49m\u001b[43mget_valid_st3\u001b[49m\u001b[43m(\u001b[49m\u001b[43mdwong\u001b[49m\u001b[38;5;241;43m.\u001b[39;49m\u001b[43mevt_1000\u001b[49m\u001b[43m[\u001b[49m\u001b[43mitem\u001b[49m\u001b[43m]\u001b[49m\u001b[43m)\u001b[49m)\n",
      "File \u001b[0;32m~/Desktop/DQ_Dowling/electron/csv/dwong.py:256\u001b[0m, in \u001b[0;36mget_valid_st3\u001b[0;34m(file)\u001b[0m\n\u001b[1;32m    254\u001b[0m number\u001b[38;5;241m=\u001b[39m[]\n\u001b[1;32m    255\u001b[0m \u001b[38;5;28;01mfor\u001b[39;00m item \u001b[38;5;129;01min\u001b[39;00m ntrack:\n\u001b[0;32m--> 256\u001b[0m     number\u001b[38;5;241m.\u001b[39mappend(\u001b[38;5;28;43mlen\u001b[39;49m\u001b[43m(\u001b[49m\u001b[43mitem\u001b[49m\u001b[43m)\u001b[49m)\n\u001b[1;32m    257\u001b[0m \u001b[38;5;28;01mreturn\u001b[39;00m number\n",
      "\u001b[0;31mTypeError\u001b[0m: object of type 'int' has no len()"
     ]
    }
   ],
   "source": [
    "dwong.os.chdir(\"/Users/wongdowling/Desktop/DQ_Dowling/ntuple_1000\")\n",
    "types=[\"electron\", \"muon\", \"pi+\", \"pi-\", \"pi0\", \"positron\"]#kaon only have 529/1000 EMCal info\n",
    "vtrack=[]\n",
    "for item in types:\n",
    "    vtrack.append(dwong.get_valid_st3(dwong.evt_1000[item]))\n"
   ]
  },
  {
   "cell_type": "code",
   "execution_count": null,
   "id": "9075bc28",
   "metadata": {},
   "outputs": [],
   "source": []
  }
 ],
 "metadata": {
  "kernelspec": {
   "display_name": "Python 3 (ipykernel)",
   "language": "python",
   "name": "python3"
  },
  "language_info": {
   "codemirror_mode": {
    "name": "ipython",
    "version": 3
   },
   "file_extension": ".py",
   "mimetype": "text/x-python",
   "name": "python",
   "nbconvert_exporter": "python",
   "pygments_lexer": "ipython3",
   "version": "3.9.16"
  }
 },
 "nbformat": 4,
 "nbformat_minor": 5
}
