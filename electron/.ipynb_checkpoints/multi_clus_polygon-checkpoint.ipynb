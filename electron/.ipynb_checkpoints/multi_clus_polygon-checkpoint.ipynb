{
 "cells": [
  {
   "cell_type": "code",
   "execution_count": 2,
   "id": "6a0895ea",
   "metadata": {},
   "outputs": [],
   "source": [
    "import dwong"
   ]
  },
  {
   "cell_type": "code",
   "execution_count": 47,
   "id": "bfd22172",
   "metadata": {},
   "outputs": [],
   "source": [
    "def clus_coord(file):\n",
    "    (labels, labels_decrease, x_tup, y_tup, eng_tup, num_clus)=dwong.Clustering_multi(file)\n",
    "    coord=[]#designed to be 4D(evt-clsuter(decreasing order)-list of xyz- xyz))\n",
    "    wew_center=[]\n",
    "    for i in range(len(labels)):#loop through evts\n",
    "        evt_coord=[]\n",
    "        evt_wew_center=[]\n",
    "        for item in labels_decrease[i]:\n",
    "            indices = dwong.np.argwhere(labels[i]==item)\n",
    "            xvals = dwong.flatten(x_tup[i][indices])\n",
    "            yvals = dwong.flatten(y_tup[i][indices])\n",
    "            energies = dwong.flatten(eng_tup[i][indices])\n",
    "            xy=dwong.np.column_stack((xvals, yvals))\n",
    "            hull = ConvexHull(xy)\n",
    "            evt_coord.append([xvals, yvals, energies])#cluster coord in []\n",
    "            eng_tot=sum(energies)\n",
    "            evt_wew_center.append((dwong.np.dot(xvals, energies)/eng_tot, dwong.np.dot(yvals, energies)/eng_tot)) #center for each cluster\n",
    "        coord.append(evt_coord)\n",
    "        wew_center.append(evt_wew_center)\n",
    "    return coord, wew_center\n",
    "\n",
    "    "
   ]
  },
  {
   "cell_type": "code",
   "execution_count": null,
   "id": "5ff4b1f9",
   "metadata": {},
   "outputs": [],
   "source": [
    "def multi_clus_matchup(file):\n"
   ]
  },
  {
   "cell_type": "code",
   "execution_count": 9,
   "id": "c895c56e",
   "metadata": {},
   "outputs": [],
   "source": [
    "dwong.os.chdir(\"/Users/wongdowling/Desktop/DQ_Dowling/ntuple_1000\")\n",
    "file=\"electron_520_1000eve.root\"\n",
    "(coord, wew_center)=dwong.clus_coord(file)\n",
    "dq_events = dwong.getData(file,\"Events\")\n",
    "st3_cal_x=dq_events[\"st23\"].Cal_x.tolist()\n",
    "st3_cal_y=dq_events[\"st23\"].Cal_y.tolist()\n",
    "    \n",
    "    "
   ]
  },
  {
   "cell_type": "code",
   "execution_count": 32,
   "id": "3b2d8754",
   "metadata": {
    "scrolled": true
   },
   "outputs": [
    {
     "name": "stdout",
     "output_type": "stream",
     "text": [
      "33 33 33\n"
     ]
    }
   ],
   "source": [
    "print(len(coord[0][0][0]), len(coord[0][0][1]), len(coord[0][0][2]))"
   ]
  },
  {
   "cell_type": "code",
   "execution_count": 35,
   "id": "371a6a41",
   "metadata": {},
   "outputs": [],
   "source": [
    "xy=dwong.np.column_stack((coord[0][0][0], coord[0][0][1]))"
   ]
  },
  {
   "cell_type": "code",
   "execution_count": 36,
   "id": "c62c8e22",
   "metadata": {},
   "outputs": [
    {
     "data": {
      "text/plain": [
       "array([[-39.63, -17.05],\n",
       "       [-28.57,  -0.46],\n",
       "       [-23.04,  -5.99],\n",
       "       [-23.04,  -0.46],\n",
       "       [-17.51, -11.52],\n",
       "       [-17.51,  -5.99],\n",
       "       [-17.51,  -0.46],\n",
       "       [-17.51,   5.07],\n",
       "       [-17.51,  16.13],\n",
       "       [-11.98, -22.58],\n",
       "       [-11.98, -11.52],\n",
       "       [-11.98,  -5.99],\n",
       "       [-11.98,  -0.46],\n",
       "       [-11.98,   5.07],\n",
       "       [-11.98,  10.6 ],\n",
       "       [ -6.45, -17.05],\n",
       "       [ -6.45, -11.52],\n",
       "       [ -6.45,  -5.99],\n",
       "       [ -6.45,  -0.46],\n",
       "       [ -6.45,   5.07],\n",
       "       [ -6.45,  10.6 ],\n",
       "       [ -0.92,  -5.99],\n",
       "       [ -0.92,  -0.46],\n",
       "       [ -0.92,   5.07],\n",
       "       [ -0.92,  10.6 ],\n",
       "       [ -0.92,  16.13],\n",
       "       [ -0.92,  21.66],\n",
       "       [  4.61,  -5.99],\n",
       "       [  4.61,  -0.46],\n",
       "       [  4.61,   5.07],\n",
       "       [ 10.14, -11.52],\n",
       "       [ 10.14,  -5.99],\n",
       "       [ 10.14,  -0.46]])"
      ]
     },
     "execution_count": 36,
     "metadata": {},
     "output_type": "execute_result"
    }
   ],
   "source": [
    "xy"
   ]
  },
  {
   "cell_type": "code",
   "execution_count": 42,
   "id": "c1e33543",
   "metadata": {},
   "outputs": [
    {
     "ename": "AttributeError",
     "evalue": "'ConvexHull' object has no attribute 'contains_point'",
     "output_type": "error",
     "traceback": [
      "\u001b[0;31m---------------------------------------------------------------------------\u001b[0m",
      "\u001b[0;31mAttributeError\u001b[0m                            Traceback (most recent call last)",
      "Cell \u001b[0;32mIn[42], line 9\u001b[0m\n\u001b[1;32m      6\u001b[0m \u001b[38;5;28;01mfor\u001b[39;00m simplex \u001b[38;5;129;01min\u001b[39;00m hull\u001b[38;5;241m.\u001b[39msimplices:\n\u001b[1;32m      7\u001b[0m     plt\u001b[38;5;241m.\u001b[39mplot(xy[simplex, \u001b[38;5;241m0\u001b[39m], xy[simplex, \u001b[38;5;241m1\u001b[39m], \u001b[38;5;124m'\u001b[39m\u001b[38;5;124mk-\u001b[39m\u001b[38;5;124m'\u001b[39m)\n\u001b[0;32m----> 9\u001b[0m is_inside_target_cluster \u001b[38;5;241m=\u001b[39m \u001b[43mhull\u001b[49m\u001b[38;5;241;43m.\u001b[39;49m\u001b[43mcontains_point\u001b[49m((\u001b[38;5;241m15\u001b[39m, \u001b[38;5;241m20\u001b[39m))\n",
      "\u001b[0;31mAttributeError\u001b[0m: 'ConvexHull' object has no attribute 'contains_point'"
     ]
    },
    {
     "data": {
      "image/png": "[encoded data removed]",
      "text/plain": [
       "<Figure size 640x480 with 1 Axes>"
      ]
     },
     "metadata": {},
     "output_type": "display_data"
    }
   ],
   "source": [
    "from scipy.spatial import ConvexHull, convex_hull_plot_2d\n",
    "import numpy as np\n",
    "from shapely.geometry import Point, Polygon\n",
    "\n",
    "hull = ConvexHull(xy)\n",
    "polygon = Polygon(target_cluster_points[hull.vertices])\n",
    "print(is_inside_target_cluster = polygon.contains(point))\n",
    "import matplotlib.pyplot as plt\n",
    "plt.plot(xy[:,0], xy[:,1], 'o')\n",
    "for simplex in hull.simplices:\n",
    "    plt.plot(xy[simplex, 0], xy[simplex, 1], 'k-')\n",
    "\n",
    "is_inside_target_cluster = hull.contains_point((15, 20))"
   ]
  },
  {
   "cell_type": "code",
   "execution_count": 53,
   "id": "73a211a7",
   "metadata": {},
   "outputs": [],
   "source": [
    "from scipy.spatial import ConvexHull\n",
    "import numpy as np\n",
    "from shapely.geometry import Point, Polygon\n",
    "point=Point(3,8)\n",
    "hull = ConvexHull(xy)\n",
    "polygon = Polygon(xy[hull.vertices])\n",
    "a=is_inside_target_cluster = polygon.contains(point)"
   ]
  },
  {
   "cell_type": "code",
   "execution_count": 54,
   "id": "621da92b",
   "metadata": {},
   "outputs": [
    {
     "data": {
      "text/plain": [
       "True"
      ]
     },
     "execution_count": 54,
     "metadata": {},
     "output_type": "execute_result"
    }
   ],
   "source": [
    "a"
   ]
  },
  {
   "cell_type": "code",
   "execution_count": 55,
   "id": "c7715dd1",
   "metadata": {},
   "outputs": [],
   "source": [
    "from scipy import spatial\n"
   ]
  },
  {
   "cell_type": "code",
   "execution_count": 56,
   "id": "bd88a801",
   "metadata": {},
   "outputs": [],
   "source": [
    "hull = ConvexHull(xy)\n"
   ]
  },
  {
   "cell_type": "code",
   "execution_count": null,
   "id": "5bcb704c",
   "metadata": {},
   "outputs": [],
   "source": []
  }
 ],
 "metadata": {
  "kernelspec": {
   "display_name": "Python 3 (ipykernel)",
   "language": "python",
   "name": "python3"
  },
  "language_info": {
   "codemirror_mode": {
    "name": "ipython",
    "version": 3
   },
   "file_extension": ".py",
   "mimetype": "text/x-python",
   "name": "python",
   "nbconvert_exporter": "python",
   "pygments_lexer": "ipython3",
   "version": "3.9.16"
  }
 },
 "nbformat": 4,
 "nbformat_minor": 5
}
