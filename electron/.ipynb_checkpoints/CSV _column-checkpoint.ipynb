{
 "cells": [
  {
   "cell_type": "code",
   "execution_count": 3,
   "id": "4e2774bd",
   "metadata": {},
   "outputs": [],
   "source": [
    "import dwong\n",
    "import csv\n",
    "import pandas as pd\n",
    "import numpy as np"
   ]
  },
  {
   "cell_type": "code",
   "execution_count": 4,
   "id": "910f6ec1",
   "metadata": {},
   "outputs": [],
   "source": [
    "def gen_csv(name):\n",
    "    dwong.os.chdir(\"/Users/wongdowling/Desktop/DQ_Dowling/ntuple_1000\")\n",
    "    wew=dwong.gen_wew(dwong.evt_1000[name])\n",
    "    wid=dwong.gen_wid(dwong.evt_1000[name])\n",
    "    diff=dwong.matchup(dwong.evt_1000[name])\n",
    "    out_path=\"/Users/wongdowling/Desktop/DQ_Dowling/electron/csv/\"\n",
    "    mergedT_x = tuple(zip(wew[0], wid[0], tuple(diff[0])))\n",
    "    mergedT_y = tuple(zip(wew[1], wid[1], tuple(diff[1])))\n",
    "    with open('%s%s_x.csv'%(out_path, name), 'w', encoding='UTF8', newline='') as file:\n",
    "        writer = csv.writer(file)\n",
    "        writer.writerow(mergedT_x)\n",
    "    with open('%s%s_y.csv'%(out_path, name), 'w', encoding='UTF8', newline='') as file:\n",
    "        writer = csv.writer(file)\n",
    "        writer.writerow(mergedT_y)"
   ]
  },
  {
   "cell_type": "code",
   "execution_count": 18,
   "id": "734ec5e5",
   "metadata": {},
   "outputs": [],
   "source": [
    "def wew_csv():\n",
    "    dwong.os.chdir(\"/Users/wongdowling/Desktop/DQ_Dowling/ntuple_1000\")\n",
    "    out_path=\"/Users/wongdowling/Desktop/DQ_Dowling/electron/csv/\"\n",
    "    types=[ \"electron\", \"muon\", \"pi+\", \"pi-\", \"pi0\", \"positron\", \"photon\"]#kaon only have 529 wew\n",
    "    wew_x=[]\n",
    "    wew_y=[]\n",
    "    for item in types:\n",
    "        wew=dwong.gen_wew(dwong.evt_1000[item])\n",
    "        wew_x.append(wew[0])\n",
    "        wew_y.append(wew[1])\n",
    "    with open('%swew_x.csv'%out_path, 'w', encoding='UTF8') as f1:\n",
    "        writer = csv.writer(f1)\n",
    "        writer.writerow(types)\n",
    "        writer.writerows([*zip(*wew_x)])\n",
    "        \n",
    "    with open('%swew_y.csv'%out_path, 'w', encoding='UTF8') as f2:\n",
    "        writer = csv.writer(f2)\n",
    "        writer.writerow(types)\n",
    "        writer.writerows([*zip(*wew_y)])\n",
    "    \n",
    "    "
   ]
  },
  {
   "cell_type": "code",
   "execution_count": 24,
   "id": "ec8f3303-a3f1-4601-ba81-2dbfce21567e",
   "metadata": {},
   "outputs": [],
   "source": [
    "def wid_csv():\n",
    "    dwong.os.chdir(\"/Users/wongdowling/Desktop/DQ_Dowling/ntuple_1000\")\n",
    "    out_path=\"/Users/wongdowling/Desktop/DQ_Dowling/electron/csv/\"\n",
    "    types=[ \"electron\", \"muon\", \"pi+\", \"pi-\", \"pi0\", \"positron\", \"photon\"]#kaon only have 529 wew\n",
    "    wid_x=[]\n",
    "    wid_y=[]\n",
    "    for item in types:\n",
    "        wid=dwong.gen_wid(dwong.evt_1000[item])\n",
    "        wid_x.append(wid[0])\n",
    "        wid_y.append(wid[1])\n",
    "    with open('%swid_x.csv'%out_path, 'w', encoding='UTF8') as f1:\n",
    "        writer = csv.writer(f1)\n",
    "        writer.writerow(types)\n",
    "        writer.writerows([*zip(*wid_x)])\n",
    "        \n",
    "    with open('%swid_y.csv'%out_path, 'w', encoding='UTF8') as f2:\n",
    "        writer = csv.writer(f2)\n",
    "        writer.writerow(types)\n",
    "        writer.writerows([*zip(*wid_y)])\n",
    "    \n",
    "    "
   ]
  },
  {
   "cell_type": "code",
   "execution_count": 83,
   "id": "c7afb218",
   "metadata": {},
   "outputs": [],
   "source": [
    "data=pd.read_csv('%s%s_x.csv'%(out_path, name))"
   ]
  },
  {
   "cell_type": "code",
   "execution_count": 68,
   "id": "730f8686",
   "metadata": {},
   "outputs": [],
   "source": [
    "mergedT_x = tuple(zip(wew[0], wid[0], tuple(diff[0])))\n",
    "mergedT_y = tuple(zip(wew[1], wid[1], tuple(diff[1])))"
   ]
  },
  {
   "cell_type": "code",
   "execution_count": 3,
   "id": "9607303a",
   "metadata": {},
   "outputs": [
    {
     "data": {
      "text/plain": [
       "[('a', 'd', 'g'), ('b', 'e', 'h'), ('c', 'f', 'i')]"
      ]
     },
     "execution_count": 3,
     "metadata": {},
     "output_type": "execute_result"
    }
   ],
   "source": [
    "theArray = [['a','b','c'],['d','e','f'],['g','h','i']]\n",
    "[*zip(*theArray)]"
   ]
  },
  {
   "cell_type": "code",
   "execution_count": 19,
   "id": "f47ed21d",
   "metadata": {},
   "outputs": [],
   "source": [
    "wew_csv()\n"
   ]
  },
  {
   "cell_type": "code",
   "execution_count": 5,
   "id": "0dfee6a8-f183-4db4-990c-a443257a0b90",
   "metadata": {},
   "outputs": [],
   "source": [
    "gen_csv(\"muon\")"
   ]
  },
  {
   "cell_type": "code",
   "execution_count": 20,
   "id": "da122143",
   "metadata": {},
   "outputs": [
    {
     "data": {
      "text/html": [
       "<div>\n",
       "<style scoped>\n",
       "    .dataframe tbody tr th:only-of-type {\n",
       "        vertical-align: middle;\n",
       "    }\n",
       "\n",
       "    .dataframe tbody tr th {\n",
       "        vertical-align: top;\n",
       "    }\n",
       "\n",
       "    .dataframe thead th {\n",
       "        text-align: right;\n",
       "    }\n",
       "</style>\n",
       "<table border=\"1\" class=\"dataframe\">\n",
       "  <thead>\n",
       "    <tr style=\"text-align: right;\">\n",
       "      <th></th>\n",
       "      <th>electron</th>\n",
       "      <th>muon</th>\n",
       "      <th>pi+</th>\n",
       "      <th>pi-</th>\n",
       "      <th>pi0</th>\n",
       "      <th>positron</th>\n",
       "      <th>photon</th>\n",
       "    </tr>\n",
       "  </thead>\n",
       "  <tbody>\n",
       "    <tr>\n",
       "      <th>0</th>\n",
       "      <td>1.584334</td>\n",
       "      <td>0.000000e+00</td>\n",
       "      <td>4.947201</td>\n",
       "      <td>0.000000</td>\n",
       "      <td>11.510823</td>\n",
       "      <td>6.058107</td>\n",
       "      <td>1.766615</td>\n",
       "    </tr>\n",
       "    <tr>\n",
       "      <th>1</th>\n",
       "      <td>2.007739</td>\n",
       "      <td>0.000000e+00</td>\n",
       "      <td>4.896044</td>\n",
       "      <td>6.467039</td>\n",
       "      <td>4.763372</td>\n",
       "      <td>1.580475</td>\n",
       "      <td>1.512413</td>\n",
       "    </tr>\n",
       "    <tr>\n",
       "      <th>2</th>\n",
       "      <td>3.126703</td>\n",
       "      <td>1.776357e-15</td>\n",
       "      <td>5.534215</td>\n",
       "      <td>0.000000</td>\n",
       "      <td>3.181674</td>\n",
       "      <td>1.792326</td>\n",
       "      <td>2.209943</td>\n",
       "    </tr>\n",
       "    <tr>\n",
       "      <th>3</th>\n",
       "      <td>5.345500</td>\n",
       "      <td>0.000000e+00</td>\n",
       "      <td>3.750063</td>\n",
       "      <td>0.000000</td>\n",
       "      <td>5.614362</td>\n",
       "      <td>1.707669</td>\n",
       "      <td>1.658772</td>\n",
       "    </tr>\n",
       "    <tr>\n",
       "      <th>4</th>\n",
       "      <td>2.276824</td>\n",
       "      <td>0.000000e+00</td>\n",
       "      <td>1.933133</td>\n",
       "      <td>0.000000</td>\n",
       "      <td>3.210410</td>\n",
       "      <td>1.805074</td>\n",
       "      <td>1.613892</td>\n",
       "    </tr>\n",
       "    <tr>\n",
       "      <th>...</th>\n",
       "      <td>...</td>\n",
       "      <td>...</td>\n",
       "      <td>...</td>\n",
       "      <td>...</td>\n",
       "      <td>...</td>\n",
       "      <td>...</td>\n",
       "      <td>...</td>\n",
       "    </tr>\n",
       "    <tr>\n",
       "      <th>995</th>\n",
       "      <td>2.838689</td>\n",
       "      <td>0.000000e+00</td>\n",
       "      <td>0.000000</td>\n",
       "      <td>0.000000</td>\n",
       "      <td>4.956269</td>\n",
       "      <td>1.471577</td>\n",
       "      <td>1.530283</td>\n",
       "    </tr>\n",
       "    <tr>\n",
       "      <th>996</th>\n",
       "      <td>1.438277</td>\n",
       "      <td>0.000000e+00</td>\n",
       "      <td>0.000000</td>\n",
       "      <td>3.432171</td>\n",
       "      <td>3.546032</td>\n",
       "      <td>3.167073</td>\n",
       "      <td>1.681130</td>\n",
       "    </tr>\n",
       "    <tr>\n",
       "      <th>997</th>\n",
       "      <td>1.295717</td>\n",
       "      <td>0.000000e+00</td>\n",
       "      <td>2.601671</td>\n",
       "      <td>3.614901</td>\n",
       "      <td>7.391370</td>\n",
       "      <td>8.893380</td>\n",
       "      <td>3.028493</td>\n",
       "    </tr>\n",
       "    <tr>\n",
       "      <th>998</th>\n",
       "      <td>1.863859</td>\n",
       "      <td>5.412028e+00</td>\n",
       "      <td>1.101909</td>\n",
       "      <td>3.337985</td>\n",
       "      <td>1.260826</td>\n",
       "      <td>2.162294</td>\n",
       "      <td>12.316677</td>\n",
       "    </tr>\n",
       "    <tr>\n",
       "      <th>999</th>\n",
       "      <td>1.828902</td>\n",
       "      <td>6.326333e-01</td>\n",
       "      <td>0.000000</td>\n",
       "      <td>2.322725</td>\n",
       "      <td>1.604084</td>\n",
       "      <td>1.864240</td>\n",
       "      <td>2.978270</td>\n",
       "    </tr>\n",
       "  </tbody>\n",
       "</table>\n",
       "<p>1000 rows × 7 columns</p>\n",
       "</div>"
      ],
      "text/plain": [
       "     electron          muon       pi+       pi-        pi0  positron   \n",
       "0    1.584334  0.000000e+00  4.947201  0.000000  11.510823  6.058107  \\\n",
       "1    2.007739  0.000000e+00  4.896044  6.467039   4.763372  1.580475   \n",
       "2    3.126703  1.776357e-15  5.534215  0.000000   3.181674  1.792326   \n",
       "3    5.345500  0.000000e+00  3.750063  0.000000   5.614362  1.707669   \n",
       "4    2.276824  0.000000e+00  1.933133  0.000000   3.210410  1.805074   \n",
       "..        ...           ...       ...       ...        ...       ...   \n",
       "995  2.838689  0.000000e+00  0.000000  0.000000   4.956269  1.471577   \n",
       "996  1.438277  0.000000e+00  0.000000  3.432171   3.546032  3.167073   \n",
       "997  1.295717  0.000000e+00  2.601671  3.614901   7.391370  8.893380   \n",
       "998  1.863859  5.412028e+00  1.101909  3.337985   1.260826  2.162294   \n",
       "999  1.828902  6.326333e-01  0.000000  2.322725   1.604084  1.864240   \n",
       "\n",
       "        photon  \n",
       "0     1.766615  \n",
       "1     1.512413  \n",
       "2     2.209943  \n",
       "3     1.658772  \n",
       "4     1.613892  \n",
       "..         ...  \n",
       "995   1.530283  \n",
       "996   1.681130  \n",
       "997   3.028493  \n",
       "998  12.316677  \n",
       "999   2.978270  \n",
       "\n",
       "[1000 rows x 7 columns]"
      ]
     },
     "execution_count": 20,
     "metadata": {},
     "output_type": "execute_result"
    }
   ],
   "source": [
    "dwong.os.chdir(\"/Users/wongdowling/Desktop/DQ_Dowling/electron/csv/\")\n",
    "data=pd.read_csv(\"wew_x.csv\")\n",
    "data"
   ]
  },
  {
   "cell_type": "code",
   "execution_count": 27,
   "id": "6dd19fb5",
   "metadata": {},
   "outputs": [],
   "source": [
    "dwong.os.chdir(\"/Users/wongdowling/Desktop/DQ_Dowling/ntuple_1000\")\n",
    "out_path=\"/Users/wongdowling/Desktop/DQ_Dowling/electron/csv/\"\n",
    "types=[ \"electron\", \"muon\", \"pi+\", \"pi-\", \"pi0\", \"positron\", \"photon\", \"klong\"]\n",
    "wid_x=[]\n",
    "wid_y=[]\n",
    "for item in types:\n",
    "    wew=dwong.gen_wid(dwong.evt_1000[item])\n",
    "    wew_x.append(wew[0])\n",
    "    wew_y.append(wew[1])"
   ]
  },
  {
   "cell_type": "code",
   "execution_count": 28,
   "id": "3f7d6ecf-0ff0-4c9b-b9d4-ee5b4fd77c5e",
   "metadata": {},
   "outputs": [
    {
     "name": "stdout",
     "output_type": "stream",
     "text": [
      "1000\n",
      "1000\n",
      "1000\n",
      "1000\n",
      "1000\n",
      "1000\n",
      "1000\n",
      "529\n",
      "1000\n",
      "1000\n",
      "1000\n",
      "1000\n",
      "1000\n",
      "1000\n",
      "1000\n",
      "529\n"
     ]
    }
   ],
   "source": [
    "\n",
    "for i in range(len(wew_y)):\n",
    "    print(len(wew_y[i]))"
   ]
  },
  {
   "cell_type": "code",
   "execution_count": 6,
   "id": "b067c43a-bc13-4abf-823f-13465e93a64c",
   "metadata": {},
   "outputs": [
    {
     "ename": "FileNotFoundError",
     "evalue": "[Errno 2] No such file or directory: 'muon.csv'",
     "output_type": "error",
     "traceback": [
      "\u001b[0;31m---------------------------------------------------------------------------\u001b[0m",
      "\u001b[0;31mFileNotFoundError\u001b[0m                         Traceback (most recent call last)",
      "Cell \u001b[0;32mIn[6], line 2\u001b[0m\n\u001b[1;32m      1\u001b[0m dwong\u001b[38;5;241m.\u001b[39mos\u001b[38;5;241m.\u001b[39mchdir(\u001b[38;5;124m\"\u001b[39m\u001b[38;5;124m/Users/wongdowling/Desktop/DQ_Dowling/electron/csv/\u001b[39m\u001b[38;5;124m\"\u001b[39m)\n\u001b[0;32m----> 2\u001b[0m data\u001b[38;5;241m=\u001b[39m\u001b[43mpd\u001b[49m\u001b[38;5;241;43m.\u001b[39;49m\u001b[43mread_csv\u001b[49m\u001b[43m(\u001b[49m\u001b[38;5;124;43m\"\u001b[39;49m\u001b[38;5;124;43mmuon.csv\u001b[39;49m\u001b[38;5;124;43m\"\u001b[39;49m\u001b[43m)\u001b[49m\n\u001b[1;32m      3\u001b[0m data\n",
      "File \u001b[0;32m~/opt/anaconda3/envs/dq/lib/python3.9/site-packages/pandas/io/parsers/readers.py:912\u001b[0m, in \u001b[0;36mread_csv\u001b[0;34m(filepath_or_buffer, sep, delimiter, header, names, index_col, usecols, dtype, engine, converters, true_values, false_values, skipinitialspace, skiprows, skipfooter, nrows, na_values, keep_default_na, na_filter, verbose, skip_blank_lines, parse_dates, infer_datetime_format, keep_date_col, date_parser, date_format, dayfirst, cache_dates, iterator, chunksize, compression, thousands, decimal, lineterminator, quotechar, quoting, doublequote, escapechar, comment, encoding, encoding_errors, dialect, on_bad_lines, delim_whitespace, low_memory, memory_map, float_precision, storage_options, dtype_backend)\u001b[0m\n\u001b[1;32m    899\u001b[0m kwds_defaults \u001b[38;5;241m=\u001b[39m _refine_defaults_read(\n\u001b[1;32m    900\u001b[0m     dialect,\n\u001b[1;32m    901\u001b[0m     delimiter,\n\u001b[0;32m   (...)\u001b[0m\n\u001b[1;32m    908\u001b[0m     dtype_backend\u001b[38;5;241m=\u001b[39mdtype_backend,\n\u001b[1;32m    909\u001b[0m )\n\u001b[1;32m    910\u001b[0m kwds\u001b[38;5;241m.\u001b[39mupdate(kwds_defaults)\n\u001b[0;32m--> 912\u001b[0m \u001b[38;5;28;01mreturn\u001b[39;00m \u001b[43m_read\u001b[49m\u001b[43m(\u001b[49m\u001b[43mfilepath_or_buffer\u001b[49m\u001b[43m,\u001b[49m\u001b[43m \u001b[49m\u001b[43mkwds\u001b[49m\u001b[43m)\u001b[49m\n",
      "File \u001b[0;32m~/opt/anaconda3/envs/dq/lib/python3.9/site-packages/pandas/io/parsers/readers.py:577\u001b[0m, in \u001b[0;36m_read\u001b[0;34m(filepath_or_buffer, kwds)\u001b[0m\n\u001b[1;32m    574\u001b[0m _validate_names(kwds\u001b[38;5;241m.\u001b[39mget(\u001b[38;5;124m\"\u001b[39m\u001b[38;5;124mnames\u001b[39m\u001b[38;5;124m\"\u001b[39m, \u001b[38;5;28;01mNone\u001b[39;00m))\n\u001b[1;32m    576\u001b[0m \u001b[38;5;66;03m# Create the parser.\u001b[39;00m\n\u001b[0;32m--> 577\u001b[0m parser \u001b[38;5;241m=\u001b[39m \u001b[43mTextFileReader\u001b[49m\u001b[43m(\u001b[49m\u001b[43mfilepath_or_buffer\u001b[49m\u001b[43m,\u001b[49m\u001b[43m \u001b[49m\u001b[38;5;241;43m*\u001b[39;49m\u001b[38;5;241;43m*\u001b[39;49m\u001b[43mkwds\u001b[49m\u001b[43m)\u001b[49m\n\u001b[1;32m    579\u001b[0m \u001b[38;5;28;01mif\u001b[39;00m chunksize \u001b[38;5;129;01mor\u001b[39;00m iterator:\n\u001b[1;32m    580\u001b[0m     \u001b[38;5;28;01mreturn\u001b[39;00m parser\n",
      "File \u001b[0;32m~/opt/anaconda3/envs/dq/lib/python3.9/site-packages/pandas/io/parsers/readers.py:1407\u001b[0m, in \u001b[0;36mTextFileReader.__init__\u001b[0;34m(self, f, engine, **kwds)\u001b[0m\n\u001b[1;32m   1404\u001b[0m     \u001b[38;5;28mself\u001b[39m\u001b[38;5;241m.\u001b[39moptions[\u001b[38;5;124m\"\u001b[39m\u001b[38;5;124mhas_index_names\u001b[39m\u001b[38;5;124m\"\u001b[39m] \u001b[38;5;241m=\u001b[39m kwds[\u001b[38;5;124m\"\u001b[39m\u001b[38;5;124mhas_index_names\u001b[39m\u001b[38;5;124m\"\u001b[39m]\n\u001b[1;32m   1406\u001b[0m \u001b[38;5;28mself\u001b[39m\u001b[38;5;241m.\u001b[39mhandles: IOHandles \u001b[38;5;241m|\u001b[39m \u001b[38;5;28;01mNone\u001b[39;00m \u001b[38;5;241m=\u001b[39m \u001b[38;5;28;01mNone\u001b[39;00m\n\u001b[0;32m-> 1407\u001b[0m \u001b[38;5;28mself\u001b[39m\u001b[38;5;241m.\u001b[39m_engine \u001b[38;5;241m=\u001b[39m \u001b[38;5;28;43mself\u001b[39;49m\u001b[38;5;241;43m.\u001b[39;49m\u001b[43m_make_engine\u001b[49m\u001b[43m(\u001b[49m\u001b[43mf\u001b[49m\u001b[43m,\u001b[49m\u001b[43m \u001b[49m\u001b[38;5;28;43mself\u001b[39;49m\u001b[38;5;241;43m.\u001b[39;49m\u001b[43mengine\u001b[49m\u001b[43m)\u001b[49m\n",
      "File \u001b[0;32m~/opt/anaconda3/envs/dq/lib/python3.9/site-packages/pandas/io/parsers/readers.py:1661\u001b[0m, in \u001b[0;36mTextFileReader._make_engine\u001b[0;34m(self, f, engine)\u001b[0m\n\u001b[1;32m   1659\u001b[0m     \u001b[38;5;28;01mif\u001b[39;00m \u001b[38;5;124m\"\u001b[39m\u001b[38;5;124mb\u001b[39m\u001b[38;5;124m\"\u001b[39m \u001b[38;5;129;01mnot\u001b[39;00m \u001b[38;5;129;01min\u001b[39;00m mode:\n\u001b[1;32m   1660\u001b[0m         mode \u001b[38;5;241m+\u001b[39m\u001b[38;5;241m=\u001b[39m \u001b[38;5;124m\"\u001b[39m\u001b[38;5;124mb\u001b[39m\u001b[38;5;124m\"\u001b[39m\n\u001b[0;32m-> 1661\u001b[0m \u001b[38;5;28mself\u001b[39m\u001b[38;5;241m.\u001b[39mhandles \u001b[38;5;241m=\u001b[39m \u001b[43mget_handle\u001b[49m\u001b[43m(\u001b[49m\n\u001b[1;32m   1662\u001b[0m \u001b[43m    \u001b[49m\u001b[43mf\u001b[49m\u001b[43m,\u001b[49m\n\u001b[1;32m   1663\u001b[0m \u001b[43m    \u001b[49m\u001b[43mmode\u001b[49m\u001b[43m,\u001b[49m\n\u001b[1;32m   1664\u001b[0m \u001b[43m    \u001b[49m\u001b[43mencoding\u001b[49m\u001b[38;5;241;43m=\u001b[39;49m\u001b[38;5;28;43mself\u001b[39;49m\u001b[38;5;241;43m.\u001b[39;49m\u001b[43moptions\u001b[49m\u001b[38;5;241;43m.\u001b[39;49m\u001b[43mget\u001b[49m\u001b[43m(\u001b[49m\u001b[38;5;124;43m\"\u001b[39;49m\u001b[38;5;124;43mencoding\u001b[39;49m\u001b[38;5;124;43m\"\u001b[39;49m\u001b[43m,\u001b[49m\u001b[43m \u001b[49m\u001b[38;5;28;43;01mNone\u001b[39;49;00m\u001b[43m)\u001b[49m\u001b[43m,\u001b[49m\n\u001b[1;32m   1665\u001b[0m \u001b[43m    \u001b[49m\u001b[43mcompression\u001b[49m\u001b[38;5;241;43m=\u001b[39;49m\u001b[38;5;28;43mself\u001b[39;49m\u001b[38;5;241;43m.\u001b[39;49m\u001b[43moptions\u001b[49m\u001b[38;5;241;43m.\u001b[39;49m\u001b[43mget\u001b[49m\u001b[43m(\u001b[49m\u001b[38;5;124;43m\"\u001b[39;49m\u001b[38;5;124;43mcompression\u001b[39;49m\u001b[38;5;124;43m\"\u001b[39;49m\u001b[43m,\u001b[49m\u001b[43m \u001b[49m\u001b[38;5;28;43;01mNone\u001b[39;49;00m\u001b[43m)\u001b[49m\u001b[43m,\u001b[49m\n\u001b[1;32m   1666\u001b[0m \u001b[43m    \u001b[49m\u001b[43mmemory_map\u001b[49m\u001b[38;5;241;43m=\u001b[39;49m\u001b[38;5;28;43mself\u001b[39;49m\u001b[38;5;241;43m.\u001b[39;49m\u001b[43moptions\u001b[49m\u001b[38;5;241;43m.\u001b[39;49m\u001b[43mget\u001b[49m\u001b[43m(\u001b[49m\u001b[38;5;124;43m\"\u001b[39;49m\u001b[38;5;124;43mmemory_map\u001b[39;49m\u001b[38;5;124;43m\"\u001b[39;49m\u001b[43m,\u001b[49m\u001b[43m \u001b[49m\u001b[38;5;28;43;01mFalse\u001b[39;49;00m\u001b[43m)\u001b[49m\u001b[43m,\u001b[49m\n\u001b[1;32m   1667\u001b[0m \u001b[43m    \u001b[49m\u001b[43mis_text\u001b[49m\u001b[38;5;241;43m=\u001b[39;49m\u001b[43mis_text\u001b[49m\u001b[43m,\u001b[49m\n\u001b[1;32m   1668\u001b[0m \u001b[43m    \u001b[49m\u001b[43merrors\u001b[49m\u001b[38;5;241;43m=\u001b[39;49m\u001b[38;5;28;43mself\u001b[39;49m\u001b[38;5;241;43m.\u001b[39;49m\u001b[43moptions\u001b[49m\u001b[38;5;241;43m.\u001b[39;49m\u001b[43mget\u001b[49m\u001b[43m(\u001b[49m\u001b[38;5;124;43m\"\u001b[39;49m\u001b[38;5;124;43mencoding_errors\u001b[39;49m\u001b[38;5;124;43m\"\u001b[39;49m\u001b[43m,\u001b[49m\u001b[43m \u001b[49m\u001b[38;5;124;43m\"\u001b[39;49m\u001b[38;5;124;43mstrict\u001b[39;49m\u001b[38;5;124;43m\"\u001b[39;49m\u001b[43m)\u001b[49m\u001b[43m,\u001b[49m\n\u001b[1;32m   1669\u001b[0m \u001b[43m    \u001b[49m\u001b[43mstorage_options\u001b[49m\u001b[38;5;241;43m=\u001b[39;49m\u001b[38;5;28;43mself\u001b[39;49m\u001b[38;5;241;43m.\u001b[39;49m\u001b[43moptions\u001b[49m\u001b[38;5;241;43m.\u001b[39;49m\u001b[43mget\u001b[49m\u001b[43m(\u001b[49m\u001b[38;5;124;43m\"\u001b[39;49m\u001b[38;5;124;43mstorage_options\u001b[39;49m\u001b[38;5;124;43m\"\u001b[39;49m\u001b[43m,\u001b[49m\u001b[43m \u001b[49m\u001b[38;5;28;43;01mNone\u001b[39;49;00m\u001b[43m)\u001b[49m\u001b[43m,\u001b[49m\n\u001b[1;32m   1670\u001b[0m \u001b[43m\u001b[49m\u001b[43m)\u001b[49m\n\u001b[1;32m   1671\u001b[0m \u001b[38;5;28;01massert\u001b[39;00m \u001b[38;5;28mself\u001b[39m\u001b[38;5;241m.\u001b[39mhandles \u001b[38;5;129;01mis\u001b[39;00m \u001b[38;5;129;01mnot\u001b[39;00m \u001b[38;5;28;01mNone\u001b[39;00m\n\u001b[1;32m   1672\u001b[0m f \u001b[38;5;241m=\u001b[39m \u001b[38;5;28mself\u001b[39m\u001b[38;5;241m.\u001b[39mhandles\u001b[38;5;241m.\u001b[39mhandle\n",
      "File \u001b[0;32m~/opt/anaconda3/envs/dq/lib/python3.9/site-packages/pandas/io/common.py:859\u001b[0m, in \u001b[0;36mget_handle\u001b[0;34m(path_or_buf, mode, encoding, compression, memory_map, is_text, errors, storage_options)\u001b[0m\n\u001b[1;32m    854\u001b[0m \u001b[38;5;28;01melif\u001b[39;00m \u001b[38;5;28misinstance\u001b[39m(handle, \u001b[38;5;28mstr\u001b[39m):\n\u001b[1;32m    855\u001b[0m     \u001b[38;5;66;03m# Check whether the filename is to be opened in binary mode.\u001b[39;00m\n\u001b[1;32m    856\u001b[0m     \u001b[38;5;66;03m# Binary mode does not support 'encoding' and 'newline'.\u001b[39;00m\n\u001b[1;32m    857\u001b[0m     \u001b[38;5;28;01mif\u001b[39;00m ioargs\u001b[38;5;241m.\u001b[39mencoding \u001b[38;5;129;01mand\u001b[39;00m \u001b[38;5;124m\"\u001b[39m\u001b[38;5;124mb\u001b[39m\u001b[38;5;124m\"\u001b[39m \u001b[38;5;129;01mnot\u001b[39;00m \u001b[38;5;129;01min\u001b[39;00m ioargs\u001b[38;5;241m.\u001b[39mmode:\n\u001b[1;32m    858\u001b[0m         \u001b[38;5;66;03m# Encoding\u001b[39;00m\n\u001b[0;32m--> 859\u001b[0m         handle \u001b[38;5;241m=\u001b[39m \u001b[38;5;28;43mopen\u001b[39;49m\u001b[43m(\u001b[49m\n\u001b[1;32m    860\u001b[0m \u001b[43m            \u001b[49m\u001b[43mhandle\u001b[49m\u001b[43m,\u001b[49m\n\u001b[1;32m    861\u001b[0m \u001b[43m            \u001b[49m\u001b[43mioargs\u001b[49m\u001b[38;5;241;43m.\u001b[39;49m\u001b[43mmode\u001b[49m\u001b[43m,\u001b[49m\n\u001b[1;32m    862\u001b[0m \u001b[43m            \u001b[49m\u001b[43mencoding\u001b[49m\u001b[38;5;241;43m=\u001b[39;49m\u001b[43mioargs\u001b[49m\u001b[38;5;241;43m.\u001b[39;49m\u001b[43mencoding\u001b[49m\u001b[43m,\u001b[49m\n\u001b[1;32m    863\u001b[0m \u001b[43m            \u001b[49m\u001b[43merrors\u001b[49m\u001b[38;5;241;43m=\u001b[39;49m\u001b[43merrors\u001b[49m\u001b[43m,\u001b[49m\n\u001b[1;32m    864\u001b[0m \u001b[43m            \u001b[49m\u001b[43mnewline\u001b[49m\u001b[38;5;241;43m=\u001b[39;49m\u001b[38;5;124;43m\"\u001b[39;49m\u001b[38;5;124;43m\"\u001b[39;49m\u001b[43m,\u001b[49m\n\u001b[1;32m    865\u001b[0m \u001b[43m        \u001b[49m\u001b[43m)\u001b[49m\n\u001b[1;32m    866\u001b[0m     \u001b[38;5;28;01melse\u001b[39;00m:\n\u001b[1;32m    867\u001b[0m         \u001b[38;5;66;03m# Binary mode\u001b[39;00m\n\u001b[1;32m    868\u001b[0m         handle \u001b[38;5;241m=\u001b[39m \u001b[38;5;28mopen\u001b[39m(handle, ioargs\u001b[38;5;241m.\u001b[39mmode)\n",
      "\u001b[0;31mFileNotFoundError\u001b[0m: [Errno 2] No such file or directory: 'muon.csv'"
     ]
    }
   ],
   "source": [
    "dwong.os.chdir(\"/Users/wongdowling/Desktop/DQ_Dowling/electron/csv/\")\n",
    "data=pd.read_csv(\"muon.csv\")\n",
    "data"
   ]
  },
  {
   "cell_type": "code",
   "execution_count": null,
   "id": "f7e127b7-1271-4852-85ba-4a926faf5343",
   "metadata": {},
   "outputs": [],
   "source": []
  }
 ],
 "metadata": {
  "kernelspec": {
   "display_name": "Python 3 (ipykernel)",
   "language": "python",
   "name": "python3"
  },
  "language_info": {
   "codemirror_mode": {
    "name": "ipython",
    "version": 3
   },
   "file_extension": ".py",
   "mimetype": "text/x-python",
   "name": "python",
   "nbconvert_exporter": "python",
   "pygments_lexer": "ipython3",
   "version": "3.9.16"
  }
 },
 "nbformat": 4,
 "nbformat_minor": 5
}
