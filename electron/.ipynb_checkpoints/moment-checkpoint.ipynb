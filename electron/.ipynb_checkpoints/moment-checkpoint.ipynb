{
 "cells": [
  {
   "cell_type": "code",
   "execution_count": 2,
   "id": "c340315c",
   "metadata": {},
   "outputs": [],
   "source": [
    "import dwong\n"
   ]
  },
  {
   "cell_type": "code",
   "execution_count": 6,
   "id": "8401dfac",
   "metadata": {},
   "outputs": [],
   "source": [
    "# First moment: Mean\n",
    "mean = dwong.np.mean(test)\n",
    " \n",
    "# Second moment: Variance\n",
    "variance = dwong.np.var(test)\n",
    " \n",
    "# Third moment: Skewness\n",
    "skewness = sp.skew(test)\n",
    " \n",
    "# Fourth moment: Kurtosis\n",
    "kurtosis = sp.kurtosis(test)"
   ]
  },
  {
   "cell_type": "code",
   "execution_count": null,
   "id": "09e58401",
   "metadata": {},
   "outputs": [],
   "source": [
    "dwong.os.chdir(\"/Users/wongdowling/Desktop/DQ_Dowling/ntuple_1000\")\n",
    "item=\"electron\"\n",
    "skew=gen_skew(dwong.evt_1000[item])\n",
    "kurto=gen_kurt(skew=gen_skew(dwong.evt_1000[item]))"
   ]
  },
  {
   "cell_type": "code",
   "execution_count": null,
   "id": "884c66ac",
   "metadata": {},
   "outputs": [],
   "source": []
  }
 ],
 "metadata": {
  "kernelspec": {
   "display_name": "Python 3 (ipykernel)",
   "language": "python",
   "name": "python3"
  },
  "language_info": {
   "codemirror_mode": {
    "name": "ipython",
    "version": 3
   },
   "file_extension": ".py",
   "mimetype": "text/x-python",
   "name": "python",
   "nbconvert_exporter": "python",
   "pygments_lexer": "ipython3",
   "version": "3.9.16"
  }
 },
 "nbformat": 4,
 "nbformat_minor": 5
}
