{
 "cells": [
  {
   "cell_type": "code",
   "execution_count": 18,
   "id": "3f5a3f01",
   "metadata": {},
   "outputs": [],
   "source": [
    "import numpy as np\n",
    "import os,sys\n",
    "import math\n",
    "from sklearn.cluster import KMeans\n",
    "import scipy.stats as sp\n",
    "import uproot\n",
    "import warnings\n",
    "\n",
    "\n",
    "#--------------------------------------------------------------------------------------------------------------------------------------------\n",
    "\n",
    "def getData(fname=\"\", procName=\"Events\"):\n",
    "    file = uproot.open(fname)\n",
    "    dq_dict = file[procName].arrays(library=\"np\")\n",
    "    dq_events = {\n",
    "        \"Hits\":{\n",
    "            \"detID\": dq_dict[\"hit_detID\"],\n",
    "            \"edep\": dq_dict[\"hit_edep\"],\n",
    "            \"elmID\": dq_dict[\"hit_elmID\"],\n",
    "            \"hit_pos\": dq_dict[\"hit_pos\"]\n",
    "        },\n",
    "        \"track\":{\n",
    "            \"x\": dq_dict[\"track_x_CAL\"],\n",
    "            \"y\": dq_dict[\"track_y_CAL\"],\n",
    "            \"ID\": dq_dict[\"eventID\"],\n",
    "            \"pz\": dq_dict[\"track_pz_st1\"]\n",
    "        },\n",
    "        \"st23\": {\n",
    "            \"ntrack23\": dq_dict[\"n_st23tracklets\"],\n",
    "            \"px\":   dq_dict[\"st23tracklet_px_st3\"],\n",
    "            \"py\":   dq_dict[\"st23tracklet_py_st3\"],\n",
    "            \"pz\":   dq_dict[\"st23tracklet_pz_st3\"],\n",
    "            \"x\":   dq_dict[\"st23tracklet_x_st3\"],\n",
    "            \"y\":   dq_dict[\"st23tracklet_y_st3\"],\n",
    "            \"z\":   dq_dict[\"st23tracklet_z_st3\"],\n",
    "            \"Cal_x\": dq_dict[\"st23tracklet_x_CAL\"],\n",
    "            \"Cal_y\": dq_dict[\"st23tracklet_y_CAL\"]\n",
    "        }\n",
    "    }\n",
    "\n",
    "    return dq_events\n",
    "#--------------------------------------------------------------------------------------------------------------------------------------------\n",
    "\n",
    "ntowersx=72\n",
    "ntowersy=36\n",
    "sizex=5.53 # in cm\n",
    "sizey=5.53 # in cm\n",
    "ecalx=[-200,200] #size in cm\n",
    "ecaly=[-100,100]\n",
    "binsx=ecalx[1]- ecalx[0]\n",
    "binsy=ecaly[1]- ecaly[0]\n",
    "sfc = 0.1146337964120158 #sampling fraction of emcal\n",
    "emin=0.0005\n",
    "\n",
    "#--------------------------------------------------------------------------------------------------------------------------------------------\n",
    "\n",
    "def emcal_bytuple(dq_events):\n",
    "    dq_hits = dq_events[\"Hits\"]\n",
    "    x_pos = []\n",
    "    y_pos = []\n",
    "    eve_energy = []\n",
    "    for i in range(len(dq_events[\"Hits\"][\"edep\"])):\n",
    "        output = emcal_byevent(dq_hits, i)\n",
    "        if len(output[0]) != 0:\n",
    "            x_pos.append(output[0])\n",
    "            y_pos.append(output[1])\n",
    "            eve_energy.append(output[2])\n",
    "        else:\n",
    "            x_pos.append(np.array([]))\n",
    "            y_pos.append(np.array([]))\n",
    "            eve_energy.append(np.array([]))\n",
    "            \n",
    "    return x_pos, y_pos, eve_energy\n",
    "\n",
    "#--------------------------------------------------------------------------------------------------------------------------------------------\n",
    "\n",
    "def emcal_byevent(dq_hits, evtNum):\n",
    "    raw_elmID = dq_hits[\"elmID\"][evtNum]\n",
    "    raw_edep = dq_hits[\"edep\"][evtNum]\n",
    "    \n",
    "    emcal_mask = dq_hits[\"detID\"][evtNum] == 100\n",
    "    eng_mask = raw_edep[emcal_mask] >= emin\n",
    "    \n",
    "    elmID = raw_elmID[emcal_mask][eng_mask]#could also use dstack here to zip (elmID and edep)\n",
    "    edep = raw_edep[emcal_mask][eng_mask]\n",
    "    \n",
    "    emcal_towerx = elmID // ntowersy\n",
    "    emcal_towery = elmID % ntowersy\n",
    "    emcal_x = ecalx[0] + emcal_towerx * sizex\n",
    "    emcal_y = ecaly[0] + emcal_towery * sizey\n",
    "    emcal_edep = edep / sfc\n",
    "    \n",
    "    return emcal_x, emcal_y, emcal_edep\n",
    "\n",
    "#--------------------------------------------------------------------------------------------------------------------------------------------\n",
    "\n",
    "def find_energy_seeds(x, y, energy, min_energy=0.2, seed_radius=30):\n",
    "    high_energy_mask =energy >min_energy\n",
    "    high_energy_points = np.column_stack((x[high_energy_mask], y[high_energy_mask], energy[high_energy_mask]))\n",
    "    seeds = []\n",
    "    indices = []\n",
    "    for i, (x_val, y_val, energy_val) in enumerate(high_energy_points):\n",
    "        distances = np.array(np.sqrt((high_energy_points[:, 0] - x_val)**2 + (high_energy_points[:, 1] - y_val)**2))\n",
    "        distances[i] = seed_radius + 1\n",
    "        points_within_radius_mask = distances < seed_radius\n",
    "        points_within_radius = high_energy_points[points_within_radius_mask]\n",
    "        if len(points_within_radius) == 0 or energy_val > np.max(points_within_radius[:, 2], initial=0):\n",
    "            seeds.append([x_val, y_val])\n",
    "            indices.append(np.where(high_energy_mask)[0][i])\n",
    "            \n",
    "    return np.array(seeds), indices\n",
    "    \n",
    "#--------------------------------------------------------------------------------------------------------------------------------------------\n",
    "def multi_clusters(dq_events):\n",
    "    (x, y, eng)=emcal_bytuple(dq_events)\n",
    "    labels=[]\n",
    "    seeds=[]\n",
    "    labels_decrease=[]\n",
    "    seed_labels = []\n",
    "    kmeans_ctr = []\n",
    "    for i in range(len(eng)):\n",
    "        (seed, index)=find_energy_seeds(x[i], y[i], eng[i])\n",
    "        seeds.append(seed)\n",
    "        points=np.column_stack((x[i],y[i]))\n",
    "        try:\n",
    "            warnings.simplefilter(\"ignore\")\n",
    "            kmeans = KMeans(n_clusters=len(seed), init=seed , random_state=0, max_iter=1).fit(points)#since center given to grow, n_init==1\n",
    "            labels.append(kmeans.labels_)\n",
    "            label_decr = label_clus_eng(kmeans.labels_, eng[i])\n",
    "            labels_decrease.append(label_decr)\n",
    "            seed_labels.append(kmeans.labels_[index])\n",
    "        except:\n",
    "            labels.append([])\n",
    "            labels_decrease.append([])\n",
    "            seed_labels.append([])\n",
    "    return x, y, eng, labels, labels_decrease, seeds, seed_labels\n",
    "#--------------------------------------------------------------------------------------------------------------------------------------------\n",
    "\n",
    "def label_clus_eng(label, eng_eve):#return sorted labels by decreasing order of energy\n",
    "    unique_labels = np.unique(label)\n",
    "    cluster_energy = np.zeros(len(unique_labels), dtype=np.int64)\n",
    "    for i in range(len(label)):\n",
    "        cluster_energy[label[i]] += eng_eve[i]\n",
    "    sorted_labels = unique_labels[np.argsort(cluster_energy)[::-1]]\n",
    "    return sorted_labels\n",
    "\n",
    "#--------------------------------------------------------------------------------------------------------------------------------------------\n",
    "\n",
    "def h4_bytuple(dq_events):\n",
    "    dq_hits = dq_events[\"Hits\"]\n",
    "    hits = np.squeeze(np.dstack((dq_hits[\"detID\"], dq_hits[\"hit_pos\"])), axis=0)\n",
    "\n",
    "    h4x = []\n",
    "    h4y = []\n",
    "\n",
    "    for index, item in enumerate(hits):\n",
    "        h4y_mask = (41 <= item[0]) & (item[0] <= 44)\n",
    "        h4x_mask = (45 <= item[0]) & (item[0] <= 46)\n",
    "        ID_pos = np.squeeze(np.dstack((hits[index][0],hits[index][1])), axis=0)\n",
    "        h4x.append(ID_pos[h4x_mask])\n",
    "        h4y.append(ID_pos[h4y_mask])\n",
    "    return h4x, h4y\n",
    "\n",
    "#--------------------------------------------------------------------------------------------------------------------------------------------\n",
    "def gen_wew(x_eve, y_eve, eng_eve):\n",
    "    eng_tot = np.sum(eng_eve)\n",
    "    x_bar = np.dot(x_eve, eng_eve) / eng_tot\n",
    "    y_bar = np.dot(y_eve, eng_eve) / eng_tot\n",
    "\n",
    "    x_sq_eve = eng_eve * (x_eve - x_bar) ** 2\n",
    "    y_sq_eve = eng_eve * (y_eve - y_bar) ** 2\n",
    "\n",
    "    try:\n",
    "        wew_x = np.sqrt(np.sum(x_sq_eve) / eng_tot)\n",
    "    except ZeroDivisionError:\n",
    "        wew_x = -1\n",
    "\n",
    "    try:\n",
    "        wew_y = np.sqrt(np.sum(y_sq_eve) / eng_tot)\n",
    "    except ZeroDivisionError:\n",
    "        wew_y = -1\n",
    "\n",
    "    return [wew_x, wew_y]\n",
    "#--------------------------------------------------------------------------------------------------------------------------------------------\n",
    "def gen_wid(x_eve, y_eve):\n",
    "    x_bar = np.mean(x_eve)\n",
    "    y_bar = np.mean(y_eve)\n",
    "\n",
    "    x_sq_eve = (x_eve - x_bar) ** 2\n",
    "    y_sq_eve = (y_eve - y_bar) ** 2\n",
    "\n",
    "    try:\n",
    "        wid_x = np.sqrt(np.mean(x_sq_eve))\n",
    "    except ZeroDivisionError:\n",
    "        wid_x = -1\n",
    "\n",
    "    try:\n",
    "        wid_y = np.sqrt(np.mean(y_sq_eve))\n",
    "    except ZeroDivisionError:\n",
    "        wid_y = -1\n",
    "\n",
    "    return [wid_x, wid_y]\n",
    "#--------------------------------------------------------------------------------------------------------------------------------------------\n",
    "\n",
    "def extp_trkl(trkl_coord):\n",
    "    y_z = np.array([2130.27, 2146.45, 2200.44, 2216.62])\n",
    "    x_z = np.array([2251.71, 2234.29])\n",
    "    transpose_coord = np.array(trkl_coord).T\n",
    "\n",
    "    # Calculate the common term for h4x and h4y\n",
    "    common_term = (transpose_coord[4] / transpose_coord[5])[:, np.newaxis]\n",
    "\n",
    "    h4x = transpose_coord[1][:, np.newaxis] + common_term * (x_z - transpose_coord[2][:, np.newaxis])\n",
    "    h4y = transpose_coord[1][:, np.newaxis] + common_term * (y_z - transpose_coord[2][:, np.newaxis])\n",
    "    \n",
    "    return h4x, h4y\n",
    "\n",
    "#--------------------------------------------------------------------------------------------------------------------------------------------\n",
    "\n",
    "#--------------------------------------------------------------------------------------------------------------------------------------------\n",
    "\n",
    "#--------------------------------------------------------------------------------------------------------------------------------------------\n",
    "\n",
    "#--------------------------------------------------------------------------------------------------------------------------------------------\n",
    "\n",
    "#--------------------------------------------------------------------------------------------------------------------------------------------\n",
    "\n",
    "#--------------------------------------------------------------------------------------------------------------------------------------------\n",
    "\n",
    "#--------------------------------------------------------------------------------------------------------------------------------------------\n",
    "\n",
    "#--------------------------------------------------------------------------------------------------------------------------------------------\n",
    "\n",
    "#--------------------------------------------------------------------------------------------------------------------------------------------\n",
    "\n",
    "#--------------------------------------------------------------------------------------------------------------------------------------------\n",
    "\n",
    "#--------------------------------------------------------------------------------------------------------------------------------------------\n",
    "\n",
    "#--------------------------------------------------------------------------------------------------------------------------------------------\n",
    "\n",
    "#--------------------------------------------------------------------------------------------------------------------------------------------\n",
    "\n",
    "#--------------------------------------------------------------------------------------------------------------------------------------------\n",
    "\n",
    "#--------------------------------------------------------------------------------------------------------------------------------------------\n",
    "\n",
    "\n",
    "\n",
    "\n",
    "\n"
   ]
  },
  {
   "cell_type": "code",
   "execution_count": 11,
   "id": "d5797cee",
   "metadata": {},
   "outputs": [],
   "source": [
    "file1 = \"/Users/wongdowling/Desktop/n-tuples/5_80_training/muon_520_p580.root\"\n",
    "file2 = \"/Users/wongdowling/Desktop/n-tuples/5_80_training/pi+_520_p580.root\"\n",
    "\n",
    "dq_events = getData(file1, \"Events\")\n",
    "\n",
    "(x, y, eng, labels, labels_decrease, seeds, seed_labels) = multi_clusters(dq_events)#here performed clustering\n",
    "(h4x, h4y) = h4_bytuple(dq_events)\n",
    "\n",
    "dq_st23 = dq_events[\"st23\"]\n",
    "trkl_coord = np.stack((dq_st23[\"x\"], dq_st23[\"y\"], dq_st23[\"z\"], dq_st23[\"px\"], dq_st23[\"py\"], dq_st23[\"pz\"]), axis=1)\n",
    "trkl_cal = np.stack((dq_st23[\"Cal_x\"], dq_st23[\"Cal_y\"]), axis=1)\n",
    "\n",
    "uni_h4x = []\n",
    "uni_h4y = []\n",
    "for i in range(len(eng)):#evt level\n",
    "    trkls_cal = np.array(trkl_cal[i].tolist()).T\n",
    "    evt_h4x = np.unique(h4x[i], axis=0)#for flawed data\n",
    "    evt_h4y = np.unique(h4y[i], axis=0)#for flawed data\n",
    "    \n",
    "    "
   ]
  },
  {
   "cell_type": "code",
   "execution_count": 19,
   "id": "3e461c9c",
   "metadata": {},
   "outputs": [],
   "source": [
    "i=10\n",
    "\n",
    "trkls_cal = np.array(trkl_cal[i].tolist()).T\n",
    "evt_h4x = np.unique(h4x[i], axis=0)#for flawed data\n",
    "evt_h4y = np.unique(h4y[i], axis=0)#for flawed data\n",
    "\n",
    "if len(h4x) or len(h4y):#if have h4 hits, extend trkls\n",
    "    (ext_h4_x, ext_h4_y) = extp_trkl(trkl_coord[i])\n",
    "\n",
    "for index, label in enumerate(labels_decrease[i]):#cluster level\n",
    "    hits_mask = (labels[i] == label)\n",
    "    clus_x = x[i][hits_mask]\n",
    "    clus_y = y[i][hits_mask]\n",
    "    clus_eng = eng[i][hits_mask]\n",
    "\n",
    "    wid_clus = gen_wid(clus_x, clus_y)\n",
    "    wew_clus = gen_wew(clus_x, clus_y, clus_eng)\n",
    "    seed = seeds[i][seed_labels[i] == label]\n",
    "\n",
    "    squared_diff = (trkls_cal - seed)**2#return an array [sq difx, sqr dify]\n",
    "    distances = np.sqrt(np.sum(squared_diff, axis=1))#sum diffx and diffy, sqrt it\n",
    "    idx= distances.argmin()#find the closet one\n",
    "    \n",
    "    if distances[idx] < \n",
    "    \n",
    "    "
   ]
  },
  {
   "cell_type": "code",
   "execution_count": 32,
   "id": "7e8dcf73",
   "metadata": {},
   "outputs": [],
   "source": [
    "idx= distances.argmin()"
   ]
  },
  {
   "cell_type": "code",
   "execution_count": 33,
   "id": "1a064405",
   "metadata": {},
   "outputs": [
    {
     "data": {
      "text/plain": [
       "0"
      ]
     },
     "execution_count": 33,
     "metadata": {},
     "output_type": "execute_result"
    }
   ],
   "source": [
    "idx"
   ]
  },
  {
   "cell_type": "code",
   "execution_count": 20,
   "id": "5ca1f136",
   "metadata": {},
   "outputs": [
    {
     "data": {
      "text/plain": [
       "array([[-17.51,  -5.99]])"
      ]
     },
     "execution_count": 20,
     "metadata": {},
     "output_type": "execute_result"
    }
   ],
   "source": [
    "seed"
   ]
  },
  {
   "cell_type": "code",
   "execution_count": 29,
   "id": "877188bd",
   "metadata": {},
   "outputs": [
    {
     "data": {
      "text/plain": [
       "array([[-13.882119 ,  -2.6264343]], dtype=float32)"
      ]
     },
     "execution_count": 29,
     "metadata": {},
     "output_type": "execute_result"
    }
   ],
   "source": [
    "trkls_cal"
   ]
  },
  {
   "cell_type": "code",
   "execution_count": 25,
   "id": "1ae68342",
   "metadata": {},
   "outputs": [
    {
     "data": {
      "text/plain": [
       "array([[13.16151925, 11.31357404]])"
      ]
     },
     "execution_count": 25,
     "metadata": {},
     "output_type": "execute_result"
    }
   ],
   "source": [
    "squared_diff"
   ]
  },
  {
   "cell_type": "code",
   "execution_count": 26,
   "id": "adeecf7e",
   "metadata": {},
   "outputs": [
    {
     "data": {
      "text/plain": [
       "array([4.94723087])"
      ]
     },
     "execution_count": 26,
     "metadata": {},
     "output_type": "execute_result"
    }
   ],
   "source": [
    "distances"
   ]
  },
  {
   "cell_type": "code",
   "execution_count": 27,
   "id": "5ba6b649",
   "metadata": {},
   "outputs": [
    {
     "data": {
      "text/plain": [
       "array([[-3.82034727, -3.7556991 ]])"
      ]
     },
     "execution_count": 27,
     "metadata": {},
     "output_type": "execute_result"
    }
   ],
   "source": [
    "ext_h4_x"
   ]
  },
  {
   "cell_type": "code",
   "execution_count": 28,
   "id": "dde439ed",
   "metadata": {},
   "outputs": [
    {
     "data": {
      "text/plain": [
       "array([[-3.36966563, -3.42971198, -3.63007679, -3.69012314]])"
      ]
     },
     "execution_count": 28,
     "metadata": {},
     "output_type": "execute_result"
    }
   ],
   "source": [
    "ext_h4_y"
   ]
  },
  {
   "cell_type": "code",
   "execution_count": 31,
   "id": "54f52b6e",
   "metadata": {},
   "outputs": [
    {
     "data": {
      "text/plain": [
       "array([[3.62788082, 3.36356567]])"
      ]
     },
     "execution_count": 31,
     "metadata": {},
     "output_type": "execute_result"
    }
   ],
   "source": [
    "trkls_cal - seed"
   ]
  },
  {
   "cell_type": "code",
   "execution_count": null,
   "id": "b5ed5ada",
   "metadata": {},
   "outputs": [],
   "source": []
  }
 ],
 "metadata": {
  "kernelspec": {
   "display_name": "Python 3 (ipykernel)",
   "language": "python",
   "name": "python3"
  },
  "language_info": {
   "codemirror_mode": {
    "name": "ipython",
    "version": 3
   },
   "file_extension": ".py",
   "mimetype": "text/x-python",
   "name": "python",
   "nbconvert_exporter": "python",
   "pygments_lexer": "ipython3",
   "version": "3.9.16"
  }
 },
 "nbformat": 4,
 "nbformat_minor": 5
}
