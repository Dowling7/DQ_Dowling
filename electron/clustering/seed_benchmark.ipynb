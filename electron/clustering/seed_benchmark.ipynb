{
 "cells": [
  {
   "cell_type": "code",
   "execution_count": 11,
   "id": "3674f6af",
   "metadata": {},
   "outputs": [],
   "source": [
    "import numpy as np\n",
    "import os,sys\n",
    "import math\n",
    "from sklearn.cluster import KMeans\n",
    "from scipy import spatial\n",
    "import scipy.stats as sp\n",
    "import uproot\n",
    "import matplotlib.pyplot as plt\n",
    "\n",
    "\n",
    "\n",
    "#--------------------------------------------------------------------------------------------------------------------------------------------\n",
    "\n",
    "def getData(fname=\"\", procName=\"Events\"):\n",
    "    file = uproot.open(fname)\n",
    "    dq_dict = file[procName].arrays(library=\"np\")\n",
    "    dq_events = {\n",
    "        \"Hits\":{\n",
    "            \"detID\": dq_dict[\"hit_detID\"],\n",
    "            \"edep\": dq_dict[\"hit_edep\"],\n",
    "            \"elmID\": dq_dict[\"hit_elmID\"],\n",
    "            \"hit_pos\": dq_dict[\"hit_pos\"]\n",
    "        },\n",
    "        \"track\":{\n",
    "            \"x\": dq_dict[\"track_x_CAL\"],\n",
    "            \"y\": dq_dict[\"track_y_CAL\"],\n",
    "            \"ID\": dq_dict[\"eventID\"],\n",
    "            \"pz\": dq_dict[\"track_pz_st1\"]\n",
    "        },\n",
    "        \"st23\": {\n",
    "            \"ntrack23\": dq_dict[\"n_st23tracklets\"],\n",
    "            \"px\":   dq_dict[\"st23tracklet_px_st3\"],\n",
    "            \"py\":   dq_dict[\"st23tracklet_py_st3\"],\n",
    "            \"pz\":   dq_dict[\"st23tracklet_pz_st3\"],\n",
    "            \"x\":   dq_dict[\"st23tracklet_x_st3\"],\n",
    "            \"y\":   dq_dict[\"st23tracklet_y_st3\"],\n",
    "            \"z\":   dq_dict[\"st23tracklet_z_st3\"],\n",
    "            \"Cal_x\": dq_dict[\"st23tracklet_x_CAL\"],\n",
    "            \"Cal_y\": dq_dict[\"st23tracklet_y_CAL\"]\n",
    "        }\n",
    "    }\n",
    "\n",
    "    return dq_events\n",
    "#--------------------------------------------------------------------------------------------------------------------------------------------\n",
    "\n",
    "ntowersx=72\n",
    "ntowersy=36\n",
    "sizex=5.53 # in cm\n",
    "sizey=5.53 # in cm\n",
    "ecalx=[-200,200] #size in cm\n",
    "ecaly=[-100,100]\n",
    "binsx=ecalx[1]- ecalx[0]\n",
    "binsy=ecaly[1]- ecaly[0]\n",
    "sfc = 0.1146337964120158 #sampling fraction of emcal\n",
    "emin=0.0005\n",
    "det_z={41: 2130.27, 42: 2146.45, 43:2200.44 , 44:2216.62 , 45:2251.71 , 46: 2234.29}\n",
    "\n",
    "\n",
    "#--------------------------------------------------------------------------------------------------------------------------------------------\n",
    "\n",
    "def emcal_bytuple(dq_events):\n",
    "    dq_hits = dq_events[\"Hits\"]\n",
    "    x_pos = []\n",
    "    y_pos = []\n",
    "    eve_energy = []\n",
    "    for i in range(len(dq_events[\"Hits\"][\"edep\"])):\n",
    "        output = emcal_byevent(dq_hits, i)\n",
    "        if len(output[0]) != 0:\n",
    "            x_pos.append(output[0])\n",
    "            y_pos.append(output[1])\n",
    "            eve_energy.append(output[2])\n",
    "        else:\n",
    "            x_pos.append(np.array([]))\n",
    "            y_pos.append(np.array([]))\n",
    "            eve_energy.append(np.array([]))\n",
    "            \n",
    "    return x_pos, y_pos, eve_energy\n",
    "\n",
    "#--------------------------------------------------------------------------------------------------------------------------------------------\n",
    "\n",
    "def emcal_byevent(dq_hits, evtNum):\n",
    "    raw_elmID = dq_hits[\"elmID\"][evtNum]\n",
    "    raw_edep = dq_hits[\"edep\"][evtNum]\n",
    "    \n",
    "    emcal_mask = dq_hits[\"detID\"][evtNum] == 100\n",
    "    eng_mask = raw_edep[emcal_mask] >= emin\n",
    "    \n",
    "    elmID = raw_elmID[emcal_mask][eng_mask]#could also use dstack here to zip (elmID and edep)\n",
    "    edep = raw_edep[emcal_mask][eng_mask]\n",
    "    \n",
    "    emcal_towerx = elmID // ntowersy\n",
    "    emcal_towery = elmID % ntowersy\n",
    "    emcal_x = ecalx[0] + emcal_towerx * sizex\n",
    "    emcal_y = ecaly[0] + emcal_towery * sizey\n",
    "    emcal_edep = edep / sfc\n",
    "    \n",
    "    return emcal_x, emcal_y, emcal_edep\n",
    "\n",
    "#--------------------------------------------------------------------------------------------------------------------------------------------\n",
    "\n",
    "def find_energy_seeds(x, y, energy, min_energy=0.1, seed_radius=10):\n",
    "    high_energy_mask =energy >min_energy\n",
    "    high_energy_points = np.column_stack((x[high_energy_mask], y[high_energy_mask], energy[high_energy_mask]))\n",
    "    seeds = []\n",
    "    indices = []\n",
    "    for i, (x_val, y_val, energy_val) in enumerate(high_energy_points):\n",
    "        distances = np.array(np.sqrt((high_energy_points[:, 0] - x_val)**2 + (high_energy_points[:, 1] - y_val)**2))\n",
    "        distances[i] = seed_radius + 1\n",
    "        points_within_radius_mask = distances < seed_radius\n",
    "        points_within_radius = high_energy_points[points_within_radius_mask]\n",
    "        if len(points_within_radius) == 0 or energy_val > np.max(points_within_radius[:, 2], initial=0):\n",
    "            seeds.append([x_val, y_val])\n",
    "            indices.append(np.where(high_energy_mask)[0][i])\n",
    "            \n",
    "    return len(np.array(seeds))"
   ]
  },
  {
   "cell_type": "code",
   "execution_count": 2,
   "id": "46f04598",
   "metadata": {},
   "outputs": [],
   "source": [
    "def plot_acceptance(mass, coupling, Nevent, acceptance, hue_norm = (0,1)):\n",
    "    \n",
    "    fig, ax = plt.subplots()\n",
    "    im = ax.scatter(mass, coupling, c=acceptance, s=750, marker='s', cmap='Spectral_r',linewidths=0)\n",
    "\n",
    "    fig.colorbar(im, ax=ax)\n",
    "\n",
    "    plt.xlabel(r\"$m_{A'}$ [GeV]\")\n",
    "    plt.ylabel(ylabel=r\"$\\epsilon$\", rotation = 0)\n",
    "\n",
    "    # iterate over axes of FacetGrid\n",
    "    labels = ax.get_yticks() # get y labels\n",
    "\n",
    "    new_labels = []\n",
    "    for i,l in enumerate(labels):\n",
    "        new_labels.append(r\"$10^{%s}$\"%labels[i])\n",
    "\n",
    "    ax.set_yticklabels(new_labels) # set new labels\n",
    "\n",
    "    plt.show()\n",
    "    \n",
    "    \n",
    "    \n",
    "\n"
   ]
  },
  {
   "cell_type": "code",
   "execution_count": 3,
   "id": "dacda0f7",
   "metadata": {},
   "outputs": [],
   "source": [
    "Aee_dir = \"/Users/dwong/Desktop/n-tuples/Aee_500-600\"\n",
    "Amm_dir = \"/Users/dwong/Desktop/n-tuples/Amm_500-600\""
   ]
  },
  {
   "cell_type": "code",
   "execution_count": 10,
   "id": "abb758c9",
   "metadata": {},
   "outputs": [],
   "source": [
    "def scan_Aee(scan_dir):\n",
    "    os.chdir(scan_dir)\n",
    "    mass = []\n",
    "    coupling = []\n",
    "    nseed_trk = []\n",
    "\n",
    "    #Loop through the files\n",
    "    for filename in os.listdir(scan_dir):\n",
    "        if filename.startswith(\"AeeBrem\")& (not filename.endswith(\"_DST.root\")):\n",
    "            Ap_config = filename[:-5].split('_')\n",
    "            dq_events = getData(filename, \"Events\")\n",
    "            (x, y, eng) = emcal_bytuple(dq_events)\n",
    "            seed = 0\n",
    "            for i in range(len(x)):\n",
    "                seed+= find_energy_seeds(x[i], y[i], eng[i])\n",
    "            ntrk = sum(dq_events[\"st23\"][\"ntrack23\"])\n",
    "            mass.append(float(Ap_config[1]))\n",
    "            coupling.append(float(Ap_config[-2]))\n",
    "            nseed_trk.append(seed/ntrk)\n",
    "    return mass, coupling, nseed_trk"
   ]
  },
  {
   "cell_type": "code",
   "execution_count": 46,
   "id": "21a0de19",
   "metadata": {},
   "outputs": [],
   "source": [
    "(a, b, c) = scan_Aee(Aee_dir)"
   ]
  },
  {
   "cell_type": "code",
   "execution_count": 47,
   "id": "588160db",
   "metadata": {},
   "outputs": [
    {
     "data": {
      "text/plain": [
       "443"
      ]
     },
     "execution_count": 47,
     "metadata": {},
     "output_type": "execute_result"
    }
   ],
   "source": [
    "len(a)"
   ]
  },
  {
   "cell_type": "code",
   "execution_count": 49,
   "id": "82d7b630",
   "metadata": {},
   "outputs": [
    {
     "name": "stderr",
     "output_type": "stream",
     "text": [
      "/var/folders/mf/cqjfz_8x7tgbhvl955fzybtr0000gn/T/ipykernel_6990/3496437151.py:17: UserWarning: FixedFormatter should only be used together with FixedLocator\n",
      "  ax.set_yticklabels(new_labels) # set new labels\n"
     ]
    },
    {
     "data": {
      "image/png": "[encoded data removed]",
      "text/plain": [
       "<Figure size 640x480 with 2 Axes>"
      ]
     },
     "metadata": {},
     "output_type": "display_data"
    }
   ],
   "source": [
    "fig, ax = plt.subplots()\n",
    "im = ax.scatter(a, b, c=c, s=100, marker='s', cmap='Spectral_r',linewidths=0)\n",
    "fig.colorbar(im, ax=ax)\n",
    "\n",
    "plt.xlabel(r\"$m_{A'}$ [GeV]\")\n",
    "plt.ylabel(ylabel=r\"$\\epsilon$\", rotation = 0)\n",
    "ax.set_xscale(\"log\")\n",
    "\n",
    "\n",
    "# iterate over axes of FacetGrid\n",
    "labels = ax.get_yticks() # get y labels\n",
    "\n",
    "new_labels = []\n",
    "for i,l in enumerate(labels):\n",
    "    new_labels.append(r\"$10^{%s}$\"%labels[i])\n",
    "\n",
    "ax.set_yticklabels(new_labels) # set new labels\n",
    "\n",
    "plt.show()"
   ]
  },
  {
   "cell_type": "code",
   "execution_count": 7,
   "id": "a00adab5",
   "metadata": {},
   "outputs": [],
   "source": [
    "def scan_Amm(scan_dir):\n",
    "    os.chdir(scan_dir)\n",
    "    mass = []\n",
    "    coupling = []\n",
    "    nseed_trk = []\n",
    "\n",
    "    #Loop through the files\n",
    "    for filename in os.listdir(scan_dir):\n",
    "        if filename.startswith(\"AmmBrem\")& (not filename.endswith(\"_DST.root\")):\n",
    "            Ap_config = filename[:-5].split('_')\n",
    "            dq_events = getData(filename, \"Events\")\n",
    "            (x, y, eng) = emcal_bytuple(dq_events)\n",
    "            seed = 0\n",
    "            for i in range(len(x)):\n",
    "                seed+= find_energy_seeds(x[i], y[i], eng[i])\n",
    "            ntrk = sum(dq_events[\"st23\"][\"ntrack23\"])\n",
    "            mass.append(float(Ap_config[1]))\n",
    "            coupling.append(float(Ap_config[-2]))\n",
    "            nseed_trk.append(seed/ntrk)\n",
    "    return mass, coupling, nseed_trk"
   ]
  },
  {
   "cell_type": "code",
   "execution_count": 8,
   "id": "8234c6d1",
   "metadata": {},
   "outputs": [],
   "source": [
    "(d, e, f) = scan_Amm(Amm_dir)"
   ]
  },
  {
   "cell_type": "code",
   "execution_count": 9,
   "id": "7295c065",
   "metadata": {},
   "outputs": [
    {
     "data": {
      "text/plain": [
       "609"
      ]
     },
     "execution_count": 9,
     "metadata": {},
     "output_type": "execute_result"
    }
   ],
   "source": [
    "len(d)"
   ]
  },
  {
   "cell_type": "code",
   "execution_count": 14,
   "id": "640f48ed",
   "metadata": {},
   "outputs": [
    {
     "name": "stderr",
     "output_type": "stream",
     "text": [
      "/var/folders/j2/3ctm5ghn63gblh0bftd80v7r0000gq/T/ipykernel_3758/3145746097.py:17: UserWarning: FixedFormatter should only be used together with FixedLocator\n",
      "  ax.set_yticklabels(new_labels) # set new labels\n"
     ]
    },
    {
     "data": {
      "image/png": "[encoded data removed]",
      "text/plain": [
       "<Figure size 432x288 with 2 Axes>"
      ]
     },
     "metadata": {
      "needs_background": "light"
     },
     "output_type": "display_data"
    }
   ],
   "source": [
    "fig, ax = plt.subplots()\n",
    "im = ax.scatter(d, e, c=f, s=100, marker='s', cmap='Spectral_r',linewidths=0)\n",
    "fig.colorbar(im, ax=ax)\n",
    "\n",
    "plt.xlabel(r\"$m_{A'}$ [GeV]\")\n",
    "plt.ylabel(ylabel=r\"$\\epsilon$\", rotation = 0)\n",
    "#ax.set_xscale(\"log\")\n",
    "\n",
    "\n",
    "# iterate over axes of FacetGrid\n",
    "labels = ax.get_yticks() # get y labels\n",
    "\n",
    "new_labels = []\n",
    "for i,l in enumerate(labels):\n",
    "    new_labels.append(r\"$10^{%s}$\"%labels[i])\n",
    "\n",
    "ax.set_yticklabels(new_labels) # set new labels\n",
    "\n",
    "plt.show()"
   ]
  },
  {
   "cell_type": "code",
   "execution_count": 7,
   "id": "0001c3e6",
   "metadata": {},
   "outputs": [],
   "source": [
    "def scan_train(scan_dir):\n",
    "    os.chdir(scan_dir)\n",
    "    p_type = []\n",
    "    nseed_trk = []\n",
    "    ntrks = []\n",
    "\n",
    "    #Loop through the files\n",
    "    for filename in os.listdir(scan_dir):\n",
    "        if filename.endswith(\"p580.root\"):\n",
    "            Ap_config = filename[:-5].split('_')\n",
    "            dq_events = getData(filename, \"Events\")\n",
    "            (x, y, eng) = emcal_bytuple(dq_events)\n",
    "            seed = 0\n",
    "            for i in range(len(x)):\n",
    "                seed+= find_energy_seeds(x[i], y[i], eng[i])\n",
    "            ntrk = sum(dq_events[\"st23\"][\"ntrack23\"])\n",
    "            p_type.append(Ap_config[0])\n",
    "            nseed_trk.append(seed/ntrk)\n",
    "            ntrks.append(ntrk)\n",
    "    return p_type, nseed_trk, ntrks"
   ]
  },
  {
   "cell_type": "code",
   "execution_count": 38,
   "id": "0d98d386",
   "metadata": {},
   "outputs": [
    {
     "name": "stdout",
     "output_type": "stream",
     "text": [
      ".DS_Store\n",
      ".DS\n",
      "pi-_520_p580.root\n",
      "pi-\n",
      "photon_520_p580.root\n",
      "photon\n",
      "pi+_520_p580.root\n",
      "pi+\n",
      "positron_520_p580.root\n",
      "positron\n",
      "muon_520_p580.root\n",
      "muon\n",
      "electron_520_p580.root\n",
      "electron\n",
      "klong_520_p580.root\n",
      "klong\n",
      "pi0_520_p580.root\n",
      "pi0\n"
     ]
    }
   ],
   "source": [
    "os.chdir(\"/Users/dwong/Desktop/n-tuples/5_80_training\")\n",
    "for filename in os.listdir(\"/Users/dwong/Desktop/n-tuples/5_80_training\"):\n",
    "    print(filename)\n",
    "    Ap_config = filename[:-5].split('_')\n",
    "    print(Ap_config[0])"
   ]
  },
  {
   "cell_type": "code",
   "execution_count": 22,
   "id": "61dd0efd",
   "metadata": {},
   "outputs": [],
   "source": [
    "(a, b, c) = scan_train(\"/Users/dwong/Desktop/n-tuples/5_80_training\")"
   ]
  },
  {
   "cell_type": "code",
   "execution_count": 44,
   "id": "f8b7b241",
   "metadata": {},
   "outputs": [
    {
     "data": {
      "image/png": "[encoded data removed]",
      "text/plain": [
       "<Figure size 1000x600 with 1 Axes>"
      ]
     },
     "metadata": {},
     "output_type": "display_data"
    }
   ],
   "source": [
    "\n",
    "plt.figure(figsize=(10,6))\n",
    "plt.bar(a, b, color=['blue', 'green', 'red', 'purple', 'cyan', 'orange', 'yellow', 'pink'])\n",
    "plt.ylabel('#seeds/#trk')\n",
    "plt.title('seeding efficiency for 5-80GeV')\n",
    "plt.grid(axis='y')\n",
    "\n",
    "plt.show()\n"
   ]
  },
  {
   "cell_type": "code",
   "execution_count": 16,
   "id": "b3986f32",
   "metadata": {},
   "outputs": [],
   "source": [
    "c=np.array(c)"
   ]
  },
  {
   "cell_type": "code",
   "execution_count": 23,
   "id": "630921b0",
   "metadata": {},
   "outputs": [
    {
     "data": {
      "image/png": "[encoded data removed]",
      "text/plain": [
       "<Figure size 720x432 with 1 Axes>"
      ]
     },
     "metadata": {
      "needs_background": "light"
     },
     "output_type": "display_data"
    }
   ],
   "source": [
    "\n",
    "plt.figure(figsize=(10,6))\n",
    "plt.bar(a, c, color=['blue', 'green', 'red', 'purple', 'cyan', 'orange', 'yellow', 'pink'])\n",
    "plt.ylabel('#trk')\n",
    "plt.title('Total number of tracklets at st3 for 10,000 evts')\n",
    "plt.grid(axis='y')\n",
    "for bar in bars:\n",
    "    yval = bar.get_height()\n",
    "    plt.text(bar.get_x() + bar.get_width()/2, yval + 0.5, round(yval, 2), ha='center', va='bottom')\n",
    "\n",
    "plt.show()\n"
   ]
  },
  {
   "cell_type": "code",
   "execution_count": 25,
   "id": "80453824",
   "metadata": {},
   "outputs": [
    {
     "data": {
      "image/png": "[encoded data removed]",
      "text/plain": [
       "<Figure size 720x432 with 1 Axes>"
      ]
     },
     "metadata": {
      "needs_background": "light"
     },
     "output_type": "display_data"
    }
   ],
   "source": [
    "plt.figure(figsize=(10,6))\n",
    "bars = plt.bar(a, b, color=['blue', 'green', 'red', 'purple', 'cyan', 'orange', 'yellow', 'pink'])\n",
    "plt.ylabel('#seeds/#trk')\n",
    "plt.title('seeding efficiency for 5-80GeV')\n",
    "plt.grid(axis='y')\n",
    "\n",
    "# Display data above each bar\n",
    "for bar in bars:\n",
    "    yval = bar.get_height()\n",
    "    plt.text(bar.get_x() + bar.get_width()/2, yval + 0.5, round(yval, 2), ha='center', va='bottom')\n",
    "\n",
    "plt.show()"
   ]
  },
  {
   "cell_type": "code",
   "execution_count": null,
   "id": "610c5ecb",
   "metadata": {},
   "outputs": [],
   "source": []
  }
 ],
 "metadata": {
  "kernelspec": {
   "display_name": "Python 3 (ipykernel)",
   "language": "python",
   "name": "python3"
  },
  "language_info": {
   "codemirror_mode": {
    "name": "ipython",
    "version": 3
   },
   "file_extension": ".py",
   "mimetype": "text/x-python",
   "name": "python",
   "nbconvert_exporter": "python",
   "pygments_lexer": "ipython3",
   "version": "3.11.4"
  }
 },
 "nbformat": 4,
 "nbformat_minor": 5
}
