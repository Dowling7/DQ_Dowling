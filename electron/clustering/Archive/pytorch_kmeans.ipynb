{
 "cells": [
  {
   "cell_type": "code",
   "execution_count": 1,
   "id": "12e87e15",
   "metadata": {},
   "outputs": [],
   "source": [
    "import torch\n",
    "import numpy as np\n",
    "import matplotlib.pyplot as plt\n",
    "from kmeans_pytorch import kmeans, kmeans_predict\n",
    "from time import time\n"
   ]
  },
  {
   "cell_type": "code",
   "execution_count": 2,
   "id": "6c17ae09",
   "metadata": {},
   "outputs": [],
   "source": [
    "np.random.seed(123)\n",
    "data_size, dims, num_clusters = 1000, 2, 3\n",
    "x = np.random.randn(data_size, dims) / 6\n",
    "x = torch.from_numpy(x)"
   ]
  },
  {
   "cell_type": "code",
   "execution_count": 3,
   "id": "b5a7c95a",
   "metadata": {},
   "outputs": [
    {
     "name": "stdout",
     "output_type": "stream",
     "text": [
      "Using device: mps\n"
     ]
    }
   ],
   "source": [
    "if getattr(torch,'has_mps',False):\n",
    "    device = \"mps\" \n",
    "    print(f\"Using device: {device}\")\n",
    "else:\n",
    "    device = torch.device('cpu')\n",
    "    print(f\"Using device: {device}\")"
   ]
  },
  {
   "cell_type": "code",
   "execution_count": 4,
   "id": "c6c2251e",
   "metadata": {},
   "outputs": [
    {
     "name": "stdout",
     "output_type": "stream",
     "text": [
      "running k-means on mps..\n"
     ]
    },
    {
     "name": "stderr",
     "output_type": "stream",
     "text": [
      "[running kmeans]: 7it [00:00, 28.79it/s, center_shift=0.000068, iteration=7, tol=0.000100]\n"
     ]
    }
   ],
   "source": [
    "cluster_ids_x, cluster_centers = kmeans(\n",
    "    X=x, num_clusters=num_clusters, distance='euclidean', device=device\n",
    ")"
   ]
  },
  {
   "cell_type": "code",
   "execution_count": 5,
   "id": "56639b11",
   "metadata": {},
   "outputs": [
    {
     "name": "stdout",
     "output_type": "stream",
     "text": [
      "tensor([2, 0, 2, 0, 1, 0, 1, 0, 1, 1, 2, 2, 0, 1, 0, 0, 0, 1, 2, 2, 0, 2, 1, 1,\n",
      "        2, 0, 1, 2, 2, 1, 2, 0, 1, 1, 2, 1, 1, 2, 0, 0, 1, 1, 0, 0, 1, 1, 2, 2,\n",
      "        0, 1, 0, 2, 1, 0, 0, 2, 2, 1, 0, 1, 0, 2, 1, 1, 1, 0, 2, 1, 2, 1, 2, 1,\n",
      "        1, 2, 2, 1, 0, 2, 1, 1, 1, 2, 1, 1, 1, 0, 2, 2, 1, 2, 2, 1, 0, 0, 2, 1,\n",
      "        1, 0, 0, 0, 1, 1, 1, 0, 2, 1, 0, 2, 1, 2, 0, 0, 1, 0, 2, 2, 2, 1, 1, 1,\n",
      "        1, 0, 1, 0, 2, 1, 0, 1, 1, 2, 1, 0, 1, 1, 1, 0, 1, 0, 1, 0, 0, 0, 0, 2,\n",
      "        2, 2, 1, 2, 1, 2, 1, 2, 2, 2, 1, 1, 2, 1, 0, 2, 0, 0, 1, 0, 2, 2, 0, 0,\n",
      "        2, 1, 0, 1, 0, 2, 2, 0, 0, 0, 2, 0, 2, 2, 2, 1, 1, 0, 1, 2, 2, 0, 1, 0,\n",
      "        2, 2, 1, 1, 0, 0, 2, 2, 1, 0, 2, 0, 2, 1, 2, 1, 1, 0, 2, 0, 0, 2, 2, 2,\n",
      "        0, 1, 0, 1, 1, 2, 1, 2, 1, 0, 0, 2, 2, 2, 2, 0, 1, 1, 1, 2, 1, 0, 2, 0,\n",
      "        0, 2, 2, 1, 1, 0, 0, 2, 1, 1, 1, 2, 1, 0, 0, 1, 1, 2, 2, 1, 0, 0, 2, 1,\n",
      "        1, 0, 1, 2, 1, 2, 0, 2, 2, 0, 2, 1, 0, 1, 1, 1, 2, 0, 1, 2, 2, 1, 1, 1,\n",
      "        0, 1, 0, 1, 2, 0, 2, 1, 2, 1, 0, 1, 1, 1, 1, 1, 1, 2, 1, 1, 2, 0, 2, 1,\n",
      "        0, 0, 2, 0, 2, 0, 1, 2, 1, 2, 0, 0, 2, 1, 1, 1, 1, 0, 2, 0, 2, 2, 1, 0,\n",
      "        1, 2, 2, 1, 1, 1, 2, 2, 0, 0, 1, 2, 1, 1, 0, 1, 2, 1, 2, 0, 0, 2, 0, 1,\n",
      "        1, 1, 2, 2, 1, 2, 0, 2, 0, 0, 2, 0, 2, 1, 2, 1, 1, 2, 2, 0, 1, 0, 0, 0,\n",
      "        0, 1, 0, 2, 2, 1, 0, 2, 0, 0, 2, 2, 2, 0, 1, 2, 0, 2, 2, 1, 2, 1, 2, 1,\n",
      "        0, 0, 0, 2, 0, 2, 2, 2, 0, 1, 1, 0, 2, 2, 0, 2, 2, 1, 0, 0, 2, 2, 0, 0,\n",
      "        1, 0, 1, 2, 0, 2, 0, 1, 0, 0, 0, 1, 2, 2, 1, 1, 2, 1, 1, 1, 0, 0, 2, 0,\n",
      "        0, 0, 2, 1, 1, 1, 2, 2, 2, 2, 0, 0, 1, 2, 0, 0, 1, 2, 1, 0, 1, 0, 2, 2,\n",
      "        0, 0, 0, 0, 2, 1, 0, 2, 1, 1, 2, 1, 0, 2, 0, 2, 0, 2, 1, 1, 2, 1, 0, 0,\n",
      "        0, 1, 2, 1, 1, 0, 2, 0, 2, 1, 2, 1, 1, 2, 0, 1, 0, 0, 2, 0, 2, 2, 2, 1,\n",
      "        1, 2, 1, 1, 2, 1, 1, 1, 1, 0, 0, 2, 1, 1, 2, 1, 1, 2, 0, 0, 2, 1, 2, 1,\n",
      "        1, 1, 1, 1, 0, 0, 2, 2, 1, 0, 1, 2, 2, 0, 1, 0, 2, 0, 2, 2, 2, 0, 1, 2,\n",
      "        2, 0, 1, 2, 1, 1, 2, 1, 2, 1, 0, 2, 0, 2, 1, 0, 2, 0, 1, 2, 1, 2, 1, 0,\n",
      "        1, 1, 0, 1, 1, 0, 1, 1, 0, 1, 0, 1, 1, 2, 0, 0, 2, 1, 0, 1, 1, 1, 0, 0,\n",
      "        2, 1, 0, 2, 1, 1, 0, 2, 1, 2, 0, 2, 2, 1, 1, 0, 0, 2, 0, 2, 1, 1, 0, 1,\n",
      "        1, 0, 2, 2, 2, 1, 0, 0, 2, 1, 1, 1, 2, 1, 0, 1, 1, 1, 2, 2, 1, 1, 2, 1,\n",
      "        0, 1, 0, 0, 0, 2, 0, 1, 0, 0, 1, 1, 0, 1, 2, 1, 1, 1, 1, 0, 1, 0, 0, 2,\n",
      "        1, 2, 0, 1, 1, 1, 1, 1, 1, 1, 1, 1, 1, 1, 1, 0, 1, 1, 1, 1, 2, 2, 2, 0,\n",
      "        2, 2, 0, 2, 2, 1, 1, 1, 1, 0, 2, 1, 2, 2, 1, 1, 1, 1, 1, 1, 2, 1, 0, 2,\n",
      "        2, 0, 2, 2, 0, 2, 1, 0, 0, 2, 0, 0, 1, 0, 2, 2, 0, 1, 2, 0, 0, 1, 1, 2,\n",
      "        2, 2, 0, 1, 2, 0, 0, 1, 2, 2, 0, 1, 0, 0, 2, 2, 0, 2, 1, 0, 1, 1, 2, 1,\n",
      "        0, 2, 1, 1, 0, 1, 1, 0, 2, 2, 2, 2, 1, 0, 0, 0, 2, 1, 2, 2, 0, 0, 0, 2,\n",
      "        1, 2, 1, 0, 2, 0, 0, 1, 1, 2, 2, 1, 2, 1, 2, 0, 0, 2, 1, 0, 1, 0, 0, 2,\n",
      "        2, 2, 2, 0, 1, 2, 2, 2, 2, 2, 1, 0, 0, 1, 1, 0, 2, 0, 2, 0, 2, 0, 0, 1,\n",
      "        0, 0, 0, 2, 0, 2, 1, 2, 0, 1, 0, 2, 0, 0, 0, 1, 0, 1, 1, 1, 0, 2, 2, 0,\n",
      "        1, 2, 0, 1, 1, 2, 2, 1, 2, 1, 0, 1, 0, 2, 1, 1, 2, 1, 1, 2, 2, 0, 1, 0,\n",
      "        2, 2, 0, 2, 2, 2, 1, 1, 0, 1, 2, 0, 2, 1, 0, 2, 1, 0, 1, 0, 2, 2, 2, 2,\n",
      "        2, 2, 1, 1, 2, 2, 2, 1, 2, 2, 1, 0, 0, 1, 1, 2, 1, 0, 1, 1, 1, 0, 2, 2,\n",
      "        2, 2, 1, 2, 0, 1, 2, 0, 1, 1, 1, 1, 2, 2, 0, 0, 2, 1, 1, 1, 0, 2, 0, 2,\n",
      "        2, 2, 0, 2, 1, 2, 2, 2, 2, 2, 2, 2, 2, 1, 0, 0])\n",
      "tensor([[-0.1075, -0.1522],\n",
      "        [ 0.1544, -0.0137],\n",
      "        [-0.0833,  0.1454]])\n"
     ]
    }
   ],
   "source": [
    "print(cluster_ids_x)\n",
    "print(cluster_centers)"
   ]
  },
  {
   "cell_type": "code",
   "execution_count": 6,
   "id": "724bdbb0",
   "metadata": {},
   "outputs": [
    {
     "name": "stdout",
     "output_type": "stream",
     "text": [
      "predicting on mps..\n",
      "tensor([1, 2, 0, 1, 2])\n"
     ]
    }
   ],
   "source": [
    "y = np.random.randn(5, dims) / 6\n",
    "y = torch.from_numpy(y)\n",
    "cluster_ids_y = kmeans_predict(\n",
    "    y, cluster_centers, 'euclidean', device=device\n",
    ")\n",
    "print(cluster_ids_y)\n"
   ]
  },
  {
   "cell_type": "code",
   "execution_count": 7,
   "id": "792ef422",
   "metadata": {},
   "outputs": [
    {
     "data": {
      "image/png": "[encoded data removed]",
      "text/plain": [
       "<Figure size 640x480 with 1 Axes>"
      ]
     },
     "metadata": {},
     "output_type": "display_data"
    }
   ],
   "source": [
    "# plot\n",
    "plt.figure(figsize=(4, 3), dpi=160)\n",
    "plt.scatter(x[:, 0], x[:, 1], c=cluster_ids_x, cmap='cool')\n",
    "plt.scatter(y[:, 0], y[:, 1], c=cluster_ids_y, cmap='cool', marker='X')\n",
    "plt.scatter(\n",
    "    cluster_centers[:, 0], cluster_centers[:, 1],\n",
    "    c='white',\n",
    "    alpha=0.6,\n",
    "    edgecolors='black',\n",
    "    linewidths=2\n",
    ")\n",
    "plt.axis([-1, 1, -1, 1])\n",
    "plt.tight_layout()\n",
    "plt.show()"
   ]
  },
  {
   "cell_type": "code",
   "execution_count": 12,
   "id": "e54add8c",
   "metadata": {},
   "outputs": [
    {
     "name": "stdout",
     "output_type": "stream",
     "text": [
      "\n",
      "data size: 100000\n",
      "running k-means on mps..\n"
     ]
    },
    {
     "name": "stderr",
     "output_type": "stream",
     "text": [
      "\n",
      "\n",
      "[running kmeans]: 0it [00:00, ?it/s]\u001b[A\u001b[A\n",
      "\n",
      "[running kmeans]: 0it [00:00, ?it/s, center_shift=0.018803, iteration=1, tol=0.000100]\u001b[A\u001b[A\n",
      "\n",
      "[running kmeans]: 1it [00:00,  3.48it/s, center_shift=0.018803, iteration=1, tol=0.000100]\u001b[A\u001b[A\n",
      "\n",
      "[running kmeans]: 1it [00:00,  3.48it/s, center_shift=0.014471, iteration=2, tol=0.000100]\u001b[A\u001b[A\n",
      "\n",
      "[running kmeans]: 2it [00:00,  3.61it/s, center_shift=0.014471, iteration=2, tol=0.000100]\u001b[A\u001b[A\n",
      "\n",
      "[running kmeans]: 2it [00:00,  3.61it/s, center_shift=0.003386, iteration=3, tol=0.000100]\u001b[A\u001b[A\n",
      "\n",
      "[running kmeans]: 3it [00:00,  3.64it/s, center_shift=0.003386, iteration=3, tol=0.000100]\u001b[A\u001b[A\n",
      "\n",
      "[running kmeans]: 3it [00:01,  3.64it/s, center_shift=0.000415, iteration=4, tol=0.000100]\u001b[A\u001b[A\n",
      "\n",
      "[running kmeans]: 4it [00:01,  3.68it/s, center_shift=0.000415, iteration=4, tol=0.000100]\u001b[A\u001b[A\n",
      "\n",
      "[running kmeans]: 4it [00:01,  3.68it/s, center_shift=0.000100, iteration=5, tol=0.000100]\u001b[A\u001b[A\n",
      "\n",
      "[running kmeans]: 5it [00:01,  3.66it/s, center_shift=0.000100, iteration=5, tol=0.000100]\u001b[A\u001b[A\n"
     ]
    },
    {
     "name": "stdout",
     "output_type": "stream",
     "text": [
      "gpu time: 1.3761389255523682\n",
      "running k-means on cpu..\n"
     ]
    },
    {
     "name": "stderr",
     "output_type": "stream",
     "text": [
      "\n",
      "\n",
      "[running kmeans]: 0it [00:00, ?it/s]\u001b[A\u001b[A\n",
      "\n",
      "[running kmeans]: 0it [00:00, ?it/s, center_shift=0.192677, iteration=1, tol=0.000100]\u001b[A\u001b[A\n",
      "\n",
      "[running kmeans]: 1it [00:00, 104.06it/s, center_shift=0.002623, iteration=2, tol=0.000100]\u001b[A\u001b[A\n",
      "\n",
      "[running kmeans]: 2it [00:00, 144.47it/s, center_shift=0.000788, iteration=3, tol=0.000100]\u001b[A\u001b[A\n",
      "\n",
      "[running kmeans]: 3it [00:00, 157.06it/s, center_shift=0.000260, iteration=4, tol=0.000100]\u001b[A\u001b[A\n",
      "\n",
      "[running kmeans]: 5it [00:00, 208.29it/s, center_shift=0.000087, iteration=5, tol=0.000100]\u001b[A\u001b[A\n"
     ]
    },
    {
     "name": "stdout",
     "output_type": "stream",
     "text": [
      "cpu time: 0.030105113983154297\n",
      "\n",
      "data size: 1000000\n",
      "running k-means on mps..\n"
     ]
    },
    {
     "name": "stderr",
     "output_type": "stream",
     "text": [
      "\n",
      "\n",
      "[running kmeans]: 0it [00:00, ?it/s]\u001b[A\u001b[A\n",
      "\n",
      "[running kmeans]: 0it [00:00, ?it/s, center_shift=0.049559, iteration=1, tol=0.000100]\u001b[A\u001b[A\n",
      "\n",
      "[running kmeans]: 1it [00:00,  3.48it/s, center_shift=0.049559, iteration=1, tol=0.000100]\u001b[A\u001b[A\n",
      "\n",
      "[running kmeans]: 1it [00:00,  3.48it/s, center_shift=0.015533, iteration=2, tol=0.000100]\u001b[A\u001b[A\n",
      "\n",
      "[running kmeans]: 2it [00:00,  3.51it/s, center_shift=0.015533, iteration=2, tol=0.000100]\u001b[A\u001b[A\n",
      "\n",
      "[running kmeans]: 2it [00:00,  3.51it/s, center_shift=0.007448, iteration=3, tol=0.000100]\u001b[A\u001b[A\n",
      "\n",
      "[running kmeans]: 3it [00:00,  3.51it/s, center_shift=0.007448, iteration=3, tol=0.000100]\u001b[A\u001b[A\n",
      "\n",
      "[running kmeans]: 3it [00:01,  3.51it/s, center_shift=0.001595, iteration=4, tol=0.000100]\u001b[A\u001b[A\n",
      "\n",
      "[running kmeans]: 4it [00:01,  3.52it/s, center_shift=0.001595, iteration=4, tol=0.000100]\u001b[A\u001b[A\n",
      "\n",
      "[running kmeans]: 4it [00:01,  3.52it/s, center_shift=0.000427, iteration=5, tol=0.000100]\u001b[A\u001b[A\n",
      "\n",
      "[running kmeans]: 5it [00:01,  3.52it/s, center_shift=0.000427, iteration=5, tol=0.000100]\u001b[A\u001b[A\n",
      "\n",
      "[running kmeans]: 5it [00:01,  3.52it/s, center_shift=0.000140, iteration=6, tol=0.000100]\u001b[A\u001b[A\n",
      "\n",
      "[running kmeans]: 6it [00:01,  3.52it/s, center_shift=0.000140, iteration=6, tol=0.000100]\u001b[A\u001b[A\n",
      "\n",
      "[running kmeans]: 6it [00:01,  3.52it/s, center_shift=0.000047, iteration=7, tol=0.000100]\u001b[A\u001b[A\n",
      "\n",
      "[running kmeans]: 7it [00:01,  3.52it/s, center_shift=0.000047, iteration=7, tol=0.000100]\u001b[A\u001b[A\n"
     ]
    },
    {
     "name": "stdout",
     "output_type": "stream",
     "text": [
      "gpu time: 2.028615951538086\n",
      "running k-means on cpu..\n"
     ]
    },
    {
     "name": "stderr",
     "output_type": "stream",
     "text": [
      "\n",
      "\n",
      "[running kmeans]: 0it [00:00, ?it/s]\u001b[A\u001b[A\n",
      "\n",
      "[running kmeans]: 0it [00:00, ?it/s, center_shift=0.025433, iteration=1, tol=0.000100]\u001b[A\u001b[A\n",
      "\n",
      "[running kmeans]: 1it [00:00, 26.52it/s, center_shift=0.012278, iteration=2, tol=0.000100]\u001b[A\u001b[A\n",
      "\n",
      "[running kmeans]: 2it [00:00, 35.55it/s, center_shift=0.003646, iteration=3, tol=0.000100]\u001b[A\u001b[A\n",
      "\n",
      "[running kmeans]: 3it [00:00, 39.69it/s, center_shift=0.000956, iteration=4, tol=0.000100]\u001b[A\u001b[A\n",
      "\n",
      "[running kmeans]: 4it [00:00, 42.20it/s, center_shift=0.000314, iteration=5, tol=0.000100]\u001b[A\u001b[A\n",
      "\n",
      "[running kmeans]: 5it [00:00, 43.84it/s, center_shift=0.000104, iteration=6, tol=0.000100]\u001b[A\u001b[A\n",
      "\n",
      "[running kmeans]: 6it [00:00, 52.38it/s, center_shift=0.000104, iteration=6, tol=0.000100]\u001b[A\u001b[A\n",
      "\n",
      "[running kmeans]: 7it [00:00, 51.91it/s, center_shift=0.000035, iteration=7, tol=0.000100]\u001b[A\u001b[A\n"
     ]
    },
    {
     "name": "stdout",
     "output_type": "stream",
     "text": [
      "cpu time: 0.1486060619354248\n",
      "\n",
      "data size: 5000000\n",
      "running k-means on mps..\n"
     ]
    },
    {
     "name": "stderr",
     "output_type": "stream",
     "text": [
      "\n",
      "\n",
      "[running kmeans]: 0it [00:00, ?it/s]\u001b[A\u001b[A\n",
      "\n",
      "[running kmeans]: 0it [00:00, ?it/s, center_shift=0.213378, iteration=1, tol=0.000100]\u001b[A\u001b[A\n",
      "\n",
      "[running kmeans]: 1it [00:00,  2.97it/s, center_shift=0.213378, iteration=1, tol=0.000100]\u001b[A\u001b[A\n",
      "\n",
      "[running kmeans]: 1it [00:00,  2.97it/s, center_shift=0.009703, iteration=2, tol=0.000100]\u001b[A\u001b[A\n",
      "\n",
      "[running kmeans]: 2it [00:00,  2.98it/s, center_shift=0.009703, iteration=2, tol=0.000100]\u001b[A\u001b[A\n",
      "\n",
      "[running kmeans]: 2it [00:01,  2.98it/s, center_shift=0.014883, iteration=3, tol=0.000100]\u001b[A\u001b[A\n",
      "\n",
      "[running kmeans]: 3it [00:01,  2.99it/s, center_shift=0.014883, iteration=3, tol=0.000100]\u001b[A\u001b[A\n",
      "\n",
      "[running kmeans]: 3it [00:01,  2.99it/s, center_shift=0.004091, iteration=4, tol=0.000100]\u001b[A\u001b[A\n",
      "\n",
      "[running kmeans]: 4it [00:01,  2.98it/s, center_shift=0.004091, iteration=4, tol=0.000100]\u001b[A\u001b[A\n",
      "\n",
      "[running kmeans]: 4it [00:01,  2.98it/s, center_shift=0.000523, iteration=5, tol=0.000100]\u001b[A\u001b[A\n",
      "\n",
      "[running kmeans]: 5it [00:01,  2.98it/s, center_shift=0.000523, iteration=5, tol=0.000100]\u001b[A\u001b[A\n",
      "\n",
      "[running kmeans]: 5it [00:02,  2.98it/s, center_shift=0.000126, iteration=6, tol=0.000100]\u001b[A\u001b[A\n",
      "\n",
      "[running kmeans]: 6it [00:02,  2.97it/s, center_shift=0.000126, iteration=6, tol=0.000100]\u001b[A\u001b[A\n",
      "\n",
      "[running kmeans]: 6it [00:02,  2.97it/s, center_shift=0.000041, iteration=7, tol=0.000100]\u001b[A\u001b[A\n",
      "\n",
      "[running kmeans]: 7it [00:02,  2.97it/s, center_shift=0.000041, iteration=7, tol=0.000100]\u001b[A\u001b[A\n"
     ]
    },
    {
     "name": "stdout",
     "output_type": "stream",
     "text": [
      "gpu time: 2.440760612487793\n",
      "running k-means on cpu..\n"
     ]
    },
    {
     "name": "stderr",
     "output_type": "stream",
     "text": [
      "\n",
      "\n",
      "[running kmeans]: 0it [00:00, ?it/s]\u001b[A\u001b[A\n",
      "\n",
      "[running kmeans]: 0it [00:00, ?it/s, center_shift=0.077188, iteration=1, tol=0.000100]\u001b[A\u001b[A\n",
      "\n",
      "[running kmeans]: 1it [00:00,  6.64it/s, center_shift=0.008125, iteration=2, tol=0.000100]\u001b[A\u001b[A\n",
      "\n",
      "[running kmeans]: 2it [00:00, 13.25it/s, center_shift=0.008125, iteration=2, tol=0.000100]\u001b[A\u001b[A\n",
      "\n",
      "[running kmeans]: 2it [00:00, 13.25it/s, center_shift=0.002511, iteration=3, tol=0.000100]\u001b[A\u001b[A\n",
      "\n",
      "[running kmeans]: 3it [00:00, 13.25it/s, center_shift=0.000814, iteration=4, tol=0.000100]\u001b[A\u001b[A\n",
      "\n",
      "[running kmeans]: 4it [00:00, 12.90it/s, center_shift=0.000814, iteration=4, tol=0.000100]\u001b[A\u001b[A\n",
      "\n",
      "[running kmeans]: 4it [00:00, 12.90it/s, center_shift=0.000268, iteration=5, tol=0.000100]\u001b[A\u001b[A\n",
      "\n",
      "[running kmeans]: 5it [00:00, 12.90it/s, center_shift=0.000089, iteration=6, tol=0.000100]\u001b[A\u001b[A\n",
      "\n",
      "[running kmeans]: 6it [00:00, 12.84it/s, center_shift=0.000089, iteration=6, tol=0.000100]\u001b[A\u001b[A\n"
     ]
    },
    {
     "name": "stdout",
     "output_type": "stream",
     "text": [
      "cpu time: 0.5505127906799316\n",
      "\n",
      "data size: 10000000\n",
      "running k-means on mps..\n"
     ]
    },
    {
     "name": "stderr",
     "output_type": "stream",
     "text": [
      "\n",
      "\n",
      "[running kmeans]: 0it [00:00, ?it/s]\u001b[A\u001b[A\n",
      "\n",
      "[running kmeans]: 0it [00:00, ?it/s, center_shift=0.071239, iteration=1, tol=0.000100]\u001b[A\u001b[A\n",
      "\n",
      "[running kmeans]: 1it [00:00,  2.42it/s, center_shift=0.071239, iteration=1, tol=0.000100]\u001b[A\u001b[A\n",
      "\n",
      "[running kmeans]: 1it [00:00,  2.42it/s, center_shift=0.015620, iteration=2, tol=0.000100]\u001b[A\u001b[A\n",
      "\n",
      "[running kmeans]: 2it [00:00,  2.41it/s, center_shift=0.015620, iteration=2, tol=0.000100]\u001b[A\u001b[A\n",
      "\n",
      "[running kmeans]: 2it [00:01,  2.41it/s, center_shift=0.005663, iteration=3, tol=0.000100]\u001b[A\u001b[A\n",
      "\n",
      "[running kmeans]: 3it [00:01,  2.43it/s, center_shift=0.005663, iteration=3, tol=0.000100]\u001b[A\u001b[A\n",
      "\n",
      "[running kmeans]: 3it [00:01,  2.43it/s, center_shift=0.001896, iteration=4, tol=0.000100]\u001b[A\u001b[A\n",
      "\n",
      "[running kmeans]: 4it [00:01,  2.44it/s, center_shift=0.001896, iteration=4, tol=0.000100]\u001b[A\u001b[A\n",
      "\n",
      "[running kmeans]: 4it [00:02,  2.44it/s, center_shift=0.000637, iteration=5, tol=0.000100]\u001b[A\u001b[A\n",
      "\n",
      "[running kmeans]: 5it [00:02,  2.45it/s, center_shift=0.000637, iteration=5, tol=0.000100]\u001b[A\u001b[A\n",
      "\n",
      "[running kmeans]: 5it [00:02,  2.45it/s, center_shift=0.000215, iteration=6, tol=0.000100]\u001b[A\u001b[A\n",
      "\n",
      "[running kmeans]: 6it [00:02,  2.45it/s, center_shift=0.000215, iteration=6, tol=0.000100]\u001b[A\u001b[A\n",
      "\n",
      "[running kmeans]: 6it [00:02,  2.45it/s, center_shift=0.000072, iteration=7, tol=0.000100]\u001b[A\u001b[A\n",
      "\n",
      "[running kmeans]: 7it [00:02,  2.44it/s, center_shift=0.000072, iteration=7, tol=0.000100]\u001b[A\u001b[A\n"
     ]
    },
    {
     "name": "stdout",
     "output_type": "stream",
     "text": [
      "gpu time: 3.06750226020813\n",
      "running k-means on cpu..\n"
     ]
    },
    {
     "name": "stderr",
     "output_type": "stream",
     "text": [
      "\n",
      "\n",
      "[running kmeans]: 0it [00:00, ?it/s]\u001b[A\u001b[A\n",
      "\n",
      "[running kmeans]: 0it [00:00, ?it/s, center_shift=0.108041, iteration=1, tol=0.000100]\u001b[A\u001b[A\n",
      "\n",
      "[running kmeans]: 1it [00:00,  6.90it/s, center_shift=0.108041, iteration=1, tol=0.000100]\u001b[A\u001b[A\n",
      "\n",
      "[running kmeans]: 1it [00:00,  6.90it/s, center_shift=0.007395, iteration=2, tol=0.000100]\u001b[A\u001b[A\n",
      "\n",
      "[running kmeans]: 2it [00:00,  6.64it/s, center_shift=0.007395, iteration=2, tol=0.000100]\u001b[A\u001b[A\n",
      "\n",
      "[running kmeans]: 2it [00:00,  6.64it/s, center_shift=0.002008, iteration=3, tol=0.000100]\u001b[A\u001b[A\n",
      "\n",
      "[running kmeans]: 3it [00:00,  6.73it/s, center_shift=0.002008, iteration=3, tol=0.000100]\u001b[A\u001b[A\n",
      "\n",
      "[running kmeans]: 3it [00:00,  6.73it/s, center_shift=0.000625, iteration=4, tol=0.000100]\u001b[A\u001b[A\n",
      "\n",
      "[running kmeans]: 4it [00:00,  6.80it/s, center_shift=0.000625, iteration=4, tol=0.000100]\u001b[A\u001b[A\n",
      "\n",
      "[running kmeans]: 4it [00:00,  6.80it/s, center_shift=0.000205, iteration=5, tol=0.000100]\u001b[A\u001b[A\n",
      "\n",
      "[running kmeans]: 5it [00:00,  6.87it/s, center_shift=0.000205, iteration=5, tol=0.000100]\u001b[A\u001b[A\n",
      "\n",
      "[running kmeans]: 5it [00:00,  6.87it/s, center_shift=0.000068, iteration=6, tol=0.000100]\u001b[A\u001b[A\n",
      "\n",
      "[running kmeans]: 6it [00:00,  6.79it/s, center_shift=0.000068, iteration=6, tol=0.000100]\u001b[A\u001b[A\n"
     ]
    },
    {
     "name": "stdout",
     "output_type": "stream",
     "text": [
      "cpu time: 1.0804698467254639\n",
      "\n",
      "data size: 20000000\n",
      "running k-means on mps..\n"
     ]
    },
    {
     "name": "stderr",
     "output_type": "stream",
     "text": [
      "\n",
      "\n",
      "[running kmeans]: 0it [00:00, ?it/s]\u001b[A\u001b[A\n",
      "\n",
      "[running kmeans]: 0it [00:00, ?it/s, center_shift=0.124497, iteration=1, tol=0.000100]\u001b[A\u001b[A\n",
      "\n",
      "[running kmeans]: 1it [00:00,  1.76it/s, center_shift=0.124497, iteration=1, tol=0.000100]\u001b[A\u001b[A\n",
      "\n",
      "[running kmeans]: 1it [00:01,  1.76it/s, center_shift=0.009071, iteration=2, tol=0.000100]\u001b[A\u001b[A\n",
      "\n",
      "[running kmeans]: 2it [00:01,  1.76it/s, center_shift=0.009071, iteration=2, tol=0.000100]\u001b[A\u001b[A\n",
      "\n",
      "[running kmeans]: 2it [00:01,  1.76it/s, center_shift=0.001408, iteration=3, tol=0.000100]\u001b[A\u001b[A\n",
      "\n",
      "[running kmeans]: 3it [00:01,  1.79it/s, center_shift=0.001408, iteration=3, tol=0.000100]\u001b[A\u001b[A\n",
      "\n",
      "[running kmeans]: 3it [00:02,  1.79it/s, center_shift=0.000417, iteration=4, tol=0.000100]\u001b[A\u001b[A\n",
      "\n",
      "[running kmeans]: 4it [00:02,  1.81it/s, center_shift=0.000417, iteration=4, tol=0.000100]\u001b[A\u001b[A\n",
      "\n",
      "[running kmeans]: 4it [00:02,  1.81it/s, center_shift=0.000136, iteration=5, tol=0.000100]\u001b[A\u001b[A\n",
      "\n",
      "[running kmeans]: 5it [00:02,  1.83it/s, center_shift=0.000136, iteration=5, tol=0.000100]\u001b[A\u001b[A\n",
      "\n",
      "[running kmeans]: 5it [00:03,  1.83it/s, center_shift=0.000045, iteration=6, tol=0.000100]\u001b[A\u001b[A\n",
      "\n",
      "[running kmeans]: 6it [00:03,  1.81it/s, center_shift=0.000045, iteration=6, tol=0.000100]\u001b[A\u001b[A\n"
     ]
    },
    {
     "name": "stdout",
     "output_type": "stream",
     "text": [
      "gpu time: 3.7930960655212402\n",
      "running k-means on cpu..\n"
     ]
    },
    {
     "name": "stderr",
     "output_type": "stream",
     "text": [
      "\n",
      "\n",
      "[running kmeans]: 0it [00:00, ?it/s]\u001b[A\u001b[A\n",
      "\n",
      "[running kmeans]: 0it [00:00, ?it/s, center_shift=0.125894, iteration=1, tol=0.000100]\u001b[A\u001b[A\n",
      "\n",
      "[running kmeans]: 1it [00:00,  3.63it/s, center_shift=0.125894, iteration=1, tol=0.000100]\u001b[A\u001b[A\n",
      "\n",
      "[running kmeans]: 1it [00:00,  3.63it/s, center_shift=0.010169, iteration=2, tol=0.000100]\u001b[A\u001b[A\n",
      "\n",
      "[running kmeans]: 2it [00:00,  3.57it/s, center_shift=0.010169, iteration=2, tol=0.000100]\u001b[A\u001b[A\n",
      "\n",
      "[running kmeans]: 2it [00:00,  3.57it/s, center_shift=0.002466, iteration=3, tol=0.000100]\u001b[A\u001b[A\n",
      "\n",
      "[running kmeans]: 3it [00:00,  3.50it/s, center_shift=0.002466, iteration=3, tol=0.000100]\u001b[A\u001b[A\n",
      "\n",
      "[running kmeans]: 3it [00:01,  3.50it/s, center_shift=0.000539, iteration=4, tol=0.000100]\u001b[A\u001b[A\n",
      "\n",
      "[running kmeans]: 4it [00:01,  3.52it/s, center_shift=0.000539, iteration=4, tol=0.000100]\u001b[A\u001b[A\n",
      "\n",
      "[running kmeans]: 4it [00:01,  3.52it/s, center_shift=0.000170, iteration=5, tol=0.000100]\u001b[A\u001b[A\n",
      "\n",
      "[running kmeans]: 5it [00:01,  3.49it/s, center_shift=0.000170, iteration=5, tol=0.000100]\u001b[A\u001b[A\n",
      "\n",
      "[running kmeans]: 5it [00:01,  3.49it/s, center_shift=0.000057, iteration=6, tol=0.000100]\u001b[A\u001b[A\n",
      "\n",
      "[running kmeans]: 6it [00:01,  3.52it/s, center_shift=0.000057, iteration=6, tol=0.000100]\u001b[A\u001b[A\n"
     ]
    },
    {
     "name": "stdout",
     "output_type": "stream",
     "text": [
      "cpu time: 2.141098976135254\n",
      "\n",
      "data size: 30000000\n",
      "running k-means on mps..\n"
     ]
    },
    {
     "name": "stderr",
     "output_type": "stream",
     "text": [
      "\n",
      "\n",
      "[running kmeans]: 0it [00:00, ?it/s]\u001b[A\u001b[A\n",
      "\n",
      "[running kmeans]: 0it [00:00, ?it/s, center_shift=0.099751, iteration=1, tol=0.000100]\u001b[A\u001b[A\n",
      "\n",
      "[running kmeans]: 1it [00:00,  1.48it/s, center_shift=0.099751, iteration=1, tol=0.000100]\u001b[A\u001b[A\n",
      "\n",
      "[running kmeans]: 1it [00:01,  1.48it/s, center_shift=0.015851, iteration=2, tol=0.000100]\u001b[A\u001b[A\n",
      "\n",
      "[running kmeans]: 2it [00:01,  1.45it/s, center_shift=0.015851, iteration=2, tol=0.000100]\u001b[A\u001b[A\n",
      "\n",
      "[running kmeans]: 2it [00:02,  1.45it/s, center_shift=0.015702, iteration=3, tol=0.000100]\u001b[A\u001b[A\n",
      "\n",
      "[running kmeans]: 3it [00:02,  1.44it/s, center_shift=0.015702, iteration=3, tol=0.000100]\u001b[A\u001b[A\n",
      "\n",
      "[running kmeans]: 3it [00:02,  1.44it/s, center_shift=0.009611, iteration=4, tol=0.000100]\u001b[A\u001b[A\n",
      "\n",
      "[running kmeans]: 4it [00:02,  1.43it/s, center_shift=0.009611, iteration=4, tol=0.000100]\u001b[A\u001b[A\n",
      "\n",
      "[running kmeans]: 4it [00:03,  1.43it/s, center_shift=0.001951, iteration=5, tol=0.000100]\u001b[A\u001b[A\n",
      "\n",
      "[running kmeans]: 5it [00:03,  1.44it/s, center_shift=0.001951, iteration=5, tol=0.000100]\u001b[A\u001b[A\n",
      "\n",
      "[running kmeans]: 5it [00:04,  1.44it/s, center_shift=0.000552, iteration=6, tol=0.000100]\u001b[A\u001b[A\n",
      "\n",
      "[running kmeans]: 6it [00:04,  1.46it/s, center_shift=0.000552, iteration=6, tol=0.000100]\u001b[A\u001b[A\n",
      "\n",
      "[running kmeans]: 6it [00:04,  1.46it/s, center_shift=0.000186, iteration=7, tol=0.000100]\u001b[A\u001b[A\n",
      "\n",
      "[running kmeans]: 7it [00:04,  1.48it/s, center_shift=0.000186, iteration=7, tol=0.000100]\u001b[A\u001b[A\n",
      "\n",
      "[running kmeans]: 7it [00:05,  1.48it/s, center_shift=0.000063, iteration=8, tol=0.000100]\u001b[A\u001b[A\n",
      "\n",
      "[running kmeans]: 8it [00:05,  1.46it/s, center_shift=0.000063, iteration=8, tol=0.000100]\u001b[A\u001b[A\n"
     ]
    },
    {
     "name": "stdout",
     "output_type": "stream",
     "text": [
      "gpu time: 6.173159122467041\n",
      "running k-means on cpu..\n"
     ]
    },
    {
     "name": "stderr",
     "output_type": "stream",
     "text": [
      "\n",
      "\n",
      "[running kmeans]: 0it [00:00, ?it/s]\u001b[A\u001b[A\n",
      "\n",
      "[running kmeans]: 0it [00:00, ?it/s, center_shift=0.041883, iteration=1, tol=0.000100]\u001b[A\u001b[A\n",
      "\n",
      "[running kmeans]: 1it [00:00,  2.32it/s, center_shift=0.041883, iteration=1, tol=0.000100]\u001b[A\u001b[A\n",
      "\n",
      "[running kmeans]: 1it [00:00,  2.32it/s, center_shift=0.003662, iteration=2, tol=0.000100]\u001b[A\u001b[A\n",
      "\n",
      "[running kmeans]: 2it [00:00,  2.34it/s, center_shift=0.003662, iteration=2, tol=0.000100]\u001b[A\u001b[A\n",
      "\n",
      "[running kmeans]: 2it [00:01,  2.34it/s, center_shift=0.000140, iteration=3, tol=0.000100]\u001b[A\u001b[A\n",
      "\n",
      "[running kmeans]: 3it [00:01,  2.32it/s, center_shift=0.000140, iteration=3, tol=0.000100]\u001b[A\u001b[A\n",
      "\n",
      "[running kmeans]: 3it [00:01,  2.32it/s, center_shift=0.000007, iteration=4, tol=0.000100]\u001b[A\u001b[A\n",
      "\n",
      "[running kmeans]: 4it [00:01,  2.33it/s, center_shift=0.000007, iteration=4, tol=0.000100]\u001b[A\u001b[A\n"
     ]
    },
    {
     "name": "stdout",
     "output_type": "stream",
     "text": [
      "cpu time: 2.4203269481658936\n",
      "\n",
      "data size: 40000000\n",
      "running k-means on mps..\n"
     ]
    },
    {
     "name": "stderr",
     "output_type": "stream",
     "text": [
      "\n",
      "\n",
      "[running kmeans]: 0it [00:00, ?it/s]\u001b[A\u001b[A\n",
      "\n",
      "[running kmeans]: 0it [00:00, ?it/s, center_shift=0.050145, iteration=1, tol=0.000100]\u001b[A\u001b[A\n",
      "\n",
      "[running kmeans]: 1it [00:00,  1.26it/s, center_shift=0.050145, iteration=1, tol=0.000100]\u001b[A\u001b[A\n",
      "\n",
      "[running kmeans]: 1it [00:01,  1.26it/s, center_shift=0.006659, iteration=2, tol=0.000100]\u001b[A\u001b[A\n",
      "\n",
      "[running kmeans]: 2it [00:01,  1.18it/s, center_shift=0.006659, iteration=2, tol=0.000100]\u001b[A\u001b[A\n",
      "\n",
      "[running kmeans]: 2it [00:02,  1.18it/s, center_shift=0.002197, iteration=3, tol=0.000100]\u001b[A\u001b[A\n",
      "\n",
      "[running kmeans]: 3it [00:02,  1.17it/s, center_shift=0.002197, iteration=3, tol=0.000100]\u001b[A\u001b[A\n",
      "\n",
      "[running kmeans]: 3it [00:03,  1.17it/s, center_shift=0.000736, iteration=4, tol=0.000100]\u001b[A\u001b[A\n",
      "\n",
      "[running kmeans]: 4it [00:03,  1.18it/s, center_shift=0.000736, iteration=4, tol=0.000100]\u001b[A\u001b[A\n",
      "\n",
      "[running kmeans]: 4it [00:04,  1.18it/s, center_shift=0.000249, iteration=5, tol=0.000100]\u001b[A\u001b[A\n",
      "\n",
      "[running kmeans]: 5it [00:04,  1.19it/s, center_shift=0.000249, iteration=5, tol=0.000100]\u001b[A\u001b[A\n",
      "\n",
      "[running kmeans]: 5it [00:05,  1.19it/s, center_shift=0.000083, iteration=6, tol=0.000100]\u001b[A\u001b[A\n",
      "\n",
      "[running kmeans]: 6it [00:05,  1.19it/s, center_shift=0.000083, iteration=6, tol=0.000100]\u001b[A\u001b[A\n"
     ]
    },
    {
     "name": "stdout",
     "output_type": "stream",
     "text": [
      "gpu time: 6.036035776138306\n",
      "running k-means on cpu..\n"
     ]
    },
    {
     "name": "stderr",
     "output_type": "stream",
     "text": [
      "\n",
      "\n",
      "[running kmeans]: 0it [00:00, ?it/s]\u001b[A\u001b[A\n",
      "\n",
      "[running kmeans]: 0it [00:00, ?it/s, center_shift=0.125803, iteration=1, tol=0.000100]\u001b[A\u001b[A\n",
      "\n",
      "[running kmeans]: 1it [00:00,  1.75it/s, center_shift=0.125803, iteration=1, tol=0.000100]\u001b[A\u001b[A\n",
      "\n",
      "[running kmeans]: 1it [00:01,  1.75it/s, center_shift=0.010067, iteration=2, tol=0.000100]\u001b[A\u001b[A\n",
      "\n",
      "[running kmeans]: 2it [00:01,  1.78it/s, center_shift=0.010067, iteration=2, tol=0.000100]\u001b[A\u001b[A\n",
      "\n",
      "[running kmeans]: 2it [00:01,  1.78it/s, center_shift=0.002491, iteration=3, tol=0.000100]\u001b[A\u001b[A\n",
      "\n",
      "[running kmeans]: 3it [00:01,  1.75it/s, center_shift=0.002491, iteration=3, tol=0.000100]\u001b[A\u001b[A\n",
      "\n",
      "[running kmeans]: 3it [00:02,  1.75it/s, center_shift=0.000737, iteration=4, tol=0.000100]\u001b[A\u001b[A\n",
      "\n",
      "[running kmeans]: 4it [00:02,  1.78it/s, center_shift=0.000737, iteration=4, tol=0.000100]\u001b[A\u001b[A\n",
      "\n",
      "[running kmeans]: 4it [00:02,  1.78it/s, center_shift=0.000241, iteration=5, tol=0.000100]\u001b[A\u001b[A\n",
      "\n",
      "[running kmeans]: 5it [00:02,  1.80it/s, center_shift=0.000241, iteration=5, tol=0.000100]\u001b[A\u001b[A\n",
      "\n",
      "[running kmeans]: 5it [00:03,  1.80it/s, center_shift=0.000080, iteration=6, tol=0.000100]\u001b[A\u001b[A\n",
      "\n",
      "[running kmeans]: 6it [00:03,  1.78it/s, center_shift=0.000080, iteration=6, tol=0.000100]\u001b[A\u001b[A\n"
     ]
    },
    {
     "name": "stdout",
     "output_type": "stream",
     "text": [
      "cpu time: 4.3644490242004395\n",
      "\n",
      "data size: 50000000\n",
      "running k-means on mps..\n"
     ]
    },
    {
     "name": "stderr",
     "output_type": "stream",
     "text": [
      "\n",
      "\n",
      "[running kmeans]: 0it [00:00, ?it/s]\u001b[A\u001b[A\n",
      "\n",
      "[running kmeans]: 0it [00:01, ?it/s, center_shift=0.030395, iteration=1, tol=0.000100]\u001b[A\u001b[A\n",
      "\n",
      "[running kmeans]: 1it [00:01,  1.08s/it, center_shift=0.030395, iteration=1, tol=0.000100]\u001b[A\u001b[A\n",
      "\n",
      "[running kmeans]: 1it [00:02,  1.08s/it, center_shift=0.011838, iteration=2, tol=0.000100]\u001b[A\u001b[A\n",
      "\n",
      "[running kmeans]: 2it [00:02,  1.20s/it, center_shift=0.011838, iteration=2, tol=0.000100]\u001b[A\u001b[A\n",
      "\n",
      "[running kmeans]: 2it [00:03,  1.20s/it, center_shift=0.003567, iteration=3, tol=0.000100]\u001b[A\u001b[A\n",
      "\n",
      "[running kmeans]: 3it [00:03,  1.18s/it, center_shift=0.003567, iteration=3, tol=0.000100]\u001b[A\u001b[A\n",
      "\n",
      "[running kmeans]: 3it [00:04,  1.18s/it, center_shift=0.001099, iteration=4, tol=0.000100]\u001b[A\u001b[A\n",
      "\n",
      "[running kmeans]: 4it [00:04,  1.19s/it, center_shift=0.001099, iteration=4, tol=0.000100]\u001b[A\u001b[A\n",
      "\n",
      "[running kmeans]: 4it [00:05,  1.19s/it, center_shift=0.000367, iteration=5, tol=0.000100]\u001b[A\u001b[A\n",
      "\n",
      "[running kmeans]: 5it [00:05,  1.16s/it, center_shift=0.000367, iteration=5, tol=0.000100]\u001b[A\u001b[A\n",
      "\n",
      "[running kmeans]: 5it [00:06,  1.16s/it, center_shift=0.000124, iteration=6, tol=0.000100]\u001b[A\u001b[A\n",
      "\n",
      "[running kmeans]: 6it [00:06,  1.13s/it, center_shift=0.000124, iteration=6, tol=0.000100]\u001b[A\u001b[A\n",
      "\n",
      "[running kmeans]: 6it [00:07,  1.13s/it, center_shift=0.000041, iteration=7, tol=0.000100]\u001b[A\u001b[A\n",
      "\n",
      "[running kmeans]: 7it [00:07,  1.14s/it, center_shift=0.000041, iteration=7, tol=0.000100]\u001b[A\u001b[A\n"
     ]
    },
    {
     "name": "stdout",
     "output_type": "stream",
     "text": [
      "gpu time: 9.349697828292847\n",
      "running k-means on cpu..\n"
     ]
    },
    {
     "name": "stderr",
     "output_type": "stream",
     "text": [
      "\n",
      "\n",
      "[running kmeans]: 0it [00:00, ?it/s]\u001b[A\u001b[A\n",
      "\n",
      "[running kmeans]: 0it [00:00, ?it/s, center_shift=0.055786, iteration=1, tol=0.000100]\u001b[A\u001b[A\n",
      "\n",
      "[running kmeans]: 1it [00:00,  1.37it/s, center_shift=0.055786, iteration=1, tol=0.000100]\u001b[A\u001b[A\n",
      "\n",
      "[running kmeans]: 1it [00:01,  1.37it/s, center_shift=0.006982, iteration=2, tol=0.000100]\u001b[A\u001b[A\n",
      "\n",
      "[running kmeans]: 2it [00:01,  1.39it/s, center_shift=0.006982, iteration=2, tol=0.000100]\u001b[A\u001b[A\n",
      "\n",
      "[running kmeans]: 2it [00:02,  1.39it/s, center_shift=0.001717, iteration=3, tol=0.000100]\u001b[A\u001b[A\n",
      "\n",
      "[running kmeans]: 3it [00:02,  1.41it/s, center_shift=0.001717, iteration=3, tol=0.000100]\u001b[A\u001b[A\n",
      "\n",
      "[running kmeans]: 3it [00:02,  1.41it/s, center_shift=0.000523, iteration=4, tol=0.000100]\u001b[A\u001b[A\n",
      "\n",
      "[running kmeans]: 4it [00:02,  1.41it/s, center_shift=0.000523, iteration=4, tol=0.000100]\u001b[A\u001b[A\n",
      "\n",
      "[running kmeans]: 4it [00:03,  1.41it/s, center_shift=0.000170, iteration=5, tol=0.000100]\u001b[A\u001b[A\n",
      "\n",
      "[running kmeans]: 5it [00:03,  1.29it/s, center_shift=0.000170, iteration=5, tol=0.000100]\u001b[A\u001b[A\n",
      "\n",
      "[running kmeans]: 5it [00:04,  1.29it/s, center_shift=0.000056, iteration=6, tol=0.000100]\u001b[A\u001b[A\n",
      "\n",
      "[running kmeans]: 6it [00:04,  1.28it/s, center_shift=0.000056, iteration=6, tol=0.000100]\u001b[A\u001b[A"
     ]
    },
    {
     "name": "stdout",
     "output_type": "stream",
     "text": [
      "cpu time: 6.029508829116821\n"
     ]
    },
    {
     "name": "stderr",
     "output_type": "stream",
     "text": [
      "\n"
     ]
    }
   ],
   "source": [
    "dims, num_clusters = 2, 3\n",
    "data_sizes = [100000, 1000000, 5000000, 10000000, 20000000, 30000000, 40000000, 50000000]\n",
    "gpu_times = []\n",
    "cpu_times = []\n",
    "\n",
    "for data_size in data_sizes:\n",
    "    print(f'\\ndata size: {data_size}')\n",
    "\n",
    "    # data\n",
    "    x = np.random.randn(data_size, dims) / 6\n",
    "    x = torch.from_numpy(x)\n",
    "\n",
    "    # gpu\n",
    "    start_gpu = time()\n",
    "    kmeans_gpu = kmeans(X=x, num_clusters=num_clusters, device=torch.device('mps'))\n",
    "    gpu_time = time() - start_gpu\n",
    "    gpu_times.append(gpu_time)\n",
    "    print(f'gpu time: {gpu_time}')\n",
    "    \n",
    "    # cpu\n",
    "    start_cpu = time()\n",
    "    kmeans_cpu = kmeans(X=x, num_clusters=num_clusters, device=torch.device('cpu'))\n",
    "    cpu_time = time() - start_cpu\n",
    "    cpu_times.append(cpu_time)\n",
    "    print(f'cpu time: {cpu_time}')"
   ]
  },
  {
   "cell_type": "code",
   "execution_count": 13,
   "id": "7baf41b3",
   "metadata": {},
   "outputs": [
    {
     "data": {
      "image/png": "[encoded data removed]",
      "text/plain": [
       "<Figure size 960x480 with 1 Axes>"
      ]
     },
     "metadata": {},
     "output_type": "display_data"
    }
   ],
   "source": [
    "plt.figure(figsize=(6, 3), dpi=160)\n",
    "plt.plot(data_sizes, gpu_times, marker='o', label='mps', color='xkcd:vermillion')\n",
    "plt.plot(data_sizes, cpu_times, marker='o', label='cpu', color='xkcd:navy')\n",
    "plt.xticks(data_sizes)\n",
    "plt.legend(fontsize=12)\n",
    "plt.grid(alpha=0.2)\n",
    "plt.xlabel('data size', fontsize=14)\n",
    "plt.ylabel('time (s)', fontsize=14)\n",
    "plt.show()\n"
   ]
  },
  {
   "cell_type": "code",
   "execution_count": null,
   "id": "8022ce6a",
   "metadata": {},
   "outputs": [],
   "source": []
  }
 ],
 "metadata": {
  "kernelspec": {
   "display_name": "Python 3 (ipykernel)",
   "language": "python",
   "name": "python3"
  },
  "language_info": {
   "codemirror_mode": {
    "name": "ipython",
    "version": 3
   },
   "file_extension": ".py",
   "mimetype": "text/x-python",
   "name": "python",
   "nbconvert_exporter": "python",
   "pygments_lexer": "ipython3",
   "version": "3.9.16"
  }
 },
 "nbformat": 4,
 "nbformat_minor": 5
}
