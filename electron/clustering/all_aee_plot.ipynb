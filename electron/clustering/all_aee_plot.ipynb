{
 "cells": [
  {
   "cell_type": "code",
   "execution_count": 1,
   "id": "a4a1bc0f",
   "metadata": {},
   "outputs": [
    {
     "name": "stderr",
     "output_type": "stream",
     "text": [
      "/Users/wongdowling/opt/anaconda3/envs/dq/lib/python3.9/site-packages/awkward0/__init__.py:8: DeprecationWarning: distutils Version classes are deprecated. Use packaging.version instead.\n",
      "  if distutils.version.LooseVersion(numpy.__version__) < distutils.version.LooseVersion(\"1.13.1\"):\n"
     ]
    }
   ],
   "source": [
    "import dwong\n",
    "import uproot3 as uproot\n",
    "import numpy as np\n",
    "import awkward as ak\n",
    "import matplotlib.pyplot as plt\n",
    "import os,sys\n",
    "import math\n",
    "from sklearn.cluster import Birch#clustering\n",
    "from scipy import spatial\n",
    "import scipy.stats as sp\n",
    "from shapely.geometry import Point, Polygon\n",
    "from scipy.stats import binned_statistic\n",
    "from scipy.stats import binned_statistic_2d\n",
    "from matplotlib.backends.backend_pdf import PdfPages\n"
   ]
  },
  {
   "cell_type": "code",
   "execution_count": 3,
   "id": "07aff620",
   "metadata": {},
   "outputs": [],
   "source": [
    "def emcal_eng(x, y, eng):\n",
    "    x_bins = np.linspace(-150, 150, 50)\n",
    "    y_bins = np.linspace(-150, 150, 50)\n",
    "    bin_means = binned_statistic_2d(x, y, eng, statistic='mean', bins=[x_bins, y_bins])\n",
    "    \n",
    "    fig, ax = plt.subplots()\n",
    "    im = ax.imshow(np.flip(bin_means.statistic.T, 0), extent=(-150, 150, -150, 150), aspect='auto')\n",
    "    plt.colorbar(im, ax=ax, label='Energy Deposit/GeV')\n",
    "    ax.set_xlabel('EMCal x Position/cm')\n",
    "    ax.set_ylabel('EMCal y Position/cm')\n",
    "    \n",
    "    return fig\n"
   ]
  },
  {
   "cell_type": "code",
   "execution_count": 15,
   "id": "5204dccc",
   "metadata": {},
   "outputs": [],
   "source": [
    "def each_file(fname):\n",
    "    x, y, eng = dwong.emcal_bytuple(fname)\n",
    "    pdf_filename =  '%s.pdf' % fname\n",
    "    pdf_pages = PdfPages(pdf_filename)\n",
    "    for i in range(len(x)):\n",
    "        fig = emcal_eng(x[i], y[i], eng[i])\n",
    "        pdf_pages.savefig(fig)\n",
    "        plt.close(fig)  \n",
    "    pdf_pages.close()"
   ]
  },
  {
   "cell_type": "code",
   "execution_count": 16,
   "id": "32c3fafe",
   "metadata": {},
   "outputs": [
    {
     "ename": "ValueError",
     "evalue": "not a ROOT file (starts with b'\\x00\\x00\\x00\\x01' instead of 'root')\n   in file: .DS_Store",
     "output_type": "error",
     "traceback": [
      "\u001b[0;31m---------------------------------------------------------------------------\u001b[0m",
      "\u001b[0;31mValueError\u001b[0m                                Traceback (most recent call last)",
      "Cell \u001b[0;32mIn[16], line 5\u001b[0m\n\u001b[1;32m      3\u001b[0m files \u001b[38;5;241m=\u001b[39m os\u001b[38;5;241m.\u001b[39mlistdir(folder_path)\n\u001b[1;32m      4\u001b[0m \u001b[38;5;28;01mfor\u001b[39;00m file_name \u001b[38;5;129;01min\u001b[39;00m files:\n\u001b[0;32m----> 5\u001b[0m     \u001b[43meach_file\u001b[49m\u001b[43m(\u001b[49m\u001b[43mfile_name\u001b[49m\u001b[43m)\u001b[49m\n",
      "Cell \u001b[0;32mIn[15], line 2\u001b[0m, in \u001b[0;36meach_file\u001b[0;34m(fname)\u001b[0m\n\u001b[1;32m      1\u001b[0m \u001b[38;5;28;01mdef\u001b[39;00m \u001b[38;5;21meach_file\u001b[39m(fname):\n\u001b[0;32m----> 2\u001b[0m     x, y, eng \u001b[38;5;241m=\u001b[39m \u001b[43mdwong\u001b[49m\u001b[38;5;241;43m.\u001b[39;49m\u001b[43memcal_bytuple\u001b[49m\u001b[43m(\u001b[49m\u001b[43mfname\u001b[49m\u001b[43m)\u001b[49m\n\u001b[1;32m      3\u001b[0m     pdf_filename \u001b[38;5;241m=\u001b[39m  \u001b[38;5;124m'\u001b[39m\u001b[38;5;132;01m%s\u001b[39;00m\u001b[38;5;124m.pdf\u001b[39m\u001b[38;5;124m'\u001b[39m \u001b[38;5;241m%\u001b[39m fname\n\u001b[1;32m      4\u001b[0m     pdf_pages \u001b[38;5;241m=\u001b[39m PdfPages(pdf_filename)\n",
      "File \u001b[0;32m~/Desktop/DQ_Dowling/electron/clustering/dwong.py:128\u001b[0m, in \u001b[0;36memcal_bytuple\u001b[0;34m(file)\u001b[0m\n\u001b[1;32m    127\u001b[0m \u001b[38;5;28;01mdef\u001b[39;00m \u001b[38;5;21memcal_bytuple\u001b[39m(file):\n\u001b[0;32m--> 128\u001b[0m     dq_events \u001b[38;5;241m=\u001b[39m \u001b[43mgetData\u001b[49m\u001b[43m(\u001b[49m\u001b[43mfile\u001b[49m\u001b[43m,\u001b[49m\u001b[38;5;124;43m\"\u001b[39;49m\u001b[38;5;124;43mEvents\u001b[39;49m\u001b[38;5;124;43m\"\u001b[39;49m\u001b[43m)\u001b[49m\n\u001b[1;32m    129\u001b[0m     x_pos \u001b[38;5;241m=\u001b[39m []\u001b[38;5;66;03m#designed to be 2D\u001b[39;00m\n\u001b[1;32m    130\u001b[0m     y_pos \u001b[38;5;241m=\u001b[39m []\u001b[38;5;66;03m#designed to be 2D\u001b[39;00m\n",
      "File \u001b[0;32m~/Desktop/DQ_Dowling/electron/clustering/dwong.py:57\u001b[0m, in \u001b[0;36mgetData\u001b[0;34m(fname, procName)\u001b[0m\n\u001b[1;32m     56\u001b[0m \u001b[38;5;28;01mdef\u001b[39;00m \u001b[38;5;21mgetData\u001b[39m(fname\u001b[38;5;241m=\u001b[39m\u001b[38;5;124m\"\u001b[39m\u001b[38;5;124m\"\u001b[39m, procName\u001b[38;5;241m=\u001b[39m\u001b[38;5;124m\"\u001b[39m\u001b[38;5;124mEvents\u001b[39m\u001b[38;5;124m\"\u001b[39m):\n\u001b[0;32m---> 57\u001b[0m     kn_dict \u001b[38;5;241m=\u001b[39m \u001b[43muproot\u001b[49m\u001b[38;5;241;43m.\u001b[39;49m\u001b[43mopen\u001b[49m\u001b[43m(\u001b[49m\u001b[43mfname\u001b[49m\u001b[43m)\u001b[49m[\u001b[38;5;124m\"\u001b[39m\u001b[38;5;124mEvents\u001b[39m\u001b[38;5;124m\"\u001b[39m]\u001b[38;5;241m.\u001b[39marrays()\n\u001b[1;32m     58\u001b[0m     kn_dict_ak1 \u001b[38;5;241m=\u001b[39m {name\u001b[38;5;241m.\u001b[39mdecode(): ak\u001b[38;5;241m.\u001b[39mfrom_awkward0(array) \u001b[38;5;28;01mfor\u001b[39;00m name, array \u001b[38;5;129;01min\u001b[39;00m kn_dict\u001b[38;5;241m.\u001b[39mitems()}\n\u001b[1;32m     59\u001b[0m     kn_events \u001b[38;5;241m=\u001b[39m ak\u001b[38;5;241m.\u001b[39mzip({\u001b[38;5;124m\"\u001b[39m\u001b[38;5;124mElectrons\u001b[39m\u001b[38;5;124m\"\u001b[39m:ak\u001b[38;5;241m.\u001b[39mzip({\n\u001b[1;32m     60\u001b[0m                                             \u001b[38;5;124m\"\u001b[39m\u001b[38;5;124mge\u001b[39m\u001b[38;5;124m\"\u001b[39m:      kn_dict_ak1[\u001b[38;5;124m\"\u001b[39m\u001b[38;5;124mge\u001b[39m\u001b[38;5;124m\"\u001b[39m],\n\u001b[1;32m     61\u001b[0m                                             \u001b[38;5;124m\"\u001b[39m\u001b[38;5;124mgvx\u001b[39m\u001b[38;5;124m\"\u001b[39m:      kn_dict_ak1[\u001b[38;5;124m\"\u001b[39m\u001b[38;5;124mgvx\u001b[39m\u001b[38;5;124m\"\u001b[39m],\n\u001b[0;32m   (...)\u001b[0m\n\u001b[1;32m     87\u001b[0m                                         })\n\u001b[1;32m     88\u001b[0m                        }, depth_limit\u001b[38;5;241m=\u001b[39m\u001b[38;5;241m1\u001b[39m)\n",
      "File \u001b[0;32m~/opt/anaconda3/envs/dq/lib/python3.9/site-packages/uproot3/rootio.py:55\u001b[0m, in \u001b[0;36mopen\u001b[0;34m(path, localsource, xrootdsource, httpsource, **options)\u001b[0m\n\u001b[1;32m     53\u001b[0m     \u001b[38;5;28;01melse\u001b[39;00m:\n\u001b[1;32m     54\u001b[0m         openfcn \u001b[38;5;241m=\u001b[39m localsource\n\u001b[0;32m---> 55\u001b[0m     \u001b[38;5;28;01mreturn\u001b[39;00m \u001b[43mROOTDirectory\u001b[49m\u001b[38;5;241;43m.\u001b[39;49m\u001b[43mread\u001b[49m\u001b[43m(\u001b[49m\u001b[43mopenfcn\u001b[49m\u001b[43m(\u001b[49m\u001b[43mpath\u001b[49m\u001b[43m)\u001b[49m\u001b[43m,\u001b[49m\u001b[43m \u001b[49m\u001b[38;5;241;43m*\u001b[39;49m\u001b[38;5;241;43m*\u001b[39;49m\u001b[43moptions\u001b[49m\u001b[43m)\u001b[49m\n\u001b[1;32m     57\u001b[0m \u001b[38;5;28;01melif\u001b[39;00m _bytesid(parsed\u001b[38;5;241m.\u001b[39mscheme) \u001b[38;5;241m==\u001b[39m \u001b[38;5;124mb\u001b[39m\u001b[38;5;124m\"\u001b[39m\u001b[38;5;124mroot\u001b[39m\u001b[38;5;124m\"\u001b[39m:\n\u001b[1;32m     58\u001b[0m     \u001b[38;5;28;01mreturn\u001b[39;00m xrootd(path, xrootdsource\u001b[38;5;241m=\u001b[39mxrootdsource, \u001b[38;5;241m*\u001b[39m\u001b[38;5;241m*\u001b[39moptions)\n",
      "File \u001b[0;32m~/opt/anaconda3/envs/dq/lib/python3.9/site-packages/uproot3/rootio.py:125\u001b[0m, in \u001b[0;36mROOTDirectory.read\u001b[0;34m(source, *args, **options)\u001b[0m\n\u001b[1;32m    123\u001b[0m magic, fVersion \u001b[38;5;241m=\u001b[39m cursor\u001b[38;5;241m.\u001b[39mfields(source, ROOTDirectory\u001b[38;5;241m.\u001b[39m_format1)\n\u001b[1;32m    124\u001b[0m \u001b[38;5;28;01mif\u001b[39;00m magic \u001b[38;5;241m!=\u001b[39m \u001b[38;5;124mb\u001b[39m\u001b[38;5;124m\"\u001b[39m\u001b[38;5;124mroot\u001b[39m\u001b[38;5;124m\"\u001b[39m:\n\u001b[0;32m--> 125\u001b[0m     \u001b[38;5;28;01mraise\u001b[39;00m \u001b[38;5;167;01mValueError\u001b[39;00m(\u001b[38;5;124m\"\u001b[39m\u001b[38;5;124mnot a ROOT file (starts with \u001b[39m\u001b[38;5;132;01m{0}\u001b[39;00m\u001b[38;5;124m instead of \u001b[39m\u001b[38;5;124m'\u001b[39m\u001b[38;5;124mroot\u001b[39m\u001b[38;5;124m'\u001b[39m\u001b[38;5;124m)\u001b[39m\u001b[38;5;130;01m\\n\u001b[39;00m\u001b[38;5;124m   in file: \u001b[39m\u001b[38;5;132;01m{1}\u001b[39;00m\u001b[38;5;124m\"\u001b[39m\u001b[38;5;241m.\u001b[39mformat(\u001b[38;5;28mrepr\u001b[39m(magic), source\u001b[38;5;241m.\u001b[39mpath))\n\u001b[1;32m    126\u001b[0m \u001b[38;5;28;01mif\u001b[39;00m fVersion \u001b[38;5;241m<\u001b[39m \u001b[38;5;241m1000000\u001b[39m:\n\u001b[1;32m    127\u001b[0m     fBEGIN, fEND, fSeekFree, fNbytesFree, nfree, fNbytesName, fUnits, fCompress, fSeekInfo, fNbytesInfo, fUUID \u001b[38;5;241m=\u001b[39m cursor\u001b[38;5;241m.\u001b[39mfields(source, ROOTDirectory\u001b[38;5;241m.\u001b[39m_format2_small)\n",
      "\u001b[0;31mValueError\u001b[0m: not a ROOT file (starts with b'\\x00\\x00\\x00\\x01' instead of 'root')\n   in file: .DS_Store"
     ]
    }
   ],
   "source": [
    "folder_path = \"/Users/wongdowling/Desktop/n-tuples/Aee_500-600/\"\n",
    "os.chdir(\"/Users/wongdowling/Desktop/n-tuples/Aee_500-600/\")\n",
    "files = os.listdir(folder_path)\n",
    "for file_name in files:\n",
    "    each_file(file_name)\n"
   ]
  },
  {
   "cell_type": "code",
   "execution_count": 12,
   "id": "e6c09544",
   "metadata": {},
   "outputs": [
    {
     "data": {
      "text/plain": [
       "str"
      ]
     },
     "execution_count": 12,
     "metadata": {},
     "output_type": "execute_result"
    }
   ],
   "source": [
    "type(files[0])"
   ]
  },
  {
   "cell_type": "code",
   "execution_count": null,
   "id": "990e0809",
   "metadata": {},
   "outputs": [],
   "source": []
  }
 ],
 "metadata": {
  "kernelspec": {
   "display_name": "Python 3 (ipykernel)",
   "language": "python",
   "name": "python3"
  },
  "language_info": {
   "codemirror_mode": {
    "name": "ipython",
    "version": 3
   },
   "file_extension": ".py",
   "mimetype": "text/x-python",
   "name": "python",
   "nbconvert_exporter": "python",
   "pygments_lexer": "ipython3",
   "version": "3.9.16"
  }
 },
 "nbformat": 4,
 "nbformat_minor": 5
}
