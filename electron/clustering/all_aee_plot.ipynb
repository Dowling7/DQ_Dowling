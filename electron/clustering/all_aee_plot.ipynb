{
 "cells": [
  {
   "cell_type": "code",
   "execution_count": 1,
   "id": "a4a1bc0f",
   "metadata": {},
   "outputs": [
    {
     "name": "stderr",
     "output_type": "stream",
     "text": [
      "/Users/wongdowling/opt/anaconda3/envs/dq/lib/python3.9/site-packages/awkward0/__init__.py:8: DeprecationWarning: distutils Version classes are deprecated. Use packaging.version instead.\n",
      "  if distutils.version.LooseVersion(numpy.__version__) < distutils.version.LooseVersion(\"1.13.1\"):\n"
     ]
    }
   ],
   "source": [
    "import dwong\n",
    "import uproot3 as uproot\n",
    "import numpy as np\n",
    "import awkward as ak\n",
    "import matplotlib.pyplot as plt\n",
    "import os,sys\n",
    "import math\n",
    "from sklearn.cluster import Birch#clustering\n",
    "from scipy import spatial\n",
    "import scipy.stats as sp\n",
    "from shapely.geometry import Point, Polygon\n",
    "from scipy.stats import binned_statistic\n",
    "from scipy.stats import binned_statistic_2d\n",
    "from matplotlib.backends.backend_pdf import PdfPages\n"
   ]
  },
  {
   "cell_type": "code",
   "execution_count": 2,
   "id": "07aff620",
   "metadata": {},
   "outputs": [],
   "source": [
    "#443 samplesfot both Aee and Amm\n",
    "def emcal_eng(x, y, eng):\n",
    "    x_bins = np.linspace(-150, 150, 50)\n",
    "    y_bins = np.linspace(-150, 150, 50)\n",
    "    bin_means = binned_statistic_2d(x, y, eng, statistic='mean', bins=[x_bins, y_bins])\n",
    "    \n",
    "    fig, ax = plt.subplots()\n",
    "    im = ax.imshow(np.flip(bin_means.statistic.T, 0), extent=(-150, 150, -150, 150), aspect='auto')\n",
    "    plt.colorbar(im, ax=ax, label='Energy Deposit/GeV')\n",
    "    ax.set_xlabel('EMCal x Position/cm')\n",
    "    ax.set_ylabel('EMCal y Position/cm')\n",
    "    \n",
    "    return fig\n"
   ]
  },
  {
   "cell_type": "code",
   "execution_count": 3,
   "id": "5204dccc",
   "metadata": {},
   "outputs": [],
   "source": [
    "def each_file(fname):\n",
    "    print(fname)\n",
    "    x, y, eng = dwong.emcal_bytuple(fname)\n",
    "    os.chdir(\"/Users/wongdowling/Desktop/DQ_Dowling/plots/580_training/\")\n",
    "    pdf_filename =  '%s.pdf' % fname\n",
    "    pdf_pages = PdfPages(pdf_filename)\n",
    "    for i in range(len(x)):\n",
    "        fig = emcal_eng(x[i], y[i], eng[i])\n",
    "        pdf_pages.savefig(fig)\n",
    "        plt.close(fig)  \n",
    "    pdf_pages.close()"
   ]
  },
  {
   "cell_type": "code",
   "execution_count": null,
   "id": "ca03f3de",
   "metadata": {},
   "outputs": [
    {
     "name": "stdout",
     "output_type": "stream",
     "text": [
      "pi+_520_p580.root\n",
      "electron_520_p580.root\n",
      "klong_520_p580.root\n"
     ]
    }
   ],
   "source": [
    "os.chdir(\"/Users/wongdowling/Desktop/n-tuples/5_80_training/\")\n",
    "files = os.listdir(\"/Users/wongdowling/Desktop/n-tuples/5_80_training/\")\n",
    "for file_name in files:\n",
    "    os.chdir(\"/Users/wongdowling/Desktop/n-tuples/5_80_training/\")\n",
    "    if file_name.endswith(\".root\")& (file_name not in train):\n",
    "        each_file(file_name)"
   ]
  },
  {
   "cell_type": "code",
   "execution_count": 4,
   "id": "1ff3b2ac",
   "metadata": {},
   "outputs": [],
   "source": [
    "train = ['pi-_520_p580.root',\n",
    "'photon_520_p580.root',\n",
    "'muon_520_p580.root',\n",
    "        'positron_520_p580.root']"
   ]
  },
  {
   "cell_type": "code",
   "execution_count": 10,
   "id": "32c3fafe",
   "metadata": {},
   "outputs": [
    {
     "name": "stdout",
     "output_type": "stream",
     "text": [
      "AmmBrem_1.750000_z500_800_eps_-7.8_withbkg.root\n",
      "AmmBrem_1.150000_z500_800_eps_-7.2_withbkg.root\n",
      "AmmBrem_2.150000_z500_800_eps_-3.9_withbkg.root\n",
      "AmmBrem_1.850000_z500_800_eps_-5.4_withbkg.root\n",
      "AmmBrem_1.950000_z500_800_eps_-8.1_withbkg.root\n",
      "AmmBrem_1.150000_z500_800_eps_-7.5_withbkg.root\n",
      "AmmBrem_2.450000_z500_800_eps_-6.9_withbkg.root\n",
      "AmmBrem_2.750000_z500_800_eps_-4.5_withbkg.root\n",
      "AmmBrem_0.950000_z500_800_eps_-8.1_withbkg.root\n",
      "AmmBrem_0.850000_z500_800_eps_-5.4_withbkg.root\n",
      "AmmBrem_1.150000_z500_800_eps_-6_withbkg.root\n",
      "AmmBrem_2.750000_z500_800_eps_-4.2_withbkg.root\n",
      "AmmBrem_0.450000_z500_800_eps_-6_withbkg.root\n",
      "AmmBrem_0.450000_z500_800_eps_-6.9_withbkg.root\n",
      "AmmBrem_1.750000_z500_800_eps_-4.2_withbkg.root\n",
      "AmmBrem_2.650000_z500_800_eps_-9_withbkg.root\n",
      "AmmBrem_2.550000_z500_800_eps_-3_withbkg.root\n",
      "AmmBrem_3.050000_z500_800_eps_-3_withbkg.root\n",
      "AmmBrem_1.750000_z500_800_eps_-4.5_withbkg.root\n",
      "AmmBrem_2.150000_z500_800_eps_-7.5_withbkg.root\n",
      "AmmBrem_1.450000_z500_800_eps_-6.9_withbkg.root\n",
      "AmmBrem_1.950000_z500_800_eps_-9_withbkg.root\n",
      "AmmBrem_0.750000_z500_800_eps_-4.2_withbkg.root\n",
      "AmmBrem_2.150000_z500_800_eps_-7.2_withbkg.root\n",
      "AmmBrem_2.950000_z500_800_eps_-8.1_withbkg.root\n",
      "AmmBrem_0.750000_z500_800_eps_-4.5_withbkg.root\n",
      "AmmBrem_2.850000_z500_800_eps_-5.4_withbkg.root\n",
      "AmmBrem_1.150000_z500_800_eps_-3.9_withbkg.root\n",
      "AmmBrem_1.150000_z500_800_eps_-6.3_withbkg.root\n",
      "AmmBrem_0.250000_z500_800_eps_-4.8_withbkg.root\n",
      "AmmBrem_2.050000_z500_800_eps_-3.6_withbkg.root\n",
      "AmmBrem_1.850000_z500_800_eps_-4.5_withbkg.root\n",
      "AmmBrem_1.550000_z500_800_eps_-8.7_withbkg.root\n",
      "AmmBrem_0.350000_z500_800_eps_-5.1_withbkg.root\n",
      "AmmBrem_2.050000_z500_800_eps_-5.7_withbkg.root\n",
      "AmmBrem_1.450000_z500_800_eps_-3.3_withbkg.root\n",
      "AmmBrem_2.850000_z500_800_eps_-3_withbkg.root\n",
      "AmmBrem_0.250000_z500_800_eps_-8.4_withbkg.root\n",
      "AmmBrem_2.450000_z500_800_eps_-7.8_withbkg.root\n",
      "AmmBrem_1.850000_z500_800_eps_-4.2_withbkg.root\n",
      "AmmBrem_2.550000_z500_800_eps_-6.6_withbkg.root\n",
      "AmmBrem_0.850000_z500_800_eps_-4.5_withbkg.root\n",
      "AmmBrem_0.550000_z500_800_eps_-8.7_withbkg.root\n",
      "AmmBrem_2.650000_z500_800_eps_-8.1_withbkg.root\n",
      "AmmBrem_2.750000_z500_800_eps_-5.4_withbkg.root\n",
      "AmmBrem_3.050000_z500_800_eps_-3.6_withbkg.root\n",
      "AmmBrem_0.250000_z500_800_eps_-3_withbkg.root\n",
      "AmmBrem_1.250000_z500_800_eps_-4.8_withbkg.root\n",
      "AmmBrem_1.450000_z500_800_eps_-9_withbkg.root\n",
      "AmmBrem_0.850000_z500_800_eps_-4.2_withbkg.root\n",
      "AmmBrem_1.750000_z500_800_eps_-3_withbkg.root\n",
      "AmmBrem_1.250000_z500_800_eps_-8.4_withbkg.root\n",
      "AmmBrem_3.050000_z500_800_eps_-5.7_withbkg.root\n",
      "AmmBrem_0.450000_z500_800_eps_-3.3_withbkg.root\n",
      "AmmBrem_1.350000_z500_800_eps_-5.1_withbkg.root\n",
      "AmmBrem_0.450000_z500_800_eps_-7.8_withbkg.root\n",
      "AmmBrem_0.550000_z500_800_eps_-6.6_withbkg.root\n",
      "AmmBrem_2.350000_z500_800_eps_-5.1_withbkg.root\n",
      "AmmBrem_2.250000_z500_800_eps_-8.4_withbkg.root\n",
      "AmmBrem_1.750000_z500_800_eps_-5.4_withbkg.root\n",
      "AmmBrem_1.650000_z500_800_eps_-8.1_withbkg.root\n",
      "AmmBrem_2.350000_z500_800_eps_-6_withbkg.root\n",
      "AmmBrem_2.250000_z500_800_eps_-4.8_withbkg.root\n",
      "AmmBrem_2.450000_z500_800_eps_-3.3_withbkg.root\n",
      "AmmBrem_1.050000_z500_800_eps_-5.7_withbkg.root\n",
      "AmmBrem_0.950000_z500_800_eps_-6_withbkg.root\n",
      "AmmBrem_1.550000_z500_800_eps_-6.6_withbkg.root\n",
      "AmmBrem_2.850000_z500_800_eps_-4.2_withbkg.root\n",
      "AmmBrem_1.450000_z500_800_eps_-7.8_withbkg.root\n",
      "AmmBrem_2.150000_z500_800_eps_-6.3_withbkg.root\n",
      "AmmBrem_2.550000_z500_800_eps_-8.7_withbkg.root\n",
      "AmmBrem_0.650000_z500_800_eps_-8.1_withbkg.root\n",
      "AmmBrem_2.850000_z500_800_eps_-4.5_withbkg.root\n",
      "AmmBrem_0.750000_z500_800_eps_-5.4_withbkg.root\n",
      "AmmBrem_1.050000_z500_800_eps_-3.6_withbkg.root\n"
     ]
    }
   ],
   "source": [
    "os.chdir(\"/Users/wongdowling/Desktop/n-tuples/Amm_500-600/\")\n",
    "files = os.listdir(\"/Users/wongdowling/Desktop/n-tuples/Amm_500-600/\")\n",
    "for file_name in files:\n",
    "    if file_name.endswith(\".root\")& (file_name not in muon_list):\n",
    "        os.chdir(\"/Users/wongdowling/Desktop/n-tuples/Amm_500-600/\")\n",
    "        each_file(file_name)\n"
   ]
  },
  {
   "cell_type": "code",
   "execution_count": 9,
   "id": "83a33e21",
   "metadata": {},
   "outputs": [
    {
     "data": {
      "text/plain": [
       "534"
      ]
     },
     "execution_count": 9,
     "metadata": {},
     "output_type": "execute_result"
    }
   ],
   "source": [
    "len(muon_list)"
   ]
  },
  {
   "cell_type": "code",
   "execution_count": null,
   "id": "943b4eb9",
   "metadata": {},
   "outputs": [],
   "source": []
  }
 ],
 "metadata": {
  "kernelspec": {
   "display_name": "Python 3 (ipykernel)",
   "language": "python",
   "name": "python3"
  },
  "language_info": {
   "codemirror_mode": {
    "name": "ipython",
    "version": 3
   },
   "file_extension": ".py",
   "mimetype": "text/x-python",
   "name": "python",
   "nbconvert_exporter": "python",
   "pygments_lexer": "ipython3",
   "version": "3.9.16"
  }
 },
 "nbformat": 4,
 "nbformat_minor": 5
}
