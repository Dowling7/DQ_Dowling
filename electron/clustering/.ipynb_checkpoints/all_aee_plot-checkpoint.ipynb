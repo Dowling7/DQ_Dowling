{
 "cells": [
  {
   "cell_type": "code",
   "execution_count": 17,
   "id": "a4a1bc0f",
   "metadata": {},
   "outputs": [],
   "source": [
    "import dwong\n",
    "import uproot3 as uproot\n",
    "import numpy as np\n",
    "import awkward as ak\n",
    "import matplotlib.pyplot as plt\n",
    "import os,sys\n",
    "import math\n",
    "from sklearn.cluster import Birch#clustering\n",
    "from scipy import spatial\n",
    "import scipy.stats as sp\n",
    "from shapely.geometry import Point, Polygon\n",
    "from scipy.stats import binned_statistic\n",
    "from scipy.stats import binned_statistic_2d\n",
    "from matplotlib.backends.backend_pdf import PdfPages\n"
   ]
  },
  {
   "cell_type": "code",
   "execution_count": 18,
   "id": "07aff620",
   "metadata": {},
   "outputs": [],
   "source": [
    "def emcal_eng(x, y, eng):\n",
    "    x_bins = np.linspace(-150, 150, 50)\n",
    "    y_bins = np.linspace(-150, 150, 50)\n",
    "    bin_means = binned_statistic_2d(x, y, eng, statistic='mean', bins=[x_bins, y_bins])\n",
    "    \n",
    "    fig, ax = plt.subplots()\n",
    "    im = ax.imshow(np.flip(bin_means.statistic.T, 0), extent=(-150, 150, -150, 150), aspect='auto')\n",
    "    plt.colorbar(im, ax=ax, label='Energy Deposit/GeV')\n",
    "    ax.set_xlabel('EMCal x Position/cm')\n",
    "    ax.set_ylabel('EMCal y Position/cm')\n",
    "    \n",
    "    return fig\n"
   ]
  },
  {
   "cell_type": "code",
   "execution_count": 19,
   "id": "5204dccc",
   "metadata": {},
   "outputs": [],
   "source": [
    "def each_file(fname):\n",
    "    x, y, eng = dwong.emcal_bytuple(fname)\n",
    "    pdf_filename =  '%s.pdf' % fname\n",
    "    pdf_pages = PdfPages(pdf_filename)\n",
    "    for i in range(len(x)):\n",
    "        fig = emcal_eng(x[i], y[i], eng[i])\n",
    "        pdf_pages.savefig(fig)\n",
    "        plt.close(fig)  \n",
    "    pdf_pages.close()"
   ]
  },
  {
   "cell_type": "code",
   "execution_count": null,
   "id": "32c3fafe",
   "metadata": {},
   "outputs": [],
   "source": [
    "folder_path = \"/Users/wongdowling/Desktop/n-tuples/Amm_500-600/\"\n",
    "os.chdir(\"/Users/wongdowling/Desktop/n-tuples/Amm_500-600/\")\n",
    "files = os.listdir(folder_path)\n",
    "for file_name in files:\n",
    "    each_file(file_name)\n"
   ]
  },
  {
   "cell_type": "code",
   "execution_count": 12,
   "id": "e6c09544",
   "metadata": {},
   "outputs": [
    {
     "data": {
      "text/plain": [
       "str"
      ]
     },
     "execution_count": 12,
     "metadata": {},
     "output_type": "execute_result"
    }
   ],
   "source": [
    "type(files[0])"
   ]
  },
  {
   "cell_type": "code",
   "execution_count": null,
   "id": "990e0809",
   "metadata": {},
   "outputs": [],
   "source": []
  }
 ],
 "metadata": {
  "kernelspec": {
   "display_name": "Python 3 (ipykernel)",
   "language": "python",
   "name": "python3"
  },
  "language_info": {
   "codemirror_mode": {
    "name": "ipython",
    "version": 3
   },
   "file_extension": ".py",
   "mimetype": "text/x-python",
   "name": "python",
   "nbconvert_exporter": "python",
   "pygments_lexer": "ipython3",
   "version": "3.9.16"
  }
 },
 "nbformat": 4,
 "nbformat_minor": 5
}
