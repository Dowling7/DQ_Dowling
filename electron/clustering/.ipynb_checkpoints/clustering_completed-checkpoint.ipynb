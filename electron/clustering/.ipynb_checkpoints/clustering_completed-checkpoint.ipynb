{
 "cells": [
  {
   "cell_type": "code",
   "execution_count": 2,
   "id": "9814b3f3",
   "metadata": {},
   "outputs": [],
   "source": [
    "import dwong\n",
    "import uproot3 as uproot\n",
    "import numpy as np\n",
    "import awkward as ak\n",
    "import matplotlib.pyplot as plt\n",
    "import os,sys\n",
    "import math\n",
    "from scipy.stats import binned_statistic\n",
    "from scipy.stats import binned_statistic_2d\n",
    "from matplotlib.backends.backend_pdf import PdfPages\n",
    "import time\n",
    "from sklearn.cluster import DBSCAN\n",
    "from sklearn.metrics import silhouette_score\n",
    "from sklearn.cluster import KMeans\n"
   ]
  },
  {
   "cell_type": "code",
   "execution_count": 74,
   "id": "ff2897dc",
   "metadata": {},
   "outputs": [],
   "source": [
    "def single_cluster(x,y,eng):\n",
    "    x_bins = np.linspace(-150, 150, 50)\n",
    "    y_bins = np.linspace(-150, 150, 50)\n",
    "    bin_means = binned_statistic_2d(x, y, eng, statistic='mean',bins=[x_bins, y_bins])\n",
    "    im = plt.imshow(np.flip(bin_means.statistic.T,0), extent=(-150, 150, -150, 150), aspect='auto')\n",
    "    #plt.plot([-89.85113525390625, -90.23963928222656], [-15.583617210388184, -16.908479690551758], marker='*', ls='none', ms=20)\n",
    "    plt.colorbar(im, label='Energy deposite')\n",
    "    plt.xlabel('EMCal x Position')\n",
    "    plt.ylabel('EMCal y Position')\n",
    "    plt.show()"
   ]
  },
  {
   "cell_type": "code",
   "execution_count": 41,
   "id": "dceb96b9",
   "metadata": {},
   "outputs": [],
   "source": [
    "file='/Users/wongdowling/Desktop/n-tuples/aprime_yongbin/Aee_test_eps3.3.root'\n",
    "a,b,c=dwong.emcal_bytuple(file)"
   ]
  },
  {
   "cell_type": "code",
   "execution_count": 75,
   "id": "b9668e88",
   "metadata": {},
   "outputs": [
    {
     "name": "stdout",
     "output_type": "stream",
     "text": [
      "0.02022668346762657\n",
      "0.01580372452735901\n",
      "0.008563769049942493\n",
      "0.007251566741615534\n",
      "0.057228490710258484\n",
      "0.0068261888809502125\n",
      "0.24905727803707123\n",
      "2.690340757369995\n",
      "0.014016224071383476\n",
      "0.008737585507333279\n",
      "0.022515440359711647\n",
      "0.3604242503643036\n",
      "0.008018272928893566\n",
      "0.017530543729662895\n",
      "0.012994775548577309\n",
      "0.026573551818728447\n",
      "0.0257511418312788\n",
      "0.039054349064826965\n",
      "3.679633378982544\n",
      "0.10069020092487335\n",
      "0.014320437796413898\n",
      "0.035593852400779724\n",
      "0.26720815896987915\n",
      "0.004551408812403679\n",
      "0.025404654443264008\n",
      "0.00816796813160181\n",
      "0.007598280441015959\n",
      "0.013626948930323124\n",
      "0.08482620865106583\n",
      "0.008834495209157467\n",
      "0.014692453667521477\n",
      "0.05832068249583244\n",
      "0.008330483920872211\n",
      "0.008144269697368145\n",
      "0.019504278898239136\n",
      "0.006848225370049477\n",
      "0.007729087490588427\n",
      "0.028189105913043022\n",
      "0.10874632000923157\n",
      "0.270131915807724\n",
      "0.1711852252483368\n",
      "0.010544566437602043\n",
      "0.008023547008633614\n",
      "0.03322978317737579\n",
      "0.7788482904434204\n",
      "3.596311092376709\n",
      "0.5966619253158569\n",
      "0.11854808777570724\n",
      "0.08485788106918335\n",
      "5.023265838623047\n",
      "31.03599739074707\n",
      "0.17034590244293213\n",
      "0.02924109250307083\n",
      "0.00796562060713768\n",
      "0.006629828829318285\n",
      "0.23065030574798584\n",
      "0.5882266759872437\n",
      "0.07109994441270828\n",
      "0.00516609288752079\n",
      "0.038432978093624115\n",
      "0.004710839595645666\n",
      "0.01047578640282154\n",
      "0.8110231757164001\n",
      "0.10233552008867264\n",
      "0.005904681049287319\n",
      "0.005611657164990902\n",
      "0.06768452376127243\n"
     ]
    },
    {
     "data": {
      "image/png": "[encoded data removed]",
      "text/plain": [
       "<Figure size 640x480 with 2 Axes>"
      ]
     },
     "metadata": {},
     "output_type": "display_data"
    }
   ],
   "source": [
    "i=133\n",
    "for item in c[i]:\n",
    "    print(item)\n",
    "single_cluster(a[i],b[i],c[i])"
   ]
  },
  {
   "cell_type": "code",
   "execution_count": 6,
   "id": "7b1cae89",
   "metadata": {},
   "outputs": [],
   "source": [
    "import numpy as np\n",
    "\n",
    "def find_energy_seeds(x, y, energy, min_energy=2, seed_radius=15):\n",
    "    high_energy_mask = energy > min_energy\n",
    "    high_energy_points = np.column_stack((x[high_energy_mask], y[high_energy_mask], energy[high_energy_mask]))\n",
    "    seeds = []\n",
    "    indices = []\n",
    "\n",
    "    for i, (x_val, y_val, energy_val) in enumerate(high_energy_points):\n",
    "        eng_of_cell = energy_val\n",
    "        distances = np.array(np.sqrt((high_energy_points[:, 0] - x_val)**2 + (high_energy_points[:, 1] - y_val)**2))\n",
    "        distances[i] = seed_radius + 1\n",
    "        points_within_radius_mask = distances < seed_radius\n",
    "        points_within_radius = high_energy_points[points_within_radius_mask]\n",
    "        if len(points_within_radius) > 0 and eng_of_cell > np.max(points_within_radius[:, 2], initial=0):\n",
    "            seeds.append((x_val, y_val))\n",
    "            indices.append(np.where(high_energy_mask)[0][i])\n",
    "            \n",
    "    return seeds, indices"
   ]
  },
  {
   "cell_type": "code",
   "execution_count": 7,
   "id": "a5da10f5",
   "metadata": {},
   "outputs": [],
   "source": [
    "def Clustering_multi(file):\n",
    "    (x, y, eng)=dwong.emcal_bytuple(file)\n",
    "    labels=[]\n",
    "    seeds=[]\n",
    "    labels_decrease=[]\n",
    "    seed_labels = []\n",
    "    for i in range(len(eng)):\n",
    "        (seed, index)=find_energy_seeds(x[i], y[i], eng[i])#number of seeds is just k for kmeans\n",
    "        seeds.append(seed)\n",
    "        try:\n",
    "            points=np.column_stack((x[i],y[i]))\n",
    "            kmeans = KMeans(n_clusters=len(seed), random_state=0, n_init=\"auto\").fit(points)\n",
    "            labels.append(kmeans.labels_)\n",
    "            labels_decrease.append(dwong.label_clus_eng(kmeans.labels_, eng[i]))\n",
    "            seed_labels.append(kmeans.labels_[index])\n",
    "        except Exception as e:\n",
    "            print(f\"Error processing event {i}: {e}\")\n",
    "            labels.append([0])\n",
    "            labels_decrease.append([0])\n",
    "            seed_labels.append([0]) \n",
    "    return x, y, eng, labels, labels_decrease, seeds, seed_labels"
   ]
  },
  {
   "cell_type": "code",
   "execution_count": 8,
   "id": "fa6e6476",
   "metadata": {},
   "outputs": [
    {
     "ename": "TypeError",
     "evalue": "'>' not supported between instances of 'list' and 'int'",
     "output_type": "error",
     "traceback": [
      "\u001b[0;31m---------------------------------------------------------------------------\u001b[0m",
      "\u001b[0;31mTypeError\u001b[0m                                 Traceback (most recent call last)",
      "Cell \u001b[0;32mIn[8], line 2\u001b[0m\n\u001b[1;32m      1\u001b[0m file\u001b[38;5;241m=\u001b[39m\u001b[38;5;124m'\u001b[39m\u001b[38;5;124m/Users/wongdowling/Desktop/n-tuples/aprime_yongbin/Aee_test_eps3.3.root\u001b[39m\u001b[38;5;124m'\u001b[39m\n\u001b[0;32m----> 2\u001b[0m a, b, c, d, e, f, g\u001b[38;5;241m=\u001b[39m\u001b[43mClustering_multi\u001b[49m\u001b[43m(\u001b[49m\u001b[43mfile\u001b[49m\u001b[43m)\u001b[49m\n",
      "Cell \u001b[0;32mIn[7], line 8\u001b[0m, in \u001b[0;36mClustering_multi\u001b[0;34m(file)\u001b[0m\n\u001b[1;32m      6\u001b[0m seed_labels \u001b[38;5;241m=\u001b[39m []\n\u001b[1;32m      7\u001b[0m \u001b[38;5;28;01mfor\u001b[39;00m i \u001b[38;5;129;01min\u001b[39;00m \u001b[38;5;28mrange\u001b[39m(\u001b[38;5;28mlen\u001b[39m(eng)):\n\u001b[0;32m----> 8\u001b[0m     (seed, index)\u001b[38;5;241m=\u001b[39m\u001b[43mfind_energy_seeds\u001b[49m\u001b[43m(\u001b[49m\u001b[43mx\u001b[49m\u001b[43m[\u001b[49m\u001b[43mi\u001b[49m\u001b[43m]\u001b[49m\u001b[43m,\u001b[49m\u001b[43m \u001b[49m\u001b[43my\u001b[49m\u001b[43m[\u001b[49m\u001b[43mi\u001b[49m\u001b[43m]\u001b[49m\u001b[43m,\u001b[49m\u001b[43m \u001b[49m\u001b[43meng\u001b[49m\u001b[43m[\u001b[49m\u001b[43mi\u001b[49m\u001b[43m]\u001b[49m\u001b[43m)\u001b[49m\u001b[38;5;66;03m#number of seeds is just k for kmeans\u001b[39;00m\n\u001b[1;32m      9\u001b[0m     seeds\u001b[38;5;241m.\u001b[39mappend(seed)\n\u001b[1;32m     10\u001b[0m     \u001b[38;5;28;01mtry\u001b[39;00m:\n",
      "Cell \u001b[0;32mIn[6], line 4\u001b[0m, in \u001b[0;36mfind_energy_seeds\u001b[0;34m(x, y, energy, min_energy, seed_radius)\u001b[0m\n\u001b[1;32m      3\u001b[0m \u001b[38;5;28;01mdef\u001b[39;00m \u001b[38;5;21mfind_energy_seeds\u001b[39m(x, y, energy, min_energy\u001b[38;5;241m=\u001b[39m\u001b[38;5;241m2\u001b[39m, seed_radius\u001b[38;5;241m=\u001b[39m\u001b[38;5;241m15\u001b[39m):\n\u001b[0;32m----> 4\u001b[0m     high_energy_mask \u001b[38;5;241m=\u001b[39m \u001b[43menergy\u001b[49m\u001b[43m \u001b[49m\u001b[38;5;241;43m>\u001b[39;49m\u001b[43m \u001b[49m\u001b[43mmin_energy\u001b[49m\n\u001b[1;32m      5\u001b[0m     high_energy_points \u001b[38;5;241m=\u001b[39m np\u001b[38;5;241m.\u001b[39mcolumn_stack((x[high_energy_mask], y[high_energy_mask], energy[high_energy_mask]))\n\u001b[1;32m      6\u001b[0m     seeds \u001b[38;5;241m=\u001b[39m []\n",
      "\u001b[0;31mTypeError\u001b[0m: '>' not supported between instances of 'list' and 'int'"
     ]
    }
   ],
   "source": [
    "file='/Users/wongdowling/Desktop/n-tuples/aprime_yongbin/Aee_test_eps3.3.root'\n",
    "a, b, c, d, e, f, g=Clustering_multi(file)"
   ]
  },
  {
   "cell_type": "code",
   "execution_count": null,
   "id": "72cdb0b0",
   "metadata": {},
   "outputs": [],
   "source": [
    "i=133\n",
    "points = np.column_stack((a[i], b[i], c[i]))\n",
    "min_energy = 2\n",
    "seed_radius =  15\n",
    "larger_energy_seeds = find_energy_seeds(points, min_energy, seed_radius)\n",
    "\n",
    "print(\"Larger Energy Seeds:\")\n",
    "for seed in larger_energy_seeds:\n",
    "    print(seed)"
   ]
  },
  {
   "cell_type": "code",
   "execution_count": 2,
   "id": "c6779018",
   "metadata": {},
   "outputs": [],
   "source": [
    "file='/Users/wongdowling/Desktop/n-tuples/aprime_yongbin/Aee_test_eps3.3.root'\n",
    "(x, y, eng)=dwong.emcal_bytuple(file)"
   ]
  },
  {
   "cell_type": "code",
   "execution_count": 1,
   "id": "d6a97e10",
   "metadata": {},
   "outputs": [
    {
     "name": "stderr",
     "output_type": "stream",
     "text": [
      "/Users/wongdowling/opt/anaconda3/envs/dq/lib/python3.9/site-packages/awkward0/__init__.py:8: DeprecationWarning: distutils Version classes are deprecated. Use packaging.version instead.\n",
      "  if distutils.version.LooseVersion(numpy.__version__) < distutils.version.LooseVersion(\"1.13.1\"):\n"
     ]
    }
   ],
   "source": [
    "import time\n",
    "import dwong\n",
    "import numpy as np"
   ]
  },
  {
   "cell_type": "code",
   "execution_count": 6,
   "id": "692fd5af",
   "metadata": {},
   "outputs": [
    {
     "ename": "TypeError",
     "evalue": "'>' not supported between instances of 'list' and 'int'",
     "output_type": "error",
     "traceback": [
      "\u001b[0;31m---------------------------------------------------------------------------\u001b[0m",
      "\u001b[0;31mTypeError\u001b[0m                                 Traceback (most recent call last)",
      "Cell \u001b[0;32mIn[6], line 28\u001b[0m\n\u001b[1;32m     26\u001b[0m seed_radius \u001b[38;5;241m=\u001b[39m \u001b[38;5;241m15\u001b[39m\n\u001b[1;32m     27\u001b[0m start_time \u001b[38;5;241m=\u001b[39m time\u001b[38;5;241m.\u001b[39mtime()\n\u001b[0;32m---> 28\u001b[0m seeds, indices \u001b[38;5;241m=\u001b[39m \u001b[43mfind_energy_seeds\u001b[49m\u001b[43m(\u001b[49m\u001b[43mx\u001b[49m\u001b[43m[\u001b[49m\u001b[38;5;241;43m0\u001b[39;49m\u001b[43m]\u001b[49m\u001b[43m,\u001b[49m\u001b[43m \u001b[49m\u001b[43my\u001b[49m\u001b[43m[\u001b[49m\u001b[38;5;241;43m0\u001b[39;49m\u001b[43m]\u001b[49m\u001b[43m,\u001b[49m\u001b[43m \u001b[49m\u001b[43meng\u001b[49m\u001b[43m[\u001b[49m\u001b[38;5;241;43m0\u001b[39;49m\u001b[43m]\u001b[49m\u001b[43m,\u001b[49m\u001b[43m \u001b[49m\u001b[43mmin_energy\u001b[49m\u001b[43m,\u001b[49m\u001b[43m \u001b[49m\u001b[43mseed_radius\u001b[49m\u001b[43m)\u001b[49m\n\u001b[1;32m     29\u001b[0m end_time \u001b[38;5;241m=\u001b[39m time\u001b[38;5;241m.\u001b[39mtime()\n\u001b[1;32m     30\u001b[0m elapsed_time \u001b[38;5;241m=\u001b[39m end_time \u001b[38;5;241m-\u001b[39m start_time\n",
      "Cell \u001b[0;32mIn[6], line 2\u001b[0m, in \u001b[0;36mfind_energy_seeds\u001b[0;34m(x, y, energy, min_energy, seed_radius)\u001b[0m\n\u001b[1;32m      1\u001b[0m \u001b[38;5;28;01mdef\u001b[39;00m \u001b[38;5;21mfind_energy_seeds\u001b[39m(x, y, energy, min_energy\u001b[38;5;241m=\u001b[39m\u001b[38;5;241m2\u001b[39m, seed_radius\u001b[38;5;241m=\u001b[39m\u001b[38;5;241m15\u001b[39m):\n\u001b[0;32m----> 2\u001b[0m     high_energy_mask \u001b[38;5;241m=\u001b[39m\u001b[43menergy\u001b[49m\u001b[43m \u001b[49m\u001b[38;5;241;43m>\u001b[39;49m\u001b[43mmin_energy\u001b[49m\n\u001b[1;32m      3\u001b[0m     high_energy_points \u001b[38;5;241m=\u001b[39m np\u001b[38;5;241m.\u001b[39mcolumn_stack((x[high_energy_mask], y[high_energy_mask], energy[high_energy_mask]))\n\u001b[1;32m      4\u001b[0m     seeds \u001b[38;5;241m=\u001b[39m []\n",
      "\u001b[0;31mTypeError\u001b[0m: '>' not supported between instances of 'list' and 'int'"
     ]
    }
   ],
   "source": [
    "def find_energy_seeds(x, y, energy, min_energy=2, seed_radius=15):\n",
    "    high_energy_mask =energy >min_energy\n",
    "    high_energy_points = np.column_stack((x[high_energy_mask], y[high_energy_mask], energy[high_energy_mask]))\n",
    "    seeds = []\n",
    "    indices = []\n",
    "    for i, (x_val, y_val, energy_val) in enumerate(high_energy_points):\n",
    "        eng_of_cell = energy_val\n",
    "        distances = np.array(np.sqrt((high_energy_points[:, 0] - x_val)**2 + (high_energy_points[:, 1] - y_val)**2))\n",
    "        distances[i] = seed_radius + 1\n",
    "        points_within_radius_mask = distances < seed_radius\n",
    "        points_within_radius = high_energy_points[points_within_radius_mask]\n",
    "        if len(points_within_radius) > 0 and eng_of_cell > np.max(points_within_radius[:, 2], initial=0):\n",
    "            seeds.append((x_val, y_val))\n",
    "            indices.append(np.where(high_energy_mask)[0][i])\n",
    "            \n",
    "    return seeds, indices\n",
    "\n",
    "    # Rest of your code...\n",
    "\n",
    "file='/Users/wongdowling/Desktop/n-tuples/aprime_yongbin/Aee_test_eps3.3.root'\n",
    "(x, y, eng)=dwong.emcal_bytuple(file)\n",
    "\n",
    "\n",
    "\n",
    "min_energy = 2\n",
    "seed_radius = 15\n",
    "start_time = time.time()\n",
    "seeds, indices = find_energy_seeds(x[0], y[0], eng[0], min_energy, seed_radius)\n",
    "end_time = time.time()\n",
    "elapsed_time = end_time - start_time\n",
    "print(f\"Elapsed time: {elapsed_time:.4f} seconds\")\n",
    "print(\"Seeds:\")\n",
    "print(seeds)\n",
    "print(\"Indices:\")\n",
    "print(indices)\n"
   ]
  },
  {
   "cell_type": "code",
   "execution_count": 29,
   "id": "f58899eb",
   "metadata": {},
   "outputs": [],
   "source": [
    "x_eve = ak.Array([1, 2, 3])\n",
    "a=x_eve.to_numpy()"
   ]
  },
  {
   "cell_type": "code",
   "execution_count": 30,
   "id": "9bd205f5",
   "metadata": {},
   "outputs": [
    {
     "data": {
      "text/plain": [
       "numpy.ndarray"
      ]
     },
     "execution_count": 30,
     "metadata": {},
     "output_type": "execute_result"
    }
   ],
   "source": [
    "type(a)"
   ]
  },
  {
   "cell_type": "code",
   "execution_count": 9,
   "id": "34fcfdd7",
   "metadata": {},
   "outputs": [],
   "source": [
    "data = np.array([1, 2, 3, 4, 5, 6, 7, 8, 9, 10])\n",
    "mask = data > 5  # This will create a mask where each element is True if the corresponding element in 'data' is greater than 5, otherwise False.\n"
   ]
  },
  {
   "cell_type": "code",
   "execution_count": 8,
   "id": "8cda7b33",
   "metadata": {},
   "outputs": [
    {
     "data": {
      "text/plain": [
       "numpy.ndarray"
      ]
     },
     "execution_count": 8,
     "metadata": {},
     "output_type": "execute_result"
    }
   ],
   "source": []
  },
  {
   "cell_type": "code",
   "execution_count": 10,
   "id": "06982e3c",
   "metadata": {},
   "outputs": [],
   "source": [
    "file='/Users/wongdowling/Desktop/n-tuples/aprime_yongbin/Aee_test_eps3.3.root'\n",
    "(x, y, eng)=dwong.emcal_bytuple(file)\n"
   ]
  },
  {
   "cell_type": "code",
   "execution_count": 13,
   "id": "c62d074b",
   "metadata": {},
   "outputs": [
    {
     "data": {
      "text/plain": [
       "list"
      ]
     },
     "execution_count": 13,
     "metadata": {},
     "output_type": "execute_result"
    }
   ],
   "source": [
    "type(eng[0])"
   ]
  },
  {
   "cell_type": "code",
   "execution_count": 12,
   "id": "8259e9d4",
   "metadata": {},
   "outputs": [],
   "source": [
    "mask=x[0]>5"
   ]
  },
  {
   "cell_type": "code",
   "execution_count": null,
   "id": "87758a46",
   "metadata": {},
   "outputs": [],
   "source": []
  }
 ],
 "metadata": {
  "kernelspec": {
   "display_name": "Python 3 (ipykernel)",
   "language": "python",
   "name": "python3"
  },
  "language_info": {
   "codemirror_mode": {
    "name": "ipython",
    "version": 3
   },
   "file_extension": ".py",
   "mimetype": "text/x-python",
   "name": "python",
   "nbconvert_exporter": "python",
   "pygments_lexer": "ipython3",
   "version": "3.9.16"
  }
 },
 "nbformat": 4,
 "nbformat_minor": 5
}
