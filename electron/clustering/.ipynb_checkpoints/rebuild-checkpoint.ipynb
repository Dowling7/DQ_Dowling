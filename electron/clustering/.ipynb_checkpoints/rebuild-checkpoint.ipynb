{
 "cells": [
  {
   "cell_type": "code",
   "execution_count": 130,
   "id": "e821b719",
   "metadata": {},
   "outputs": [],
   "source": [
    "import numpy as np\n",
    "import os,sys\n",
    "import math\n",
    "from sklearn.cluster import KMeans\n",
    "from scipy import spatial\n",
    "import scipy.stats as sp\n",
    "import uproot\n",
    "import warnings\n",
    "\n",
    "\n",
    "#--------------------------------------------------------------------------------------------------------------------------------------------\n",
    "\n",
    "def getData(fname=\"\", procName=\"Events\"):\n",
    "    file = uproot.open(fname)\n",
    "    dq_dict = file[procName].arrays(library=\"np\")\n",
    "    dq_events = {\n",
    "        \"Hits\":{\n",
    "            \"detID\": dq_dict[\"hit_detID\"],\n",
    "            \"edep\": dq_dict[\"hit_edep\"],\n",
    "            \"elmID\": dq_dict[\"hit_elmID\"],\n",
    "            \"hit_pos\": dq_dict[\"hit_pos\"]\n",
    "        },\n",
    "        \"track\":{\n",
    "            \"x\": dq_dict[\"track_x_CAL\"],\n",
    "            \"y\": dq_dict[\"track_y_CAL\"],\n",
    "            \"ID\": dq_dict[\"eventID\"],\n",
    "            \"pz\": dq_dict[\"track_pz_st1\"]\n",
    "        },\n",
    "        \"st23\": {\n",
    "            \"ntrack23\": dq_dict[\"n_st23tracklets\"],\n",
    "            \"px\":   dq_dict[\"st23tracklet_px_st3\"],\n",
    "            \"py\":   dq_dict[\"st23tracklet_py_st3\"],\n",
    "            \"pz\":   dq_dict[\"st23tracklet_pz_st3\"],\n",
    "            \"x\":   dq_dict[\"st23tracklet_x_st3\"],\n",
    "            \"y\":   dq_dict[\"st23tracklet_y_st3\"],\n",
    "            \"z\":   dq_dict[\"st23tracklet_z_st3\"],\n",
    "            \"Cal_x\": dq_dict[\"st23tracklet_x_CAL\"],\n",
    "            \"Cal_y\": dq_dict[\"st23tracklet_y_CAL\"]\n",
    "        }\n",
    "    }\n",
    "\n",
    "    return dq_events\n",
    "#--------------------------------------------------------------------------------------------------------------------------------------------\n",
    "\n",
    "ntowersx=72\n",
    "ntowersy=36\n",
    "sizex=5.53 # in cm\n",
    "sizey=5.53 # in cm\n",
    "ecalx=[-200,200] #size in cm\n",
    "ecaly=[-100,100]\n",
    "binsx=ecalx[1]- ecalx[0]\n",
    "binsy=ecaly[1]- ecaly[0]\n",
    "sfc = 0.1146337964120158 #sampling fraction of emcal\n",
    "emin=0.0005\n",
    "det_z={41: 2130.27, 42: 2146.45, 43:2200.44 , 44:2216.62 , 45:2251.71 , 46: 2234.29}\n",
    "\n",
    "\n",
    "#--------------------------------------------------------------------------------------------------------------------------------------------\n",
    "\n",
    "def emcal_bytuple(dq_events):\n",
    "    dq_hits = dq_events[\"Hits\"]\n",
    "    x_pos = []\n",
    "    y_pos = []\n",
    "    eve_energy = []\n",
    "    for i in range(len(dq_events[\"Hits\"][\"edep\"])):\n",
    "        output = emcal_byevent(dq_hits, i)\n",
    "        if len(output[0]) != 0:\n",
    "            x_pos.append(output[0])\n",
    "            y_pos.append(output[1])\n",
    "            eve_energy.append(output[2])\n",
    "        else:\n",
    "            x_pos.append(np.array([]))\n",
    "            y_pos.append(np.array([]))\n",
    "            eve_energy.append(np.array([]))\n",
    "            \n",
    "    return x_pos, y_pos, eve_energy\n",
    "\n",
    "#--------------------------------------------------------------------------------------------------------------------------------------------\n",
    "\n",
    "def emcal_byevent(dq_hits, evtNum):\n",
    "    raw_elmID = dq_hits[\"elmID\"][evtNum]\n",
    "    raw_edep = dq_hits[\"edep\"][evtNum]\n",
    "    \n",
    "    emcal_mask = dq_hits[\"detID\"][evtNum] == 100\n",
    "    eng_mask = raw_edep[emcal_mask] >= emin\n",
    "    \n",
    "    elmID = raw_elmID[emcal_mask][eng_mask]#could also use dstack here to zip (elmID and edep)\n",
    "    edep = raw_edep[emcal_mask][eng_mask]\n",
    "    \n",
    "    emcal_towerx = elmID // ntowersy\n",
    "    emcal_towery = elmID % ntowersy\n",
    "    emcal_x = ecalx[0] + emcal_towerx * sizex\n",
    "    emcal_y = ecaly[0] + emcal_towery * sizey\n",
    "    emcal_edep = edep / sfc\n",
    "    \n",
    "    return emcal_x, emcal_y, emcal_edep\n",
    "\n",
    "#--------------------------------------------------------------------------------------------------------------------------------------------\n",
    "\n",
    "def find_energy_seeds(x, y, energy, min_energy=0.2, seed_radius=30):\n",
    "    high_energy_mask =energy >min_energy\n",
    "    high_energy_points = np.column_stack((x[high_energy_mask], y[high_energy_mask], energy[high_energy_mask]))\n",
    "    seeds = []\n",
    "    indices = []\n",
    "    for i, (x_val, y_val, energy_val) in enumerate(high_energy_points):\n",
    "        distances = np.array(np.sqrt((high_energy_points[:, 0] - x_val)**2 + (high_energy_points[:, 1] - y_val)**2))\n",
    "        distances[i] = seed_radius + 1\n",
    "        points_within_radius_mask = distances < seed_radius\n",
    "        points_within_radius = high_energy_points[points_within_radius_mask]\n",
    "        if len(points_within_radius) == 0 or energy_val > np.max(points_within_radius[:, 2], initial=0):\n",
    "            seeds.append([x_val, y_val])\n",
    "            indices.append(np.where(high_energy_mask)[0][i])\n",
    "            \n",
    "    return np.array(seeds), indices\n",
    "    \n",
    "#--------------------------------------------------------------------------------------------------------------------------------------------\n",
    "def multi_clusters(dq_events):\n",
    "    (x, y, eng)=emcal_bytuple(dq_events)\n",
    "    labels=[]\n",
    "    seeds=[]\n",
    "    labels_decrease=[]\n",
    "    seed_labels = []\n",
    "    kmeans_ctr = []\n",
    "    for i in range(len(eng)):\n",
    "        (seed, index)=find_energy_seeds(x[i], y[i], eng[i])\n",
    "        seeds.append(seed)\n",
    "        points=np.column_stack((x[i],y[i]))\n",
    "        try:\n",
    "            warnings.simplefilter(\"ignore\")\n",
    "            kmeans = KMeans(n_clusters=len(seed), init=seed , random_state=0, max_iter=1).fit(points)#since center given to grow, n_init==1\n",
    "            labels.append(kmeans.labels_)\n",
    "            label_decr = label_clus_eng(kmeans.labels_, eng[i])\n",
    "            labels_decrease.append(label_decr)\n",
    "            seed_labels.append(kmeans.labels_[index])\n",
    "        except:\n",
    "            labels.append([])\n",
    "            labels_decrease.append([])\n",
    "            seed_labels.append([])\n",
    "    return x, y, eng, labels, labels_decrease, seeds, seed_labels\n",
    "#--------------------------------------------------------------------------------------------------------------------------------------------\n",
    "\n",
    "def label_clus_eng(label, eng_eve):#return sorted labels by decreasing order of energy\n",
    "    unique_labels = np.unique(label)\n",
    "    cluster_energy = np.zeros(len(unique_labels), dtype=np.int64)\n",
    "    for i in range(len(label)):\n",
    "        cluster_energy[label[i]] += eng_eve[i]\n",
    "    sorted_labels = unique_labels[np.argsort(cluster_energy)[::-1]]\n",
    "    return sorted_labels\n",
    "\n",
    "#--------------------------------------------------------------------------------------------------------------------------------------------\n",
    "\n",
    "def h4_bytuple(dq_events):\n",
    "    dq_hits = dq_events[\"Hits\"]\n",
    "    \n",
    "\n",
    "    hits = np.squeeze(np.dstack((dq_hits[\"detID\"], dq_hits[\"hit_pos\"])), axis=0)\n",
    "\n",
    "    h4x = []\n",
    "    h4y = []\n",
    "\n",
    "    for index, item in enumerate(hits):\n",
    "        h4x_mask = (41 <= item[0]) & (item[0] <= 44)\n",
    "        h4y_mask = (45 <= item[0]) & (item[0] <= 46)\n",
    "        ID_pos = np.squeeze(np.dstack((hits[index][0],hits[index][1])), axis=0)\n",
    "        h4x.append(ID_pos[h4x_mask])\n",
    "        h4y.append(ID_pos[h4y_mask])\n",
    "    return h4x, h4y\n",
    "\n",
    "#--------------------------------------------------------------------------------------------------------------------------------------------\n",
    "def gen_wew(x_eve, y_eve, eng_eve):\n",
    "    eng_tot = np.sum(eng_eve)\n",
    "    x_bar = np.dot(x_eve, eng_eve) / eng_tot\n",
    "    y_bar = np.dot(y_eve, eng_eve) / eng_tot\n",
    "\n",
    "    x_sq_eve = eng_eve * (x_eve - x_bar) ** 2\n",
    "    y_sq_eve = eng_eve * (y_eve - y_bar) ** 2\n",
    "\n",
    "    try:\n",
    "        wew_x = np.sqrt(np.sum(x_sq_eve) / eng_tot)\n",
    "    except ZeroDivisionError:\n",
    "        wew_x = -1\n",
    "\n",
    "    try:\n",
    "        wew_y = np.sqrt(np.sum(y_sq_eve) / eng_tot)\n",
    "    except ZeroDivisionError:\n",
    "        wew_y = -1\n",
    "\n",
    "    return [wew_x, wew_y]\n",
    "#--------------------------------------------------------------------------------------------------------------------------------------------\n",
    "def gen_wid(x_eve, y_eve):\n",
    "    x_bar = np.mean(x_eve)\n",
    "    y_bar = np.mean(y_eve)\n",
    "\n",
    "    x_sq_eve = (x_eve - x_bar) ** 2\n",
    "    y_sq_eve = (y_eve - y_bar) ** 2\n",
    "\n",
    "    try:\n",
    "        wid_x = np.sqrt(np.mean(x_sq_eve))\n",
    "    except ZeroDivisionError:\n",
    "        wid_x = -1\n",
    "\n",
    "    try:\n",
    "        wid_y = np.sqrt(np.mean(y_sq_eve))\n",
    "    except ZeroDivisionError:\n",
    "        wid_y = -1\n",
    "\n",
    "    return [wid_x, wid_y]\n",
    "#--------------------------------------------------------------------------------------------------------------------------------------------\n",
    "\n",
    "#--------------------------------------------------------------------------------------------------------------------------------------------\n",
    "\n",
    "#--------------------------------------------------------------------------------------------------------------------------------------------\n",
    "\n",
    "#--------------------------------------------------------------------------------------------------------------------------------------------\n",
    "\n",
    "#--------------------------------------------------------------------------------------------------------------------------------------------\n",
    "\n",
    "#--------------------------------------------------------------------------------------------------------------------------------------------\n",
    "\n",
    "#--------------------------------------------------------------------------------------------------------------------------------------------\n",
    "\n",
    "#--------------------------------------------------------------------------------------------------------------------------------------------\n",
    "\n",
    "#--------------------------------------------------------------------------------------------------------------------------------------------\n",
    "\n",
    "#--------------------------------------------------------------------------------------------------------------------------------------------\n",
    "\n",
    "#--------------------------------------------------------------------------------------------------------------------------------------------\n",
    "\n",
    "#--------------------------------------------------------------------------------------------------------------------------------------------\n",
    "\n",
    "#--------------------------------------------------------------------------------------------------------------------------------------------\n",
    "\n",
    "#--------------------------------------------------------------------------------------------------------------------------------------------\n",
    "\n",
    "#--------------------------------------------------------------------------------------------------------------------------------------------\n",
    "\n",
    "#--------------------------------------------------------------------------------------------------------------------------------------------\n",
    "\n",
    "\n",
    "\n",
    "\n",
    "\n"
   ]
  },
  {
   "cell_type": "code",
   "execution_count": 4,
   "id": "5c904a30",
   "metadata": {},
   "outputs": [
    {
     "ename": "IndentationError",
     "evalue": "expected an indented block (876294050.py, line 9)",
     "output_type": "error",
     "traceback": [
      "\u001b[0;36m  Cell \u001b[0;32mIn[4], line 9\u001b[0;36m\u001b[0m\n\u001b[0;31m    h4x = evt_coord[i][1] + (evt_coord[i][4] / evt_coord[i][5]) * (x_pos - evt_coord[i][2])\u001b[0m\n\u001b[0m    ^\u001b[0m\n\u001b[0;31mIndentationError\u001b[0m\u001b[0;31m:\u001b[0m expected an indented block\n"
     ]
    }
   ],
   "source": [
    "#here is the code for match up track\n",
    "def extend_track(evt_coord, evt_cal):\n",
    "    y_pos = np.array([2130.27, 2146.45, 2200.44, 2216.62])\n",
    "    x_pos = np.array([2251.71, 2234.29])\n",
    "    \n",
    "    transpose_coord = np.array(evt_coord.tolist()).T\n",
    "\n",
    "    for i in range(len(evt_coord)):\n",
    "    h4x = evt_coord[i][1] + (evt_coord[i][4] / evt_coord[i][5]) * (x_pos - evt_coord[i][2])\n",
    "    h4y = evt_coord[i][1] + (evt_coord[i][4] / evt_coord[i][5]) * (y_pos - evt_coord[i][2])\n",
    "    \n",
    "    # Append the results to the lists\n",
    "    h4x_result.append(h4x)\n",
    "    h4y_result.append(h4y)\n",
    "    \n",
    "        "
   ]
  },
  {
   "cell_type": "code",
   "execution_count": 131,
   "id": "e0bf3640",
   "metadata": {
    "scrolled": false
   },
   "outputs": [],
   "source": [
    "#this function is gaining data for training\n",
    "file1='/Users/wongdowling/Desktop/DQ_Dowling/ntuple_1000/electron_520_1000eve.root'\n",
    "file2='/Users/wongdowling/Desktop/n-tuples/aprime_yongbin/Aee_test_eps9.root'\n",
    "file3='/Users/wongdowling/Desktop/DQ_Dowling/ntuple_1000/muon_520_1000eve.root'\n",
    "file4='/Users/wongdowling/Desktop/n-tuples/aprime_cmantill/Amm_1.85_56_1000.root'\n",
    "\n",
    "dq_events = getData(file2, \"Events\")\n",
    "\n",
    "(x, y, eng, labels, labels_decrease, seeds, seed_labels) = multi_clusters(dq_events)\n",
    "(h4x, h4y) = h4_bytuple(dq_events)\n",
    "\n",
    "dq_st23 = dq_events[\"st23\"]\n",
    "st23_coord = np.stack((dq_st23[\"x\"], dq_st23[\"y\"], dq_st23[\"z\"], dq_st23[\"px\"], dq_st23[\"py\"], dq_st23[\"pz\"]), axis=1)\n",
    "st23_cal = np.stack((dq_st23[\"Cal_x\"], dq_st23[\"Cal_y\"]), axis=1)\n",
    "for i in range(len(eng)):#evt level\n",
    "    trkls = np.array(st23_cal[i].tolist()).T\n",
    "    #extrapolate track here\n",
    "    for index, label in enumerate(labels_decrease[i]):#cluster level\n",
    "        hits_mask = (labels[i] == label)\n",
    "        clus_x = x[i][hits_mask]\n",
    "        clus_y = y[i][hits_mask]\n",
    "        clus_eng = eng[i][hits_mask]\n",
    "        \n",
    "        wid_clus = gen_wid(clus_x, clus_y)\n",
    "        wew_clus = gen_wew(clus_x, clus_y, clus_eng)\n",
    "        seed = seeds[i][seed_labels[i] == label]\n",
    "        \n",
    "        squared_diff = (trkls - seed)**2\n",
    "        distances = np.sqrt(np.sum(squared_diff, axis=1))\n",
    "            \n",
    "        \n",
    "        \n",
    "        \n",
    "        \n",
    "            \n",
    "        \n",
    "            \n",
    "        \n",
    "        \n",
    "    \n",
    "    \n",
    "        "
   ]
  },
  {
   "cell_type": "code",
   "execution_count": null,
   "id": "6d9e2382",
   "metadata": {},
   "outputs": [],
   "source": [
    "seed_labels"
   ]
  },
  {
   "cell_type": "code",
   "execution_count": 13,
   "id": "2d17aa14",
   "metadata": {},
   "outputs": [],
   "source": [
    "seed = seeds[i][seed_labels[i] == label]"
   ]
  },
  {
   "cell_type": "code",
   "execution_count": 27,
   "id": "d95e794f",
   "metadata": {},
   "outputs": [
    {
     "data": {
      "text/plain": [
       "207"
      ]
     },
     "execution_count": 27,
     "metadata": {},
     "output_type": "execute_result"
    }
   ],
   "source": [
    "for item in seed_labels:\n",
    "    "
   ]
  },
  {
   "cell_type": "code",
   "execution_count": 62,
   "id": "c1941f22",
   "metadata": {},
   "outputs": [
    {
     "name": "stdout",
     "output_type": "stream",
     "text": [
      "Sublist at index 207 has repeated values.\n"
     ]
    }
   ],
   "source": [
    "for i, sublist in enumerate(seed_labels):\n",
    "    # Convert regular lists to numpy arrays for consistency\n",
    "    if type(sublist) is list:\n",
    "        sublist = np.array(sublist)\n",
    "    if sublist.size != len(np.unique(sublist)):\n",
    "        print(f\"Sublist at index {i} has repeated values.\")\n"
   ]
  },
  {
   "cell_type": "code",
   "execution_count": 60,
   "id": "3236a38f",
   "metadata": {},
   "outputs": [
    {
     "data": {
      "text/plain": [
       "array([0, 0], dtype=int32)"
      ]
     },
     "execution_count": 60,
     "metadata": {},
     "output_type": "execute_result"
    }
   ],
   "source": [
    "seed_labels[207]"
   ]
  },
  {
   "cell_type": "code",
   "execution_count": 66,
   "id": "6b8777d4",
   "metadata": {},
   "outputs": [
    {
     "data": {
      "text/plain": [
       "array([0, 0], dtype=int32)"
      ]
     },
     "execution_count": 66,
     "metadata": {},
     "output_type": "execute_result"
    }
   ],
   "source": [
    "seed_labels[207]"
   ]
  },
  {
   "cell_type": "code",
   "execution_count": 68,
   "id": "dad9ae07",
   "metadata": {},
   "outputs": [
    {
     "data": {
      "text/plain": [
       "array([[-89.4 , -22.58],\n",
       "       [-34.1 , -22.58]])"
      ]
     },
     "execution_count": 68,
     "metadata": {},
     "output_type": "execute_result"
    }
   ],
   "source": [
    "seeds[207]"
   ]
  },
  {
   "cell_type": "code",
   "execution_count": 115,
   "id": "0a1b10fa",
   "metadata": {},
   "outputs": [],
   "source": [
    "from scipy.stats import binned_statistic_2d\n",
    "import matplotlib.pyplot as plt\n",
    "\n",
    "def emcal_eng(x, y, eng):\n",
    "    x_bins = np.linspace(-150, 150, 50)\n",
    "    y_bins = np.linspace(-150, 150, 50)\n",
    "    bin_means = binned_statistic_2d(x, y, eng, statistic='mean', bins=[x_bins, y_bins])\n",
    "    \n",
    "    fig, ax = plt.subplots()\n",
    "    im = ax.imshow(np.flip(bin_means.statistic.T, 0), extent=(-150, 150, -150, 150), aspect='auto')\n",
    "    plt.colorbar(im, ax=ax, label='Energy Deposit/GeV')\n",
    "    ax.set_xlabel('EMCal x Position/cm')\n",
    "    ax.set_ylabel('EMCal y Position/cm')\n",
    "    fig.show()"
   ]
  },
  {
   "cell_type": "code",
   "execution_count": 75,
   "id": "0eee9175",
   "metadata": {},
   "outputs": [
    {
     "name": "stderr",
     "output_type": "stream",
     "text": [
      "/var/folders/mf/cqjfz_8x7tgbhvl955fzybtr0000gn/T/ipykernel_6642/891516224.py:14: UserWarning: Matplotlib is currently using module://matplotlib_inline.backend_inline, which is a non-GUI backend, so cannot show the figure.\n",
      "  fig.show()\n"
     ]
    },
    {
     "data": {
      "image/png": "[encoded data removed]",
      "text/plain": [
       "<Figure size 640x480 with 2 Axes>"
      ]
     },
     "metadata": {},
     "output_type": "display_data"
    }
   ],
   "source": [
    "emcal_eng(x[207], y[207], eng[207])"
   ]
  },
  {
   "cell_type": "code",
   "execution_count": 123,
   "id": "ebaddc3b",
   "metadata": {},
   "outputs": [
    {
     "name": "stderr",
     "output_type": "stream",
     "text": [
      "/Users/wongdowling/opt/anaconda3/envs/dq/lib/python3.9/site-packages/sklearn/cluster/_kmeans.py:870: FutureWarning: The default value of `n_init` will change from 10 to 'auto' in 1.4. Set the value of `n_init` explicitly to suppress the warning\n",
      "  warnings.warn(\n",
      "/Users/wongdowling/opt/anaconda3/envs/dq/lib/python3.9/site-packages/sklearn/cluster/_kmeans.py:1362: RuntimeWarning: Explicit initial center position passed: performing only one init in KMeans instead of n_init=10.\n",
      "  super()._check_params_vs_input(X, default_n_init=10)\n"
     ]
    }
   ],
   "source": [
    "points=np.column_stack((x[207],y[207]))\n",
    "kmeans = KMeans(n_clusters=2, init=seeds[207] , random_state=0, max_iter=1).fit(points)"
   ]
  },
  {
   "cell_type": "code",
   "execution_count": 125,
   "id": "00c577ec",
   "metadata": {},
   "outputs": [
    {
     "data": {
      "text/plain": [
       "array([0, 0, 0, 0, 0, 0, 0, 0, 0, 0, 0, 0, 0, 0, 0, 0, 0, 0, 0, 0, 0, 0,\n",
       "       0, 0, 1, 1, 1, 1, 1, 1, 1, 1, 1, 1, 1, 1, 1, 1, 1, 1, 1, 1],\n",
       "      dtype=int32)"
      ]
     },
     "execution_count": 125,
     "metadata": {},
     "output_type": "execute_result"
    }
   ],
   "source": [
    "kmeans.labels_"
   ]
  },
  {
   "cell_type": "code",
   "execution_count": 127,
   "id": "690f8bb7",
   "metadata": {},
   "outputs": [
    {
     "data": {
      "text/plain": [
       "array([[-89.4       , -24.68666667],\n",
       "       [  2.50333333, -21.26333333]])"
      ]
     },
     "execution_count": 127,
     "metadata": {},
     "output_type": "execute_result"
    }
   ],
   "source": [
    "kmeans.cluster_centers_"
   ]
  },
  {
   "cell_type": "code",
   "execution_count": null,
   "id": "e0bb77d7",
   "metadata": {},
   "outputs": [],
   "source": []
  }
 ],
 "metadata": {
  "kernelspec": {
   "display_name": "Python 3 (ipykernel)",
   "language": "python",
   "name": "python3"
  },
  "language_info": {
   "codemirror_mode": {
    "name": "ipython",
    "version": 3
   },
   "file_extension": ".py",
   "mimetype": "text/x-python",
   "name": "python",
   "nbconvert_exporter": "python",
   "pygments_lexer": "ipython3",
   "version": "3.9.16"
  }
 },
 "nbformat": 4,
 "nbformat_minor": 5
}
