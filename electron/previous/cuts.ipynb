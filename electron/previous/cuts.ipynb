{
 "cells": [
  {
   "cell_type": "markdown",
   "id": "d98f0e01",
   "metadata": {},
   "source": [
    "electron cut\n",
    "wew_x=[1.2, 2.8]\n",
    "wid_x=[8.4, 15]\n",
    "diff_x=[0, 5]\n",
    "wew_y=[1.0, 3.5]\n",
    "wid_y=[6, 15]\n",
    "diff_y=[0, 5]"
   ]
  },
  {
   "cell_type": "code",
   "execution_count": 4,
   "id": "9905e393",
   "metadata": {},
   "outputs": [
    {
     "name": "stdout",
     "output_type": "stream",
     "text": [
      "<class 'tuple'> <class 'tuple'> <class 'tuple'>\n",
      "1000 1000 1000\n",
      "1000 1000 1000\n",
      "22\n",
      "22\n",
      "4\n"
     ]
    }
   ],
   "source": [
    "import dwong\n",
    "dwong.os.chdir(\"/Users/wongdowling/Desktop/DQ_Dowling/ntuple_1000\")\n",
    "name=\"photon\"\n",
    "wew=dwong.gen_wew(dwong.evt_1000[name])\n",
    "wid=dwong.gen_wid(dwong.evt_1000[name])\n",
    "diff=dwong.matchup(dwong.evt_1000[name])\n",
    "#cuts={\n",
    "#    diff x:[0,5],\n",
    "#    wid x:[8.4, 15],\n",
    "#    wew x:[1.2, 2.8],\n",
    "#\n",
    "#}\n",
    "print(type(wew), type(wid), type(diff))\n",
    "print(len(wew[0]), len(wid[0]), len(diff[0]))\n",
    "print(len(wew[1]), len(wid[1]), len(diff[1]))\n",
    "info=(tuple(zip(wew[0], wid[0], diff[0])), tuple(zip(wew[1], wid[1], diff[1])))\n",
    "info=list(info)\n",
    "new_x=[]\n",
    "new_y=[]\n",
    "for i in range(len(info[0])):\n",
    "    if len(info[0][i][2])!=0:\n",
    "        new_x.append(info[0][i])\n",
    "    if len(info[1][i][2])!=0:\n",
    "        new_y.append(info[1][i])\n",
    "print(len(new_x))\n",
    "print(len(new_y))\n",
    "\n",
    "n=0\n",
    "for i in range(len(new_x)):\n",
    "    if ((new_x[i][2][0]>=0) and (new_x[i][2][0]<=5) and (new_x[i][1]<=15) and (new_x[i][1]>=8.4)and (new_x[i][0]<=2.8) and (new_x[i][0]>=1.2)and (new_y[i][2][0]>=0) and (new_y[i][2][0]<=5)and (new_y[i][1]<=15) and (new_y[i][1]>=6)and (new_y[i][0]<=3.5) and (new_y[i][0]>=1)):\n",
    "        n+=1\n",
    "print(n)"
   ]
  },
  {
   "cell_type": "code",
   "execution_count": null,
   "id": "fb87d926",
   "metadata": {},
   "outputs": [],
   "source": []
  }
 ],
 "metadata": {
  "kernelspec": {
   "display_name": "Python 3 (ipykernel)",
   "language": "python",
   "name": "python3"
  },
  "language_info": {
   "codemirror_mode": {
    "name": "ipython",
    "version": 3
   },
   "file_extension": ".py",
   "mimetype": "text/x-python",
   "name": "python",
   "nbconvert_exporter": "python",
   "pygments_lexer": "ipython3",
   "version": "3.9.16"
  }
 },
 "nbformat": 4,
 "nbformat_minor": 5
}
