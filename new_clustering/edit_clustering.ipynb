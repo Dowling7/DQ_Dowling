{
 "cells": [
  {
   "cell_type": "code",
   "execution_count": 1,
   "id": "a2c706e1",
   "metadata": {},
   "outputs": [],
   "source": [
    "import numpy as np\n",
    "import os,sys\n",
    "import math\n",
    "from sklearn.cluster import KMeans\n",
    "import scipy.stats as sp\n",
    "import uproot\n"
   ]
  },
  {
   "cell_type": "code",
   "execution_count": 56,
   "id": "24a3c9a7",
   "metadata": {},
   "outputs": [],
   "source": [
    "def getData(fname=\"\", procName=\"Events\"):\n",
    "    file = uproot.open(fname)\n",
    "    dq_dict = file[procName].arrays(library=\"np\")\n",
    "    dq_events = {\n",
    "        \"Hits\":{\n",
    "            \"detID\": dq_dict[\"hit_detID\"],\n",
    "            \"edep\": dq_dict[\"hit_edep\"],\n",
    "            \"elmID\": dq_dict[\"hit_elmID\"],\n",
    "            \"hit_pos\": dq_dict[\"hit_pos\"]\n",
    "        },\n",
    "        \"track\":{\n",
    "            \"x\": dq_dict[\"track_x_st3\"],\n",
    "            \"y\": dq_dict[\"track_y_st3\"],\n",
    "            \"Cal_x\": dq_dict[\"track_x_CAL\"],\n",
    "            \"Cal_y\": dq_dict[\"track_y_CAL\"],\n",
    "            \"ID\": dq_dict[\"eventID\"],\n",
    "            \"pz\": dq_dict[\"track_pz_st1\"]\n",
    "        },\n",
    "        \"st23\": {\n",
    "            \"ntrack23\": dq_dict[\"n_st23tracklets\"],\n",
    "            \"px\":   dq_dict[\"st23tracklet_px_st3\"],\n",
    "            \"py\":   dq_dict[\"st23tracklet_py_st3\"],\n",
    "            \"pz\":   dq_dict[\"st23tracklet_pz_st3\"],\n",
    "            \"x\":   dq_dict[\"st23tracklet_x_st3\"],\n",
    "            \"y\":   dq_dict[\"st23tracklet_y_st3\"],\n",
    "            \"z\":   dq_dict[\"st23tracklet_z_st3\"],\n",
    "            \"Cal_x\": dq_dict[\"st23tracklet_x_CAL\"],\n",
    "            \"Cal_y\": dq_dict[\"st23tracklet_y_CAL\"]\n",
    "        },\n",
    "        \"gen\":{\n",
    "            \"pz\": dq_dict[\"gpz\"]\n",
    "        },\n",
    "    }\n",
    "\n",
    "    return dq_events\n",
    "#--------------------------------------------------------------------------------------------------------------------------------------------\n",
    "\n",
    "ntowersx=72\n",
    "ntowersy=36\n",
    "sizex=5.53 # in cm\n",
    "sizey=5.53 # in cm\n",
    "ecalx=[-200,200] #size in cm\n",
    "ecaly=[-100,100]\n",
    "binsx=ecalx[1]- ecalx[0]\n",
    "binsy=ecaly[1]- ecaly[0]\n",
    "sfc = 0.1146337964120158 #sampling fraction of emcal\n",
    "emin=0.0005\n",
    "seed_threshold=0.2\n",
    "\n",
    "#--------------------------------------------------------------------------------------------------------------------------------------------\n",
    "\n",
    "def emcal_byevent(dq_hits, evtNum):\n",
    "    raw_elmID = dq_hits[\"elmID\"][evtNum]\n",
    "    raw_edep = dq_hits[\"edep\"][evtNum]\n",
    "    \n",
    "    emcal_mask = dq_hits[\"detID\"][evtNum] == 100\n",
    "    eng_mask = raw_edep[emcal_mask] >= emin\n",
    "    \n",
    "    elmID = raw_elmID[emcal_mask][eng_mask]\n",
    "    edep = raw_edep[emcal_mask][eng_mask]\n",
    "    \n",
    "    emcal_towerx = elmID // ntowersy\n",
    "    emcal_towery = elmID % ntowersy\n",
    "    emcal_edep = edep / sfc\n",
    "    \n",
    "    seed_coord, seed_eng = find_energy_seeds_neighbour(emcal_towerx, emcal_towery, emcal_edep)\n",
    "    \n",
    "    emcal_x = ecalx[0] + emcal_towerx * sizex\n",
    "    emcal_y = ecaly[0] + emcal_towery * sizey\n",
    "   \n",
    "    \n",
    "    return emcal_x, emcal_y, emcal_edep, seed_coord, seed_eng\n",
    "\n",
    "def find_energy_seeds_neighbour(x_cell, y_cell, edep):\n",
    "    energy_grid = np.zeros((ntowersx, ntowersx))\n",
    "    energy_grid[x_cell, y_cell] = edep  # Assign energy values based on x_cell and y_cell indices\n",
    "    \n",
    "    seed_energy_mask = energy_grid > seed_threshold\n",
    "    \n",
    "    # Create padded version of the energy grid to handle edge cases\n",
    "    padded_energy_grid = np.pad(energy_grid, pad_width=1, mode='constant', constant_values=0)\n",
    "    \n",
    "    # Pre-compute slices for neighbor comparison\n",
    "    center_slice = padded_energy_grid[1:-1, 1:-1]\n",
    "    neighbors = [\n",
    "        padded_energy_grid[0:-2, 0:-2], padded_energy_grid[0:-2, 1:-1], padded_energy_grid[0:-2, 2:],\n",
    "        padded_energy_grid[1:-1, 0:-2],                                   padded_energy_grid[1:-1, 2:],\n",
    "        padded_energy_grid[2:  , 0:-2], padded_energy_grid[2:  , 1:-1], padded_energy_grid[2:  , 2:]\n",
    "    ]\n",
    "    \n",
    "    # Find seeds: cells with energy > 0.2 and higher than all their neighbors\n",
    "    seed_mask = seed_energy_mask & np.all(np.dstack([center_slice > neighbor for neighbor in neighbors]), axis=2)\n",
    "    \n",
    "    # Return indices of seeds\n",
    "    seed_grids = np.argwhere(seed_mask)\n",
    "    seed_eng = energy_grid[seed_mask]\n",
    "    seed_coords = np.array([ecalx[0], ecaly[0]]) + seed_grids * np.array([sizex, sizey])\n",
    " \n",
    "    \n",
    "    return seed_coords, seed_eng\n",
    "\n",
    "\n",
    "\n",
    "def emcal_bytuple(dq_events):\n",
    "    dq_hits = dq_events[\"Hits\"]\n",
    "    x_pos, y_pos, eng, seed_pos = [], [], [], []\n",
    "\n",
    "    for i in range(len(dq_hits[\"edep\"])):\n",
    "        emcal_x, emcal_y, emcal_edep, seeds, seedeng = emcal_byevent(dq_hits, i)\n",
    "        x_pos.append(emcal_x)\n",
    "        y_pos.append(emcal_y)\n",
    "        eng.append(emcal_edep)\n",
    "        seed_pos.append(seeds)\n",
    "\n",
    "    return x_pos, y_pos, eng, seed_pos\n"
   ]
  },
  {
   "cell_type": "code",
   "execution_count": 57,
   "id": "c04a70a1",
   "metadata": {},
   "outputs": [],
   "source": [
    "dq_events = getData(\"positron_520_1000eve.root\", \"Events\")\n",
    "dq_hits = dq_events[\"Hits\"]"
   ]
  },
  {
   "cell_type": "code",
   "execution_count": 47,
   "id": "c470a8a6",
   "metadata": {},
   "outputs": [],
   "source": [
    "a, b, c, d, e= emcal_byevent(dq_hits, 10)"
   ]
  },
  {
   "cell_type": "code",
   "execution_count": 58,
   "id": "3e8487ea",
   "metadata": {},
   "outputs": [],
   "source": [
    "a, b, c, d = emcal_bytuple(dq_events)"
   ]
  },
  {
   "cell_type": "code",
   "execution_count": 62,
   "id": "342848c6",
   "metadata": {},
   "outputs": [
    {
     "data": {
      "text/plain": [
       "1000"
      ]
     },
     "execution_count": 62,
     "metadata": {},
     "output_type": "execute_result"
    }
   ],
   "source": [
    "len(d)"
   ]
  },
  {
   "cell_type": "code",
   "execution_count": 50,
   "id": "b6e6e983",
   "metadata": {},
   "outputs": [
    {
     "data": {
      "text/plain": [
       "array([-0.92, 10.14, 15.67, 15.67, 15.67, 15.67, 21.2 , 21.2 , 21.2 ,\n",
       "       21.2 , 21.2 , 21.2 , 21.2 , 26.73, 26.73, 26.73, 26.73, 26.73,\n",
       "       32.26, 32.26, 32.26, 32.26, 32.26, 32.26, 37.79, 37.79, 37.79,\n",
       "       37.79])"
      ]
     },
     "execution_count": 50,
     "metadata": {},
     "output_type": "execute_result"
    }
   ],
   "source": [
    "a"
   ]
  },
  {
   "cell_type": "code",
   "execution_count": 51,
   "id": "0c4f0391",
   "metadata": {},
   "outputs": [
    {
     "data": {
      "text/plain": [
       "array([27.19, 38.25, 10.6 , 16.13, 21.66, 27.19,  5.07, 10.6 , 16.13,\n",
       "       21.66, 27.19, 32.72, 38.25,  5.07, 10.6 , 16.13, 21.66, 27.19,\n",
       "        5.07, 10.6 , 16.13, 21.66, 27.19, 32.72, 10.6 , 16.13, 21.66,\n",
       "       38.25])"
      ]
     },
     "execution_count": 51,
     "metadata": {},
     "output_type": "execute_result"
    }
   ],
   "source": [
    "b"
   ]
  },
  {
   "cell_type": "code",
   "execution_count": 52,
   "id": "86d8fc67",
   "metadata": {},
   "outputs": [
    {
     "data": {
      "text/plain": [
       "array([4.5804861e-03, 9.1854427e-03, 3.6219228e-02, 1.1832692e-01,\n",
       "       8.8323094e-02, 6.0996581e-03, 2.7082155e-02, 2.5198713e-01,\n",
       "       1.7763784e+01, 1.0674423e+00, 4.9900644e-02, 4.8865648e-03,\n",
       "       1.2112576e-02, 6.8601910e-03, 1.9415303e-01, 1.5971635e+01,\n",
       "       7.7879953e-01, 3.2303475e-02, 2.0015633e-02, 2.5413638e-02,\n",
       "       8.6076580e-02, 5.6309067e-02, 4.4283375e-02, 6.0410239e-03,\n",
       "       6.8030069e-03, 2.0256162e-02, 1.1161639e-02, 9.9777784e-03],\n",
       "      dtype=float32)"
      ]
     },
     "execution_count": 52,
     "metadata": {},
     "output_type": "execute_result"
    }
   ],
   "source": [
    "c"
   ]
  },
  {
   "cell_type": "code",
   "execution_count": null,
   "id": "9c0576b4",
   "metadata": {},
   "outputs": [],
   "source": [
    "import numpy as np\n",
    "\n",
    "def find_energy_seeds_neighbour(x_cell, y_cell, edep, ntowersx, seed_threshold, ecalx, ecaly, sizex, sizey):\n",
    "    energy_grid = np.zeros((ntowersx, ntowersx))\n",
    "    energy_grid[x_cell, y_cell] = edep  # Assign energy values based on x_cell and y_cell indices\n",
    "    \n",
    "    seed_energy_mask = energy_grid > seed_threshold\n",
    "    \n",
    "    # Create padded version of the energy grid to handle edge cases\n",
    "    padded_energy_grid = np.pad(energy_grid, pad_width=1, mode='constant', constant_values=0)\n",
    "    \n",
    "    # Pre-compute slices for neighbor comparison\n",
    "    center_slice = padded_energy_grid[1:-1, 1:-1]\n",
    "    neighbors = [\n",
    "        padded_energy_grid[0:-2, 0:-2], padded_energy_grid[0:-2, 1:-1], padded_energy_grid[0:-2, 2:],\n",
    "        padded_energy_grid[1:-1, 0:-2],                                   padded_energy_grid[1:-1, 2:],\n",
    "        padded_energy_grid[2:  , 0:-2], padded_energy_grid[2:  , 1:-1], padded_energy_grid[2:  , 2:]\n",
    "    ]\n",
    "    \n",
    "    # Find seeds: cells with energy > seed_threshold and higher than all their neighbors\n",
    "    seed_mask = seed_energy_mask & np.all(np.dstack([center_slice > neighbor for neighbor in neighbors]), axis=2)\n",
    "    \n",
    "    # Extract indices of seeds and their energies\n",
    "    seed_grids = np.argwhere(seed_mask)\n",
    "    seed_eng = energy_grid[seed_mask]\n",
    "    \n",
    "    # Calculate physical coordinates of seeds\n",
    "    seed_coords = np.array([ecalx[0], ecaly[0]]) + seed_grids * np.array([sizex, sizey])\n",
    "    \n",
    "    # Sort seeds by energy in descending order\n",
    "    sort_indices = np.argsort(-seed_eng)\n",
    "    sorted_seed_eng = seed_eng[sort_indices]\n",
    "    sorted_seed_coords = seed_coords[sort_indices]\n",
    "    \n",
    "    return sorted_seed_coords, sorted_seed_eng\n"
   ]
  },
  {
   "cell_type": "code",
   "execution_count": null,
   "id": "77f4bc3f",
   "metadata": {},
   "outputs": [],
   "source": []
  },
  {
   "cell_type": "code",
   "execution_count": null,
   "id": "8d29da3a",
   "metadata": {},
   "outputs": [],
   "source": []
  },
  {
   "cell_type": "code",
   "execution_count": null,
   "id": "28aa4386",
   "metadata": {},
   "outputs": [],
   "source": []
  },
  {
   "cell_type": "code",
   "execution_count": null,
   "id": "c1855c18",
   "metadata": {},
   "outputs": [],
   "source": []
  },
  {
   "cell_type": "code",
   "execution_count": null,
   "id": "61a9c044",
   "metadata": {},
   "outputs": [],
   "source": []
  },
  {
   "cell_type": "code",
   "execution_count": null,
   "id": "d438c5b8",
   "metadata": {},
   "outputs": [],
   "source": []
  },
  {
   "cell_type": "code",
   "execution_count": null,
   "id": "0b275fdd",
   "metadata": {},
   "outputs": [],
   "source": []
  },
  {
   "cell_type": "code",
   "execution_count": null,
   "id": "d5c1ee7c",
   "metadata": {},
   "outputs": [],
   "source": []
  }
 ],
 "metadata": {
  "kernelspec": {
   "display_name": "Python 3 (ipykernel)",
   "language": "python",
   "name": "python3"
  },
  "language_info": {
   "codemirror_mode": {
    "name": "ipython",
    "version": 3
   },
   "file_extension": ".py",
   "mimetype": "text/x-python",
   "name": "python",
   "nbconvert_exporter": "python",
   "pygments_lexer": "ipython3",
   "version": "3.9.15"
  }
 },
 "nbformat": 4,
 "nbformat_minor": 5
}
