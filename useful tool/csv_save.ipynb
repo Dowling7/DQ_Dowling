{
 "cells": [
  {
   "cell_type": "code",
   "execution_count": 2,
   "id": "eddb3ecc",
   "metadata": {},
   "outputs": [],
   "source": [
    "ifile=\"st23_muon_520_10000eve.root\""
   ]
  },
  {
   "cell_type": "code",
   "execution_count": 3,
   "id": "e2d594bd",
   "metadata": {},
   "outputs": [],
   "source": [
    "import csv\n",
    "import uproot3 as uproot\n",
    "import uproot as uproot4\n",
    "import numpy as np\n",
    "import numba\n",
    "import awkward as ak\n",
    "import matplotlib.pyplot as plt\n",
    "from matplotlib import cm\n",
    "from matplotlib.ticker import LinearLocator, FormatStrFormatter\n",
    "from matplotlib import rcParams\n",
    "from mpl_toolkits.mplot3d import Axes3D  # noqa: F401 unused import                                                                                                                  \n",
    "import mplhep as hep\n",
    "plt.style.use(hep.style.ROOT)\n",
    "import os,sys\n",
    "import pandas as pd\n",
    "from scipy.stats import halfnorm\n",
    "from sklearn.cluster import KMeans\n",
    "import random\n",
    "from scipy.stats import binned_statistic\n",
    "from scipy.stats import binned_statistic_2d\n",
    "from scipy.optimize import curve_fit\n",
    "from scipy.stats import crystalball\n",
    "from lmfit import Model\n",
    "import copy\n",
    "import math\n",
    "from tqdm import tqdm\n",
    "from scipy.stats import halfnorm\n",
    "from sklearn.cluster import KMeans\n",
    "from sklearn.cluster import Birch\n",
    "from sklearn.mixture import GaussianMixture\n",
    "from sklearn.cluster import DBSCAN\n",
    "from scipy.stats import binned_statistic"
   ]
  },
  {
   "cell_type": "code",
   "execution_count": 4,
   "id": "fc6be780",
   "metadata": {},
   "outputs": [],
   "source": [
    "# Process Data\n",
    "def getData(fname=\"\", procName=\"Events\"):\n",
    "    kn_dict = uproot.open(fname)[\"Events\"].arrays()\n",
    "    kn_dict_ak1 = {name.decode(): ak.from_awkward0(array) for name, array in kn_dict.items()}\n",
    "    kn_events = ak.zip({\"Tracks\":ak.zip({\n",
    "                                        \"n_tracks\":   kn_dict_ak1[\"n_tracks\"],\n",
    "                                        \"track_x_st3\":   kn_dict_ak1[\"track_x_st3\"],\n",
    "                                        \"track_y_st3\":   kn_dict_ak1[\"track_y_st3\"],\n",
    "                                        \"track_z_st3\":   kn_dict_ak1[\"track_z_st3\"],\n",
    "                                      }),\n",
    "                        \"Electrons\":ak.zip({\n",
    "                                            \"ge\":      kn_dict_ak1[\"ge\"],\n",
    "                                            \"gvx\":      kn_dict_ak1[\"gvx\"],\n",
    "                                            \"gvy\":      kn_dict_ak1[\"gvy\"],\n",
    "                                            \"gvz\":      kn_dict_ak1[\"gvz\"],\n",
    "                                            \"gpx\":      kn_dict_ak1[\"gpx\"],\n",
    "                                            \"gpy\":      kn_dict_ak1[\"gpy\"],\n",
    "                                            \"gpz\":      kn_dict_ak1[\"gpz\"],\n",
    "                                        }),\n",
    "                        \"Hits\":ak.zip({\n",
    "                                      \"detID\":   kn_dict_ak1[\"hit_detID\"],\n",
    "                                      \"edep\":    kn_dict_ak1[\"hit_edep\"],\n",
    "                                      \"elmID\":   kn_dict_ak1[\"hit_elmID\"],\n",
    "                                      \"truthx\":  kn_dict_ak1[\"hit_truthx\"],\n",
    "                                      \"truthy\":  kn_dict_ak1[\"hit_truthy\"],\n",
    "                                      \"truthz\":  kn_dict_ak1[\"hit_truthz\"],\n",
    "                                      \"hit_pos\":  kn_dict_ak1[\"hit_pos\"],\n",
    "                                      }),\n",
    "                       }, depth_limit=1)\n",
    "    return kn_events"
   ]
  },
  {
   "cell_type": "code",
   "execution_count": 5,
   "id": "928d4734",
   "metadata": {},
   "outputs": [],
   "source": [
    "def emcal_simhit_selection(arr):\n",
    "    mask = (arr.detID == 100)\n",
    "    return mask\n",
    "\n",
    "def emcal_simhit_selection_energy(arr, e):\n",
    "    mask = (arr.edep >= e)\n",
    "    return mask\n",
    "\n",
    "def h2_selection(arr):\n",
    "    mask = (arr.detID >= 35) & (arr.detID <= 38)\n",
    "    return mask\n",
    "\n",
    "def st2_selection(arr):\n",
    "    mask = (arr.detID >= 13) & (arr.detID <= 18)\n",
    "    return mask\n",
    "\n",
    "def st3_selection(arr):\n",
    "    mask = (arr.detID >= 19) & (arr.detID <= 30)\n",
    "    return mask\n",
    "\n",
    "def h4_selection(arr):\n",
    "    mask = (arr.detID >= 41) & (arr.detID <= 46)\n",
    "    return mask"
   ]
  },
  {
   "cell_type": "code",
   "execution_count": 6,
   "id": "c0343504",
   "metadata": {},
   "outputs": [],
   "source": [
    "ntowersx=72\n",
    "ntowersy=36\n",
    "sizex=5.53 # in cm\n",
    "sizey=5.53 # in cm\n",
    "ecalx=[-200,200] #size in cm\n",
    "ecaly=[-100,100]\n",
    "binsx=ecalx[1]- ecalx[0]\n",
    "binsy=ecaly[1]- ecaly[0]\n",
    "sfc = 0.1146337964120158\n",
    "emin=0.0005"
   ]
  },
  {
   "cell_type": "code",
   "execution_count": 7,
   "id": "e7012875",
   "metadata": {},
   "outputs": [],
   "source": [
    "dq_events = getData(ifile,\"Events\")\n",
    "dq_tracks = dq_events[\"Tracks\"]"
   ]
  },
  {
   "cell_type": "code",
   "execution_count": 8,
   "id": "43028ded",
   "metadata": {},
   "outputs": [],
   "source": [
    "def emcal_byevent(dq_events2,evtNum):\n",
    "    dq_hits = dq_events2[evtNum][\"Hits\"]\n",
    "    # select emcal hits\n",
    "    emcal_mask = emcal_simhit_selection(dq_hits)\n",
    "    emcal_hits = dq_hits[emcal_mask]\n",
    "    emcal_energy_mask = emcal_simhit_selection_energy(emcal_hits, emin)\n",
    "    emcal_hits = emcal_hits[emcal_energy_mask]\n",
    "    #convert into coordinates and energy_dp\n",
    "    emcal_towerx = emcal_hits.elmID//ntowersy\n",
    "    emcal_towery = emcal_hits.elmID%ntowersy\n",
    "    emcal_x = ecalx[0]+emcal_towerx*sizex\n",
    "    emcal_y = ecaly[0]+emcal_towery*sizey\n",
    "    emcal_edep = emcal_hits.edep\n",
    "    return emcal_x, emcal_y, emcal_edep"
   ]
  },
  {
   "cell_type": "code",
   "execution_count": 9,
   "id": "ea3b3bd0",
   "metadata": {},
   "outputs": [],
   "source": [
    "def emcal_bytuple(file):\n",
    "    dq_events1 = getData(file,\"Events\")\n",
    "    x_pos = []#designed to be 2D\n",
    "    y_pos = []#designed to be 2D\n",
    "    eve_energy = []#designed to be 2D\n",
    "    file1= open(file+'_x_pos', 'w')\n",
    "    writer1 = csv.writer(file1)\n",
    "    file2= open(file+'_y_pos', 'w')\n",
    "    writer2 = csv.writer(file2)\n",
    "    file3= open(file+'_energy', 'w')\n",
    "    writer3 = csv.writer(file3)\n",
    "    for i in range(len(dq_events1[:][\"Hits\"].edep)):\n",
    "        output1=emcal_byevent(dq_events1, i)\n",
    "        x_pos.append(output1[0])\n",
    "        y_pos.append(output1[1])\n",
    "        eve_energy.append(output1[2])\n",
    "        writer1.writerow(student_header)\n",
    "    return x_pos, y_pos, eve_energy\n",
    "        "
   ]
  },
  {
   "cell_type": "code",
   "execution_count": null,
   "id": "96a45098",
   "metadata": {},
   "outputs": [],
   "source": []
  }
 ],
 "metadata": {
  "kernelspec": {
   "display_name": "Python 3 (ipykernel)",
   "language": "python",
   "name": "python3"
  },
  "language_info": {
   "codemirror_mode": {
    "name": "ipython",
    "version": 3
   },
   "file_extension": ".py",
   "mimetype": "text/x-python",
   "name": "python",
   "nbconvert_exporter": "python",
   "pygments_lexer": "ipython3",
   "version": "3.9.13"
  }
 },
 "nbformat": 4,
 "nbformat_minor": 5
}
