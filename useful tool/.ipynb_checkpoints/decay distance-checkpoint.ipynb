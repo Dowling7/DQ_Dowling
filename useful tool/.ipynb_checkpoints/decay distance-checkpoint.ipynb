{
 "cells": [
  {
   "cell_type": "markdown",
   "id": "3db650ed",
   "metadata": {},
   "source": [
    "# This program is used to calculate the decay distance for particle in E1039 program"
   ]
  },
  {
   "cell_type": "markdown",
   "id": "d11747c0",
   "metadata": {},
   "source": [
    "Particles we studied are electron, positron, muon, pi+, pi-, pi0, proton, photon and kaon\n",
    "1. $e^-$  \n",
    "    Mass m=0.511 MeV  \n",
    "    Mean life $\\tau > 6.6*10^{28}yrs$  \n",
    "2. $e^+$  \n",
    "    Mass m=0.511 MeV  \n",
    "    Mean life $\\tau > 6.6*10^{28}yrs$ \n",
    "3. $\\mu$  \n",
    "    Mass m=105.66 MeV  \n",
    "    Mean life $\\tau =2.197 *10^{-6}s$  \n",
    "    Decay Modes $\\mu^- -> e^- + \\bar{\\nu_e} + \\nu_\\mu$ ~100%.  \n",
    "4. $\\pi^+$  \n",
    "    Mass m=139.57039 MeV  \n",
    "    Mean life $\\tau =2.6033 *10^{-8}s$  \n",
    "    Decay Modes $\\pi^+ -> \\mu^+ + \\nu_\\mu$ 99.987%. \n",
    "5. $\\pi^-$  \n",
    "    Mass m=139.57039 MeV    \n",
    "    Mean life $\\tau =2.6033 *10^{-8}s$   \n",
    "    Decay Modes $\\pi^- -> \\mu^- + \\nu_\\mu$ 99.987%. \n",
    "\n",
    "6. $\\pi^0$\n",
    "    Mass m=134.9768 MeV  \n",
    "    Mean life $\\tau =8.52 *10^{-17}s$   \n",
    "    Decay Modes $\\pi^0 -> 2\\gamma $ 98.823%.  \n",
    "    $\\pi^0 -> e^+ + e^- + \\gamma $ 1.174%. \n",
    "7. proton  \n",
    "    Mass m=938.272 MeV   \n",
    "    null  \n",
    "8. $\\gamma$  \n",
    "    null\n",
    "9. K-long  \n",
    "    Mass m=497.611 MeV  \n",
    "    Mean life $\\tau =5.116 *10^{-8}s $  \n",
    "    Decay Modes $K^0_L -> 2\\gamma $ 40.55%.  \n",
    "    $K^0_L -> e^+ + e^- + \\gamma $ 27.04%.  \n",
    "    $K^0_L -> 3\\pi ^0 $ 19.52%.  \n",
    "    $K^0_L -> \\pi^+ + \\pi^- + \\pi^0 $ 12.54%.  "
   ]
  },
  {
   "cell_type": "code",
   "execution_count": 38,
   "id": "c5ad839e",
   "metadata": {},
   "outputs": [],
   "source": [
    "import math\n",
    "def calc_dist(TYPE, ENG):\n",
    "    c=299792458.0\n",
    "    Particle_dict={\n",
    "        #\"type\": [index, mass, mean life],\n",
    "        \"electron\": [1, 0.511, None],\n",
    "        \"positron\": [2, 0.511, None],\n",
    "        \"muon\": [3, 105.66, 2.197*1e-6 ],\n",
    "        \"pi+\":[4, 139.57039, 2.6033*1e-8],\n",
    "        \"pi-\":[5, 139.57039, 2.6033*1e-8],\n",
    "        \"pi0\":[6, 134.9768, 8.52*1e-17],\n",
    "        \"proton\":[7, 938.272, None],\n",
    "        \"photon\":[8, 1e-18, None],\n",
    "        \"klong\":[9, 497.611, 5.116*1e-8],  \n",
    "    }\n",
    "    INFO=Particle_dict[TYPE]\n",
    "    index=INFO[0]\n",
    "    mass=INFO[1]\n",
    "    energy=INFO[2]\n",
    "    if (energy!=None):\n",
    "        dist=INFO[2]*(ENG/(INFO[1]*c))*math.sqrt(1-(INFO[1]**2*c**4)/ENG**2)\n",
    "    else:\n",
    "        dist=None\n",
    "    return dist"
   ]
  },
  {
   "cell_type": "code",
   "execution_count": 39,
   "id": "ab334969",
   "metadata": {},
   "outputs": [],
   "source": [
    "def dist_main():\n",
    "    TYPE = input('What particle you want to inspect? ')\n",
    "    ENG = int(input('What\\'s the energy of the particle, in GeV? ' ))*1000\n",
    "    decay_dist=calc_dist(TYPE, ENG)\n",
    "    print(decay_dist)\n",
    "\n",
    "        "
   ]
  }
 ],
 "metadata": {
  "kernelspec": {
   "display_name": "Python 3 (ipykernel)",
   "language": "python",
   "name": "python3"
  },
  "language_info": {
   "codemirror_mode": {
    "name": "ipython",
    "version": 3
   },
   "file_extension": ".py",
   "mimetype": "text/x-python",
   "name": "python",
   "nbconvert_exporter": "python",
   "pygments_lexer": "ipython3",
   "version": "3.9.13"
  }
 },
 "nbformat": 4,
 "nbformat_minor": 5
}
