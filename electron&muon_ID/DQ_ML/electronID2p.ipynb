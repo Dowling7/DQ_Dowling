{
 "cells": [
  {
   "cell_type": "markdown",
   "metadata": {
    "id": "3zt5vYf8K1AF"
   },
   "source": [
    "<a href=\"https://colab.research.google.com/github/jeffheaton/t81_558_deep_learning/blob/pytorch/t81_558_class_04_2_multi_class.ipynb\" target=\"_parent\"><img src=\"https://colab.research.google.com/assets/colab-badge.svg\" alt=\"Open In Colab\"/></a>"
   ]
  },
  {
   "cell_type": "code",
   "execution_count": 5,
   "metadata": {
    "colab": {
     "base_uri": "https://localhost:8080/"
    },
    "id": "19pvQwY3K1AK",
    "outputId": "b451b046-514f-4eea-d238-c031972c06fb"
   },
   "outputs": [
    {
     "name": "stdout",
     "output_type": "stream",
     "text": [
      "Note: using Google CoLab\n",
      "Using device: mps\n"
     ]
    }
   ],
   "source": [
    "import torch\n",
    "import io\n",
    "import copy\n",
    "\n",
    "try:\n",
    "    COLAB = True\n",
    "    print(\"Note: using Google CoLab\")\n",
    "except:\n",
    "    print(\"Note: not using Google CoLab\")\n",
    "    COLAB = False\n",
    "\n",
    "# Early stopping (see Module 3.4)\n",
    "class EarlyStopping():\n",
    "    def __init__(self, patience=15, min_delta=0, restore_best_weights=True):\n",
    "        self.patience = patience\n",
    "        self.min_delta = min_delta\n",
    "        self.restore_best_weights = restore_best_weights\n",
    "        self.best_model = None\n",
    "        self.best_loss = None\n",
    "        self.counter = 0\n",
    "        self.status = \"\"\n",
    "    \n",
    "    def __call__(self, model, val_loss):\n",
    "        if self.best_loss == None:\n",
    "            self.best_loss = val_loss\n",
    "            self.best_model = copy.deepcopy(model)\n",
    "        elif self.best_loss - val_loss > self.min_delta:\n",
    "            self.best_loss = val_loss\n",
    "            self.counter = 0\n",
    "            self.best_model.load_state_dict(model.state_dict())\n",
    "        elif self.best_loss - val_loss < self.min_delta:\n",
    "            self.counter += 1\n",
    "            if self.counter >= self.patience:\n",
    "                self.status = f\"Stopped on {self.counter}\"\n",
    "                if self.restore_best_weights:\n",
    "                    model.load_state_dict(self.best_model.state_dict())\n",
    "                return True\n",
    "        self.status = f\"{self.counter}/{self.patience}\"\n",
    "        return False\n",
    "\n",
    "# Make use of a GPU or MPS (Apple) if one is available. (see Module 3.2)\n",
    "device = \"mps\" if getattr(torch,'has_mps',False) \\\n",
    "    else \"cuda\" if torch.cuda.is_available() else \"cpu\"\n",
    "print(f\"Using device: {device}\")"
   ]
  },
  {
   "cell_type": "code",
   "execution_count": 6,
   "metadata": {
    "colab": {
     "base_uri": "https://localhost:8080/",
     "height": 236
    },
    "id": "VmjrLkDwK1AM",
    "outputId": "a0f57c0d-648d-4a2b-883e-1a97c12a01eb"
   },
   "outputs": [
    {
     "data": {
      "text/html": [
       "<div>\n",
       "<style scoped>\n",
       "    .dataframe tbody tr th:only-of-type {\n",
       "        vertical-align: middle;\n",
       "    }\n",
       "\n",
       "    .dataframe tbody tr th {\n",
       "        vertical-align: top;\n",
       "    }\n",
       "\n",
       "    .dataframe thead th {\n",
       "        text-align: right;\n",
       "    }\n",
       "</style>\n",
       "<table border=\"1\" class=\"dataframe\">\n",
       "  <thead>\n",
       "    <tr style=\"text-align: right;\">\n",
       "      <th></th>\n",
       "      <th>label</th>\n",
       "      <th>wew_x</th>\n",
       "      <th>...</th>\n",
       "      <th>kurt_x</th>\n",
       "      <th>kurt_y</th>\n",
       "    </tr>\n",
       "  </thead>\n",
       "  <tbody>\n",
       "    <tr>\n",
       "      <th>0</th>\n",
       "      <td>1.0</td>\n",
       "      <td>1.584334</td>\n",
       "      <td>...</td>\n",
       "      <td>-0.465606</td>\n",
       "      <td>0.150234</td>\n",
       "    </tr>\n",
       "    <tr>\n",
       "      <th>1</th>\n",
       "      <td>1.0</td>\n",
       "      <td>2.007739</td>\n",
       "      <td>...</td>\n",
       "      <td>-0.427125</td>\n",
       "      <td>-0.075675</td>\n",
       "    </tr>\n",
       "    <tr>\n",
       "      <th>...</th>\n",
       "      <td>...</td>\n",
       "      <td>...</td>\n",
       "      <td>...</td>\n",
       "      <td>...</td>\n",
       "      <td>...</td>\n",
       "    </tr>\n",
       "    <tr>\n",
       "      <th>7527</th>\n",
       "      <td>0.0</td>\n",
       "      <td>3.554478</td>\n",
       "      <td>...</td>\n",
       "      <td>0.100684</td>\n",
       "      <td>1.116287</td>\n",
       "    </tr>\n",
       "    <tr>\n",
       "      <th>7528</th>\n",
       "      <td>0.0</td>\n",
       "      <td>6.758660</td>\n",
       "      <td>...</td>\n",
       "      <td>0.245580</td>\n",
       "      <td>0.126966</td>\n",
       "    </tr>\n",
       "  </tbody>\n",
       "</table>\n",
       "<p>7529 rows × 9 columns</p>\n",
       "</div>"
      ],
      "text/plain": [
       "      label     wew_x  ...    kurt_x    kurt_y\n",
       "0       1.0  1.584334  ... -0.465606  0.150234\n",
       "1       1.0  2.007739  ... -0.427125 -0.075675\n",
       "...     ...       ...  ...       ...       ...\n",
       "7527    0.0  3.554478  ...  0.100684  1.116287\n",
       "7528    0.0  6.758660  ...  0.245580  0.126966\n",
       "\n",
       "[7529 rows x 9 columns]"
      ]
     },
     "metadata": {},
     "output_type": "display_data"
    }
   ],
   "source": [
    "import pandas as pd\n",
    "import dwong\n",
    "\n",
    "dwong.os.chdir(\"/Users/wongdowling/Desktop/DQ_Dowling/electron/csv/\")\n",
    "df = pd.read_csv(\"pure_emcal.csv\")\n",
    "pd.set_option('display.max_columns', 5)\n",
    "pd.set_option('display.max_rows', 5)\n",
    "\n",
    "display(df)"
   ]
  },
  {
   "cell_type": "code",
   "execution_count": 7,
   "metadata": {
    "id": "25ys9moDK1AP"
   },
   "outputs": [],
   "source": [
    "%matplotlib inline\n",
    "import matplotlib.pyplot as plt\n",
    "from sklearn.metrics import roc_curve, auc\n",
    "\n",
    "# Plot a confusion matrix.\n",
    "# cm is the confusion matrix, names are the names of the classes.\n",
    "def plot_confusion_matrix(cm, names, title='Confusion matrix', \n",
    "                            cmap=plt.cm.Blues):\n",
    "    plt.imshow(cm, interpolation='nearest', cmap=cmap)\n",
    "    plt.title(title)\n",
    "    plt.colorbar()\n",
    "    tick_marks = np.arange(len(names))\n",
    "    plt.xticks(tick_marks, names, rotation=45)\n",
    "    plt.yticks(tick_marks, names)\n",
    "    plt.tight_layout()\n",
    "    plt.ylabel('True label')\n",
    "    plt.xlabel('Predicted label')\n",
    "    \n",
    "\n",
    "# Plot an ROC. pred - the predictions, y - the expected output.\n",
    "def plot_roc(pred,y):\n",
    "    fpr, tpr, _ = roc_curve(y, pred)\n",
    "    roc_auc = auc(fpr, tpr)\n",
    "\n",
    "    plt.figure()\n",
    "    plt.plot(fpr, tpr, label='ROC curve (area = %0.6f)' % roc_auc)\n",
    "    plt.plot([0, 1], [0, 1], 'k--')\n",
    "    plt.xlim([0.0, 1.0])\n",
    "    plt.ylim([0.0, 1.05])\n",
    "    plt.xlabel('False Positive Rate')\n",
    "    plt.ylabel('True Positive Rate')\n",
    "    plt.title('Receiver Operating Characteristic (ROC)')\n",
    "    plt.legend(loc=\"lower right\")\n",
    "    plt.show()"
   ]
  },
  {
   "cell_type": "code",
   "execution_count": 8,
   "metadata": {},
   "outputs": [],
   "source": [
    "x=df[[\"wew_x\",\"wew_y\", \"wid_x\", \"wid_y\", \"skew_x\",\"skew_y\", \"kurt_x\",\"kurt_y\"]].values\n",
    "y=df['label'].values"
   ]
  },
  {
   "cell_type": "code",
   "execution_count": 9,
   "metadata": {
    "colab": {
     "base_uri": "https://localhost:8080/"
    },
    "id": "tchQMWrIK1AQ",
    "outputId": "972cd794-3fc4-4c63-837e-6151c02cf221"
   },
   "outputs": [
    {
     "name": "stderr",
     "output_type": "stream",
     "text": [
      "Epoch: 1, tloss: 0.30626553297042847, vloss: 0.370546, EStop:[0/15]: 100%|█| 353\n",
      "Epoch: 2, tloss: 0.4884456396102905, vloss: 0.376676, EStop:[1/15]: 100%|█| 353/\n",
      "Epoch: 3, tloss: 0.6407229900360107, vloss: 0.356673, EStop:[0/15]: 100%|█| 353/\n",
      "Epoch: 4, tloss: 0.2602088749408722, vloss: 0.367956, EStop:[1/15]: 100%|█| 353/\n",
      "Epoch: 5, tloss: 0.40836814045906067, vloss: 0.361067, EStop:[2/15]: 100%|█| 353\n",
      "Epoch: 6, tloss: 0.5660731792449951, vloss: 0.357833, EStop:[3/15]: 100%|█| 353/\n",
      "Epoch: 7, tloss: 0.497168630361557, vloss: 0.354983, EStop:[0/15]: 100%|█| 353/3\n",
      "Epoch: 8, tloss: 0.346983402967453, vloss: 0.375277, EStop:[1/15]: 100%|█| 353/3\n",
      "Epoch: 9, tloss: 0.45136287808418274, vloss: 0.354447, EStop:[0/15]: 100%|█| 353\n",
      "Epoch: 10, tloss: 0.286428302526474, vloss: 0.358714, EStop:[1/15]: 100%|█| 353/\n",
      "Epoch: 11, tloss: 0.3659578263759613, vloss: 0.355589, EStop:[2/15]: 100%|█| 353\n",
      "Epoch: 12, tloss: 0.21400003135204315, vloss: 0.351233, EStop:[0/15]: 100%|█| 35\n",
      "Epoch: 13, tloss: 0.43288326263427734, vloss: 0.350904, EStop:[0/15]: 100%|█| 35\n",
      "Epoch: 14, tloss: 0.17043080925941467, vloss: 0.354163, EStop:[1/15]: 100%|█| 35\n",
      "Epoch: 15, tloss: 0.2564481496810913, vloss: 0.347201, EStop:[0/15]: 100%|█| 353\n",
      "Epoch: 16, tloss: 0.3536369502544403, vloss: 0.365912, EStop:[1/15]: 100%|█| 353\n",
      "Epoch: 17, tloss: 0.4275275766849518, vloss: 0.361973, EStop:[2/15]: 100%|█| 353\n",
      "Epoch: 18, tloss: 0.43277066946029663, vloss: 0.355115, EStop:[3/15]: 100%|█| 35\n",
      "Epoch: 19, tloss: 0.24033012986183167, vloss: 0.352865, EStop:[4/15]: 100%|█| 35\n",
      "Epoch: 20, tloss: 0.48223450779914856, vloss: 0.398604, EStop:[5/15]: 100%|█| 35\n",
      "Epoch: 21, tloss: 0.35434022545814514, vloss: 0.346054, EStop:[0/15]: 100%|█| 35\n",
      "Epoch: 22, tloss: 0.2342689335346222, vloss: 0.366753, EStop:[1/15]: 100%|█| 353\n",
      "Epoch: 23, tloss: 0.258235901594162, vloss: 0.348303, EStop:[2/15]: 100%|█| 353/\n",
      "Epoch: 24, tloss: 0.3373833894729614, vloss: 0.348876, EStop:[3/15]: 100%|█| 353\n",
      "Epoch: 25, tloss: 0.22850582003593445, vloss: 0.348994, EStop:[4/15]: 100%|█| 35\n",
      "Epoch: 26, tloss: 0.25828444957733154, vloss: 0.358653, EStop:[5/15]: 100%|█| 35\n",
      "Epoch: 27, tloss: 0.318240761756897, vloss: 0.357104, EStop:[6/15]: 100%|█| 353/\n",
      "Epoch: 28, tloss: 0.39040812849998474, vloss: 0.347411, EStop:[7/15]: 100%|█| 35\n",
      "Epoch: 29, tloss: 0.505315363407135, vloss: 0.349608, EStop:[8/15]: 100%|█| 353/\n",
      "Epoch: 30, tloss: 0.2837483882904053, vloss: 0.346899, EStop:[9/15]: 100%|█| 353\n",
      "Epoch: 31, tloss: 0.2720211148262024, vloss: 0.357862, EStop:[10/15]: 100%|█| 35\n",
      "Epoch: 32, tloss: 0.33532994985580444, vloss: 0.350054, EStop:[11/15]: 100%|█| 3\n",
      "Epoch: 33, tloss: 0.2522592544555664, vloss: 0.350585, EStop:[12/15]: 100%|█| 35\n",
      "Epoch: 34, tloss: 0.4636777639389038, vloss: 0.351969, EStop:[13/15]: 100%|█| 35\n",
      "Epoch: 35, tloss: 0.15744955837726593, vloss: 0.354567, EStop:[14/15]: 100%|█| 3\n",
      "Epoch: 36, tloss: 0.34569305181503296, vloss: 0.349576, EStop:[Stopped on 15]: 1\n"
     ]
    }
   ],
   "source": [
    "import pandas as pd\n",
    "from sklearn.model_selection import train_test_split\n",
    "from sklearn.metrics import accuracy_score\n",
    "\n",
    "import torch.nn as nn\n",
    "import torch.nn.functional as F\n",
    "import numpy as np\n",
    "from torch.autograd import Variable\n",
    "from sklearn import preprocessing\n",
    "from torch.utils.data import DataLoader, TensorDataset\n",
    "import tqdm\n",
    "import time\n",
    "\n",
    "# Define the PyTorch Neural Network\n",
    "class Net(nn.Module):\n",
    "    def __init__(self, in_count, out_count):\n",
    "        super(Net, self).__init__()\n",
    "        self.fc1 = nn.Linear(in_count, 50)\n",
    "        self.fc2 = nn.Linear(50, 25)\n",
    "        self.fc3 = nn.Linear(25, out_count)\n",
    "\n",
    "    def forward(self, x):\n",
    "        x = F.relu(self.fc1(x))\n",
    "        x = F.relu(self.fc2(x))\n",
    "        return torch.sigmoid(self.fc3(x))\n",
    "\n",
    "# Split into validation and training sets\n",
    "x_train, x_test, y_train, y_test = train_test_split(    \n",
    "    x, y, test_size=0.25, random_state=42)\n",
    "\n",
    "# Numpy to Torch Tensor\n",
    "x_train = torch.Tensor(x_train).float()\n",
    "y_train = torch.Tensor(y_train).float()\n",
    "\n",
    "x_test = torch.Tensor(x_test).float().to(device)\n",
    "y_test = torch.Tensor(y_test).float().to(device)\n",
    "\n",
    "\n",
    "# Create datasets\n",
    "BATCH_SIZE = 16\n",
    "\n",
    "dataset_train = TensorDataset(x_train, y_train)\n",
    "dataloader_train = DataLoader(dataset_train,\\\n",
    "  batch_size=BATCH_SIZE, shuffle=True)\n",
    "\n",
    "dataset_test = TensorDataset(x_test, y_test)\n",
    "dataloader_test = DataLoader(dataset_test,\\\n",
    "  batch_size=BATCH_SIZE, shuffle=True)\n",
    "\n",
    "\n",
    "# Create model\n",
    "model = Net(x.shape[1],1).to(device)\n",
    "\n",
    "loss_fn = nn.BCELoss()# Binary Cross Entropy loss\n",
    "\n",
    "optimizer = torch.optim.Adam(model.parameters(), lr=0.01)\n",
    "es = EarlyStopping()\n",
    "\n",
    "epoch = 0\n",
    "done = False\n",
    "while epoch<1000 and not done:\n",
    "    epoch += 1\n",
    "    steps = list(enumerate(dataloader_train))\n",
    "    pbar = tqdm.tqdm(steps)\n",
    "    model.train()\n",
    "    for i, (x_batch, y_batch) in pbar:\n",
    "        y_batch_pred = model(x_batch.to(device))\n",
    "        loss = loss_fn(y_batch_pred, y_batch.reshape(-1,1).to(device))\n",
    "        optimizer.zero_grad()\n",
    "        loss.backward()\n",
    "        optimizer.step()\n",
    "\n",
    "        loss, current = loss.item(), (i + 1)* len(x_batch)\n",
    "        if i == len(steps)-1:\n",
    "            model.eval()\n",
    "            pred = model(x_test)\n",
    "            vloss = loss_fn(pred, y_test.reshape(-1,1))\n",
    "            if es(model,vloss): done = True\n",
    "            pbar.set_description(f\"Epoch: {epoch}, tloss: {loss}, vloss: {vloss:>7f}, EStop:[{es.status}]\")\n",
    "        else:\n",
    "            pbar.set_description(f\"Epoch: {epoch}, tloss {loss:}\")"
   ]
  },
  {
   "cell_type": "code",
   "execution_count": 10,
   "metadata": {
    "colab": {
     "base_uri": "https://localhost:8080/",
     "height": 295
    },
    "id": "_95P1kTBK1AQ",
    "outputId": "3fc427f7-a003-482b-f911-b9ddaebb5f08"
   },
   "outputs": [
    {
     "data": {
      "image/png": "[encoded data removed]",
      "text/plain": [
       "<Figure size 1000x1000 with 1 Axes>"
      ]
     },
     "metadata": {},
     "output_type": "display_data"
    }
   ],
   "source": [
    "pred = model(x_test)\n",
    "plot_roc(pred.cpu().detach(),y_test.cpu())"
   ]
  },
  {
   "cell_type": "markdown",
   "metadata": {
    "id": "yElFCdNQK1AR"
   },
   "source": [
    "### Multiclass Classification Error Metrics\n",
    "\n",
    "If you want to predict more than one outcome, you will need more than one output neuron. Because a single neuron can predict two results, a neural network with two output neurons is somewhat rare. If there are three or more outcomes, there will be three or more output neurons. The following sections will examine several metrics for evaluating classification error. We will assess the following classification neural network."
   ]
  },
  {
   "cell_type": "code",
   "execution_count": 8,
   "metadata": {
    "id": "wD57aaWKK1AR"
   },
   "outputs": [],
   "source": [
    "import pandas as pd\n",
    "from scipy.stats import zscore\n",
    "\n",
    "# Read the data set\n",
    "df = pd.read_csv(\n",
    "    \"https://data.heatonresearch.com/data/t81-558/toys.csv\",\n",
    "    na_values=['NA','?'])\n",
    "\n",
    "# Generate dummies for material\n",
    "df = pd.concat([df,pd.get_dummies(df['material'],prefix=\"material\")],axis=1)\n",
    "df.drop('material', axis=1, inplace=True)\n",
    "\n",
    "# Missing values for depth\n",
    "med = df['depth'].median()\n",
    "df['depth'] = df['depth'].fillna(med)\n",
    "\n",
    "df['pieces'] = zscore(df['pieces'])\n",
    "df['length'] = zscore(df['length'])\n",
    "df['height'] = zscore(df['height'])\n",
    "df['depth'] = zscore(df['depth'])\n",
    "df['weight'] = zscore(df['weight'])\n",
    "\n",
    "# Convert to numpy - Classification\n",
    "x_columns = df.columns.drop('toy') #.drop('id')\n",
    "x = df[x_columns].values\n",
    "\n",
    "le = preprocessing.LabelEncoder()\n",
    "y = le.fit_transform(df['toy'])\n",
    "products = le.classes_"
   ]
  },
  {
   "cell_type": "code",
   "execution_count": 9,
   "metadata": {
    "colab": {
     "base_uri": "https://localhost:8080/"
    },
    "id": "aggbZoEUK1AR",
    "outputId": "deed9d0a-e3d2-4cbe-eddc-794c8999ef37"
   },
   "outputs": [
    {
     "name": "stderr",
     "output_type": "stream",
     "text": [
      "Epoch: 1, tloss: 1.257548213005066, vloss: 1.375472, EStop:[0/5]: 100%|██████████| 469/469 [00:03<00:00, 121.56it/s]\n",
      "Epoch: 2, tloss: 1.3585182428359985, vloss: 1.324934, EStop:[0/5]: 100%|██████████| 469/469 [00:03<00:00, 125.56it/s]\n",
      "Epoch: 3, tloss: 1.4308271408081055, vloss: 1.302584, EStop:[0/5]: 100%|██████████| 469/469 [00:03<00:00, 118.69it/s]\n",
      "Epoch: 4, tloss: 1.22785484790802, vloss: 1.284166, EStop:[0/5]: 100%|██████████| 469/469 [00:04<00:00, 102.67it/s]\n",
      "Epoch: 5, tloss: 1.3159691095352173, vloss: 1.274265, EStop:[0/5]: 100%|██████████| 469/469 [00:05<00:00, 92.87it/s]\n",
      "Epoch: 6, tloss: 1.3040297031402588, vloss: 1.270644, EStop:[0/5]: 100%|██████████| 469/469 [00:04<00:00, 103.87it/s]\n",
      "Epoch: 7, tloss: 1.2140861749649048, vloss: 1.266139, EStop:[0/5]: 100%|██████████| 469/469 [00:04<00:00, 100.16it/s]\n",
      "Epoch: 8, tloss: 1.3081793785095215, vloss: 1.264112, EStop:[0/5]: 100%|██████████| 469/469 [00:04<00:00, 108.39it/s]\n",
      "Epoch: 9, tloss: 1.255907416343689, vloss: 1.259594, EStop:[0/5]: 100%|██████████| 469/469 [00:02<00:00, 183.62it/s]\n",
      "Epoch: 10, tloss: 1.3384603261947632, vloss: 1.258347, EStop:[0/5]: 100%|██████████| 469/469 [00:02<00:00, 233.20it/s]\n",
      "Epoch: 11, tloss: 1.3502603769302368, vloss: 1.257642, EStop:[0/5]: 100%|██████████| 469/469 [00:02<00:00, 185.09it/s]\n",
      "Epoch: 12, tloss: 1.207675576210022, vloss: 1.256013, EStop:[0/5]: 100%|██████████| 469/469 [00:01<00:00, 243.02it/s]\n",
      "Epoch: 13, tloss: 1.2890909910202026, vloss: 1.255976, EStop:[0/5]: 100%|██████████| 469/469 [00:02<00:00, 176.92it/s]\n",
      "Epoch: 14, tloss: 1.1663951873779297, vloss: 1.253209, EStop:[0/5]: 100%|██████████| 469/469 [00:02<00:00, 192.23it/s]\n",
      "Epoch: 15, tloss: 1.1703699827194214, vloss: 1.254199, EStop:[1/5]: 100%|██████████| 469/469 [00:02<00:00, 176.31it/s]\n",
      "Epoch: 16, tloss: 1.2029205560684204, vloss: 1.251682, EStop:[0/5]: 100%|██████████| 469/469 [00:02<00:00, 194.39it/s]\n",
      "Epoch: 17, tloss: 1.2777241468429565, vloss: 1.254223, EStop:[1/5]: 100%|██████████| 469/469 [00:02<00:00, 180.71it/s]\n",
      "Epoch: 18, tloss: 1.3180608749389648, vloss: 1.251285, EStop:[0/5]: 100%|██████████| 469/469 [00:02<00:00, 192.02it/s]\n",
      "Epoch: 19, tloss: 1.2476037740707397, vloss: 1.252331, EStop:[1/5]: 100%|██████████| 469/469 [00:02<00:00, 216.99it/s]\n",
      "Epoch: 20, tloss: 1.1692993640899658, vloss: 1.251649, EStop:[2/5]: 100%|██████████| 469/469 [00:02<00:00, 200.61it/s]\n",
      "Epoch: 21, tloss: 1.252975583076477, vloss: 1.248929, EStop:[0/5]: 100%|██████████| 469/469 [00:02<00:00, 175.85it/s]\n",
      "Epoch: 22, tloss: 1.1785169839859009, vloss: 1.251398, EStop:[1/5]: 100%|██████████| 469/469 [00:02<00:00, 185.27it/s]\n",
      "Epoch: 23, tloss: 1.1921701431274414, vloss: 1.250765, EStop:[2/5]: 100%|██████████| 469/469 [00:02<00:00, 183.11it/s]\n",
      "Epoch: 24, tloss: 1.1833350658416748, vloss: 1.250331, EStop:[3/5]: 100%|██████████| 469/469 [00:02<00:00, 214.92it/s]\n",
      "Epoch: 25, tloss: 1.2448939085006714, vloss: 1.250554, EStop:[4/5]: 100%|██████████| 469/469 [00:02<00:00, 214.15it/s]\n",
      "Epoch: 26, tloss: 1.216267466545105, vloss: 1.245693, EStop:[0/5]: 100%|██████████| 469/469 [00:02<00:00, 186.90it/s]\n",
      "Epoch: 27, tloss: 1.1656874418258667, vloss: 1.247456, EStop:[1/5]: 100%|██████████| 469/469 [00:02<00:00, 205.16it/s]\n",
      "Epoch: 28, tloss: 1.1657246351242065, vloss: 1.246750, EStop:[2/5]: 100%|██████████| 469/469 [00:02<00:00, 188.61it/s]\n",
      "Epoch: 29, tloss: 1.3772889375686646, vloss: 1.246249, EStop:[3/5]: 100%|██████████| 469/469 [00:02<00:00, 205.27it/s]\n",
      "Epoch: 30, tloss: 1.1741774082183838, vloss: 1.249866, EStop:[4/5]: 100%|██████████| 469/469 [00:02<00:00, 209.17it/s]\n",
      "Epoch: 31, tloss: 1.2485367059707642, vloss: 1.249631, EStop:[Stopped on 5]: 100%|██████████| 469/469 [00:02<00:00, 215.74it/s]\n"
     ]
    }
   ],
   "source": [
    "from sklearn.model_selection import train_test_split\n",
    "from sklearn.metrics import accuracy_score\n",
    "import torch.nn as nn\n",
    "import torch.nn.functional as F\n",
    "import numpy as np\n",
    "from torch.autograd import Variable\n",
    "from sklearn import preprocessing\n",
    "from torch.utils.data import DataLoader, TensorDataset\n",
    "import tqdm\n",
    "import time\n",
    "\n",
    "# Define the PyTorch Neural Network\n",
    "class Net(nn.Module):\n",
    "    def __init__(self, in_count, out_count):\n",
    "        super(Net, self).__init__()\n",
    "        self.fc1 = nn.Linear(in_count, 50)\n",
    "        self.fc2 = nn.Linear(50, 25)\n",
    "        self.fc3 = nn.Linear(25, out_count)\n",
    "        self.softmax = nn.Softmax(dim=1)\n",
    "\n",
    "    def forward(self, x):\n",
    "        x = F.relu(self.fc1(x))\n",
    "        x = F.relu(self.fc2(x))\n",
    "        return self.softmax(self.fc3(x))\n",
    "\n",
    "# Split into validation and training sets\n",
    "x_train, x_test, y_train, y_test = train_test_split(    \n",
    "    x, y, test_size=0.25, random_state=42)\n",
    "\n",
    "# Numpy to Torch Tensor\n",
    "x_train = torch.Tensor(x_train).float()\n",
    "y_train = torch.Tensor(y_train).long()\n",
    "\n",
    "x_test = torch.Tensor(x_test).float().to(device)\n",
    "y_test = torch.Tensor(y_test).long().to(device)\n",
    "\n",
    "\n",
    "# Create datasets\n",
    "BATCH_SIZE = 16\n",
    "\n",
    "dataset_train = TensorDataset(x_train, y_train)\n",
    "dataloader_train = DataLoader(dataset_train,\\\n",
    "  batch_size=BATCH_SIZE, shuffle=True)\n",
    "\n",
    "dataset_test = TensorDataset(x_test, y_test)\n",
    "dataloader_test = DataLoader(dataset_test,\\\n",
    "  batch_size=BATCH_SIZE, shuffle=True)\n",
    "\n",
    "\n",
    "# Create model\n",
    "model = Net(x.shape[1],len(products)).to(device)\n",
    "\n",
    "loss_fn = nn.CrossEntropyLoss()# cross entropy loss\n",
    "\n",
    "optimizer = torch.optim.Adam(model.parameters()) # , lr=0.01\n",
    "es = EarlyStopping()\n",
    "\n",
    "epoch = 0\n",
    "done = False\n",
    "while epoch<1000 and not done:\n",
    "  epoch += 1\n",
    "  steps = list(enumerate(dataloader_train))\n",
    "  pbar = tqdm.tqdm(steps)\n",
    "  model.train()\n",
    "  for i, (x_batch, y_batch) in pbar:\n",
    "    y_batch_pred = model(x_batch.to(device))\n",
    "    loss = loss_fn(y_batch_pred, y_batch.to(device))\n",
    "    optimizer.zero_grad()\n",
    "    loss.backward()\n",
    "    optimizer.step()\n",
    "\n",
    "    loss, current = loss.item(), (i + 1)* len(x_batch)\n",
    "    if i == len(steps)-1:\n",
    "      model.eval()\n",
    "      pred = model(x_test)\n",
    "      vloss = loss_fn(pred, y_test)\n",
    "      if es(model,vloss): done = True\n",
    "      pbar.set_description(f\"Epoch: {epoch}, tloss: {loss}, vloss: {vloss:>7f}, EStop:[{es.status}]\")\n",
    "    else:\n",
    "      pbar.set_description(f\"Epoch: {epoch}, tloss {loss:}\")"
   ]
  },
  {
   "cell_type": "markdown",
   "metadata": {
    "id": "vr9U9rgvK1AR"
   },
   "source": [
    "### Calculate Classification Accuracy\n",
    " \n",
    "Accuracy is the number of rows where the neural network correctly predicted the target class.  Accuracy is only used for classification, not regression.\n",
    "\n",
    "$$ accuracy = \\frac{c}{N} $$\n",
    "\n",
    "Where $c$ is the number correct and $N$ is the size of the evaluated set (training or validation). Higher accuracy numbers are desired.\n",
    "\n",
    "As we just saw, by default, Keras will return the percent probability for each class. We can change these prediction probabilities into the actual iris predicted with **argmax**."
   ]
  },
  {
   "cell_type": "code",
   "execution_count": 10,
   "metadata": {
    "id": "ldTptygpK1AR"
   },
   "outputs": [],
   "source": [
    "pred = model(x_test)\n",
    "_, predict_classes = torch.max(pred, 1)"
   ]
  },
  {
   "cell_type": "markdown",
   "metadata": {
    "id": "6_a5WcpJK1AS"
   },
   "source": [
    "Now that we have the actual iris flower predicted, we can calculate the percent accuracy (how many were correctly classified)."
   ]
  },
  {
   "cell_type": "code",
   "execution_count": 11,
   "metadata": {
    "colab": {
     "base_uri": "https://localhost:8080/"
    },
    "id": "l7ZN4mO5K1AS",
    "outputId": "05d0d10d-6487-4017-ed14-7cf8b976ca58"
   },
   "outputs": [
    {
     "name": "stdout",
     "output_type": "stream",
     "text": [
      "Accuracy score: 0.9216\n"
     ]
    }
   ],
   "source": [
    "from sklearn import metrics\n",
    "\n",
    "score = metrics.accuracy_score(y_test, predict_classes)\n",
    "print(\"Accuracy score: {}\".format(score))"
   ]
  },
  {
   "cell_type": "markdown",
   "metadata": {
    "id": "1zlG17MKK1AS"
   },
   "source": [
    "### Calculate Classification Log Loss\n",
    "\n",
    "Accuracy is like a final exam with no partial credit.  However, neural networks can predict a probability of each of the target classes.  Neural networks will give high probabilities to predictions that are more likely.  Log loss is an error metric that penalizes confidence in wrong answers. Lower log loss values are desired.\n",
    "\n",
    "The following code shows the output of predict_proba:\n"
   ]
  },
  {
   "cell_type": "code",
   "execution_count": 12,
   "metadata": {
    "colab": {
     "base_uri": "https://localhost:8080/",
     "height": 285
    },
    "id": "ucCNS9XAK1AS",
    "outputId": "c0388241-9304-4e36-ad78-b920bdd811d2"
   },
   "outputs": [
    {
     "name": "stdout",
     "output_type": "stream",
     "text": [
      "Numpy array of predictions\n"
     ]
    },
    {
     "data": {
      "text/plain": [
       "tensor([[2.2512e-03, 4.0209e-13, 9.9775e-01, 1.2051e-10, 2.9743e-12, 3.3444e-21,\n",
       "         1.3973e-19],\n",
       "        [2.2550e-03, 1.1054e-09, 9.9775e-01, 6.0721e-16, 8.1237e-15, 1.8963e-10,\n",
       "         1.8360e-15],\n",
       "        [2.4687e-15, 7.7643e-28, 2.1730e-11, 1.0000e+00, 1.2639e-11, 8.8688e-34,\n",
       "         1.1679e-37],\n",
       "        [2.6318e-10, 3.8210e-10, 3.5693e-19, 1.3996e-17, 4.3010e-21, 9.9997e-01,\n",
       "         3.1845e-05],\n",
       "        [1.9823e-12, 3.7044e-23, 6.7478e-11, 1.0000e+00, 4.3859e-09, 5.8011e-31,\n",
       "         3.3435e-31]], grad_fn=<SliceBackward0>)"
      ]
     },
     "metadata": {},
     "output_type": "display_data"
    },
    {
     "name": "stdout",
     "output_type": "stream",
     "text": [
      "As percent probability\n",
      "tensor([2.2512e-01, 4.0209e-11, 9.9775e+01, 1.2051e-08, 2.9743e-10, 3.3444e-19,\n",
      "        1.3973e-17], grad_fn=<MulBackward0>)\n",
      "Log loss score: 0.5052632994303051\n"
     ]
    }
   ],
   "source": [
    "from IPython.display import display\n",
    "\n",
    "# Don't display numpy in scientific notation\n",
    "np.set_printoptions(precision=4)\n",
    "np.set_printoptions(suppress=True)\n",
    "\n",
    "# Generate predictions\n",
    "pred = model(x_test)\n",
    "\n",
    "print(\"Numpy array of predictions\")\n",
    "display(pred[0:5])\n",
    "\n",
    "print(\"As percent probability\")\n",
    "print(pred[0]*100)\n",
    "\n",
    "score = metrics.log_loss(y_test, pred.detach())\n",
    "print(\"Log loss score: {}\".format(score))\n",
    "\n",
    "# raw probabilities to chosen class (highest probability)\n",
    "_, predict_classes = torch.max(pred, 1)"
   ]
  },
  {
   "cell_type": "markdown",
   "metadata": {
    "id": "iU3NLdorK1AS"
   },
   "source": [
    "[Log loss](https://www.kaggle.com/wiki/LogarithmicLoss) is calculated as follows:\n",
    "\n",
    "$$ \\mbox{log loss} = -\\frac{1}{N}\\sum_{i=1}^N {( {y}_i\\log(\\hat{y}_i) + (1 - {y}_i)\\log(1 - \\hat{y}_i))} $$\n",
    "\n",
    "\n",
    "You should use this equation only as an objective function for classifications that have two outcomes. The variable y-hat is the neural network’s prediction, and the variable y is the known correct answer.  In this case, y will always be 0 or 1.  The training data have no probabilities. The neural network classifies it either into one class (1) or the other (0).  \n",
    "\n",
    "The variable N represents the number of elements in the training set the number of questions in the test.  We divide by N because this process is customary for an average.  We also begin the equation with a negative because the log function is always negative over the domain 0 to 1.  This negation allows a positive score for the training to minimize.\n",
    "\n",
    "You will notice two terms are separated by the addition (+).  Each contains a log function.  Because y will be either 0 or 1, then one of these two terms will cancel out to 0.  If y is 0, then the first term will reduce to 0.  If y is 1, then the second term will be 0.  \n",
    "\n",
    "If your prediction for the first class of a two-class prediction is y-hat, then your prediction for the second class is 1 minus y-hat.  Essentially, if your prediction for class A is 70% (0.7), then your prediction for class B is 30% (0.3).  Your score will increase by the log of your prediction for the correct class.  If the neural network had predicted 1.0 for class A, and the correct answer was A, your score would increase by log (1), which is 0. For log loss, we seek a low score, so a correct answer results in 0.  Some of these log values for a neural network's probability estimate for the correct class:\n",
    "\n",
    "* -log(1.0) = 0\n",
    "* -log(0.95) = 0.02\n",
    "* -log(0.9) = 0.05\n",
    "* -log(0.8) = 0.1\n",
    "* -log(0.5) = 0.3\n",
    "* -log(0.1) = 1\n",
    "* -log(0.01) = 2\n",
    "* -log(1.0e-12) = 12\n",
    "* -log(0.0) = negative infinity\n",
    "\n",
    "As you can see, giving a low confidence to the correct answer affects the score the most.  Because log (0) is negative infinity, we typically impose a minimum value.  Of course, the above log values are for a single training set element.  We will average the log values for the entire training set.\n",
    "\n",
    "The log function is useful to penalizing wrong answers.  The following code demonstrates the utility of the log function:"
   ]
  },
  {
   "cell_type": "code",
   "execution_count": 13,
   "metadata": {
    "colab": {
     "base_uri": "https://localhost:8080/",
     "height": 325
    },
    "id": "g5Zv2tgNK1AT",
    "outputId": "5a99a983-f3ea-46f9-abba-394d52e1d7ba"
   },
   "outputs": [
    {
     "data": {
      "image/png": "[encoded data removed]",
      "text/plain": [
       "<Figure size 864x720 with 1 Axes>"
      ]
     },
     "metadata": {
      "needs_background": "light"
     },
     "output_type": "display_data"
    }
   ],
   "source": [
    "%matplotlib inline\n",
    "from matplotlib.pyplot import figure, show\n",
    "from numpy import arange, sin, pi\n",
    "\n",
    "#t = arange(1e-5, 5.0, 0.00001)\n",
    "#t = arange(1.0, 5.0, 0.00001) # computer scientists\n",
    "t = arange(1e-6, 1.0, 1e-2)  # data     scientists\n",
    "\n",
    "fig = figure(1,figsize=(12, 10))\n",
    "\n",
    "ax1 = fig.add_subplot(211)\n",
    "ax1.plot(t, np.log(t))\n",
    "ax1.grid(True)\n",
    "ax1.set_ylim((-8, 1.5))\n",
    "ax1.set_xlim((-0.1, 2))\n",
    "ax1.set_xlabel('x')\n",
    "ax1.set_ylabel('y')\n",
    "ax1.set_title('log(x)')\n",
    "\n",
    "show()"
   ]
  },
  {
   "cell_type": "markdown",
   "metadata": {
    "id": "ZaRtddpcK1AT"
   },
   "source": [
    "### Confusion Matrix\n",
    "\n",
    "A confusion matrix shows which predicted classes are often confused for the other classes. The vertical axis (y) represents the true labels and the horizontal axis (x) represents the predicted labels. When the true label and predicted label are the same, the highest values occur down the diagonal extending from the upper left to the lower right. The other values, outside the diagonal, represent incorrect predictions. For example, in the confusion matrix below, the value in row 2, column 1 shows how often the predicted value A occurred when it should have been B."
   ]
  },
  {
   "cell_type": "code",
   "execution_count": 14,
   "metadata": {
    "colab": {
     "base_uri": "https://localhost:8080/",
     "height": 454
    },
    "id": "1pvqhwRcK1AT",
    "outputId": "64e2f8a2-dbb0-4b69-bcfa-9df110302fc7"
   },
   "outputs": [
    {
     "name": "stdout",
     "output_type": "stream",
     "text": [
      "Normalized confusion matrix\n",
      "[[0.64 0.   0.27 0.   0.   0.01 0.08]\n",
      " [0.   0.99 0.   0.   0.01 0.   0.  ]\n",
      " [0.11 0.   0.89 0.   0.   0.   0.  ]\n",
      " [0.   0.   0.   1.   0.   0.   0.  ]\n",
      " [0.   0.03 0.   0.   0.97 0.   0.  ]\n",
      " [0.   0.   0.   0.   0.   0.99 0.  ]\n",
      " [0.01 0.   0.   0.   0.   0.03 0.96]]\n"
     ]
    },
    {
     "data": {
      "image/png": "[encoded data removed]",
      "text/plain": [
       "<Figure size 432x288 with 2 Axes>"
      ]
     },
     "metadata": {
      "needs_background": "light"
     },
     "output_type": "display_data"
    }
   ],
   "source": [
    "import numpy as np\n",
    "from sklearn import svm, datasets\n",
    "from sklearn.model_selection import train_test_split\n",
    "from sklearn.metrics import confusion_matrix\n",
    "\n",
    "# Compute confusion matrix\n",
    "cm = confusion_matrix(y_test, predict_classes)\n",
    "np.set_printoptions(precision=2)\n",
    "\n",
    "# Normalize the confusion matrix by row (i.e by the number of samples\n",
    "# in each class)\n",
    "cm_normalized = cm.astype('float') / cm.sum(axis=1)[:, np.newaxis]\n",
    "print('Normalized confusion matrix')\n",
    "print(cm_normalized)\n",
    "plt.figure()\n",
    "plot_confusion_matrix(cm_normalized, products, \n",
    "        title='Normalized confusion matrix')\n",
    "\n",
    "plt.show()"
   ]
  }
 ],
 "metadata": {
  "anaconda-cloud": {},
  "colab": {
   "collapsed_sections": [],
   "provenance": []
  },
  "kernelspec": {
   "display_name": "Python 3 (ipykernel)",
   "language": "python",
   "name": "python3"
  },
  "language_info": {
   "codemirror_mode": {
    "name": "ipython",
    "version": 3
   },
   "file_extension": ".py",
   "mimetype": "text/x-python",
   "name": "python",
   "nbconvert_exporter": "python",
   "pygments_lexer": "ipython3",
   "version": "3.9.16"
  },
  "varInspector": {
   "cols": {
    "lenName": 16,
    "lenType": 16,
    "lenVar": 40
   },
   "kernels_config": {
    "python": {
     "delete_cmd_postfix": "",
     "delete_cmd_prefix": "del ",
     "library": "var_list.py",
     "varRefreshCmd": "print(var_dic_list())"
    },
    "r": {
     "delete_cmd_postfix": ") ",
     "delete_cmd_prefix": "rm(",
     "library": "var_list.r",
     "varRefreshCmd": "cat(var_dic_list()) "
    }
   },
   "types_to_exclude": [
    "module",
    "function",
    "builtin_function_or_method",
    "instance",
    "_Feature"
   ],
   "window_display": false
  }
 },
 "nbformat": 4,
 "nbformat_minor": 1
}
