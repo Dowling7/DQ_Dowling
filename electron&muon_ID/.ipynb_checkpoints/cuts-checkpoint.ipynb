{
 "cells": [
  {
   "cell_type": "code",
   "execution_count": null,
   "id": "8f1cd72a",
   "metadata": {},
   "outputs": [],
   "source": [
    "import dwong"
   ]
  },
  {
   "cell_type": "code",
   "execution_count": null,
   "id": "7c0df238",
   "metadata": {},
   "outputs": [],
   "source": [
    "dwong.os.chdir(\"/Users/wongdowling/Desktop/DQ_Dowling/ntuple_1000\")\n",
    "#wid=dwong.gen_wid(dwong.evt_1000[\"muon\"])\n",
    "wew=dwong.gen_wew(dwong.evt_1000[\"pi0\"])\n",
    "wew_x_electron=[1.2, 2.8]\n",
    "wew_x=wew\n",
    "dwong.count(wew_x, wew_x_electron[0], wew_x_electron[1])"
   ]
  },
  {
   "cell_type": "code",
   "execution_count": 7,
   "id": "269fd696",
   "metadata": {},
   "outputs": [],
   "source": [
    "dwong.os.chdir(\"/Users/wongdowling/Desktop/DQ_Dowling/ntuple_1000\")\n",
    "output=dwong.matchup(dwong.evt_1000[\"electron\"])"
   ]
  },
  {
   "cell_type": "code",
   "execution_count": 18,
   "id": "0e37e179",
   "metadata": {},
   "outputs": [],
   "source": [
    "import awkward as ak\n"
   ]
  },
  {
   "cell_type": "code",
   "execution_count": 25,
   "id": "05b5a4f8",
   "metadata": {},
   "outputs": [
    {
     "data": {
      "text/plain": [
       "0"
      ]
     },
     "execution_count": 25,
     "metadata": {},
     "output_type": "execute_result"
    }
   ],
   "source": [
    "dwong.os.chdir(\"/Users/wongdowling/Desktop/DQ_Dowling/ntuple_1000\")\n",
    "output=dwong.matchup(dwong.evt_1000[\"klong\"])\n",
    "x=ak.flatten(output[0], axis=None)\n",
    "y=ak.flatten(output[1], axis=None)\n",
    "diff=[0,5]\n",
    "count(x, diff[0], diff[1])\n",
    "count(y, diff[0], diff[1])"
   ]
  },
  {
   "cell_type": "code",
   "execution_count": null,
   "id": "b1ba51f6",
   "metadata": {},
   "outputs": [],
   "source": []
  }
 ],
 "metadata": {
  "kernelspec": {
   "display_name": "Python 3 (ipykernel)",
   "language": "python",
   "name": "python3"
  },
  "language_info": {
   "codemirror_mode": {
    "name": "ipython",
    "version": 3
   },
   "file_extension": ".py",
   "mimetype": "text/x-python",
   "name": "python",
   "nbconvert_exporter": "python",
   "pygments_lexer": "ipython3",
   "version": "3.9.16"
  }
 },
 "nbformat": 4,
 "nbformat_minor": 5
}
