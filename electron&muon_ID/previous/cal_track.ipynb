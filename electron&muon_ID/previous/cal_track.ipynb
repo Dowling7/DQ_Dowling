{
 "cells": [
  {
   "cell_type": "code",
   "execution_count": 33,
   "id": "0d801d6a",
   "metadata": {},
   "outputs": [],
   "source": [
    "import csv#save and read data\n",
    "from tqdm import tqdm#progress bar\n",
    "import uproot3 as uproot\n",
    "import uproot as uproot4\n",
    "import numpy as np\n",
    "import numba\n",
    "import awkward as ak\n",
    "import matplotlib.pyplot as plt\n",
    "from matplotlib import cm\n",
    "from matplotlib.ticker import LinearLocator, FormatStrFormatter\n",
    "from matplotlib import rcParams\n",
    "import mplhep as hep\n",
    "plt.style.use(hep.style.ROOT)\n",
    "import os,sys\n",
    "import pandas as pd\n",
    "from scipy.stats import halfnorm\n",
    "from sklearn.cluster import KMeans\n",
    "import random\n",
    "from scipy.stats import binned_statistic\n",
    "from scipy.stats import binned_statistic_2d\n",
    "from scipy.optimize import curve_fit\n",
    "from scipy.stats import crystalball\n",
    "from lmfit import Model\n",
    "import copy\n",
    "import math\n",
    "from scipy.stats import halfnorm\n",
    "from sklearn.cluster import KMeans#clustering\n",
    "from sklearn.cluster import Birch#clustering\n",
    "from sklearn.mixture import GaussianMixture#clustering\n",
    "from sklearn.cluster import DBSCAN#clustering\n",
    "from scipy.stats import binned_statistic"
   ]
  },
  {
   "cell_type": "code",
   "execution_count": 35,
   "id": "d3d328ee",
   "metadata": {},
   "outputs": [],
   "source": [
    "# Process Data\n",
    "def getData(fname=\"\", procName=\"Events\"):\n",
    "    kn_dict_ak = uproot.open(fname)[\"Events\"].arrays()\n",
    "    kn_events = ak.zip({\"Electrons\":ak.zip({\n",
    "                                            \"ge\":      kn_dict_ak[\"ge\"],\n",
    "                                            \"gvx\":      kn_dict_ak[\"gvx\"],\n",
    "                                            \"gvy\":      kn_dict_ak[\"gvy\"],\n",
    "                                            \"gvz\":      kn_dict_ak[\"gvz\"],\n",
    "                                            \"gpx\":      kn_dict_ak[\"gpx\"],\n",
    "                                            \"gpy\":      kn_dict_ak[\"gpy\"],\n",
    "                                            \"gpz\":      kn_dict_ak[\"gpz\"],\n",
    "                                        }),\n",
    "                        \"Hits\":ak.zip({\n",
    "                                      \"detID\":   kn_dict_ak[\"hit_detID\"],\n",
    "                                      \"edep\":    kn_dict_ak[\"hit_edep\"],\n",
    "                                      \"elmID\":   kn_dict_ak[\"hit_elmID\"],\n",
    "                                      \"truthx\":  kn_dict_ak[\"hit_truthx\"],\n",
    "                                      \"truthy\":  kn_dict_ak[\"hit_truthy\"],\n",
    "                                      \"truthz\":  kn_dict_ak[\"hit_truthz\"],\n",
    "                                      \"hit_pos\":  kn_dict_ak[\"hit_pos\"],\n",
    "                                      }),\n",
    "                        \"St23_Tracklet\":ak.zip({\n",
    "                                        \"st23tracklet_x_st1\":   kn_dict_ak[\"st23tracklet_x_st1\"],\n",
    "                                        \"st23tracklet_x_st3\":   kn_dict_ak[\"st23tracklet_x_st3\"],\n",
    "                                        \"st23tracklet_y_st1\":   kn_dict_ak[\"st23tracklet_y_st1\"],\n",
    "                                        \"st23tracklet_y_st3\":   kn_dict_ak[\"st23tracklet_y_st3\"],\n",
    "                                        }),\n",
    "                        \"track\":ak.zip({\n",
    "                                      \"x\":   kn_dict_ak[\"track_x_CAL\"],\n",
    "                                      \"y\":    kn_dict_ak[\"track_y_CAL\"],\n",
    "                                      \"ID\":    kn_dict_ak[\"eventID\"],\n",
    "                            \n",
    "                                      }),\n",
    "                       }, depth_limit=1)\n",
    "    return kn_events"
   ]
  },
  {
   "cell_type": "code",
   "execution_count": 3,
   "id": "dde02188",
   "metadata": {},
   "outputs": [],
   "source": [
    "def emcal_simhit_selection(arr):\n",
    "    mask = (arr.detID == 100)\n",
    "    return mask\n",
    "\n",
    "def emcal_simhit_selection_energy(arr, e):\n",
    "    mask = (arr.edep >= e)\n",
    "    return mask\n",
    "\n",
    "def h2_selection(arr):\n",
    "    mask = (arr.detID >= 35) & (arr.detID <= 38)\n",
    "    return mask\n",
    "\n",
    "def st2_selection(arr):\n",
    "    mask = (arr.detID >= 13) & (arr.detID <= 18)\n",
    "    return mask\n",
    "\n",
    "def st3_selection(arr):\n",
    "    mask = (arr.detID >= 19) & (arr.detID <= 30)\n",
    "    return mask\n",
    "\n",
    "def h4_selection(arr):\n",
    "    mask = (arr.detID >= 41) & (arr.detID <= 46)\n",
    "    return mask"
   ]
  },
  {
   "cell_type": "code",
   "execution_count": 4,
   "id": "1a972d53",
   "metadata": {},
   "outputs": [],
   "source": [
    "ntowersx=72\n",
    "ntowersy=36\n",
    "sizex=5.53 # in cm\n",
    "sizey=5.53 # in cm\n",
    "ecalx=[-200,200] #size in cm\n",
    "ecaly=[-100,100]\n",
    "binsx=ecalx[1]- ecalx[0]\n",
    "binsy=ecaly[1]- ecaly[0]\n",
    "sfc = 0.1146337964120158 #sampling fraction of emcal\n",
    "emin=0.0005"
   ]
  },
  {
   "cell_type": "code",
   "execution_count": 5,
   "id": "5d6c5ba4",
   "metadata": {},
   "outputs": [],
   "source": [
    "def emcal_bytuple(file):\n",
    "    dq_events = getData(file,\"Events\")\n",
    "    x_pos = []#designed to be 2D\n",
    "    y_pos = []#designed to be 2D\n",
    "    eve_energy = []#designed to be 2D\n",
    "    for i in range(len(dq_events[:][\"Hits\"].edep)):\n",
    "        output=emcal_byevent(dq_events, i)\n",
    "        if(len(output[0])!=0):\n",
    "            x_pos.append(output[0])\n",
    "            y_pos.append(output[1])\n",
    "            eve_energy.append(output[2])\n",
    "    return x_pos, y_pos, eve_energy"
   ]
  },
  {
   "cell_type": "code",
   "execution_count": 6,
   "id": "a1c11d4b",
   "metadata": {},
   "outputs": [],
   "source": [
    "def emcal_byevent(dq_events,evtNum):\n",
    "    dq_hits = dq_events[evtNum][\"Hits\"]\n",
    "    # select emcal hits\n",
    "    emcal_mask = emcal_simhit_selection(dq_hits)\n",
    "    emcal_hits = dq_hits[emcal_mask]\n",
    "    emcal_energy_mask = emcal_simhit_selection_energy(emcal_hits, emin)\n",
    "    emcal_hits = emcal_hits[emcal_energy_mask]\n",
    "    #convert into coordinates and energy_dp\n",
    "    emcal_towerx = emcal_hits.elmID//ntowersy\n",
    "    emcal_towery = emcal_hits.elmID%ntowersy\n",
    "    emcal_x = ecalx[0]+emcal_towerx*sizex\n",
    "    emcal_y = ecaly[0]+emcal_towery*sizey\n",
    "    emcal_edep = emcal_hits.edep/sfc\n",
    "    return emcal_x, emcal_y, emcal_edep"
   ]
  },
  {
   "cell_type": "code",
   "execution_count": 7,
   "id": "32b26c39",
   "metadata": {},
   "outputs": [],
   "source": [
    "def find_lead_clus(label, eve_num, eng_eve):\n",
    "    count=[0]*(len(np.unique(label)))\n",
    "    for i in range(len(label)):\n",
    "        count[label[i]]+=eng_eve[eve_num][i]\n",
    "    return np.argmax(count)"
   ]
  },
  {
   "cell_type": "code",
   "execution_count": 8,
   "id": "4ffbc736",
   "metadata": {},
   "outputs": [],
   "source": [
    "def Clustering_tuple(file):\n",
    "    output=emcal_bytuple(file)\n",
    "    x_eve=output[0]\n",
    "    y_eve=output[1]\n",
    "    eng_eve=output[2]\n",
    "    labels=[]#2D, for all hits\n",
    "    lead_nums=[]#for each event\n",
    "    for i in range(len(eng_eve)):\n",
    "        coordinate=np.column_stack((x_eve[i],y_eve[i]))\n",
    "        brc = Birch(threshold=20, n_clusters=None)#maximum radius of a cluster is 20, no limit on how much clusters\n",
    "        brc.fit(coordinate)\n",
    "        label=brc.predict(coordinate)\n",
    "        labels.append(label)\n",
    "        lead_nums.append(find_lead_clus(label, i, eng_eve))\n",
    "    return labels, lead_nums, x_eve, y_eve, eng_eve"
   ]
  },
  {
   "cell_type": "code",
   "execution_count": 9,
   "id": "562c4cb9",
   "metadata": {},
   "outputs": [],
   "source": [
    "def find_coord(file):\n",
    "    output=Clustering_tuple(file)\n",
    "    labels=output[0]\n",
    "    lead_nums=output[1]\n",
    "    x_eve=output[2]\n",
    "    y_eve=output[3]\n",
    "    eng_eve=output[4]\n",
    "    new_x=[]\n",
    "    new_y=[]\n",
    "    new_eng=[]\n",
    "    for i in range(len(lead_nums)):\n",
    "        x_1d=[]\n",
    "        y_1d=[]\n",
    "        eng_1d=[]\n",
    "        for j, k in enumerate(labels[i]):\n",
    "            if (k==lead_nums[i]):\n",
    "                x_1d.append(x_eve[i][j])\n",
    "                y_1d.append(y_eve[i][j])\n",
    "                eng_1d.append(eng_eve[i][j])\n",
    "        new_x.append(x_1d)\n",
    "        new_y.append(y_1d)\n",
    "        new_eng.append(eng_1d)\n",
    "    return new_x, new_y, new_eng"
   ]
  },
  {
   "cell_type": "code",
   "execution_count": 10,
   "id": "51cc048c",
   "metadata": {},
   "outputs": [],
   "source": [
    "def gen_center(file):\n",
    "    output=find_coord(file)\n",
    "    x_eve=output[0]\n",
    "    y_eve=output[1]\n",
    "    eng_eve=output[2]\n",
    "    wew_x = []\n",
    "    wew_y = []\n",
    "    wid_x = []\n",
    "    wid_y = []\n",
    "    for i in range(len(eng_eve)):\n",
    "        eng_tot=sum(eng_eve[i])\n",
    "        wew_x.append(np.dot(x_eve[i], eng_eve[i])/eng_tot)\n",
    "        wew_y.append(np.dot(y_eve[i], eng_eve[i])/eng_tot)\n",
    "        try:wid_x.append(sum(x_eve[i])/len(x_eve[i]))\n",
    "        except: wid_x.append([])\n",
    "        try:wid_y.append(sum(y_eve[i])/len(y_eve[i]))\n",
    "        except: wid_y.append([])\n",
    "    return wew_x, wew_y, wid_x, wid_y\n",
    "            "
   ]
  },
  {
   "cell_type": "code",
   "execution_count": 11,
   "id": "f8491421",
   "metadata": {},
   "outputs": [],
   "source": [
    "def track_bytuple(file):\n",
    "    track_x = []\n",
    "    track_y = []\n",
    "    dq_events = getData(file,\"Events\")\n",
    "    evtID = dq_events[\"track\"].ID\n",
    "    for evtNum in range (len(evtID)):\n",
    "        dq_track = dq_events[evtNum]['track']\n",
    "        track_x.append(dq_track.x)\n",
    "        track_y.append(dq_track.y)\n",
    "    return track_x, track_y"
   ]
  },
  {
   "cell_type": "code",
   "execution_count": 12,
   "id": "72bfa042",
   "metadata": {},
   "outputs": [],
   "source": [
    "def matchup(file):\n",
    "    output1 = gen_center(file)\n",
    "    output2 = track_bytuple(file)\n",
    "    wew_x = output1[0]\n",
    "    wew_y = output1[1]\n",
    "    wid_x = output1[2]\n",
    "    wid_y = output1[3]\n",
    "    track_x = output2[0]\n",
    "    track_y = output2[1]\n",
    "    hist = []\n",
    "    diff_x = []\n",
    "    diff_y = []\n",
    "    for i in range(len(track_x)):\n",
    "        diff_x.append(track_x[i]-wew_x[i])\n",
    "        diff_y.append(track_y[i]-wew_y[i])\n",
    "    diff_x = ak.flatten(diff_x)\n",
    "    diff_y = ak.flatten(diff_y)\n",
    "    return diff_x, diff_y"
   ]
  },
  {
   "cell_type": "code",
   "execution_count": 13,
   "id": "c0c9086e",
   "metadata": {},
   "outputs": [],
   "source": [
    "def track_match(file):\n",
    "    input=file.split('_')\n",
    "    output= matchup(file)\n",
    "    diff_x = ak.to_list(output[0])\n",
    "    diff_y = ak.to_list(output[1])\n",
    "    fig, ax = plt.subplots()\n",
    "    h = ax.hist2d(diff_x, diff_y, bins=(100, 100), range = [(-20,20), (-20,20)],density=False, cmap=plt.cm.jet)\n",
    "    fig.colorbar(h[3], ax=ax)\n",
    "    plt.xlabel('difference in x')\n",
    "    plt.ylabel('difference in y')\n",
    "    plt.title('track center-EW center for %s'%input[0])\n",
    "    plt.savefig(\"Difference EW&track %s @%s\"%(input[0],input[1]))\n",
    "    plt.show()\n",
    "    \n"
   ]
  },
  {
   "cell_type": "code",
   "execution_count": 14,
   "id": "97db9709",
   "metadata": {},
   "outputs": [],
   "source": [
    "def EnergyCluster(file):\n",
    "    input=file.split('_')\n",
    "    engclus=find_coord(file)[2]\n",
    "    engevt=[]\n",
    "    for i in engclus:\n",
    "        engevt.append(sum(i))\n",
    "    plt.hist(engevt, bins=120, range=(0,120), histtype='step', density=False, color=\"blue\")\n",
    "    plt.title('Energy distribution of leading cluster for %s'%input[0])\n",
    "    plt.ylabel(\"Fraction\")\n",
    "    plt.xlabel(\"Total energy of leading cluster [GeV]\")\n",
    "    plt.savefig(\"Energy distribution for %s\"%input[0])\n",
    "    plt.show()"
   ]
  },
  {
   "cell_type": "code",
   "execution_count": 36,
   "id": "d1dc2722",
   "metadata": {},
   "outputs": [
    {
     "ename": "AttributeError",
     "evalue": "module 'awkward' has no attribute 'from_awkward0'",
     "output_type": "error",
     "traceback": [
      "\u001b[0;31m---------------------------------------------------------------------------\u001b[0m",
      "\u001b[0;31mAttributeError\u001b[0m                            Traceback (most recent call last)",
      "Cell \u001b[0;32mIn[36], line 1\u001b[0m\n\u001b[0;32m----> 1\u001b[0m \u001b[43mEnergyCluster\u001b[49m\u001b[43m(\u001b[49m\u001b[38;5;124;43m\"\u001b[39;49m\u001b[38;5;124;43m/Users/wongdowling/Desktop/DQ_Dowling/ntuple_1000/muon_520_1000eve.root\u001b[39;49m\u001b[38;5;124;43m\"\u001b[39;49m\u001b[43m)\u001b[49m\n",
      "Cell \u001b[0;32mIn[14], line 3\u001b[0m, in \u001b[0;36mEnergyCluster\u001b[0;34m(file)\u001b[0m\n\u001b[1;32m      1\u001b[0m \u001b[38;5;28;01mdef\u001b[39;00m \u001b[38;5;21mEnergyCluster\u001b[39m(file):\n\u001b[1;32m      2\u001b[0m     \u001b[38;5;28minput\u001b[39m\u001b[38;5;241m=\u001b[39mfile\u001b[38;5;241m.\u001b[39msplit(\u001b[38;5;124m'\u001b[39m\u001b[38;5;124m_\u001b[39m\u001b[38;5;124m'\u001b[39m)\n\u001b[0;32m----> 3\u001b[0m     engclus\u001b[38;5;241m=\u001b[39m\u001b[43mfind_coord\u001b[49m\u001b[43m(\u001b[49m\u001b[43mfile\u001b[49m\u001b[43m)\u001b[49m[\u001b[38;5;241m2\u001b[39m]\n\u001b[1;32m      4\u001b[0m     engevt\u001b[38;5;241m=\u001b[39m[]\n\u001b[1;32m      5\u001b[0m     \u001b[38;5;28;01mfor\u001b[39;00m i \u001b[38;5;129;01min\u001b[39;00m engclus:\n",
      "Cell \u001b[0;32mIn[9], line 2\u001b[0m, in \u001b[0;36mfind_coord\u001b[0;34m(file)\u001b[0m\n\u001b[1;32m      1\u001b[0m \u001b[38;5;28;01mdef\u001b[39;00m \u001b[38;5;21mfind_coord\u001b[39m(file):\n\u001b[0;32m----> 2\u001b[0m     output\u001b[38;5;241m=\u001b[39m\u001b[43mClustering_tuple\u001b[49m\u001b[43m(\u001b[49m\u001b[43mfile\u001b[49m\u001b[43m)\u001b[49m\n\u001b[1;32m      3\u001b[0m     labels\u001b[38;5;241m=\u001b[39moutput[\u001b[38;5;241m0\u001b[39m]\n\u001b[1;32m      4\u001b[0m     lead_nums\u001b[38;5;241m=\u001b[39moutput[\u001b[38;5;241m1\u001b[39m]\n",
      "Cell \u001b[0;32mIn[8], line 2\u001b[0m, in \u001b[0;36mClustering_tuple\u001b[0;34m(file)\u001b[0m\n\u001b[1;32m      1\u001b[0m \u001b[38;5;28;01mdef\u001b[39;00m \u001b[38;5;21mClustering_tuple\u001b[39m(file):\n\u001b[0;32m----> 2\u001b[0m     output\u001b[38;5;241m=\u001b[39m\u001b[43memcal_bytuple\u001b[49m\u001b[43m(\u001b[49m\u001b[43mfile\u001b[49m\u001b[43m)\u001b[49m\n\u001b[1;32m      3\u001b[0m     x_eve\u001b[38;5;241m=\u001b[39moutput[\u001b[38;5;241m0\u001b[39m]\n\u001b[1;32m      4\u001b[0m     y_eve\u001b[38;5;241m=\u001b[39moutput[\u001b[38;5;241m1\u001b[39m]\n",
      "Cell \u001b[0;32mIn[5], line 2\u001b[0m, in \u001b[0;36memcal_bytuple\u001b[0;34m(file)\u001b[0m\n\u001b[1;32m      1\u001b[0m \u001b[38;5;28;01mdef\u001b[39;00m \u001b[38;5;21memcal_bytuple\u001b[39m(file):\n\u001b[0;32m----> 2\u001b[0m     dq_events \u001b[38;5;241m=\u001b[39m \u001b[43mgetData\u001b[49m\u001b[43m(\u001b[49m\u001b[43mfile\u001b[49m\u001b[43m,\u001b[49m\u001b[38;5;124;43m\"\u001b[39;49m\u001b[38;5;124;43mEvents\u001b[39;49m\u001b[38;5;124;43m\"\u001b[39;49m\u001b[43m)\u001b[49m\n\u001b[1;32m      3\u001b[0m     x_pos \u001b[38;5;241m=\u001b[39m []\u001b[38;5;66;03m#designed to be 2D\u001b[39;00m\n\u001b[1;32m      4\u001b[0m     y_pos \u001b[38;5;241m=\u001b[39m []\u001b[38;5;66;03m#designed to be 2D\u001b[39;00m\n",
      "Cell \u001b[0;32mIn[35], line 4\u001b[0m, in \u001b[0;36mgetData\u001b[0;34m(fname, procName)\u001b[0m\n\u001b[1;32m      2\u001b[0m \u001b[38;5;28;01mdef\u001b[39;00m \u001b[38;5;21mgetData\u001b[39m(fname\u001b[38;5;241m=\u001b[39m\u001b[38;5;124m\"\u001b[39m\u001b[38;5;124m\"\u001b[39m, procName\u001b[38;5;241m=\u001b[39m\u001b[38;5;124m\"\u001b[39m\u001b[38;5;124mEvents\u001b[39m\u001b[38;5;124m\"\u001b[39m):\n\u001b[1;32m      3\u001b[0m     kn_dict \u001b[38;5;241m=\u001b[39m uproot\u001b[38;5;241m.\u001b[39mopen(fname)[\u001b[38;5;124m\"\u001b[39m\u001b[38;5;124mEvents\u001b[39m\u001b[38;5;124m\"\u001b[39m]\u001b[38;5;241m.\u001b[39marrays()\n\u001b[0;32m----> 4\u001b[0m     kn_dict_ak1 \u001b[38;5;241m=\u001b[39m {name\u001b[38;5;241m.\u001b[39mdecode(): ak\u001b[38;5;241m.\u001b[39mfrom_awkward0(array) \u001b[38;5;28;01mfor\u001b[39;00m name, array \u001b[38;5;129;01min\u001b[39;00m kn_dict\u001b[38;5;241m.\u001b[39mitems()}\n\u001b[1;32m      5\u001b[0m     kn_events \u001b[38;5;241m=\u001b[39m ak\u001b[38;5;241m.\u001b[39mzip({\u001b[38;5;124m\"\u001b[39m\u001b[38;5;124mTracks\u001b[39m\u001b[38;5;124m\"\u001b[39m:ak\u001b[38;5;241m.\u001b[39mzip({\n\u001b[1;32m      6\u001b[0m                                         \u001b[38;5;124m\"\u001b[39m\u001b[38;5;124mn_tracks\u001b[39m\u001b[38;5;124m\"\u001b[39m:   kn_dict_ak1[\u001b[38;5;124m\"\u001b[39m\u001b[38;5;124mn_tracks\u001b[39m\u001b[38;5;124m\"\u001b[39m],\n\u001b[1;32m      7\u001b[0m                                         \u001b[38;5;124m\"\u001b[39m\u001b[38;5;124mtrack_x_st3\u001b[39m\u001b[38;5;124m\"\u001b[39m:   kn_dict_ak1[\u001b[38;5;124m\"\u001b[39m\u001b[38;5;124mtrack_x_st3\u001b[39m\u001b[38;5;124m\"\u001b[39m],\n\u001b[0;32m   (...)\u001b[0m\n\u001b[1;32m     34\u001b[0m                                         }),\n\u001b[1;32m     35\u001b[0m                        }, depth_limit\u001b[38;5;241m=\u001b[39m\u001b[38;5;241m1\u001b[39m)\n\u001b[1;32m     36\u001b[0m     \u001b[38;5;28;01mreturn\u001b[39;00m kn_events\n",
      "Cell \u001b[0;32mIn[35], line 4\u001b[0m, in \u001b[0;36m<dictcomp>\u001b[0;34m(.0)\u001b[0m\n\u001b[1;32m      2\u001b[0m \u001b[38;5;28;01mdef\u001b[39;00m \u001b[38;5;21mgetData\u001b[39m(fname\u001b[38;5;241m=\u001b[39m\u001b[38;5;124m\"\u001b[39m\u001b[38;5;124m\"\u001b[39m, procName\u001b[38;5;241m=\u001b[39m\u001b[38;5;124m\"\u001b[39m\u001b[38;5;124mEvents\u001b[39m\u001b[38;5;124m\"\u001b[39m):\n\u001b[1;32m      3\u001b[0m     kn_dict \u001b[38;5;241m=\u001b[39m uproot\u001b[38;5;241m.\u001b[39mopen(fname)[\u001b[38;5;124m\"\u001b[39m\u001b[38;5;124mEvents\u001b[39m\u001b[38;5;124m\"\u001b[39m]\u001b[38;5;241m.\u001b[39marrays()\n\u001b[0;32m----> 4\u001b[0m     kn_dict_ak1 \u001b[38;5;241m=\u001b[39m {name\u001b[38;5;241m.\u001b[39mdecode(): \u001b[43mak\u001b[49m\u001b[38;5;241;43m.\u001b[39;49m\u001b[43mfrom_awkward0\u001b[49m(array) \u001b[38;5;28;01mfor\u001b[39;00m name, array \u001b[38;5;129;01min\u001b[39;00m kn_dict\u001b[38;5;241m.\u001b[39mitems()}\n\u001b[1;32m      5\u001b[0m     kn_events \u001b[38;5;241m=\u001b[39m ak\u001b[38;5;241m.\u001b[39mzip({\u001b[38;5;124m\"\u001b[39m\u001b[38;5;124mTracks\u001b[39m\u001b[38;5;124m\"\u001b[39m:ak\u001b[38;5;241m.\u001b[39mzip({\n\u001b[1;32m      6\u001b[0m                                         \u001b[38;5;124m\"\u001b[39m\u001b[38;5;124mn_tracks\u001b[39m\u001b[38;5;124m\"\u001b[39m:   kn_dict_ak1[\u001b[38;5;124m\"\u001b[39m\u001b[38;5;124mn_tracks\u001b[39m\u001b[38;5;124m\"\u001b[39m],\n\u001b[1;32m      7\u001b[0m                                         \u001b[38;5;124m\"\u001b[39m\u001b[38;5;124mtrack_x_st3\u001b[39m\u001b[38;5;124m\"\u001b[39m:   kn_dict_ak1[\u001b[38;5;124m\"\u001b[39m\u001b[38;5;124mtrack_x_st3\u001b[39m\u001b[38;5;124m\"\u001b[39m],\n\u001b[0;32m   (...)\u001b[0m\n\u001b[1;32m     34\u001b[0m                                         }),\n\u001b[1;32m     35\u001b[0m                        }, depth_limit\u001b[38;5;241m=\u001b[39m\u001b[38;5;241m1\u001b[39m)\n\u001b[1;32m     36\u001b[0m     \u001b[38;5;28;01mreturn\u001b[39;00m kn_events\n",
      "\u001b[0;31mAttributeError\u001b[0m: module 'awkward' has no attribute 'from_awkward0'"
     ]
    }
   ],
   "source": [
    "EnergyCluster(\"/Users/wongdowling/Desktop/DQ_Dowling/ntuple_1000/muon_520_1000eve.root\")\n"
   ]
  },
  {
   "cell_type": "code",
   "execution_count": null,
   "id": "5eb44d7e",
   "metadata": {},
   "outputs": [],
   "source": [
    "engclus=find_coord(files[2])[2]\n",
    "print(engclus)"
   ]
  },
  {
   "cell_type": "code",
   "execution_count": 69,
   "id": "4b4c1855",
   "metadata": {},
   "outputs": [],
   "source": [
    "def EngDiffLayers(file):\n",
    "    #split leading clusters with their edep\n",
    "    interval=[0, 25, 50, 75, 105]# electron, photon, pi0, positron\n",
    "    interval2=[0, 15, 30, 45, 60]# kaon, pi+, pi-, proton\n",
    "    \n",
    "    "
   ]
  },
  {
   "cell_type": "code",
   "execution_count": 80,
   "id": "333fc434",
   "metadata": {},
   "outputs": [
    {
     "name": "stdout",
     "output_type": "stream",
     "text": [
      "529\n"
     ]
    }
   ],
   "source": [
    "out=Clustering_tuple(file)[2]\n",
    "print(len(out))"
   ]
  },
  {
   "cell_type": "code",
   "execution_count": null,
   "id": "791ea4d5",
   "metadata": {},
   "outputs": [],
   "source": []
  }
 ],
 "metadata": {
  "kernelspec": {
   "display_name": "Python 3 (ipykernel)",
   "language": "python",
   "name": "python3"
  },
  "language_info": {
   "codemirror_mode": {
    "name": "ipython",
    "version": 3
   },
   "file_extension": ".py",
   "mimetype": "text/x-python",
   "name": "python",
   "nbconvert_exporter": "python",
   "pygments_lexer": "ipython3",
   "version": "3.9.16"
  }
 },
 "nbformat": 4,
 "nbformat_minor": 5
}
