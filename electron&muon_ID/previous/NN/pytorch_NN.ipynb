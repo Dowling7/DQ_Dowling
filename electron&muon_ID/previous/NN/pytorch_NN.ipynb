{
 "cells": [
  {
   "cell_type": "code",
   "execution_count": 30,
   "id": "4f4cfc13",
   "metadata": {},
   "outputs": [],
   "source": [
    "from sklearn.datasets import make_classification\n",
    "X, Y = make_classification(\n",
    "  n_samples=100, n_features=4, n_redundant=0,\n",
    "  n_informative=3,  n_clusters_per_class=2, n_classes=3\n",
    ")#This is to generate the data"
   ]
  },
  {
   "cell_type": "code",
   "execution_count": 31,
   "id": "57ede03d",
   "metadata": {},
   "outputs": [
    {
     "name": "stdout",
     "output_type": "stream",
     "text": [
      "100 100\n"
     ]
    }
   ],
   "source": [
    "#print(X,Y)#so X is the data and Y is the label.\n",
    "print(len(X),len(Y))"
   ]
  },
  {
   "cell_type": "code",
   "execution_count": 32,
   "id": "b391af82",
   "metadata": {},
   "outputs": [],
   "source": [
    "from sklearn.model_selection import train_test_split\n",
    "X_train, X_test, Y_train, Y_test = train_test_split(\n",
    "  X, Y, test_size=0.33, random_state=42)"
   ]
  },
  {
   "cell_type": "code",
   "execution_count": 33,
   "id": "68b40cda",
   "metadata": {},
   "outputs": [],
   "source": [
    "import numpy as np\n",
    "import torch\n",
    "from torch.utils.data import Dataset, DataLoader\n",
    "class Data(Dataset):\n",
    "    def __init__(self, X_train, y_train):\n",
    "    # need to convert float64 to float32 else \n",
    "    # will get the following error\n",
    "    # RuntimeError: expected scalar type Double but found Float\n",
    "        self.X = torch.from_numpy(X_train.astype(np.float32))\n",
    "    # need to convert float64 to Long else \n",
    "    # will get the following error\n",
    "    # RuntimeError: expected scalar type Long but found Float\n",
    "        self.y = torch.from_numpy(y_train).type(torch.LongTensor)\n",
    "        self.len = self.X.shape[0]\n",
    "  \n",
    "    def __getitem__(self, index):\n",
    "        return self.X[index], self.y[index]\n",
    "    def __len__(self):\n",
    "        return self.len"
   ]
  },
  {
   "cell_type": "code",
   "execution_count": 34,
   "id": "6c5bd77d",
   "metadata": {},
   "outputs": [],
   "source": [
    "traindata = Data(X_train, Y_train)"
   ]
  },
  {
   "cell_type": "code",
   "execution_count": 53,
   "id": "d170202d",
   "metadata": {},
   "outputs": [
    {
     "name": "stdout",
     "output_type": "stream",
     "text": [
      "(tensor([[ 2.4495, -0.7271, -0.6518, -1.2514],\n",
      "        [ 0.5928, -0.8193, -1.6907, -1.2532],\n",
      "        [ 2.7793, -2.3289,  1.2482, -0.3264],\n",
      "        [-1.0350, -0.0695,  0.4478,  0.6540],\n",
      "        [-0.5648,  1.1119,  0.4620, -1.6004],\n",
      "        [ 2.4732, -0.2942, -0.7508, -1.9410],\n",
      "        [ 0.3064,  1.8329, -0.9883,  1.6277],\n",
      "        [ 0.2584,  2.3067, -0.1299,  1.7404],\n",
      "        [-0.1217,  2.2558,  0.5328, -2.6542]]), tensor([0, 0, 1, 2, 2, 0, 1, 1, 0]))\n"
     ]
    }
   ],
   "source": [
    "print(traindata[25:34])\n"
   ]
  },
  {
   "cell_type": "code",
   "execution_count": 36,
   "id": "c4b49921",
   "metadata": {},
   "outputs": [],
   "source": [
    "batch_size = 4\n",
    "trainloader = DataLoader(traindata, batch_size=batch_size, \n",
    "                         shuffle=True)#num_workers is for parallel loading, caused problem\n",
    "#RuntimeError: DataLoader worker (pid(s) 45243, 45244) exited unexpectedly"
   ]
  },
  {
   "cell_type": "code",
   "execution_count": 37,
   "id": "cf83d8ef",
   "metadata": {},
   "outputs": [],
   "source": [
    "import torch.nn as nn\n",
    "# number of features (len of X cols)\n",
    "input_dim = 4\n",
    "# number of hidden layers\n",
    "hidden_layers = 25\n",
    "# number of classes (unique of y)\n",
    "output_dim = 3\n",
    "class Network(nn.Module):\n",
    "    def __init__(self):\n",
    "        super(Network, self).__init__()\n",
    "        self.linear1 = nn.Linear(input_dim, hidden_layers)\n",
    "        self.linear2 = nn.Linear(hidden_layers, output_dim)\n",
    "    def forward(self, x):\n",
    "        x = torch.sigmoid(self.linear1(x))\n",
    "        x = self.linear2(x)\n",
    "        return x"
   ]
  },
  {
   "cell_type": "code",
   "execution_count": 38,
   "id": "c00930f0",
   "metadata": {},
   "outputs": [],
   "source": [
    "clf = Network()\n",
    "#print(clf.parameters)"
   ]
  },
  {
   "cell_type": "code",
   "execution_count": 39,
   "id": "bee5ce28",
   "metadata": {},
   "outputs": [],
   "source": [
    "criterion = nn.CrossEntropyLoss()\n",
    "optimizer = torch.optim.SGD(clf.parameters(), lr=0.1)"
   ]
  },
  {
   "cell_type": "code",
   "execution_count": 47,
   "id": "3b18fee4",
   "metadata": {},
   "outputs": [
    {
     "name": "stdout",
     "output_type": "stream",
     "text": [
      "[2,     1] loss: 0.00048\n",
      "[2,     2] loss: 0.00099\n",
      "[2,     3] loss: 0.00147\n",
      "[2,     4] loss: 0.00196\n",
      "[2,     5] loss: 0.00256\n",
      "[2,     6] loss: 0.00308\n",
      "[2,     7] loss: 0.00355\n",
      "[2,     8] loss: 0.00403\n",
      "[2,     9] loss: 0.00455\n",
      "[2,    10] loss: 0.00509\n",
      "[2,    11] loss: 0.00558\n",
      "[2,    12] loss: 0.00612\n",
      "[2,    13] loss: 0.00662\n",
      "[2,    14] loss: 0.00716\n",
      "[2,    15] loss: 0.00763\n",
      "[2,    16] loss: 0.00814\n",
      "[2,    17] loss: 0.00865\n"
     ]
    }
   ],
   "source": [
    "epochs = 2\n",
    "for epoch in range(epochs):\n",
    "    running_loss = 0.0\n",
    "for i, data in enumerate(trainloader, 0):\n",
    "    inputs, labels = data\n",
    "    # set optimizer to zero grad to remove previous epoch gradients\n",
    "    optimizer.zero_grad()\n",
    "    # forward propagation\n",
    "    outputs = clf(inputs)\n",
    "    loss = criterion(outputs, labels)\n",
    "    # backward propagation\n",
    "    loss.backward()\n",
    "    # optimize\n",
    "    optimizer.step()\n",
    "    running_loss += loss.item()\n",
    "  # display statistics\n",
    "    print(f'[{epoch + 1}, {i + 1:5d}] loss: {running_loss / 2000:.5f}')"
   ]
  },
  {
   "cell_type": "code",
   "execution_count": 48,
   "id": "7140da4e",
   "metadata": {},
   "outputs": [],
   "source": [
    "# save the trained model\n",
    "PATH = './mymodel.pth'\n",
    "torch.save(clf.state_dict(), PATH)"
   ]
  },
  {
   "cell_type": "code",
   "execution_count": 49,
   "id": "d39df05a",
   "metadata": {},
   "outputs": [
    {
     "data": {
      "text/plain": [
       "<All keys matched successfully>"
      ]
     },
     "execution_count": 49,
     "metadata": {},
     "output_type": "execute_result"
    }
   ],
   "source": [
    "clf = Network()\n",
    "clf.load_state_dict(torch.load(PATH))"
   ]
  },
  {
   "cell_type": "code",
   "execution_count": 50,
   "id": "74931cee",
   "metadata": {},
   "outputs": [
    {
     "name": "stdout",
     "output_type": "stream",
     "text": [
      "tensor([[ 0.5429, -0.5266, -0.8194, -1.9244],\n",
      "        [ 1.6707, -0.6434, -0.2873, -0.0788],\n",
      "        [ 1.5735,  3.0698,  0.1109, -3.2220],\n",
      "        [-0.4222,  1.3163,  1.4754, -2.0970]])\n",
      "tensor([0, 1, 0, 0])\n"
     ]
    }
   ],
   "source": [
    "testdata = Data(X_test, Y_test)\n",
    "testloader = DataLoader(testdata, batch_size=batch_size, \n",
    "                        shuffle=True)\n",
    "dataiter = iter(testloader)\n",
    "inputs, labels = next(dataiter)\n",
    "print(inputs)\n",
    "print(labels)"
   ]
  },
  {
   "cell_type": "code",
   "execution_count": 51,
   "id": "b7aff356",
   "metadata": {},
   "outputs": [
    {
     "name": "stdout",
     "output_type": "stream",
     "text": [
      "tensor([2, 1, 1, 2])\n"
     ]
    },
    {
     "data": {
      "text/plain": [
       "'\\n# Output\\ntensor([0, 0, 1, 0])\\n'"
      ]
     },
     "execution_count": 51,
     "metadata": {},
     "output_type": "execute_result"
    }
   ],
   "source": [
    "outputs = clf(inputs)\n",
    "__, predicted = torch.max(outputs, 1)\n",
    "print(predicted)\n",
    "'''\n",
    "# Output\n",
    "tensor([0, 0, 1, 0])\n",
    "'''"
   ]
  },
  {
   "cell_type": "code",
   "execution_count": 52,
   "id": "876204dd",
   "metadata": {},
   "outputs": [
    {
     "name": "stdout",
     "output_type": "stream",
     "text": [
      "Accuracy of the network on the 33 test data: 51 %\n"
     ]
    },
    {
     "data": {
      "text/plain": [
       "'\\n# Output\\nAccuracy of the network on the 33 test data: 75 %\\n'"
      ]
     },
     "execution_count": 52,
     "metadata": {},
     "output_type": "execute_result"
    }
   ],
   "source": [
    "correct, total = 0, 0\n",
    "# no need to calculate gradients during inference\n",
    "with torch.no_grad():\n",
    "    for data in testloader:\n",
    "        inputs, labels = data\n",
    "    # calculate output by running through the network\n",
    "        outputs = clf(inputs)\n",
    "    # get the predictions\n",
    "        __, predicted = torch.max(outputs.data, 1)\n",
    "    # update results\n",
    "        total += labels.size(0)\n",
    "        correct += (predicted == labels).sum().item()\n",
    "print(f'Accuracy of the network on the {len(testdata)} test data: {100 * correct // total} %')\n",
    "'''\n",
    "# Output\n",
    "Accuracy of the network on the 33 test data: 75 %\n",
    "'''"
   ]
  },
  {
   "cell_type": "code",
   "execution_count": null,
   "id": "92acc642",
   "metadata": {},
   "outputs": [],
   "source": []
  },
  {
   "cell_type": "code",
   "execution_count": null,
   "id": "a21551fd",
   "metadata": {},
   "outputs": [],
   "source": []
  },
  {
   "cell_type": "code",
   "execution_count": null,
   "id": "bdd6703e",
   "metadata": {},
   "outputs": [],
   "source": []
  },
  {
   "cell_type": "code",
   "execution_count": null,
   "id": "a52e0ed7",
   "metadata": {},
   "outputs": [],
   "source": []
  },
  {
   "cell_type": "code",
   "execution_count": null,
   "id": "e92fef0e",
   "metadata": {},
   "outputs": [],
   "source": []
  },
  {
   "cell_type": "code",
   "execution_count": null,
   "id": "a593b31d",
   "metadata": {},
   "outputs": [],
   "source": []
  },
  {
   "cell_type": "code",
   "execution_count": null,
   "id": "062e6e82",
   "metadata": {},
   "outputs": [],
   "source": []
  }
 ],
 "metadata": {
  "kernelspec": {
   "display_name": "Python 3 (ipykernel)",
   "language": "python",
   "name": "python3"
  },
  "language_info": {
   "codemirror_mode": {
    "name": "ipython",
    "version": 3
   },
   "file_extension": ".py",
   "mimetype": "text/x-python",
   "name": "python",
   "nbconvert_exporter": "python",
   "pygments_lexer": "ipython3",
   "version": "3.9.16"
  }
 },
 "nbformat": 4,
 "nbformat_minor": 5
}
