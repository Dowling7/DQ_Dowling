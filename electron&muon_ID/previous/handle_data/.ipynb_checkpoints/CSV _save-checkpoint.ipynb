{
 "cells": [
  {
   "cell_type": "code",
   "execution_count": 4,
   "id": "4e2774bd",
   "metadata": {},
   "outputs": [],
   "source": [
    "import dwong\n",
    "import csv\n",
    "import pandas as pd\n",
    "import numpy as np"
   ]
  },
  {
   "cell_type": "code",
   "execution_count": 5,
   "id": "910f6ec1",
   "metadata": {},
   "outputs": [],
   "source": [
    "def gen_csv():\n",
    "    dwong.os.chdir(\"/Users/wongdowling/Desktop/DQ_Dowling/ntuple_1000\")\n",
    "    types=[ \"electron\", \"muon\", \"pi+\", \"pi-\", \"pi0\", \"positron\", \"photon\", \"klong\"]#kaon only have 529/1000 EMCal info\n",
    "    out_path=\"/Users/wongdowling/Desktop/DQ_Dowling/electron/csv/\"\n",
    "    mergedT=[]\n",
    "    for item in types:\n",
    "        wew=dwong.gen_wew(dwong.evt_1000[item])\n",
    "        wid=dwong.gen_wid(dwong.evt_1000[item])\n",
    "        diff=dwong.matchup(dwong.evt_1000[item])\n",
    "        if (item==\"electron\" or item==\"positron\"):\n",
    "            mergedT.append(tuple(zip(tuple([1]*len(wew[0])), wew[0], wid[0], wew[1], wid[1])))\n",
    "        else:\n",
    "            mergedT.append(tuple(zip(np.zeros(len(wew[0])), wew[0], wid[0], wew[1], wid[1])))\n",
    "    flat=flatten(mergedT)\n",
    "    header=[\"label\",\"wew_x\", \"wew_y\", \"wid_x\", \"wid_y\"]\n",
    "    with open('%swew_wid.csv'%out_path, 'w', encoding='UTF8') as f1:\n",
    "        writer = csv.writer(f1)\n",
    "        writer.writerow(header)\n",
    "        writer.writerows(flat)\n",
    "    \n",
    "    "
   ]
  },
  {
   "cell_type": "code",
   "execution_count": 3,
   "id": "734ec5e5",
   "metadata": {},
   "outputs": [],
   "source": [
    "def wew_csv():\n",
    "    dwong.os.chdir(\"/Users/wongdowling/Desktop/DQ_Dowling/ntuple_1000\")\n",
    "    out_path=\"/Users/wongdowling/Desktop/DQ_Dowling/electron/csv/\"\n",
    "    types=[ \"electron\", \"muon\", \"pi+\", \"pi-\", \"pi0\", \"positron\", \"photon\"]#kaon only have 529 wew\n",
    "    wew_x=[]\n",
    "    wew_y=[]\n",
    "    for item in types:\n",
    "        wew=dwong.gen_wew(dwong.evt_1000[item])\n",
    "        wew_x.append(wew[0])\n",
    "        wew_y.append(wew[1])\n",
    "    with open('%swew_x.csv'%out_path, 'w', encoding='UTF8') as f1:\n",
    "        writer = csv.writer(f1)\n",
    "        writer.writerow(types)\n",
    "        writer.writerows([*zip(*wew_x)])\n",
    "        \n",
    "    with open('%swew_y.csv'%out_path, 'w', encoding='UTF8') as f2:\n",
    "        writer = csv.writer(f2)\n",
    "        writer.writerow(types)\n",
    "        writer.writerows([*zip(*wew_y)])\n",
    "    \n",
    "    "
   ]
  },
  {
   "cell_type": "code",
   "execution_count": 24,
   "id": "ec8f3303-a3f1-4601-ba81-2dbfce21567e",
   "metadata": {},
   "outputs": [],
   "source": [
    "def wid_csv():\n",
    "    dwong.os.chdir(\"/Users/wongdowling/Desktop/DQ_Dowling/ntuple_1000\")\n",
    "    out_path=\"/Users/wongdowling/Desktop/DQ_Dowling/electron/csv/\"\n",
    "    types=[ \"electron\", \"muon\", \"pi+\", \"pi-\", \"pi0\", \"positron\", \"photon\"]#kaon only have 529 wew\n",
    "    wid_x=[]\n",
    "    wid_y=[]\n",
    "    for item in types:\n",
    "        wid=dwong.gen_wid(dwong.evt_1000[item])\n",
    "        wid_x.append(wid[0])\n",
    "        wid_y.append(wid[1])\n",
    "    with open('%swid_x.csv'%out_path, 'w', encoding='UTF8') as f1:\n",
    "        writer = csv.writer(f1)\n",
    "        writer.writerow(types)\n",
    "        writer.writerows([*zip(*wid_x)])\n",
    "        \n",
    "    with open('%swid_y.csv'%out_path, 'w', encoding='UTF8') as f2:\n",
    "        writer = csv.writer(f2)\n",
    "        writer.writerow(types)\n",
    "        writer.writerows([*zip(*wid_y)])\n",
    "   "
   ]
  },
  {
   "cell_type": "code",
   "execution_count": 83,
   "id": "c7afb218",
   "metadata": {},
   "outputs": [],
   "source": [
    "data=pd.read_csv('%s%s_x.csv'%(out_path, name))"
   ]
  },
  {
   "cell_type": "code",
   "execution_count": 68,
   "id": "730f8686",
   "metadata": {},
   "outputs": [],
   "source": [
    "mergedT_x = tuple(zip(wew[0], wid[0], tuple(diff[0])))\n",
    "mergedT_y = tuple(zip(wew[1], wid[1], tuple(diff[1])))"
   ]
  },
  {
   "cell_type": "code",
   "execution_count": 20,
   "id": "da122143",
   "metadata": {},
   "outputs": [
    {
     "data": {
      "text/html": [
       "<div>\n",
       "<style scoped>\n",
       "    .dataframe tbody tr th:only-of-type {\n",
       "        vertical-align: middle;\n",
       "    }\n",
       "\n",
       "    .dataframe tbody tr th {\n",
       "        vertical-align: top;\n",
       "    }\n",
       "\n",
       "    .dataframe thead th {\n",
       "        text-align: right;\n",
       "    }\n",
       "</style>\n",
       "<table border=\"1\" class=\"dataframe\">\n",
       "  <thead>\n",
       "    <tr style=\"text-align: right;\">\n",
       "      <th></th>\n",
       "      <th>electron</th>\n",
       "      <th>muon</th>\n",
       "      <th>pi+</th>\n",
       "      <th>pi-</th>\n",
       "      <th>pi0</th>\n",
       "      <th>positron</th>\n",
       "      <th>photon</th>\n",
       "    </tr>\n",
       "  </thead>\n",
       "  <tbody>\n",
       "    <tr>\n",
       "      <th>0</th>\n",
       "      <td>1.584334</td>\n",
       "      <td>0.000000e+00</td>\n",
       "      <td>4.947201</td>\n",
       "      <td>0.000000</td>\n",
       "      <td>11.510823</td>\n",
       "      <td>6.058107</td>\n",
       "      <td>1.766615</td>\n",
       "    </tr>\n",
       "    <tr>\n",
       "      <th>1</th>\n",
       "      <td>2.007739</td>\n",
       "      <td>0.000000e+00</td>\n",
       "      <td>4.896044</td>\n",
       "      <td>6.467039</td>\n",
       "      <td>4.763372</td>\n",
       "      <td>1.580475</td>\n",
       "      <td>1.512413</td>\n",
       "    </tr>\n",
       "    <tr>\n",
       "      <th>2</th>\n",
       "      <td>3.126703</td>\n",
       "      <td>1.776357e-15</td>\n",
       "      <td>5.534215</td>\n",
       "      <td>0.000000</td>\n",
       "      <td>3.181674</td>\n",
       "      <td>1.792326</td>\n",
       "      <td>2.209943</td>\n",
       "    </tr>\n",
       "    <tr>\n",
       "      <th>3</th>\n",
       "      <td>5.345500</td>\n",
       "      <td>0.000000e+00</td>\n",
       "      <td>3.750063</td>\n",
       "      <td>0.000000</td>\n",
       "      <td>5.614362</td>\n",
       "      <td>1.707669</td>\n",
       "      <td>1.658772</td>\n",
       "    </tr>\n",
       "    <tr>\n",
       "      <th>4</th>\n",
       "      <td>2.276824</td>\n",
       "      <td>0.000000e+00</td>\n",
       "      <td>1.933133</td>\n",
       "      <td>0.000000</td>\n",
       "      <td>3.210410</td>\n",
       "      <td>1.805074</td>\n",
       "      <td>1.613892</td>\n",
       "    </tr>\n",
       "    <tr>\n",
       "      <th>...</th>\n",
       "      <td>...</td>\n",
       "      <td>...</td>\n",
       "      <td>...</td>\n",
       "      <td>...</td>\n",
       "      <td>...</td>\n",
       "      <td>...</td>\n",
       "      <td>...</td>\n",
       "    </tr>\n",
       "    <tr>\n",
       "      <th>995</th>\n",
       "      <td>2.838689</td>\n",
       "      <td>0.000000e+00</td>\n",
       "      <td>0.000000</td>\n",
       "      <td>0.000000</td>\n",
       "      <td>4.956269</td>\n",
       "      <td>1.471577</td>\n",
       "      <td>1.530283</td>\n",
       "    </tr>\n",
       "    <tr>\n",
       "      <th>996</th>\n",
       "      <td>1.438277</td>\n",
       "      <td>0.000000e+00</td>\n",
       "      <td>0.000000</td>\n",
       "      <td>3.432171</td>\n",
       "      <td>3.546032</td>\n",
       "      <td>3.167073</td>\n",
       "      <td>1.681130</td>\n",
       "    </tr>\n",
       "    <tr>\n",
       "      <th>997</th>\n",
       "      <td>1.295717</td>\n",
       "      <td>0.000000e+00</td>\n",
       "      <td>2.601671</td>\n",
       "      <td>3.614901</td>\n",
       "      <td>7.391370</td>\n",
       "      <td>8.893380</td>\n",
       "      <td>3.028493</td>\n",
       "    </tr>\n",
       "    <tr>\n",
       "      <th>998</th>\n",
       "      <td>1.863859</td>\n",
       "      <td>5.412028e+00</td>\n",
       "      <td>1.101909</td>\n",
       "      <td>3.337985</td>\n",
       "      <td>1.260826</td>\n",
       "      <td>2.162294</td>\n",
       "      <td>12.316677</td>\n",
       "    </tr>\n",
       "    <tr>\n",
       "      <th>999</th>\n",
       "      <td>1.828902</td>\n",
       "      <td>6.326333e-01</td>\n",
       "      <td>0.000000</td>\n",
       "      <td>2.322725</td>\n",
       "      <td>1.604084</td>\n",
       "      <td>1.864240</td>\n",
       "      <td>2.978270</td>\n",
       "    </tr>\n",
       "  </tbody>\n",
       "</table>\n",
       "<p>1000 rows × 7 columns</p>\n",
       "</div>"
      ],
      "text/plain": [
       "     electron          muon       pi+       pi-        pi0  positron   \n",
       "0    1.584334  0.000000e+00  4.947201  0.000000  11.510823  6.058107  \\\n",
       "1    2.007739  0.000000e+00  4.896044  6.467039   4.763372  1.580475   \n",
       "2    3.126703  1.776357e-15  5.534215  0.000000   3.181674  1.792326   \n",
       "3    5.345500  0.000000e+00  3.750063  0.000000   5.614362  1.707669   \n",
       "4    2.276824  0.000000e+00  1.933133  0.000000   3.210410  1.805074   \n",
       "..        ...           ...       ...       ...        ...       ...   \n",
       "995  2.838689  0.000000e+00  0.000000  0.000000   4.956269  1.471577   \n",
       "996  1.438277  0.000000e+00  0.000000  3.432171   3.546032  3.167073   \n",
       "997  1.295717  0.000000e+00  2.601671  3.614901   7.391370  8.893380   \n",
       "998  1.863859  5.412028e+00  1.101909  3.337985   1.260826  2.162294   \n",
       "999  1.828902  6.326333e-01  0.000000  2.322725   1.604084  1.864240   \n",
       "\n",
       "        photon  \n",
       "0     1.766615  \n",
       "1     1.512413  \n",
       "2     2.209943  \n",
       "3     1.658772  \n",
       "4     1.613892  \n",
       "..         ...  \n",
       "995   1.530283  \n",
       "996   1.681130  \n",
       "997   3.028493  \n",
       "998  12.316677  \n",
       "999   2.978270  \n",
       "\n",
       "[1000 rows x 7 columns]"
      ]
     },
     "execution_count": 20,
     "metadata": {},
     "output_type": "execute_result"
    }
   ],
   "source": [
    "dwong.os.chdir(\"/Users/wongdowling/Desktop/DQ_Dowling/electron/csv/\")\n",
    "data=pd.read_csv(\"wew_x.csv\")\n",
    "data"
   ]
  },
  {
   "cell_type": "code",
   "execution_count": 27,
   "id": "6dd19fb5",
   "metadata": {},
   "outputs": [],
   "source": [
    "dwong.os.chdir(\"/Users/wongdowling/Desktop/DQ_Dowling/ntuple_1000\")\n",
    "out_path=\"/Users/wongdowling/Desktop/DQ_Dowling/electron/csv/\"\n",
    "types=[ \"electron\", \"muon\", \"pi+\", \"pi-\", \"pi0\", \"positron\", \"photon\", \"klong\"]\n",
    "wid_x=[]\n",
    "wid_y=[]\n",
    "for item in types:\n",
    "    wew=dwong.gen_wid(dwong.evt_1000[item])\n",
    "    wew_x.append(wew[0])\n",
    "    wew_y.append(wew[1])"
   ]
  },
  {
   "cell_type": "code",
   "execution_count": 28,
   "id": "3f7d6ecf-0ff0-4c9b-b9d4-ee5b4fd77c5e",
   "metadata": {},
   "outputs": [
    {
     "name": "stdout",
     "output_type": "stream",
     "text": [
      "1000\n",
      "1000\n",
      "1000\n",
      "1000\n",
      "1000\n",
      "1000\n",
      "1000\n",
      "529\n",
      "1000\n",
      "1000\n",
      "1000\n",
      "1000\n",
      "1000\n",
      "1000\n",
      "1000\n",
      "529\n"
     ]
    }
   ],
   "source": [
    "\n",
    "for i in range(len(wew_y)):\n",
    "    print(len(wew_y[i]))"
   ]
  },
  {
   "cell_type": "code",
   "execution_count": 44,
   "id": "aab21fa1",
   "metadata": {
    "scrolled": true
   },
   "outputs": [
    {
     "ename": "IndexError",
     "evalue": "list index out of range",
     "output_type": "error",
     "traceback": [
      "\u001b[0;31m---------------------------------------------------------------------------\u001b[0m",
      "\u001b[0;31mIndexError\u001b[0m                                Traceback (most recent call last)",
      "Cell \u001b[0;32mIn[44], line 3\u001b[0m\n\u001b[1;32m      1\u001b[0m dwong\u001b[38;5;241m.\u001b[39mos\u001b[38;5;241m.\u001b[39mchdir(\u001b[38;5;124m\"\u001b[39m\u001b[38;5;124m/Users/wongdowling/Desktop/DQ_Dowling/ntuple_1000\u001b[39m\u001b[38;5;124m\"\u001b[39m)\n\u001b[1;32m      2\u001b[0m item\u001b[38;5;241m=\u001b[39m\u001b[38;5;124m\"\u001b[39m\u001b[38;5;124mklong\u001b[39m\u001b[38;5;124m\"\u001b[39m\u001b[38;5;66;03m#kaon only have 529/1000 EMCal info\u001b[39;00m\n\u001b[0;32m----> 3\u001b[0m diff\u001b[38;5;241m=\u001b[39m\u001b[43mdwong\u001b[49m\u001b[38;5;241;43m.\u001b[39;49m\u001b[43mmatchup\u001b[49m\u001b[43m(\u001b[49m\u001b[43mdwong\u001b[49m\u001b[38;5;241;43m.\u001b[39;49m\u001b[43mevt_1000\u001b[49m\u001b[43m[\u001b[49m\u001b[43mitem\u001b[49m\u001b[43m]\u001b[49m\u001b[43m)\u001b[49m\n",
      "File \u001b[0;32m~/Desktop/DQ_Dowling/electron/csv/dwong.py:276\u001b[0m, in \u001b[0;36mmatchup\u001b[0;34m(file)\u001b[0m\n",
      "\u001b[0;31mIndexError\u001b[0m: list index out of range"
     ]
    }
   ],
   "source": [
    "dwong.os.chdir(\"/Users/wongdowling/Desktop/DQ_Dowling/ntuple_1000\")\n",
    "item=\"klong\"#kaon only have 529/1000 EMCal info\n",
    "diff=dwong.matchup(dwong.evt_1000[item])\n",
    "   \n"
   ]
  },
  {
   "cell_type": "code",
   "execution_count": 42,
   "id": "24b8fe95",
   "metadata": {},
   "outputs": [],
   "source": [
    "dwong.os.chdir(\"/Users/wongdowling/Desktop/DQ_Dowling/ntuple_1000\")\n",
    "item=\"klong\"#kaon only have 529/1000 EMCal info\n",
    "a=dwong.track_bytuple(dwong.evt_1000[item])"
   ]
  },
  {
   "cell_type": "code",
   "execution_count": 47,
   "id": "a239a29d",
   "metadata": {},
   "outputs": [
    {
     "ename": "IndexError",
     "evalue": "list index out of range",
     "output_type": "error",
     "traceback": [
      "\u001b[0;31m---------------------------------------------------------------------------\u001b[0m",
      "\u001b[0;31mIndexError\u001b[0m                                Traceback (most recent call last)",
      "Cell \u001b[0;32mIn[47], line 10\u001b[0m\n\u001b[1;32m      8\u001b[0m diff_y \u001b[38;5;241m=\u001b[39m []\n\u001b[1;32m      9\u001b[0m \u001b[38;5;28;01mfor\u001b[39;00m i \u001b[38;5;129;01min\u001b[39;00m \u001b[38;5;28mrange\u001b[39m(\u001b[38;5;28mlen\u001b[39m(track_x)):\n\u001b[0;32m---> 10\u001b[0m     diff_x\u001b[38;5;241m.\u001b[39mappend(track_x[i]\u001b[38;5;241m-\u001b[39m\u001b[43mwew_x\u001b[49m\u001b[43m[\u001b[49m\u001b[43mi\u001b[49m\u001b[43m]\u001b[49m)\n\u001b[1;32m     11\u001b[0m     diff_y\u001b[38;5;241m.\u001b[39mappend(track_y[i]\u001b[38;5;241m-\u001b[39mwew_y[i])\n",
      "\u001b[0;31mIndexError\u001b[0m: list index out of range"
     ]
    }
   ],
   "source": [
    "output1 = dwong.gen_center(dwong.evt_1000[item])\n",
    "output2 = dwong.track_bytuple(dwong.evt_1000[item])# <Array [] type='0 * float32'>, some entries are empty\n",
    "wew_x = output1[0]\n",
    "wew_y = output1[1]\n",
    "track_x = output2[0]\n",
    "track_y = output2[1]\n",
    "diff_x = []\n",
    "diff_y = []\n",
    "for i in range(len(track_x)):\n",
    "    diff_x.append(track_x[i]-wew_x[i])\n",
    "    diff_y.append(track_y[i]-wew_y[i])\n"
   ]
  },
  {
   "cell_type": "code",
   "execution_count": 48,
   "id": "353af4cd",
   "metadata": {},
   "outputs": [
    {
     "data": {
      "text/plain": [
       "529"
      ]
     },
     "execution_count": 48,
     "metadata": {},
     "output_type": "execute_result"
    }
   ],
   "source": [
    "len(wew_x)"
   ]
  },
  {
   "cell_type": "code",
   "execution_count": 49,
   "id": "e6fbb881",
   "metadata": {},
   "outputs": [
    {
     "data": {
      "text/plain": [
       "1000"
      ]
     },
     "execution_count": 49,
     "metadata": {},
     "output_type": "execute_result"
    }
   ],
   "source": [
    "len(track_x)"
   ]
  },
  {
   "cell_type": "code",
   "execution_count": null,
   "id": "4ab06661",
   "metadata": {},
   "outputs": [],
   "source": []
  }
 ],
 "metadata": {
  "kernelspec": {
   "display_name": "Python 3 (ipykernel)",
   "language": "python",
   "name": "python3"
  },
  "language_info": {
   "codemirror_mode": {
    "name": "ipython",
    "version": 3
   },
   "file_extension": ".py",
   "mimetype": "text/x-python",
   "name": "python",
   "nbconvert_exporter": "python",
   "pygments_lexer": "ipython3",
   "version": "3.9.16"
  }
 },
 "nbformat": 4,
 "nbformat_minor": 5
}
