{
 "cells": [
  {
   "cell_type": "code",
   "execution_count": 1,
   "id": "eb40ad93",
   "metadata": {},
   "outputs": [],
   "source": [
    "import pandas as pd\n",
    "import numpy as np\n",
    "from sklearn.model_selection import train_test_split\n",
    "from sklearn import metrics\n",
    "import matplotlib.pyplot as plt\n",
    "import dwong\n"
   ]
  },
  {
   "cell_type": "code",
   "execution_count": 2,
   "id": "5e31e70d",
   "metadata": {},
   "outputs": [],
   "source": [
    "dwong.os.chdir(\"/Users/wongdowling/Desktop/DQ_Dowling/electron/csv/\")\n",
    "data = pd.read_csv(\"Ep.csv\")"
   ]
  },
  {
   "cell_type": "code",
   "execution_count": 3,
   "id": "c3d018d1",
   "metadata": {},
   "outputs": [
    {
     "name": "stderr",
     "output_type": "stream",
     "text": [
      "/Users/wongdowling/opt/anaconda3/envs/dq/lib/python3.9/site-packages/sklearn/linear_model/_logistic.py:458: ConvergenceWarning: lbfgs failed to converge (status=1):\n",
      "STOP: TOTAL NO. of ITERATIONS REACHED LIMIT.\n",
      "\n",
      "Increase the number of iterations (max_iter) or scale the data as shown in:\n",
      "    https://scikit-learn.org/stable/modules/preprocessing.html\n",
      "Please also refer to the documentation for alternative solver options:\n",
      "    https://scikit-learn.org/stable/modules/linear_model.html#logistic-regression\n",
      "  n_iter_i = _check_optimize_result(\n"
     ]
    }
   ],
   "source": [
    "#define the predictor variables and the response variable\n",
    "X = data[[\"wew_x\",\"wew_y\", \"wid_x\", \"wid_y\", \"diff_x\",\"diff_y\", \"E/p\"]]\n",
    "y = data[\"label\"]\n",
    "\n",
    "#split the dataset into training (70%) and testing (30%) sets\n",
    "X_train,X_test,y_train,y_test = train_test_split(X,y,test_size=0.3,random_state=0) \n",
    "from sklearn.metrics import roc_curve, auc\n",
    "from sklearn.linear_model import LogisticRegression\n",
    "#instantiate the model\n",
    "log_regression = LogisticRegression()\n",
    "#fit the model using the training data\n",
    "log_regression.fit(X_train,y_train)\n",
    "#define metrics\n",
    "y_pred_proba = log_regression.predict_proba(X_test)[::,1]\n",
    "log_fpr, log_tpr, log_thres = metrics.roc_curve(y_test,  y_pred_proba)\n",
    "log_auc = metrics.roc_auc_score(y_test, y_pred_proba)"
   ]
  },
  {
   "cell_type": "code",
   "execution_count": 4,
   "id": "2843ecbb",
   "metadata": {},
   "outputs": [],
   "source": [
    "from sklearn.svm import SVC\n",
    "#instantiate the model\n",
    "model_SVC = SVC(kernel = 'rbf', random_state = 4)\n",
    "#fit the model using the training data\n",
    "model_SVC.fit(X_train, y_train)\n",
    "y_pred_svm = model_SVC.decision_function(X_test)\n",
    "svm_fpr, svm_tpr, svm_thres = roc_curve(y_test, y_pred_svm)\n",
    "svm_auc = auc(svm_fpr, svm_tpr)"
   ]
  },
  {
   "cell_type": "code",
   "execution_count": 5,
   "id": "5d7d6c79",
   "metadata": {},
   "outputs": [],
   "source": [
    "x=data[[\"wew_x\",\"wew_y\", \"wid_x\", \"wid_y\", \"diff_x\",\"diff_y\", \"E/p\"]].values\n",
    "y=data['label'].values"
   ]
  },
  {
   "cell_type": "code",
   "execution_count": 6,
   "id": "e1099d17",
   "metadata": {},
   "outputs": [
    {
     "name": "stdout",
     "output_type": "stream",
     "text": [
      "Note: using Google CoLab\n",
      "Using device: mps\n"
     ]
    }
   ],
   "source": [
    "import torch\n",
    "import io\n",
    "import copy\n",
    "\n",
    "try:\n",
    "    COLAB = True\n",
    "    print(\"Note: using Google CoLab\")\n",
    "except:\n",
    "    print(\"Note: not using Google CoLab\")\n",
    "    COLAB = False\n",
    "\n",
    "# Early stopping (see Module 3.4)\n",
    "class EarlyStopping():\n",
    "    def __init__(self, patience=15, min_delta=0, restore_best_weights=True):\n",
    "        self.patience = patience\n",
    "        self.min_delta = min_delta\n",
    "        self.restore_best_weights = restore_best_weights\n",
    "        self.best_model = None\n",
    "        self.best_loss = None\n",
    "        self.counter = 0\n",
    "        self.status = \"\"\n",
    "    \n",
    "    def __call__(self, model, val_loss):\n",
    "        if self.best_loss == None:\n",
    "            self.best_loss = val_loss\n",
    "            self.best_model = copy.deepcopy(model)\n",
    "        elif self.best_loss - val_loss > self.min_delta:\n",
    "            self.best_loss = val_loss\n",
    "            self.counter = 0\n",
    "            self.best_model.load_state_dict(model.state_dict())\n",
    "        elif self.best_loss - val_loss < self.min_delta:\n",
    "            self.counter += 1\n",
    "            if self.counter >= self.patience:\n",
    "                self.status = f\"Stopped on {self.counter}\"\n",
    "                if self.restore_best_weights:\n",
    "                    model.load_state_dict(self.best_model.state_dict())\n",
    "                return True\n",
    "        self.status = f\"{self.counter}/{self.patience}\"\n",
    "        return False\n",
    "\n",
    "# Make use of a GPU or MPS (Apple) if one is available. (see Module 3.2)\n",
    "device = \"mps\" if getattr(torch,'has_mps',False) \\\n",
    "    else \"cuda\" if torch.cuda.is_available() else \"cpu\"\n",
    "print(f\"Using device: {device}\")"
   ]
  },
  {
   "cell_type": "code",
   "execution_count": 7,
   "id": "f0c9e360",
   "metadata": {},
   "outputs": [
    {
     "name": "stderr",
     "output_type": "stream",
     "text": [
      "Epoch: 1, tloss: 0.04591839760541916, vloss: 1.271682, EStop:[0/15]: 100%|█| 375\n",
      "Epoch: 2, tloss: 6.265486240386963, vloss: 1.291604, EStop:[1/15]: 100%|█| 375/3\n",
      "Epoch: 3, tloss: 0.3208978772163391, vloss: 1.254182, EStop:[0/15]: 100%|█| 375/\n",
      "Epoch: 4, tloss: 0.004058507736772299, vloss: 1.243703, EStop:[0/15]: 100%|█| 37\n",
      "Epoch: 5, tloss: 6.256924629211426, vloss: 1.238934, EStop:[0/15]: 100%|█| 375/3\n",
      "Epoch: 6, tloss: 6.2609052658081055, vloss: 1.235019, EStop:[0/15]: 100%|█| 375/\n",
      "Epoch: 7, tloss: 6.255600929260254, vloss: 1.242430, EStop:[1/15]: 100%|█| 375/3\n",
      "Epoch: 8, tloss: 0.0017933475319296122, vloss: 1.233570, EStop:[0/15]: 100%|█| 3\n",
      "Epoch: 9, tloss: 6.266240119934082, vloss: 1.235349, EStop:[1/15]: 100%|█| 375/3\n",
      "Epoch: 10, tloss: 0.02685166522860527, vloss: 1.252635, EStop:[2/15]: 100%|█| 37\n",
      "Epoch: 11, tloss: 0.004300050437450409, vloss: 1.237818, EStop:[3/15]: 100%|█| 3\n",
      "Epoch: 12, tloss: 0.008452502079308033, vloss: 1.232349, EStop:[0/15]: 100%|█| 3\n",
      "Epoch: 13, tloss: 0.028607578948140144, vloss: 1.238640, EStop:[1/15]: 100%|█| 3\n",
      "Epoch: 14, tloss: 0.01151236891746521, vloss: 1.236596, EStop:[2/15]: 100%|█| 37\n",
      "Epoch: 15, tloss: 0.003459081519395113, vloss: 1.237519, EStop:[3/15]: 100%|█| 3\n",
      "Epoch: 16, tloss: 6.254026889801025, vloss: 1.234618, EStop:[4/15]: 100%|█| 375/\n",
      "Epoch: 17, tloss: 0.01570376195013523, vloss: 1.242706, EStop:[5/15]: 100%|█| 37\n",
      "Epoch: 18, tloss: 0.007575308438390493, vloss: 1.284397, EStop:[6/15]: 100%|█| 3\n",
      "Epoch: 19, tloss: 0.0653703361749649, vloss: 1.270462, EStop:[7/15]: 100%|█| 375\n",
      "Epoch: 20, tloss: 0.006531999446451664, vloss: 1.240769, EStop:[8/15]: 100%|█| 3\n",
      "Epoch: 21, tloss: 0.020756017416715622, vloss: 1.246544, EStop:[9/15]: 100%|█| 3\n",
      "Epoch: 22, tloss: 6.275501251220703, vloss: 1.241686, EStop:[10/15]: 100%|█| 375\n",
      "Epoch: 23, tloss: 0.007153190206736326, vloss: 1.243374, EStop:[11/15]: 100%|█| \n",
      "Epoch: 24, tloss: 0.21899139881134033, vloss: 1.244234, EStop:[12/15]: 100%|█| 3\n",
      "Epoch: 25, tloss: 0.11734656244516373, vloss: 1.246114, EStop:[13/15]: 100%|█| 3\n",
      "Epoch: 26, tloss: 0.02965269424021244, vloss: 1.242348, EStop:[14/15]: 100%|█| 3\n",
      "Epoch: 27, tloss: 0.012806765735149384, vloss: 1.273132, EStop:[Stopped on 15]: \n"
     ]
    }
   ],
   "source": [
    "import pandas as pd\n",
    "from sklearn.model_selection import train_test_split\n",
    "from sklearn.metrics import accuracy_score\n",
    "\n",
    "import torch.nn as nn\n",
    "import torch.nn.functional as F\n",
    "import numpy as np\n",
    "from torch.autograd import Variable\n",
    "from sklearn import preprocessing\n",
    "from torch.utils.data import DataLoader, TensorDataset\n",
    "import tqdm\n",
    "import time\n",
    "\n",
    "\n",
    "# Define the PyTorch Neural Network\n",
    "class Net(nn.Module):\n",
    "    def __init__(self, in_count, out_count):\n",
    "        super(Net, self).__init__()\n",
    "        self.fc1 = nn.Linear(in_count, 50)\n",
    "        self.fc2 = nn.Linear(50, 25)\n",
    "        self.fc3 = nn.Linear(25, out_count)\n",
    "\n",
    "    def forward(self, x):\n",
    "        x = F.relu(self.fc1(x))\n",
    "        x = F.relu(self.fc2(x))\n",
    "        return torch.sigmoid(self.fc3(x))\n",
    "\n",
    "# Split into validation and training sets\n",
    "x_train, x_test, y_train, y_test = train_test_split(    \n",
    "    x, y, test_size=0.25, random_state=42)\n",
    "\n",
    "# Numpy to Torch Tensor\n",
    "x_train = torch.Tensor(x_train).float()\n",
    "y_train = torch.Tensor(y_train).float()\n",
    "\n",
    "x_test = torch.Tensor(x_test).float().to(device)\n",
    "y_test = torch.Tensor(y_test).float().to(device)\n",
    "\n",
    "\n",
    "# Create datasets\n",
    "BATCH_SIZE = 16\n",
    "\n",
    "dataset_train = TensorDataset(x_train, y_train)\n",
    "dataloader_train = DataLoader(dataset_train,\\\n",
    "  batch_size=BATCH_SIZE, shuffle=True)\n",
    "\n",
    "dataset_test = TensorDataset(x_test, y_test)\n",
    "dataloader_test = DataLoader(dataset_test,\\\n",
    "  batch_size=BATCH_SIZE, shuffle=True)\n",
    "\n",
    "\n",
    "# Create model\n",
    "model = Net(x.shape[1],1).to(device)\n",
    "\n",
    "loss_fn = nn.BCELoss()# Binary Cross Entropy loss\n",
    "\n",
    "optimizer = torch.optim.Adam(model.parameters(), lr=0.01)\n",
    "es = EarlyStopping()\n",
    "\n",
    "epoch = 0\n",
    "done = False\n",
    "while epoch<1000 and not done:\n",
    "    epoch += 1\n",
    "    steps = list(enumerate(dataloader_train))\n",
    "    pbar = tqdm.tqdm(steps)\n",
    "    model.train()\n",
    "    for i, (x_batch, y_batch) in pbar:\n",
    "        y_batch_pred = model(x_batch.to(device))\n",
    "        loss = loss_fn(y_batch_pred, y_batch.reshape(-1,1).to(device))\n",
    "        optimizer.zero_grad()\n",
    "        loss.backward()\n",
    "        optimizer.step()\n",
    "\n",
    "        loss, current = loss.item(), (i + 1)* len(x_batch)\n",
    "        if i == len(steps)-1:\n",
    "            model.eval()\n",
    "            pred = model(x_test)\n",
    "            vloss = loss_fn(pred, y_test.reshape(-1,1))\n",
    "            if es(model,vloss): done = True\n",
    "            pbar.set_description(f\"Epoch: {epoch}, tloss: {loss}, vloss: {vloss:>7f}, EStop:[{es.status}]\")\n",
    "        else:\n",
    "            pbar.set_description(f\"Epoch: {epoch}, tloss {loss:}\")"
   ]
  },
  {
   "cell_type": "code",
   "execution_count": 8,
   "id": "6cda0870",
   "metadata": {},
   "outputs": [],
   "source": [
    "pred = model(x_test)\n",
    "fpr, tpr, _ = roc_curve(y_test.cpu(), pred.cpu().detach())\n",
    "roc_auc = auc(fpr, tpr)"
   ]
  },
  {
   "cell_type": "code",
   "execution_count": 9,
   "id": "4bcc21ef",
   "metadata": {},
   "outputs": [
    {
     "name": "stderr",
     "output_type": "stream",
     "text": [
      "WARNING:absl:At this time, the v2.11+ optimizer `tf.keras.optimizers.Adam` runs slowly on M1/M2 Macs, please use the legacy Keras optimizer instead, located at `tf.keras.optimizers.legacy.Adam`.\n",
      "WARNING:absl:There is a known slowdown when using v2.11+ Keras optimizers on M1/M2 Macs. Falling back to the legacy Keras optimizer, i.e., `tf.keras.optimizers.legacy.Adam`.\n"
     ]
    },
    {
     "name": "stdout",
     "output_type": "stream",
     "text": [
      "Epoch 1/1000\n",
      "188/188 - 0s - loss: 0.3178 - accuracy: 0.9187 - val_loss: 0.2727 - val_accuracy: 0.9595 - 346ms/epoch - 2ms/step\n",
      "Epoch 2/1000\n",
      "188/188 - 0s - loss: 0.1452 - accuracy: 0.9615 - val_loss: 0.1231 - val_accuracy: 0.9700 - 125ms/epoch - 663us/step\n",
      "Epoch 3/1000\n",
      "188/188 - 0s - loss: 0.1200 - accuracy: 0.9662 - val_loss: 0.1098 - val_accuracy: 0.9705 - 123ms/epoch - 655us/step\n",
      "Epoch 4/1000\n",
      "188/188 - 0s - loss: 0.1090 - accuracy: 0.9715 - val_loss: 0.1029 - val_accuracy: 0.9740 - 122ms/epoch - 649us/step\n",
      "Epoch 5/1000\n",
      "188/188 - 0s - loss: 0.1070 - accuracy: 0.9727 - val_loss: 0.1034 - val_accuracy: 0.9740 - 126ms/epoch - 669us/step\n",
      "Epoch 6/1000\n",
      "188/188 - 0s - loss: 0.1017 - accuracy: 0.9752 - val_loss: 0.0981 - val_accuracy: 0.9760 - 125ms/epoch - 667us/step\n",
      "Epoch 7/1000\n",
      "188/188 - 0s - loss: 0.1006 - accuracy: 0.9750 - val_loss: 0.0970 - val_accuracy: 0.9785 - 128ms/epoch - 683us/step\n",
      "Epoch 8/1000\n",
      "188/188 - 0s - loss: 0.0982 - accuracy: 0.9757 - val_loss: 0.0963 - val_accuracy: 0.9785 - 123ms/epoch - 655us/step\n",
      "Epoch 9/1000\n",
      "188/188 - 0s - loss: 0.0977 - accuracy: 0.9748 - val_loss: 0.0962 - val_accuracy: 0.9780 - 123ms/epoch - 654us/step\n",
      "Epoch 10/1000\n",
      "188/188 - 0s - loss: 0.0948 - accuracy: 0.9773 - val_loss: 0.0949 - val_accuracy: 0.9770 - 123ms/epoch - 655us/step\n",
      "Epoch 11/1000\n",
      "188/188 - 0s - loss: 0.0923 - accuracy: 0.9775 - val_loss: 0.0949 - val_accuracy: 0.9775 - 120ms/epoch - 640us/step\n",
      "Epoch 12/1000\n",
      "188/188 - 0s - loss: 0.0904 - accuracy: 0.9778 - val_loss: 0.1074 - val_accuracy: 0.9730 - 121ms/epoch - 641us/step\n",
      "Epoch 13/1000\n",
      "188/188 - 0s - loss: 0.0923 - accuracy: 0.9760 - val_loss: 0.1100 - val_accuracy: 0.9755 - 123ms/epoch - 656us/step\n",
      "Epoch 14/1000\n",
      "188/188 - 0s - loss: 0.0943 - accuracy: 0.9777 - val_loss: 0.1177 - val_accuracy: 0.9695 - 121ms/epoch - 646us/step\n",
      "Epoch 15/1000\n",
      "Restoring model weights from the end of the best epoch: 10.\n",
      "188/188 - 0s - loss: 0.0959 - accuracy: 0.9765 - val_loss: 0.0974 - val_accuracy: 0.9790 - 123ms/epoch - 655us/step\n",
      "Epoch 15: early stopping\n"
     ]
    },
    {
     "data": {
      "text/plain": [
       "<keras.src.callbacks.History at 0x2c289d8e0>"
      ]
     },
     "execution_count": 9,
     "metadata": {},
     "output_type": "execute_result"
    }
   ],
   "source": [
    "# Classification neural network\n",
    "import numpy as np\n",
    "import tensorflow.keras\n",
    "from tensorflow.keras.models import Sequential\n",
    "from tensorflow.keras.layers import Dense, Activation\n",
    "from tensorflow.keras.callbacks import EarlyStopping\n",
    "from sklearn.model_selection import train_test_split\n",
    "\n",
    "# Split into train/test\n",
    "x_train, x_test, y_train, y_test = train_test_split(    \n",
    "    x, y, test_size=0.25, random_state=42)\n",
    "\n",
    "model = Sequential()\n",
    "model.add(Dense(100, input_dim=x.shape[1], activation='relu',\n",
    "                kernel_initializer='random_normal'))\n",
    "model.add(Dense(50,activation='relu',kernel_initializer='random_normal'))\n",
    "model.add(Dense(25,activation='relu',kernel_initializer='random_normal'))\n",
    "model.add(Dense(1,activation='sigmoid',kernel_initializer='random_normal'))\n",
    "model.compile(loss='binary_crossentropy', \n",
    "              optimizer=tensorflow.keras.optimizers.Adam(),\n",
    "              metrics =['accuracy'])\n",
    "monitor = EarlyStopping(monitor='val_loss', min_delta=1e-3, \n",
    "    patience=5, verbose=1, mode='auto', restore_best_weights=True)\n",
    "\n",
    "model.fit(x_train,y_train,validation_data=(x_test,y_test),\n",
    "          callbacks=[monitor],verbose=2,epochs=1000)\n"
   ]
  },
  {
   "cell_type": "code",
   "execution_count": 10,
   "id": "fa506883",
   "metadata": {},
   "outputs": [],
   "source": [
    "pred1 = model(x_test)\n",
    "fpr1, tpr1, _ = roc_curve(y_test, pred1)\n",
    "roc_auc1 = auc(fpr1, tpr1)"
   ]
  },
  {
   "cell_type": "code",
   "execution_count": 11,
   "id": "6ce2c64b",
   "metadata": {},
   "outputs": [
    {
     "data": {
      "image/png": "[encoded data removed]",
      "text/plain": [
       "<Figure size 640x480 with 1 Axes>"
      ]
     },
     "metadata": {},
     "output_type": "display_data"
    }
   ],
   "source": [
    "#create ROC curve\n",
    "plt.plot([0, 1], [0, 1], \"k--\", label=\"chance level (AUC = 0.5)\")#diagonal line\n",
    "plt.plot(log_fpr,log_tpr,label=\"Log Reg AUC=\"+str(round(log_auc,3)))\n",
    "plt.plot(svm_fpr,svm_tpr,label=\"SVC AUC=\"+str(round(svm_auc,3)))\n",
    "plt.plot(fpr,tpr,label=\"Pytorch NN AUC=\"+str(round(roc_auc,3)))\n",
    "plt.plot(fpr1,tpr1,label=\"Keras NN AUC=\"+str(round(roc_auc1,3)))\n",
    "\n",
    "\n",
    "\n",
    "plt.title(\"OvR ROC curve for electron\")\n",
    "plt.ylabel('True Positive Rate')\n",
    "plt.xlabel('False Positive Rate')\n",
    "plt.legend(loc=4)\n",
    "plt.savefig(\"OvR_electron.png\")\n",
    "plt.show()"
   ]
  },
  {
   "cell_type": "code",
   "execution_count": null,
   "id": "3e81c465",
   "metadata": {},
   "outputs": [],
   "source": []
  },
  {
   "cell_type": "code",
   "execution_count": null,
   "id": "e234ddee",
   "metadata": {},
   "outputs": [],
   "source": []
  }
 ],
 "metadata": {
  "kernelspec": {
   "display_name": "Python 3 (ipykernel)",
   "language": "python",
   "name": "python3"
  },
  "language_info": {
   "codemirror_mode": {
    "name": "ipython",
    "version": 3
   },
   "file_extension": ".py",
   "mimetype": "text/x-python",
   "name": "python",
   "nbconvert_exporter": "python",
   "pygments_lexer": "ipython3",
   "version": "3.9.16"
  }
 },
 "nbformat": 4,
 "nbformat_minor": 5
}
