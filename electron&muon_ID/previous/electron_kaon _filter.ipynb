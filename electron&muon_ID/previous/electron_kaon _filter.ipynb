{
 "cells": [
  {
   "cell_type": "code",
   "execution_count": 19,
   "id": "0d801d6a",
   "metadata": {},
   "outputs": [],
   "source": [
    "import uproot3 as uproot\n",
    "import uproot as uproot4\n",
    "import numpy as np\n",
    "import numba\n",
    "import awkward as ak\n",
    "import matplotlib.pyplot as plt\n",
    "from matplotlib import cm\n",
    "from matplotlib.ticker import LinearLocator, FormatStrFormatter\n",
    "from matplotlib import rcParams\n",
    "import mplhep as hep\n",
    "plt.style.use(hep.style.ROOT)\n",
    "import os,sys\n",
    "import pandas as pd\n",
    "from scipy.stats import halfnorm\n",
    "from sklearn.cluster import KMeans\n",
    "import random\n",
    "from scipy.stats import binned_statistic\n",
    "from scipy.stats import binned_statistic_2d\n",
    "from scipy.optimize import curve_fit\n",
    "from scipy.stats import crystalball\n",
    "from lmfit import Model\n",
    "import math\n",
    "from scipy.stats import halfnorm\n",
    "#from sklearn.cluster import KMeans\n",
    "from sklearn.cluster import Birch\n",
    "#from sklearn.mixture import GaussianMixture#\n",
    "#from sklearn.cluster import DBSCAN\n",
    "from scipy.stats import binned_statistic\n",
    "import numpy.ma as ma"
   ]
  },
  {
   "cell_type": "code",
   "execution_count": 20,
   "id": "d3d328ee",
   "metadata": {},
   "outputs": [],
   "source": [
    "# Process Data\n",
    "def getData(fname=\"\", procName=\"Events\"):\n",
    "    kn_dict = uproot.open(fname)[\"Events\"].arrays()\n",
    "    kn_dict_ak1 = {name.decode(): ak.from_awkward0(array) for name, array in kn_dict.items()}\n",
    "    kn_events = ak.zip({\"Electrons\":ak.zip({\n",
    "                                            \"ge\":      kn_dict_ak1[\"ge\"],\n",
    "                                            \"gvx\":      kn_dict_ak1[\"gvx\"],\n",
    "                                            \"gvy\":      kn_dict_ak1[\"gvy\"],\n",
    "                                            \"gvz\":      kn_dict_ak1[\"gvz\"],\n",
    "                                            \"gpx\":      kn_dict_ak1[\"gpx\"],\n",
    "                                            \"gpy\":      kn_dict_ak1[\"gpy\"],\n",
    "                                            \"gpz\":      kn_dict_ak1[\"gpz\"],\n",
    "                                        }),\n",
    "                        \"Hits\":ak.zip({\n",
    "                                      \"detID\":   kn_dict_ak1[\"hit_detID\"],\n",
    "                                      \"edep\":    kn_dict_ak1[\"hit_edep\"],\n",
    "                                      \"elmID\":   kn_dict_ak1[\"hit_elmID\"],\n",
    "                                      \"truthx\":  kn_dict_ak1[\"hit_truthx\"],\n",
    "                                      \"truthy\":  kn_dict_ak1[\"hit_truthy\"],\n",
    "                                      \"truthz\":  kn_dict_ak1[\"hit_truthz\"],\n",
    "                                      \"hit_pos\":  kn_dict_ak1[\"hit_pos\"],\n",
    "                                      }),\n",
    "                        \"St23_Tracklet\":ak.zip({\n",
    "                                        \"st23tracklet_x_st1\":   kn_dict_ak1[\"st23tracklet_x_st1\"],\n",
    "                                        \"st23tracklet_x_st3\":   kn_dict_ak1[\"st23tracklet_x_st3\"],\n",
    "                                        \"st23tracklet_y_st1\":   kn_dict_ak1[\"st23tracklet_y_st1\"],\n",
    "                                        \"st23tracklet_y_st3\":   kn_dict_ak1[\"st23tracklet_y_st3\"],\n",
    "                                        }),\n",
    "                        \"track\":ak.zip({\n",
    "                                      \"x\":   kn_dict_ak1[\"track_x_CAL\"],\n",
    "                                      \"y\":    kn_dict_ak1[\"track_y_CAL\"],\n",
    "                                      \"ID\":    kn_dict_ak1[\"eventID\"],\n",
    "                            \n",
    "                                      }),\n",
    "                       }, depth_limit=1)\n",
    "    return kn_events"
   ]
  },
  {
   "cell_type": "code",
   "execution_count": 21,
   "id": "dde02188",
   "metadata": {},
   "outputs": [],
   "source": [
    "def emcal_simhit_selection(arr):\n",
    "    mask = (arr.detID == 100)\n",
    "    return mask\n",
    "\n",
    "def emcal_simhit_selection_energy(arr, e):\n",
    "    mask = (arr.edep >= e)\n",
    "    return mask\n",
    "\n",
    "def h2_selection(arr):\n",
    "    mask = (arr.detID >= 35) & (arr.detID <= 38)\n",
    "    return mask\n",
    "\n",
    "def st2_selection(arr):\n",
    "    mask = (arr.detID >= 13) & (arr.detID <= 18)\n",
    "    return mask\n",
    "\n",
    "def st3_selection(arr):\n",
    "    mask = (arr.detID >= 19) & (arr.detID <= 30)\n",
    "    return mask\n",
    "\n",
    "def h4_selection(arr):\n",
    "    mask = (arr.detID >= 41) & (arr.detID <= 46)\n",
    "    return mask"
   ]
  },
  {
   "cell_type": "code",
   "execution_count": 22,
   "id": "1a972d53",
   "metadata": {},
   "outputs": [],
   "source": [
    "ntowersx=72\n",
    "ntowersy=36\n",
    "sizex=5.53 # in cm\n",
    "sizey=5.53 # in cm\n",
    "ecalx=[-200,200] #size in cm\n",
    "ecaly=[-100,100]\n",
    "binsx=ecalx[1]- ecalx[0]\n",
    "binsy=ecaly[1]- ecaly[0]\n",
    "sfc = 0.1146337964120158 #sampling fraction of emcal\n",
    "emin=0.0005\n"
   ]
  },
  {
   "cell_type": "code",
   "execution_count": 23,
   "id": "5d6c5ba4",
   "metadata": {},
   "outputs": [],
   "source": [
    "def emcal_bytuple(file):\n",
    "    dq_events = getData(file,\"Events\")\n",
    "    x_pos = []#designed to be 2D\n",
    "    y_pos = []#designed to be 2D\n",
    "    eve_energy = []#designed to be 2D\n",
    "    for i in range(len(dq_events[:][\"Hits\"].edep)):\n",
    "        output=emcal_byevent(dq_events, i)\n",
    "        if(len(output[0])!=0):\n",
    "            x_pos.append(output[0])\n",
    "            y_pos.append(output[1])\n",
    "            eve_energy.append(output[2])\n",
    "    return x_pos, y_pos, eve_energy"
   ]
  },
  {
   "cell_type": "code",
   "execution_count": 24,
   "id": "a1c11d4b",
   "metadata": {},
   "outputs": [],
   "source": [
    "def emcal_byevent(dq_events,evtNum):\n",
    "    dq_hits = dq_events[evtNum][\"Hits\"]\n",
    "    # select emcal hits\n",
    "    emcal_mask = emcal_simhit_selection(dq_hits)\n",
    "    emcal_hits = dq_hits[emcal_mask]\n",
    "    emcal_energy_mask = emcal_simhit_selection_energy(emcal_hits, emin)\n",
    "    emcal_hits = emcal_hits[emcal_energy_mask]\n",
    "    #convert into coordinates and energy_dp\n",
    "    emcal_towerx = emcal_hits.elmID//ntowersy\n",
    "    emcal_towery = emcal_hits.elmID%ntowersy\n",
    "    emcal_x = ecalx[0]+emcal_towerx*sizex\n",
    "    emcal_y = ecaly[0]+emcal_towery*sizey\n",
    "    emcal_edep = emcal_hits.edep/sfc\n",
    "    return emcal_x, emcal_y, emcal_edep"
   ]
  },
  {
   "cell_type": "code",
   "execution_count": 25,
   "id": "32b26c39",
   "metadata": {},
   "outputs": [],
   "source": [
    "def find_lead_clus(label, eve_num, eng_eve):\n",
    "    count=[0]*(len(np.unique(label)))\n",
    "    for i in range(len(label)):\n",
    "        count[label[i]]+=eng_eve[eve_num][i]\n",
    "    return np.argmax(count)"
   ]
  },
  {
   "cell_type": "code",
   "execution_count": 26,
   "id": "4ffbc736",
   "metadata": {},
   "outputs": [],
   "source": [
    "def Clustering_tuple(file):\n",
    "    output=emcal_bytuple(file)\n",
    "    x_eve=output[0]\n",
    "    y_eve=output[1]\n",
    "    eng_eve=output[2]\n",
    "    labels=[]#2D, for all hits\n",
    "    lead_nums=[]#for each event\n",
    "    for i in range(len(eng_eve)):\n",
    "        coordinate=np.column_stack((x_eve[i],y_eve[i]))\n",
    "        brc = Birch(threshold=20, n_clusters=None)#maximum radius of a cluster is 20, no limit on how much clusters\n",
    "        brc.fit(coordinate)\n",
    "        label=brc.predict(coordinate)\n",
    "        labels.append(label)\n",
    "        lead_nums.append(find_lead_clus(label, i, eng_eve))\n",
    "    return labels, lead_nums, x_eve, y_eve, eng_eve"
   ]
  },
  {
   "cell_type": "code",
   "execution_count": 27,
   "id": "562c4cb9",
   "metadata": {},
   "outputs": [],
   "source": [
    "def find_coord(file):\n",
    "    output=Clustering_tuple(file)\n",
    "    labels=output[0]\n",
    "    lead_nums=output[1]\n",
    "    x_eve=output[2]\n",
    "    y_eve=output[3]\n",
    "    eng_eve=output[4]\n",
    "    new_x=[]\n",
    "    new_y=[]\n",
    "    new_eng=[]\n",
    "    for i in range(len(lead_nums)):\n",
    "        x_1d=[]\n",
    "        y_1d=[]\n",
    "        eng_1d=[]\n",
    "        for j, k in enumerate(labels[i]):\n",
    "            if (k==lead_nums[i]):\n",
    "                x_1d.append(x_eve[i][j])\n",
    "                y_1d.append(y_eve[i][j])\n",
    "                eng_1d.append(eng_eve[i][j])\n",
    "        new_x.append(x_1d)\n",
    "        new_y.append(y_1d)\n",
    "        new_eng.append(eng_1d)\n",
    "    return new_x, new_y, new_eng"
   ]
  },
  {
   "cell_type": "code",
   "execution_count": 28,
   "id": "dd94b146",
   "metadata": {},
   "outputs": [],
   "source": [
    "def into_layers(file):\n",
    "    interval=[0, 25, 50, 75, 105]\n",
    "    output=find_coord(file)\n",
    "    x_eve=output[0]\n",
    "    y_eve=output[1]\n",
    "    eng_eve=output[2]\n",
    "    new_x=[[], [], [], []]\n",
    "    new_y=[[], [], [], []]\n",
    "    new_eng=[[], [], [], []]\n",
    "    for i in range(len(eng_eve)):\n",
    "        eng=sum(eng_eve[i])\n",
    "        if(eng>=interval[2]):\n",
    "            if(eng>=interval[3]):\n",
    "                n=3\n",
    "            else:\n",
    "                n=2\n",
    "        else:\n",
    "            if(eng>=interval[1]):\n",
    "                n=1\n",
    "            else:\n",
    "                n=0\n",
    "        new_x[n].append(x_eve[i])\n",
    "        new_y[n].append(y_eve[i])\n",
    "        new_eng[n].append(eng_eve[i])\n",
    "    return new_x, new_y, new_eng\n",
    "            "
   ]
  },
  {
   "cell_type": "code",
   "execution_count": 29,
   "id": "5c3b206c",
   "metadata": {},
   "outputs": [],
   "source": [
    "def gen_wew(file):\n",
    "    output=into_layers(file)\n",
    "    x_eve=output[0]\n",
    "    y_eve=output[1]\n",
    "    eng_eve=output[2]\n",
    "    wew_x = [[], [], [], []]\n",
    "    wew_y = [[], [], [], []]\n",
    "    for k in range(len(eng_eve)):\n",
    "        for i in range(len(eng_eve[k])):\n",
    "            eng_tot=sum(eng_eve[k][i])\n",
    "            x_bar=(np.dot(x_eve[k][i], eng_eve[k][i]))/eng_tot\n",
    "            y_bar=(np.dot(y_eve[k][i], eng_eve[k][i]))/eng_tot\n",
    "            x_sq_eve = []\n",
    "            y_sq_eve = []\n",
    "            for j in range(len(eng_eve[k][i])):\n",
    "                x_sq_eve.append(eng_eve[k][i][j]*(x_eve[k][i][j]-x_bar)**2)\n",
    "                y_sq_eve.append(eng_eve[k][i][j]*(y_eve[k][i][j]-y_bar)**2)\n",
    "            try: wew_x[k].append(math.sqrt(sum(x_sq_eve)/eng_tot))\n",
    "            except ZeroDivisionError: pass\n",
    "            try: wew_y[k].append(math.sqrt(sum(y_sq_eve)/eng_tot))\n",
    "            except ZeroDivisionError: pass\n",
    "\n",
    "    return wew_x, wew_y\n",
    "            "
   ]
  },
  {
   "cell_type": "code",
   "execution_count": 30,
   "id": "9bc0f4cf",
   "metadata": {},
   "outputs": [],
   "source": [
    "def gen_wid(file):\n",
    "    output=into_layers(file)\n",
    "    x_eve=output[0]\n",
    "    y_eve=output[1]\n",
    "    wid_x = [[], [], [], []]\n",
    "    wid_y = [[], [], [], []]\n",
    "    for k in range(len(x_eve)):\n",
    "        for i in range(len(x_eve[k])):\n",
    "            try:x_bar=sum(x_eve[k][i])/len(x_eve[k][i])\n",
    "            except ZeroDivisionError: x_bar=0\n",
    "            try:y_bar=sum(y_eve[k][i])/len(y_eve[k][i])\n",
    "            except ZeroDivisionError: y_bar=0\n",
    "            x_sq_eve = []\n",
    "            y_sq_eve = []\n",
    "            for j in range(len(x_eve[k][i])):\n",
    "                x_sq_eve.append((x_eve[k][i][j]-x_bar)**2)\n",
    "                y_sq_eve.append((y_eve[k][i][j]-y_bar)**2)\n",
    "            try:wid_x[k].append(math.sqrt(sum(x_sq_eve)/len(x_eve[k][i])))\n",
    "            except ZeroDivisionError: pass\n",
    "            try:wid_y[k].append(math.sqrt(sum(y_sq_eve)/len(y_eve[k][i])))\n",
    "            except ZeroDivisionError: pass\n",
    "    return wid_x, wid_y"
   ]
  },
  {
   "cell_type": "code",
   "execution_count": 31,
   "id": "128033c9",
   "metadata": {
    "scrolled": true
   },
   "outputs": [],
   "source": [
    "def filter():\n",
    "    dir_10000=\"/Users/wongdowling/Desktop/DQ_Dowling/samples\"\n",
    "    dir_1000=\"/Users/wongdowling/Desktop/DQ_Dowling/ntuple_output_1000\"\n",
    "    os.chdir(dir_1000)\n",
    "    file1=\"electron_520_1000eve.root\"\n",
    "    file2=\"kaon_520_1000eve.root\"\n",
    "    wew_e=gen_wew(file1)\n",
    "    wew_k=gen_wew(file2)\n",
    "    wew_x_kaon_electron=[[[0, 1.2],[1.2, 2.8],[2.8, 12.4],[12.4, 20]], \n",
    "                         [[0, 2.8], [2.8, 9.2], [9.2, 20]],\n",
    "                         [[0, 2.8], [2.8, 9.2], [9.2, 20]], \n",
    "                         [[0, 0.8], [0.8, 2.4], [2.4, 5.6], [5.6, 20]]\n",
    "                        ]\n",
    "    elec_mask=[[False, True, False, True],\n",
    "               [True, False, True],\n",
    "               [True, False, True],\n",
    "               [False, True, False, True]  \n",
    "    ]\n",
    "    kaon_mask=[[True, False, True, False],\n",
    "               [False, True, False],\n",
    "               [False, True, False],\n",
    "               [True, False, True, False]  \n",
    "    ]\n",
    "    "
   ]
  },
  {
   "cell_type": "code",
   "execution_count": 32,
   "id": "8c96be0b",
   "metadata": {},
   "outputs": [],
   "source": [
    "def count(list1, xl, x2):\n",
    "    # Using list comprehension to filter elements within the range\n",
    "    # and returning the length of the resulting list\n",
    "    return len([x for x in list1 if x >= x1 and x <= x2])"
   ]
  },
  {
   "cell_type": "code",
   "execution_count": 33,
   "id": "f24fb95d",
   "metadata": {},
   "outputs": [
    {
     "ename": "FileNotFoundError",
     "evalue": "[Errno 2] No such file or directory: '/Users/wongdowling/Desktop/DQ_Dowling/ntuple_output_1000'",
     "output_type": "error",
     "traceback": [
      "\u001b[0;31m---------------------------------------------------------------------------\u001b[0m",
      "\u001b[0;31mFileNotFoundError\u001b[0m                         Traceback (most recent call last)",
      "Cell \u001b[0;32mIn[33], line 2\u001b[0m\n\u001b[1;32m      1\u001b[0m dir_1000\u001b[38;5;241m=\u001b[39m\u001b[38;5;124m\"\u001b[39m\u001b[38;5;124m/Users/wongdowling/Desktop/DQ_Dowling/ntuple_output_1000\u001b[39m\u001b[38;5;124m\"\u001b[39m\n\u001b[0;32m----> 2\u001b[0m \u001b[43mos\u001b[49m\u001b[38;5;241;43m.\u001b[39;49m\u001b[43mchdir\u001b[49m\u001b[43m(\u001b[49m\u001b[43mdir_1000\u001b[49m\u001b[43m)\u001b[49m\n\u001b[1;32m      3\u001b[0m file1\u001b[38;5;241m=\u001b[39m\u001b[38;5;124m\"\u001b[39m\u001b[38;5;124mklong_520_1000eve.root\u001b[39m\u001b[38;5;124m\"\u001b[39m\n\u001b[1;32m      4\u001b[0m wew_e\u001b[38;5;241m=\u001b[39mgen_wew(file1)\n",
      "\u001b[0;31mFileNotFoundError\u001b[0m: [Errno 2] No such file or directory: '/Users/wongdowling/Desktop/DQ_Dowling/ntuple_output_1000'"
     ]
    }
   ],
   "source": [
    "dir_1000=\"/Users/wongdowling/Desktop/DQ_Dowling/ntuple_output_1000\"\n",
    "os.chdir(dir_1000)\n",
    "file1=\"klong_520_1000eve.root\"\n",
    "wew_e=gen_wew(file1)\n",
    "wew_e_x=wew_e[0]\n",
    "wew_x_kaon_electron=[[[0, 1.2],[1.2, 2.8],[2.8, 12.4],[12.4, 20]], \n",
    "                         [[0, 2.8], [2.8, 9.2], [9.2, 20]],\n",
    "                         [[0, 2.8], [2.8, 9.2], [9.2, 20]], \n",
    "                         [[0, 0.8], [0.8, 2.4], [2.4, 5.6], [5.6, 20]]\n",
    "                        ]\n",
    "elec_mask=[[False, True, False, True],\n",
    "               [True, False, True],\n",
    "               [True, False, True],\n",
    "               [False, True, False, True]  \n",
    "]\n",
    "empty=[[], [], [], []]\n",
    "for i in range(len(wew_e_x)):\n",
    "    arr=np.array(wew_e_x[i])\n",
    "    for j in range(len(wew_x_kaon_electron[i])):\n",
    "        empty[i].append(count(arr, wew_x_kaon_electron[i][j][0], wew_x_kaon_electron[i][j][1]))\n",
    "empty\n"
   ]
  },
  {
   "cell_type": "code",
   "execution_count": null,
   "id": "b86d0380",
   "metadata": {},
   "outputs": [],
   "source": []
  },
  {
   "cell_type": "code",
   "execution_count": 31,
   "id": "a04633aa",
   "metadata": {},
   "outputs": [
    {
     "data": {
      "text/plain": [
       "[[3, 104, 46, 2], [218, 71, 8], [227, 52, 4], [0, 156, 100, 9]]"
      ]
     },
     "execution_count": 31,
     "metadata": {},
     "output_type": "execute_result"
    }
   ],
   "source": [
    "empty\n",
    "72.8%\n"
   ]
  },
  {
   "cell_type": "code",
   "execution_count": 28,
   "id": "f967494a",
   "metadata": {},
   "outputs": [
    {
     "name": "stdout",
     "output_type": "stream",
     "text": [
      "1000\n"
     ]
    }
   ],
   "source": [
    "n=0\n",
    "\n",
    "for i in range(len(empty)):\n",
    "    n+=sum(empty[i])\n",
    "print(n)"
   ]
  },
  {
   "cell_type": "code",
   "execution_count": 39,
   "id": "8c133540",
   "metadata": {},
   "outputs": [],
   "source": [
    "dir_10000=\"/Users/wongdowling/Desktop/DQ_Dowling/samples\"\n",
    "os.chdir(dir_10000)\n",
    "file1=\"st23_kaon_520_10000eve.root\"\n",
    "output=emcal_bytuple(file1)\n"
   ]
  },
  {
   "cell_type": "code",
   "execution_count": 42,
   "id": "e3823d6e",
   "metadata": {},
   "outputs": [
    {
     "data": {
      "text/plain": [
       "5309"
      ]
     },
     "execution_count": 42,
     "metadata": {},
     "output_type": "execute_result"
    }
   ],
   "source": [
    "len(output[2])"
   ]
  },
  {
   "cell_type": "code",
   "execution_count": 43,
   "id": "b26afdcd",
   "metadata": {
    "scrolled": true
   },
   "outputs": [
    {
     "data": {
      "text/plain": [
       "529"
      ]
     },
     "execution_count": 43,
     "metadata": {},
     "output_type": "execute_result"
    }
   ],
   "source": [
    "dir_1000=\"/Users/wongdowling/Desktop/DQ_Dowling/ntuple_output_1000\"\n",
    "os.chdir(dir_1000)\n",
    "file1=\"klong_520_1000eve.root\"\n",
    "output=emcal_bytuple(file1)\n",
    "len(output[0])"
   ]
  },
  {
   "cell_type": "code",
   "execution_count": 34,
   "id": "085a8cda",
   "metadata": {},
   "outputs": [
    {
     "ename": "NameError",
     "evalue": "name 'x1' is not defined",
     "output_type": "error",
     "traceback": [
      "\u001b[0;31m---------------------------------------------------------------------------\u001b[0m",
      "\u001b[0;31mNameError\u001b[0m                                 Traceback (most recent call last)",
      "Cell \u001b[0;32mIn[34], line 20\u001b[0m\n\u001b[1;32m     18\u001b[0m     arr\u001b[38;5;241m=\u001b[39mnp\u001b[38;5;241m.\u001b[39marray(wew_e_x[i])\n\u001b[1;32m     19\u001b[0m     \u001b[38;5;28;01mfor\u001b[39;00m j \u001b[38;5;129;01min\u001b[39;00m \u001b[38;5;28mrange\u001b[39m(\u001b[38;5;28mlen\u001b[39m(wew_x_kaon_electron[i])):\n\u001b[0;32m---> 20\u001b[0m         empty[i]\u001b[38;5;241m.\u001b[39mappend(\u001b[43mcount\u001b[49m\u001b[43m(\u001b[49m\u001b[43marr\u001b[49m\u001b[43m,\u001b[49m\u001b[43m \u001b[49m\u001b[43mwew_x_kaon_electron\u001b[49m\u001b[43m[\u001b[49m\u001b[43mi\u001b[49m\u001b[43m]\u001b[49m\u001b[43m[\u001b[49m\u001b[43mj\u001b[49m\u001b[43m]\u001b[49m\u001b[43m[\u001b[49m\u001b[38;5;241;43m0\u001b[39;49m\u001b[43m]\u001b[49m\u001b[43m,\u001b[49m\u001b[43m \u001b[49m\u001b[43mwew_x_kaon_electron\u001b[49m\u001b[43m[\u001b[49m\u001b[43mi\u001b[49m\u001b[43m]\u001b[49m\u001b[43m[\u001b[49m\u001b[43mj\u001b[49m\u001b[43m]\u001b[49m\u001b[43m[\u001b[49m\u001b[38;5;241;43m1\u001b[39;49m\u001b[43m]\u001b[49m\u001b[43m)\u001b[49m)\n\u001b[1;32m     21\u001b[0m rate\u001b[38;5;241m=\u001b[39m(empty[\u001b[38;5;241m0\u001b[39m][\u001b[38;5;241m1\u001b[39m]\u001b[38;5;241m+\u001b[39mempty[\u001b[38;5;241m0\u001b[39m][\u001b[38;5;241m3\u001b[39m]\u001b[38;5;241m+\u001b[39mempty[\u001b[38;5;241m1\u001b[39m][\u001b[38;5;241m0\u001b[39m]\u001b[38;5;241m+\u001b[39mempty[\u001b[38;5;241m1\u001b[39m][\u001b[38;5;241m2\u001b[39m]\u001b[38;5;241m+\u001b[39mempty[\u001b[38;5;241m2\u001b[39m][\u001b[38;5;241m0\u001b[39m]\u001b[38;5;241m+\u001b[39mempty[\u001b[38;5;241m2\u001b[39m][\u001b[38;5;241m2\u001b[39m]\u001b[38;5;241m+\u001b[39mempty[\u001b[38;5;241m3\u001b[39m][\u001b[38;5;241m1\u001b[39m]\u001b[38;5;241m+\u001b[39mempty[\u001b[38;5;241m3\u001b[39m][\u001b[38;5;241m3\u001b[39m])\u001b[38;5;241m/\u001b[39m\u001b[38;5;241m200000\u001b[39m\n\u001b[1;32m     22\u001b[0m \u001b[38;5;28mprint\u001b[39m(rate)\n",
      "Cell \u001b[0;32mIn[32], line 4\u001b[0m, in \u001b[0;36mcount\u001b[0;34m(list1, xl, x2)\u001b[0m\n\u001b[1;32m      1\u001b[0m \u001b[38;5;28;01mdef\u001b[39;00m \u001b[38;5;21mcount\u001b[39m(list1, xl, x2):\n\u001b[1;32m      2\u001b[0m     \u001b[38;5;66;03m# Using list comprehension to filter elements within the range\u001b[39;00m\n\u001b[1;32m      3\u001b[0m     \u001b[38;5;66;03m# and returning the length of the resulting list\u001b[39;00m\n\u001b[0;32m----> 4\u001b[0m     \u001b[38;5;28;01mreturn\u001b[39;00m \u001b[38;5;28mlen\u001b[39m([x \u001b[38;5;28;01mfor\u001b[39;00m x \u001b[38;5;129;01min\u001b[39;00m list1 \u001b[38;5;28;01mif\u001b[39;00m x \u001b[38;5;241m>\u001b[39m\u001b[38;5;241m=\u001b[39m x1 \u001b[38;5;129;01mand\u001b[39;00m x \u001b[38;5;241m<\u001b[39m\u001b[38;5;241m=\u001b[39m x2])\n",
      "Cell \u001b[0;32mIn[32], line 4\u001b[0m, in \u001b[0;36m<listcomp>\u001b[0;34m(.0)\u001b[0m\n\u001b[1;32m      1\u001b[0m \u001b[38;5;28;01mdef\u001b[39;00m \u001b[38;5;21mcount\u001b[39m(list1, xl, x2):\n\u001b[1;32m      2\u001b[0m     \u001b[38;5;66;03m# Using list comprehension to filter elements within the range\u001b[39;00m\n\u001b[1;32m      3\u001b[0m     \u001b[38;5;66;03m# and returning the length of the resulting list\u001b[39;00m\n\u001b[0;32m----> 4\u001b[0m     \u001b[38;5;28;01mreturn\u001b[39;00m \u001b[38;5;28mlen\u001b[39m([x \u001b[38;5;28;01mfor\u001b[39;00m x \u001b[38;5;129;01min\u001b[39;00m list1 \u001b[38;5;28;01mif\u001b[39;00m x \u001b[38;5;241m>\u001b[39m\u001b[38;5;241m=\u001b[39m \u001b[43mx1\u001b[49m \u001b[38;5;129;01mand\u001b[39;00m x \u001b[38;5;241m<\u001b[39m\u001b[38;5;241m=\u001b[39m x2])\n",
      "\u001b[0;31mNameError\u001b[0m: name 'x1' is not defined"
     ]
    }
   ],
   "source": [
    "dir_1000=\"/Users/wongdowling/Desktop/DQ_Dowling/ntuple_big\"\n",
    "os.chdir(dir_1000)\n",
    "file1=\"electron_520_200000eve.root\"\n",
    "wew_e=gen_wew(file1)\n",
    "wew_e_x=wew_e[0]\n",
    "wew_x_kaon_electron=[[[0, 1.2],[1.2, 2.8],[2.8, 12.4],[12.4, 20]], \n",
    "                         [[0, 2.8], [2.8, 9.2], [9.2, 20]],\n",
    "                         [[0, 2.8], [2.8, 9.2], [9.2, 20]], \n",
    "                         [[0, 0.8], [0.8, 2.4], [2.4, 5.6], [5.6, 20]]\n",
    "                        ]\n",
    "elec_mask=[[False, True, False, True],\n",
    "               [True, False, True],\n",
    "               [True, False, True],\n",
    "               [False, True, False, True]  \n",
    "]\n",
    "empty=[[], [], [], []]\n",
    "for i in range(len(wew_e_x)):\n",
    "    arr=np.array(wew_e_x[i])\n",
    "    for j in range(len(wew_x_kaon_electron[i])):\n",
    "        empty[i].append(count(arr, wew_x_kaon_electron[i][j][0], wew_x_kaon_electron[i][j][1]))\n",
    "rate=(empty[0][1]+empty[0][3]+empty[1][0]+empty[1][2]+empty[2][0]+empty[2][2]+empty[3][1]+empty[3][3])/200000\n",
    "print(rate)"
   ]
  },
  {
   "cell_type": "code",
   "execution_count": null,
   "id": "73caa594",
   "metadata": {},
   "outputs": [],
   "source": [
    "gen_wid(\"/Users/wongdowling/Desktop/DQ_Dowling/ntuple_1000/muon_520_1000eve.root\")"
   ]
  },
  {
   "cell_type": "code",
   "execution_count": null,
   "id": "ced3d690",
   "metadata": {},
   "outputs": [],
   "source": []
  }
 ],
 "metadata": {
  "kernelspec": {
   "display_name": "Python 3 (ipykernel)",
   "language": "python",
   "name": "python3"
  },
  "language_info": {
   "codemirror_mode": {
    "name": "ipython",
    "version": 3
   },
   "file_extension": ".py",
   "mimetype": "text/x-python",
   "name": "python",
   "nbconvert_exporter": "python",
   "pygments_lexer": "ipython3",
   "version": "3.9.16"
  }
 },
 "nbformat": 4,
 "nbformat_minor": 5
}
