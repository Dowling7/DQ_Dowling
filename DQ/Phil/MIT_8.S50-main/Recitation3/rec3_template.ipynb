{
 "cells": [
  {
   "cell_type": "code",
   "execution_count": 2,
   "metadata": {},
   "outputs": [],
   "source": [
    "import numpy as np\n",
    "import matplotlib.pyplot as plt\n",
    "import lmfit.models"
   ]
  },
  {
   "cell_type": "markdown",
   "metadata": {},
   "source": [
    "## Exercise 1"
   ]
  },
  {
   "cell_type": "code",
   "execution_count": 3,
   "metadata": {},
   "outputs": [],
   "source": [
    "np.random.seed(2)\n",
    "\n",
    "xi = np.array([2,3,4,5,6,7])\n",
    "yerr = np.array([0.3, 0.4, 0.45, 0.35, 0.6, 0.5])\n",
    "yi = 2*xi+yerr*np.random.normal(xi.shape)"
   ]
  },
  {
   "cell_type": "markdown",
   "metadata": {},
   "source": [
    "## Exercise 2"
   ]
  },
  {
   "cell_type": "code",
   "execution_count": 4,
   "metadata": {},
   "outputs": [],
   "source": [
    "np.random.seed(2)\n",
    "x = np.linspace(-5 , 5, 50)\n",
    "yerr = 0.1+np.abs(0.1*np.random.normal(size = x.shape))\n",
    "\n",
    "y = 5/(np.sqrt(2*np.pi*1.0))*np.exp(-0.5*x**2.0/1.0)+yerr*np.random.normal(size = x.shape)"
   ]
  },
  {
   "cell_type": "markdown",
   "metadata": {},
   "source": [
    "## Exercise 3"
   ]
  },
  {
   "cell_type": "code",
   "execution_count": 5,
   "metadata": {},
   "outputs": [],
   "source": [
    "def weird_model(x, a, b, c):\n",
    "    return a*np.sin(10*x) + b*np.exp(x)+ c*np.log(x)"
   ]
  },
  {
   "cell_type": "code",
   "execution_count": 6,
   "metadata": {},
   "outputs": [],
   "source": [
    "np.random.seed(2)\n",
    "x = np.linspace(0.1 , 2, 100)\n",
    "yerr = 0.5+np.abs(0.5*np.random.normal(size = x.shape))\n",
    "y = weird_model(x, 2, 0.5, 3)+yerr*np.random.normal(size = x.shape)"
   ]
  },
  {
   "cell_type": "markdown",
   "metadata": {},
   "source": [
    "## Exercise 4"
   ]
  },
  {
   "cell_type": "markdown",
   "metadata": {},
   "source": [
    "## Exercise 5"
   ]
  },
  {
   "cell_type": "code",
   "execution_count": 7,
   "metadata": {},
   "outputs": [],
   "source": [
    "from functions import gwfreq, osc_scale, osc,lower, higher"
   ]
  },
  {
   "cell_type": "code",
   "execution_count": 8,
   "metadata": {},
   "outputs": [],
   "source": [
    "from gwpy.timeseries import TimeSeries\n",
    "import h5py\n",
    "from scipy.interpolate import interp1d\n",
    "\n",
    "import os\n",
    "\n",
    "fn = 'H-H1_GWOSC_16KHZ_R1-1126257415-4096.hdf5' # data file\n",
    "tevent = 1126259462.422 # Mon Sep 14 09:50:45 GMT 2015\n",
    "evtname = 'GW150914' # event name\n",
    "\n",
    "detector = 'H1' # detecotr: L1 or H1\n",
    "\n",
    "strain = TimeSeries.read(fn, format='hdf5.losc')\n",
    "center = int(tevent)\n",
    "strain = strain.crop(center-16, center+16)\n",
    "asd = strain.asd(fftlength = 1)\n",
    "\n",
    "NRtime, NR_H1 = np.genfromtxt('GW150914_4_NR_waveform.txt').transpose()\n",
    "nrdata= TimeSeries(NR_H1, times = NRtime)"
   ]
  },
  {
   "cell_type": "code",
   "execution_count": null,
   "metadata": {},
   "outputs": [],
   "source": []
  }
 ],
 "metadata": {
  "kernelspec": {
   "display_name": "Python 3",
   "language": "python",
   "name": "python3"
  },
  "language_info": {
   "codemirror_mode": {
    "name": "ipython",
    "version": 3
   },
   "file_extension": ".py",
   "mimetype": "text/x-python",
   "name": "python",
   "nbconvert_exporter": "python",
   "pygments_lexer": "ipython3",
   "version": "3.7.6"
  }
 },
 "nbformat": 4,
 "nbformat_minor": 4
}
